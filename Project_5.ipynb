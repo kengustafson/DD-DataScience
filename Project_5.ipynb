{
  "nbformat": 4,
  "nbformat_minor": 0,
  "metadata": {
    "colab": {
      "name": "Project 5.ipynb",
      "provenance": [],
      "collapsed_sections": [
        "NX6DJAo_8l2R"
      ],
      "toc_visible": true,
      "mount_file_id": "1QrgTBPR_gmW1GUjrB73lkLMO6RNIPG6Z",
      "authorship_tag": "ABX9TyOFcx5RYccoqHBX2w4SDOvm",
      "include_colab_link": true
    },
    "kernelspec": {
      "name": "python3",
      "display_name": "Python 3"
    }
  },
  "cells": [
    {
      "cell_type": "markdown",
      "metadata": {
        "id": "view-in-github",
        "colab_type": "text"
      },
      "source": [
        "<a href=\"https://colab.research.google.com/github/kengustafson/DeepDive-DataScience/blob/main/Project_5.ipynb\" target=\"_parent\"><img src=\"https://colab.research.google.com/assets/colab-badge.svg\" alt=\"Open In Colab\"/></a>"
      ]
    },
    {
      "cell_type": "markdown",
      "metadata": {
        "id": "4eMVXcEQo-9j"
      },
      "source": [
        "# **Mastery (er, Fundamentals) of SQL**"
      ]
    },
    {
      "cell_type": "markdown",
      "metadata": {
        "id": "2fKRd5XcvjB9"
      },
      "source": [
        "**Deep Dive Data Science Project 5**\n",
        "\n",
        "---\n",
        "Ken Gustafson 4/6/2021"
      ]
    },
    {
      "cell_type": "markdown",
      "metadata": {
        "id": "PrUwN4etYT9D"
      },
      "source": [
        "## Problem Definition"
      ]
    },
    {
      "cell_type": "markdown",
      "metadata": {
        "id": "l6td8-w6YZ3F"
      },
      "source": [
        "We desire to explore open datasets for possible insight.\n",
        "\n",
        "Output to be produced: Insights and some useful plots"
      ]
    },
    {
      "cell_type": "markdown",
      "metadata": {
        "id": "4O-TblkIZpYJ"
      },
      "source": [
        "## Data Collection"
      ]
    },
    {
      "cell_type": "code",
      "metadata": {
        "id": "zGn30hN1Zsb9"
      },
      "source": [
        "# Here we import the necessary packages\n",
        "\n",
        "from google.cloud import bigquery\n",
        "from google.colab import auth\n",
        "import pandas as pd\n",
        "import plotly.express as px\n",
        "\n",
        "auth.authenticate_user()\n",
        "\n",
        "import numpy as np\n",
        "import matplotlib.pyplot as plt\n",
        "import seaborn as sns\n",
        "from IPython.display import Image "
      ],
      "execution_count": null,
      "outputs": []
    },
    {
      "cell_type": "markdown",
      "metadata": {
        "id": "levLterLZ2W-"
      },
      "source": [
        "Additional criteria:"
      ]
    },
    {
      "cell_type": "code",
      "metadata": {
        "id": "17ENN_kzZ-WZ",
        "colab": {
          "base_uri": "https://localhost:8080/"
        },
        "outputId": "ea4f5211-5496-4fbc-9c51-83ac7d6e6221"
      },
      "source": [
        "# Data was sourced from Google BiqQuery open data sets.\n",
        "# Project Settings\n",
        "\n",
        "project_id = 'ddds-project5'\n",
        "client = bigquery.Client(project=project_id)\n",
        "\n",
        "project_dataset = client.dataset('traffic_safety', project = 'dataflix-public-datasets')\n",
        "traffic_safety = client.get_dataset(project_dataset)"
      ],
      "execution_count": null,
      "outputs": [
        {
          "output_type": "stream",
          "text": [
            "WARNING:google.auth._default:No project ID could be determined. Consider running `gcloud config set project` or setting the GOOGLE_CLOUD_PROJECT environment variable\n"
          ],
          "name": "stderr"
        }
      ]
    },
    {
      "cell_type": "markdown",
      "metadata": {
        "id": "xWljMBSyZQYv"
      },
      "source": [
        "## Initial Exploration"
      ]
    },
    {
      "cell_type": "markdown",
      "metadata": {
        "id": "Rh90BuYoYLwJ"
      },
      "source": [
        "Data 360 Dataset - https://console.cloud.google.com/marketplace/product/dataflix-public-datasets/data-360-traffic-and-safety\n",
        "\n",
        "Dataset documentation: https://www.dataflix.com/data360/docs/"
      ]
    },
    {
      "cell_type": "code",
      "metadata": {
        "colab": {
          "base_uri": "https://localhost:8080/"
        },
        "id": "t6bxsf5sZRpy",
        "outputId": "d9dca4d7-dd6c-46ce-aef8-cb0b6abc9616"
      },
      "source": [
        "# Examine available tables\n",
        "\n",
        "tables = list(client.list_tables(traffic_safety))\n",
        "print([table.table_id for table in tables])"
      ],
      "execution_count": null,
      "outputs": [
        {
          "output_type": "stream",
          "text": [
            "['accident', 'cevent', 'damage', 'distract', 'drimpair', 'drugs', 'factor', 'maneuver', 'nmcrash', 'nmimpair', 'nmprior', 'person', 'safetyeq', 'vehicle', 'vevent', 'violatn', 'vision', 'vsoe']\n"
          ],
          "name": "stdout"
        }
      ]
    },
    {
      "cell_type": "code",
      "metadata": {
        "id": "voU66g4EZjPd",
        "colab": {
          "base_uri": "https://localhost:8080/"
        },
        "outputId": "4ba24d93-1b36-460b-db68-2bdfa139673a"
      },
      "source": [
        "# Get table reference for accidents, check schema\n",
        "\n",
        "table_ref = traffic_safety.table('accident')\n",
        "accident = client.get_table(table_ref)\n",
        "accident.schema"
      ],
      "execution_count": null,
      "outputs": [
        {
          "output_type": "execute_result",
          "data": {
            "text/plain": [
              "[SchemaField('L_YEAR', 'INTEGER', 'NULLABLE', None, ()),\n",
              " SchemaField('STATE', 'STRING', 'NULLABLE', None, ()),\n",
              " SchemaField('ST_CASE', 'INTEGER', 'NULLABLE', None, ()),\n",
              " SchemaField('VE_TOTAL', 'INTEGER', 'NULLABLE', None, ()),\n",
              " SchemaField('VE_FORMS', 'INTEGER', 'NULLABLE', None, ()),\n",
              " SchemaField('PVH_INVL', 'INTEGER', 'NULLABLE', None, ()),\n",
              " SchemaField('PEDS', 'INTEGER', 'NULLABLE', None, ()),\n",
              " SchemaField('PERNOTMVIT', 'INTEGER', 'NULLABLE', None, ()),\n",
              " SchemaField('PERMVIT', 'INTEGER', 'NULLABLE', None, ()),\n",
              " SchemaField('PERSONS', 'INTEGER', 'NULLABLE', None, ()),\n",
              " SchemaField('COUNTY', 'STRING', 'NULLABLE', None, ()),\n",
              " SchemaField('CITY', 'STRING', 'NULLABLE', None, ()),\n",
              " SchemaField('DAY', 'INTEGER', 'NULLABLE', None, ()),\n",
              " SchemaField('MONTH', 'STRING', 'NULLABLE', None, ()),\n",
              " SchemaField('YEAR', 'INTEGER', 'NULLABLE', None, ()),\n",
              " SchemaField('WEEK_DAY', 'STRING', 'NULLABLE', None, ()),\n",
              " SchemaField('HOUR', 'INTEGER', 'NULLABLE', None, ()),\n",
              " SchemaField('MINUTE', 'INTEGER', 'NULLABLE', None, ()),\n",
              " SchemaField('NHS', 'STRING', 'NULLABLE', None, ()),\n",
              " SchemaField('RUR_URB', 'STRING', 'NULLABLE', None, ()),\n",
              " SchemaField('FUNC_SYS', 'STRING', 'NULLABLE', None, ()),\n",
              " SchemaField('RD_OWNER', 'STRING', 'NULLABLE', None, ()),\n",
              " SchemaField('ROUTE', 'STRING', 'NULLABLE', None, ()),\n",
              " SchemaField('TWAY_ID', 'STRING', 'NULLABLE', None, ()),\n",
              " SchemaField('TWAY_ID2', 'STRING', 'NULLABLE', None, ()),\n",
              " SchemaField('MILEPT', 'INTEGER', 'NULLABLE', None, ()),\n",
              " SchemaField('LATITUDE', 'FLOAT', 'NULLABLE', None, ()),\n",
              " SchemaField('LONGITUD', 'FLOAT', 'NULLABLE', None, ()),\n",
              " SchemaField('SP_JUR', 'STRING', 'NULLABLE', None, ()),\n",
              " SchemaField('HARM_EV', 'STRING', 'NULLABLE', None, ()),\n",
              " SchemaField('MAN_COLL', 'STRING', 'NULLABLE', None, ()),\n",
              " SchemaField('RELJCT1', 'STRING', 'NULLABLE', None, ()),\n",
              " SchemaField('RELJCT2', 'STRING', 'NULLABLE', None, ()),\n",
              " SchemaField('TYP_INT', 'STRING', 'NULLABLE', None, ()),\n",
              " SchemaField('WRK_ZONE', 'STRING', 'NULLABLE', None, ()),\n",
              " SchemaField('REL_ROAD', 'STRING', 'NULLABLE', None, ()),\n",
              " SchemaField('LGT_COND', 'STRING', 'NULLABLE', None, ()),\n",
              " SchemaField('WEATHER1', 'STRING', 'NULLABLE', None, ()),\n",
              " SchemaField('WEATHER2', 'STRING', 'NULLABLE', None, ()),\n",
              " SchemaField('WEATHER', 'STRING', 'NULLABLE', None, ()),\n",
              " SchemaField('SCH_BUS', 'STRING', 'NULLABLE', None, ()),\n",
              " SchemaField('RAIL', 'STRING', 'NULLABLE', None, ()),\n",
              " SchemaField('NOT_HOUR', 'INTEGER', 'NULLABLE', None, ()),\n",
              " SchemaField('NOT_MIN', 'INTEGER', 'NULLABLE', None, ()),\n",
              " SchemaField('ARR_HOUR', 'INTEGER', 'NULLABLE', None, ()),\n",
              " SchemaField('ARR_MIN', 'INTEGER', 'NULLABLE', None, ()),\n",
              " SchemaField('HOSP_HR', 'INTEGER', 'NULLABLE', None, ()),\n",
              " SchemaField('HOSP_MN', 'INTEGER', 'NULLABLE', None, ()),\n",
              " SchemaField('CF1', 'STRING', 'NULLABLE', None, ()),\n",
              " SchemaField('CF2', 'STRING', 'NULLABLE', None, ()),\n",
              " SchemaField('CF3', 'STRING', 'NULLABLE', None, ()),\n",
              " SchemaField('FATALS', 'INTEGER', 'NULLABLE', None, ()),\n",
              " SchemaField('DRUNK_DR', 'INTEGER', 'NULLABLE', None, ()),\n",
              " SchemaField('DATE_PARTITION', 'DATE', 'NULLABLE', None, ())]"
            ]
          },
          "metadata": {
            "tags": []
          },
          "execution_count": 8
        }
      ]
    },
    {
      "cell_type": "markdown",
      "metadata": {
        "id": "yM7WaVP9azU-"
      },
      "source": [
        "## Exploratory Data Analysis"
      ]
    },
    {
      "cell_type": "code",
      "metadata": {
        "id": "lkU1ZkpKoz7O"
      },
      "source": [
        "dataset = 'dataflix-public-datasets.traffic_safety'"
      ],
      "execution_count": null,
      "outputs": []
    },
    {
      "cell_type": "code",
      "metadata": {
        "colab": {
          "base_uri": "https://localhost:8080/",
          "height": 635
        },
        "id": "G1CWVrizzGrv",
        "outputId": "3fe4c57c-6371-4ac5-88e0-0c25fb9c5ae8"
      },
      "source": [
        "# Check a few entries in Accident table\n",
        "\n",
        "query = f\"\"\" \n",
        "        SELECT *\n",
        "        FROM `{dataset}.accident`\n",
        "        WHERE L_YEAR = 2018 OR L_YEAR = 2017\n",
        "        LIMIT 5\n",
        "        \"\"\"\n",
        "\n",
        "df = client.query(query).to_dataframe()\n",
        "df"
      ],
      "execution_count": null,
      "outputs": [
        {
          "output_type": "execute_result",
          "data": {
            "text/html": [
              "<div>\n",
              "<style scoped>\n",
              "    .dataframe tbody tr th:only-of-type {\n",
              "        vertical-align: middle;\n",
              "    }\n",
              "\n",
              "    .dataframe tbody tr th {\n",
              "        vertical-align: top;\n",
              "    }\n",
              "\n",
              "    .dataframe thead th {\n",
              "        text-align: right;\n",
              "    }\n",
              "</style>\n",
              "<table border=\"1\" class=\"dataframe\">\n",
              "  <thead>\n",
              "    <tr style=\"text-align: right;\">\n",
              "      <th></th>\n",
              "      <th>L_YEAR</th>\n",
              "      <th>STATE</th>\n",
              "      <th>ST_CASE</th>\n",
              "      <th>VE_TOTAL</th>\n",
              "      <th>VE_FORMS</th>\n",
              "      <th>PVH_INVL</th>\n",
              "      <th>PEDS</th>\n",
              "      <th>PERNOTMVIT</th>\n",
              "      <th>PERMVIT</th>\n",
              "      <th>PERSONS</th>\n",
              "      <th>COUNTY</th>\n",
              "      <th>CITY</th>\n",
              "      <th>DAY</th>\n",
              "      <th>MONTH</th>\n",
              "      <th>YEAR</th>\n",
              "      <th>WEEK_DAY</th>\n",
              "      <th>HOUR</th>\n",
              "      <th>MINUTE</th>\n",
              "      <th>NHS</th>\n",
              "      <th>RUR_URB</th>\n",
              "      <th>FUNC_SYS</th>\n",
              "      <th>RD_OWNER</th>\n",
              "      <th>ROUTE</th>\n",
              "      <th>TWAY_ID</th>\n",
              "      <th>TWAY_ID2</th>\n",
              "      <th>MILEPT</th>\n",
              "      <th>LATITUDE</th>\n",
              "      <th>LONGITUD</th>\n",
              "      <th>SP_JUR</th>\n",
              "      <th>HARM_EV</th>\n",
              "      <th>MAN_COLL</th>\n",
              "      <th>RELJCT1</th>\n",
              "      <th>RELJCT2</th>\n",
              "      <th>TYP_INT</th>\n",
              "      <th>WRK_ZONE</th>\n",
              "      <th>REL_ROAD</th>\n",
              "      <th>LGT_COND</th>\n",
              "      <th>WEATHER1</th>\n",
              "      <th>WEATHER2</th>\n",
              "      <th>WEATHER</th>\n",
              "      <th>SCH_BUS</th>\n",
              "      <th>RAIL</th>\n",
              "      <th>NOT_HOUR</th>\n",
              "      <th>NOT_MIN</th>\n",
              "      <th>ARR_HOUR</th>\n",
              "      <th>ARR_MIN</th>\n",
              "      <th>HOSP_HR</th>\n",
              "      <th>HOSP_MN</th>\n",
              "      <th>CF1</th>\n",
              "      <th>CF2</th>\n",
              "      <th>CF3</th>\n",
              "      <th>FATALS</th>\n",
              "      <th>DRUNK_DR</th>\n",
              "      <th>DATE_PARTITION</th>\n",
              "    </tr>\n",
              "  </thead>\n",
              "  <tbody>\n",
              "    <tr>\n",
              "      <th>0</th>\n",
              "      <td>2017</td>\n",
              "      <td>North Carolina</td>\n",
              "      <td>370899</td>\n",
              "      <td>1</td>\n",
              "      <td>1</td>\n",
              "      <td>0</td>\n",
              "      <td>5</td>\n",
              "      <td>5</td>\n",
              "      <td>1</td>\n",
              "      <td>1</td>\n",
              "      <td>HAYWOOD (87)</td>\n",
              "      <td>None</td>\n",
              "      <td>1</td>\n",
              "      <td>September</td>\n",
              "      <td>2017</td>\n",
              "      <td>Friday</td>\n",
              "      <td>12</td>\n",
              "      <td>32</td>\n",
              "      <td>This section IS ON the NHS</td>\n",
              "      <td>RURAL</td>\n",
              "      <td>Principal arterial, other</td>\n",
              "      <td>State Highway Agency</td>\n",
              "      <td>U.S. Highway</td>\n",
              "      <td>US-276</td>\n",
              "      <td>None</td>\n",
              "      <td>0</td>\n",
              "      <td>35.516708</td>\n",
              "      <td>-83.087003</td>\n",
              "      <td>No Special Jurisdiction (Includes National For...</td>\n",
              "      <td>Ridden Animal or Animal Drawn Conveyance</td>\n",
              "      <td>Not a Collision with Motor Vehicle in Transport</td>\n",
              "      <td>No</td>\n",
              "      <td>Non-Junction</td>\n",
              "      <td>Not an Intersection</td>\n",
              "      <td>None</td>\n",
              "      <td>On Roadway</td>\n",
              "      <td>Daylight</td>\n",
              "      <td>Rain</td>\n",
              "      <td>Cloudy</td>\n",
              "      <td>Rain</td>\n",
              "      <td>No</td>\n",
              "      <td>0</td>\n",
              "      <td>12</td>\n",
              "      <td>30</td>\n",
              "      <td>12</td>\n",
              "      <td>37</td>\n",
              "      <td>13</td>\n",
              "      <td>28</td>\n",
              "      <td>None</td>\n",
              "      <td>None</td>\n",
              "      <td>None</td>\n",
              "      <td>1</td>\n",
              "      <td>0</td>\n",
              "      <td>2017-01-01</td>\n",
              "    </tr>\n",
              "    <tr>\n",
              "      <th>1</th>\n",
              "      <td>2017</td>\n",
              "      <td>Virginia</td>\n",
              "      <td>510061</td>\n",
              "      <td>1</td>\n",
              "      <td>1</td>\n",
              "      <td>0</td>\n",
              "      <td>3</td>\n",
              "      <td>3</td>\n",
              "      <td>1</td>\n",
              "      <td>1</td>\n",
              "      <td>BLAND (21)</td>\n",
              "      <td>None</td>\n",
              "      <td>20</td>\n",
              "      <td>February</td>\n",
              "      <td>2017</td>\n",
              "      <td>Monday</td>\n",
              "      <td>8</td>\n",
              "      <td>30</td>\n",
              "      <td>This section IS NOT on the NHS</td>\n",
              "      <td>RURAL</td>\n",
              "      <td>Collector</td>\n",
              "      <td>State Highway Agency</td>\n",
              "      <td>County Road</td>\n",
              "      <td>CR-606</td>\n",
              "      <td>None</td>\n",
              "      <td>113</td>\n",
              "      <td>37.177639</td>\n",
              "      <td>-80.928231</td>\n",
              "      <td>No Special Jurisdiction (Includes National For...</td>\n",
              "      <td>Pedestrian</td>\n",
              "      <td>Not a Collision with Motor Vehicle in Transport</td>\n",
              "      <td>No</td>\n",
              "      <td>Non-Junction</td>\n",
              "      <td>Not an Intersection</td>\n",
              "      <td>None</td>\n",
              "      <td>On Roadside</td>\n",
              "      <td>Daylight</td>\n",
              "      <td>Fog, Smog, Smoke</td>\n",
              "      <td>No Additional Atmospheric Conditions</td>\n",
              "      <td>Fog, Smog, Smoke</td>\n",
              "      <td>No</td>\n",
              "      <td>0</td>\n",
              "      <td>99</td>\n",
              "      <td>99</td>\n",
              "      <td>99</td>\n",
              "      <td>99</td>\n",
              "      <td>88</td>\n",
              "      <td>88</td>\n",
              "      <td>None</td>\n",
              "      <td>None</td>\n",
              "      <td>None</td>\n",
              "      <td>2</td>\n",
              "      <td>0</td>\n",
              "      <td>2017-01-01</td>\n",
              "    </tr>\n",
              "    <tr>\n",
              "      <th>2</th>\n",
              "      <td>2017</td>\n",
              "      <td>Texas</td>\n",
              "      <td>481854</td>\n",
              "      <td>1</td>\n",
              "      <td>1</td>\n",
              "      <td>0</td>\n",
              "      <td>5</td>\n",
              "      <td>5</td>\n",
              "      <td>1</td>\n",
              "      <td>1</td>\n",
              "      <td>MEDINA (325)</td>\n",
              "      <td>None</td>\n",
              "      <td>29</td>\n",
              "      <td>July</td>\n",
              "      <td>2017</td>\n",
              "      <td>Saturday</td>\n",
              "      <td>2</td>\n",
              "      <td>20</td>\n",
              "      <td>This section IS ON the NHS</td>\n",
              "      <td>RURAL</td>\n",
              "      <td>Interstate, principal arterial</td>\n",
              "      <td>State Highway Agency</td>\n",
              "      <td>Local Street - Frontage Road</td>\n",
              "      <td>I-35</td>\n",
              "      <td>None</td>\n",
              "      <td>125</td>\n",
              "      <td>29.213300</td>\n",
              "      <td>-98.805761</td>\n",
              "      <td>No Special Jurisdiction (Includes National For...</td>\n",
              "      <td>Pedestrian</td>\n",
              "      <td>Not a Collision with Motor Vehicle in Transport</td>\n",
              "      <td>No</td>\n",
              "      <td>Non-Junction</td>\n",
              "      <td>Not an Intersection</td>\n",
              "      <td>None</td>\n",
              "      <td>On Roadway</td>\n",
              "      <td>Dark - Unknown Lighting</td>\n",
              "      <td>Clear</td>\n",
              "      <td>No Additional Atmospheric Conditions</td>\n",
              "      <td>Clear</td>\n",
              "      <td>No</td>\n",
              "      <td>0</td>\n",
              "      <td>99</td>\n",
              "      <td>99</td>\n",
              "      <td>99</td>\n",
              "      <td>99</td>\n",
              "      <td>99</td>\n",
              "      <td>99</td>\n",
              "      <td>Recent/Previous accident scene nearby</td>\n",
              "      <td>None</td>\n",
              "      <td>None</td>\n",
              "      <td>3</td>\n",
              "      <td>0</td>\n",
              "      <td>2017-01-01</td>\n",
              "    </tr>\n",
              "    <tr>\n",
              "      <th>3</th>\n",
              "      <td>2017</td>\n",
              "      <td>Indiana</td>\n",
              "      <td>180496</td>\n",
              "      <td>1</td>\n",
              "      <td>1</td>\n",
              "      <td>0</td>\n",
              "      <td>7</td>\n",
              "      <td>7</td>\n",
              "      <td>1</td>\n",
              "      <td>1</td>\n",
              "      <td>ADAMS (1)</td>\n",
              "      <td>GENEVA</td>\n",
              "      <td>30</td>\n",
              "      <td>July</td>\n",
              "      <td>2017</td>\n",
              "      <td>Sunday</td>\n",
              "      <td>10</td>\n",
              "      <td>15</td>\n",
              "      <td>This section IS ON the NHS</td>\n",
              "      <td>RURAL</td>\n",
              "      <td>Principal arterial, other</td>\n",
              "      <td>State Highway Agency</td>\n",
              "      <td>U.S. Highway</td>\n",
              "      <td>US-27S</td>\n",
              "      <td>None</td>\n",
              "      <td>99998</td>\n",
              "      <td>40.570467</td>\n",
              "      <td>-84.959086</td>\n",
              "      <td>No Special Jurisdiction (Includes National For...</td>\n",
              "      <td>Ridden Animal or Animal Drawn Conveyance</td>\n",
              "      <td>Not a Collision with Motor Vehicle in Transport</td>\n",
              "      <td>No</td>\n",
              "      <td>Non-Junction</td>\n",
              "      <td>Not an Intersection</td>\n",
              "      <td>None</td>\n",
              "      <td>On Roadway</td>\n",
              "      <td>Daylight</td>\n",
              "      <td>Clear</td>\n",
              "      <td>No Additional Atmospheric Conditions</td>\n",
              "      <td>Clear</td>\n",
              "      <td>No</td>\n",
              "      <td>0</td>\n",
              "      <td>99</td>\n",
              "      <td>99</td>\n",
              "      <td>99</td>\n",
              "      <td>99</td>\n",
              "      <td>99</td>\n",
              "      <td>99</td>\n",
              "      <td>None</td>\n",
              "      <td>None</td>\n",
              "      <td>None</td>\n",
              "      <td>1</td>\n",
              "      <td>0</td>\n",
              "      <td>2017-01-01</td>\n",
              "    </tr>\n",
              "    <tr>\n",
              "      <th>4</th>\n",
              "      <td>2017</td>\n",
              "      <td>Mississippi</td>\n",
              "      <td>280317</td>\n",
              "      <td>1</td>\n",
              "      <td>1</td>\n",
              "      <td>0</td>\n",
              "      <td>3</td>\n",
              "      <td>3</td>\n",
              "      <td>1</td>\n",
              "      <td>1</td>\n",
              "      <td>LAMAR (73)</td>\n",
              "      <td>SUMRALL</td>\n",
              "      <td>15</td>\n",
              "      <td>March</td>\n",
              "      <td>2017</td>\n",
              "      <td>Wednesday</td>\n",
              "      <td>18</td>\n",
              "      <td>18</td>\n",
              "      <td>This section IS NOT on the NHS</td>\n",
              "      <td>RURAL</td>\n",
              "      <td>Collector</td>\n",
              "      <td>City or Municipal Highway Agency</td>\n",
              "      <td>Local Street - Municipality</td>\n",
              "      <td>OLOH RD</td>\n",
              "      <td>None</td>\n",
              "      <td>0</td>\n",
              "      <td>31.394264</td>\n",
              "      <td>-89.542253</td>\n",
              "      <td>No Special Jurisdiction (Includes National For...</td>\n",
              "      <td>Pedestrian</td>\n",
              "      <td>Not a Collision with Motor Vehicle in Transport</td>\n",
              "      <td>Yes</td>\n",
              "      <td>Not Defined</td>\n",
              "      <td>Not an Intersection</td>\n",
              "      <td>None</td>\n",
              "      <td>Off Roadway-Location Unknown</td>\n",
              "      <td>Daylight</td>\n",
              "      <td>Clear</td>\n",
              "      <td>No Additional Atmospheric Conditions</td>\n",
              "      <td>Clear</td>\n",
              "      <td>No</td>\n",
              "      <td>0</td>\n",
              "      <td>99</td>\n",
              "      <td>99</td>\n",
              "      <td>99</td>\n",
              "      <td>99</td>\n",
              "      <td>99</td>\n",
              "      <td>99</td>\n",
              "      <td>None</td>\n",
              "      <td>None</td>\n",
              "      <td>None</td>\n",
              "      <td>2</td>\n",
              "      <td>1</td>\n",
              "      <td>2017-01-01</td>\n",
              "    </tr>\n",
              "  </tbody>\n",
              "</table>\n",
              "</div>"
            ],
            "text/plain": [
              "   L_YEAR           STATE  ST_CASE  ...  FATALS  DRUNK_DR  DATE_PARTITION\n",
              "0    2017  North Carolina   370899  ...       1         0      2017-01-01\n",
              "1    2017        Virginia   510061  ...       2         0      2017-01-01\n",
              "2    2017           Texas   481854  ...       3         0      2017-01-01\n",
              "3    2017         Indiana   180496  ...       1         0      2017-01-01\n",
              "4    2017     Mississippi   280317  ...       2         1      2017-01-01\n",
              "\n",
              "[5 rows x 54 columns]"
            ]
          },
          "metadata": {
            "tags": []
          },
          "execution_count": 10
        }
      ]
    },
    {
      "cell_type": "markdown",
      "metadata": {
        "id": "kagpkViib1zr"
      },
      "source": [
        "Examine how many Accident records there are"
      ]
    },
    {
      "cell_type": "code",
      "metadata": {
        "colab": {
          "base_uri": "https://localhost:8080/",
          "height": 77
        },
        "id": "V6N-IOVpcb0e",
        "outputId": "63494cd8-9a53-4b83-b98a-80e86e79e9e8"
      },
      "source": [
        "query = f\"\"\"\n",
        "        SELECT COUNT(*)\n",
        "        FROM `{dataset}.accident`\n",
        "        \"\"\"\n",
        "\n",
        "df = client.query(query).to_dataframe()\n",
        "df.head()"
      ],
      "execution_count": null,
      "outputs": [
        {
          "output_type": "execute_result",
          "data": {
            "text/html": [
              "<div>\n",
              "<style scoped>\n",
              "    .dataframe tbody tr th:only-of-type {\n",
              "        vertical-align: middle;\n",
              "    }\n",
              "\n",
              "    .dataframe tbody tr th {\n",
              "        vertical-align: top;\n",
              "    }\n",
              "\n",
              "    .dataframe thead th {\n",
              "        text-align: right;\n",
              "    }\n",
              "</style>\n",
              "<table border=\"1\" class=\"dataframe\">\n",
              "  <thead>\n",
              "    <tr style=\"text-align: right;\">\n",
              "      <th></th>\n",
              "      <th>f0_</th>\n",
              "    </tr>\n",
              "  </thead>\n",
              "  <tbody>\n",
              "    <tr>\n",
              "      <th>0</th>\n",
              "      <td>1666447</td>\n",
              "    </tr>\n",
              "  </tbody>\n",
              "</table>\n",
              "</div>"
            ],
            "text/plain": [
              "       f0_\n",
              "0  1666447"
            ]
          },
          "metadata": {
            "tags": []
          },
          "execution_count": 11
        }
      ]
    },
    {
      "cell_type": "markdown",
      "metadata": {
        "id": "gyMrUG8trjGH"
      },
      "source": [
        "What time/years are included...\n"
      ]
    },
    {
      "cell_type": "code",
      "metadata": {
        "colab": {
          "base_uri": "https://localhost:8080/"
        },
        "id": "J3QSHXHdwyY9",
        "outputId": "a69b1c1f-bc06-4847-9f6e-30ff10578991"
      },
      "source": [
        "query = f\"\"\"\n",
        "        SELECT DISTINCT YEAR\n",
        "        FROM `{dataset}.accident`\n",
        "        ORDER BY YEAR DESC\n",
        "        \"\"\"\n",
        "\n",
        "df = client.query(query).to_dataframe()\n",
        "print(df['YEAR'].to_list())"
      ],
      "execution_count": null,
      "outputs": [
        {
          "output_type": "stream",
          "text": [
            "[2018, 2017, 2016, 2015, 2014, 2013, 2012, 2011, 2010, 2009, 2008, 2007, 2006, 2005, 2004, 2003, 2002, 2001, 2000, 1999, 1998, 1997, 1996, 1995, 1994, 1993, 1992, 1991, 1990, 1989, 1988, 1987, 1986, 1985, 1984, 1983, 1982, 1981, 1980, 1979, 1978, 1977, 1976, 1975, 97, 96, 95, 94, 93, 92, 91, 90, 88, 87, 86, 85, 84, 83, 82, 81, 80, 78]\n"
          ],
          "name": "stdout"
        }
      ]
    },
    {
      "cell_type": "markdown",
      "metadata": {
        "id": "rTMUMJNX3ugo"
      },
      "source": [
        "There are two entry types for YEAR, 2-digits (90) and 4-digits (1990), so any YEAR query may have to account for this."
      ]
    },
    {
      "cell_type": "markdown",
      "metadata": {
        "id": "FurcrKmQ9xJE"
      },
      "source": [
        "Let's see data for New Mexico"
      ]
    },
    {
      "cell_type": "code",
      "metadata": {
        "id": "n5IQRAEg91IJ"
      },
      "source": [
        "query = f\"\"\"\n",
        "        SELECT COUNT(*) AS Num_of_accidents, YEAR AS Year\n",
        "        FROM `{dataset}.accident`\n",
        "        WHERE STATE = 'New Mexico'\n",
        "        GROUP BY YEAR\n",
        "        ORDER BY YEAR ASC\n",
        "        \"\"\"\n",
        "\n",
        "accidents_per_year = client.query(query).to_dataframe()"
      ],
      "execution_count": null,
      "outputs": []
    },
    {
      "cell_type": "markdown",
      "metadata": {
        "id": "AxDLthCmiQoL"
      },
      "source": [
        "Turns out BigQuery is smart enough to aggregate 2-digit years with 4-digit years"
      ]
    },
    {
      "cell_type": "code",
      "metadata": {
        "colab": {
          "base_uri": "https://localhost:8080/",
          "height": 195
        },
        "id": "IdD0RX4sDr8B",
        "outputId": "aa30e246-6a56-41a6-81e0-5bb0a1e1d5f7"
      },
      "source": [
        "accidents_per_year.head()"
      ],
      "execution_count": null,
      "outputs": [
        {
          "output_type": "execute_result",
          "data": {
            "text/html": [
              "<div>\n",
              "<style scoped>\n",
              "    .dataframe tbody tr th:only-of-type {\n",
              "        vertical-align: middle;\n",
              "    }\n",
              "\n",
              "    .dataframe tbody tr th {\n",
              "        vertical-align: top;\n",
              "    }\n",
              "\n",
              "    .dataframe thead th {\n",
              "        text-align: right;\n",
              "    }\n",
              "</style>\n",
              "<table border=\"1\" class=\"dataframe\">\n",
              "  <thead>\n",
              "    <tr style=\"text-align: right;\">\n",
              "      <th></th>\n",
              "      <th>Num_of_accidents</th>\n",
              "      <th>Year</th>\n",
              "    </tr>\n",
              "  </thead>\n",
              "  <tbody>\n",
              "    <tr>\n",
              "      <th>0</th>\n",
              "      <td>466</td>\n",
              "      <td>1975</td>\n",
              "    </tr>\n",
              "    <tr>\n",
              "      <th>1</th>\n",
              "      <td>461</td>\n",
              "      <td>1976</td>\n",
              "    </tr>\n",
              "    <tr>\n",
              "      <th>2</th>\n",
              "      <td>567</td>\n",
              "      <td>1977</td>\n",
              "    </tr>\n",
              "    <tr>\n",
              "      <th>3</th>\n",
              "      <td>588</td>\n",
              "      <td>1978</td>\n",
              "    </tr>\n",
              "    <tr>\n",
              "      <th>4</th>\n",
              "      <td>555</td>\n",
              "      <td>1979</td>\n",
              "    </tr>\n",
              "  </tbody>\n",
              "</table>\n",
              "</div>"
            ],
            "text/plain": [
              "   Num_of_accidents  Year\n",
              "0               466  1975\n",
              "1               461  1976\n",
              "2               567  1977\n",
              "3               588  1978\n",
              "4               555  1979"
            ]
          },
          "metadata": {
            "tags": []
          },
          "execution_count": 36
        }
      ]
    },
    {
      "cell_type": "markdown",
      "metadata": {
        "id": "4vw52dc_yz-R"
      },
      "source": [
        "Which month are the most accidents in?"
      ]
    },
    {
      "cell_type": "code",
      "metadata": {
        "colab": {
          "base_uri": "https://localhost:8080/",
          "height": 77
        },
        "id": "nbigLUi8y5Vq",
        "outputId": "88320ac0-c9af-4f9f-95b8-c7dbf72fcc07"
      },
      "source": [
        "query = f\"\"\"\n",
        "        SELECT COUNT(*) AS Cnt, MONTH\n",
        "        FROM `{dataset}.accident`\n",
        "        GROUP BY MONTH\n",
        "        ORDER BY Cnt DESC\n",
        "        LIMIT 1\n",
        "        \"\"\"\n",
        "\n",
        "month_most = client.query(query).to_dataframe()\n",
        "month_most.head()"
      ],
      "execution_count": null,
      "outputs": [
        {
          "output_type": "execute_result",
          "data": {
            "text/html": [
              "<div>\n",
              "<style scoped>\n",
              "    .dataframe tbody tr th:only-of-type {\n",
              "        vertical-align: middle;\n",
              "    }\n",
              "\n",
              "    .dataframe tbody tr th {\n",
              "        vertical-align: top;\n",
              "    }\n",
              "\n",
              "    .dataframe thead th {\n",
              "        text-align: right;\n",
              "    }\n",
              "</style>\n",
              "<table border=\"1\" class=\"dataframe\">\n",
              "  <thead>\n",
              "    <tr style=\"text-align: right;\">\n",
              "      <th></th>\n",
              "      <th>Cnt</th>\n",
              "      <th>MONTH</th>\n",
              "    </tr>\n",
              "  </thead>\n",
              "  <tbody>\n",
              "    <tr>\n",
              "      <th>0</th>\n",
              "      <td>157789</td>\n",
              "      <td>August</td>\n",
              "    </tr>\n",
              "  </tbody>\n",
              "</table>\n",
              "</div>"
            ],
            "text/plain": [
              "      Cnt   MONTH\n",
              "0  157789  August"
            ]
          },
          "metadata": {
            "tags": []
          },
          "execution_count": 15
        }
      ]
    },
    {
      "cell_type": "markdown",
      "metadata": {
        "id": "ScRE1R7MQGkw"
      },
      "source": [
        "Where was the southern most accident?"
      ]
    },
    {
      "cell_type": "code",
      "metadata": {
        "colab": {
          "base_uri": "https://localhost:8080/",
          "height": 77
        },
        "id": "iJUQ-hfyQNBu",
        "outputId": "6eddea20-760c-44c2-a5ee-50caaa7c8232"
      },
      "source": [
        "query = f\"\"\"\n",
        "        SELECT STATE, LATITUDE, LONGITUD   # HA, LONGITUD\n",
        "        FROM `{dataset}.accident`\n",
        "        WHERE LATITUDE = (\n",
        "            SELECT MIN(LATITUDE)\n",
        "            FROM `{dataset}.accident`)\n",
        "        \"\"\"\n",
        "\n",
        "southern_most = client.query(query).to_dataframe()\n",
        "southern_most"
      ],
      "execution_count": null,
      "outputs": [
        {
          "output_type": "execute_result",
          "data": {
            "text/html": [
              "<div>\n",
              "<style scoped>\n",
              "    .dataframe tbody tr th:only-of-type {\n",
              "        vertical-align: middle;\n",
              "    }\n",
              "\n",
              "    .dataframe tbody tr th {\n",
              "        vertical-align: top;\n",
              "    }\n",
              "\n",
              "    .dataframe thead th {\n",
              "        text-align: right;\n",
              "    }\n",
              "</style>\n",
              "<table border=\"1\" class=\"dataframe\">\n",
              "  <thead>\n",
              "    <tr style=\"text-align: right;\">\n",
              "      <th></th>\n",
              "      <th>STATE</th>\n",
              "      <th>LATITUDE</th>\n",
              "      <th>LONGITUD</th>\n",
              "    </tr>\n",
              "  </thead>\n",
              "  <tbody>\n",
              "    <tr>\n",
              "      <th>0</th>\n",
              "      <td>Puerto Rico</td>\n",
              "      <td>18.375736</td>\n",
              "      <td>-66.147717</td>\n",
              "    </tr>\n",
              "  </tbody>\n",
              "</table>\n",
              "</div>"
            ],
            "text/plain": [
              "         STATE   LATITUDE   LONGITUD\n",
              "0  Puerto Rico  18.375736 -66.147717"
            ]
          },
          "metadata": {
            "tags": []
          },
          "execution_count": 16
        }
      ]
    },
    {
      "cell_type": "markdown",
      "metadata": {
        "id": "ek0qOqlLbCCP"
      },
      "source": [
        "How many vehicles have been involved in accidents in New Mexico?"
      ]
    },
    {
      "cell_type": "code",
      "metadata": {
        "colab": {
          "base_uri": "https://localhost:8080/",
          "height": 77
        },
        "id": "rAVHzUCybCf8",
        "outputId": "75249410-2564-45ae-b554-95475c78d87f"
      },
      "source": [
        "query = f\"\"\"\n",
        "        SELECT SUM(VE_TOTAL) AS Total_Veh, STATE\n",
        "        FROM `{dataset}.accident`\n",
        "        WHERE STATE = 'New Mexico'\n",
        "        GROUP BY STATE\n",
        "        \"\"\"\n",
        "\n",
        "total_veh = client.query(query).to_dataframe()\n",
        "total_veh"
      ],
      "execution_count": null,
      "outputs": [
        {
          "output_type": "execute_result",
          "data": {
            "text/html": [
              "<div>\n",
              "<style scoped>\n",
              "    .dataframe tbody tr th:only-of-type {\n",
              "        vertical-align: middle;\n",
              "    }\n",
              "\n",
              "    .dataframe tbody tr th {\n",
              "        vertical-align: top;\n",
              "    }\n",
              "\n",
              "    .dataframe thead th {\n",
              "        text-align: right;\n",
              "    }\n",
              "</style>\n",
              "<table border=\"1\" class=\"dataframe\">\n",
              "  <thead>\n",
              "    <tr style=\"text-align: right;\">\n",
              "      <th></th>\n",
              "      <th>Total_Veh</th>\n",
              "      <th>STATE</th>\n",
              "    </tr>\n",
              "  </thead>\n",
              "  <tbody>\n",
              "    <tr>\n",
              "      <th>0</th>\n",
              "      <td>6754</td>\n",
              "      <td>New Mexico</td>\n",
              "    </tr>\n",
              "  </tbody>\n",
              "</table>\n",
              "</div>"
            ],
            "text/plain": [
              "   Total_Veh       STATE\n",
              "0       6754  New Mexico"
            ]
          },
          "metadata": {
            "tags": []
          },
          "execution_count": 17
        }
      ]
    },
    {
      "cell_type": "markdown",
      "metadata": {
        "id": "FzHr0YWAm0E9"
      },
      "source": [
        "### Plots"
      ]
    },
    {
      "cell_type": "markdown",
      "metadata": {
        "id": "7dnCwDyOse9r"
      },
      "source": [
        "Let's see how the number of accidents in New Mexico has changed over the years."
      ]
    },
    {
      "cell_type": "code",
      "metadata": {
        "colab": {
          "base_uri": "https://localhost:8080/"
        },
        "id": "A0UhLi-biji6",
        "outputId": "07c9d32b-ed49-43ab-a7e0-42dff8264a36"
      },
      "source": [
        "fig = px.line(accidents_per_year, y ='Num_of_accidents', x='Year')\n",
        "fig.show()"
      ],
      "execution_count": null,
      "outputs": [
        {
          "output_type": "display_data",
          "data": {
            "text/html": [
              "<html>\n",
              "<head><meta charset=\"utf-8\" /></head>\n",
              "<body>\n",
              "    <div>\n",
              "            <script src=\"https://cdnjs.cloudflare.com/ajax/libs/mathjax/2.7.5/MathJax.js?config=TeX-AMS-MML_SVG\"></script><script type=\"text/javascript\">if (window.MathJax) {MathJax.Hub.Config({SVG: {font: \"STIX-Web\"}});}</script>\n",
              "                <script type=\"text/javascript\">window.PlotlyConfig = {MathJaxConfig: 'local'};</script>\n",
              "        <script src=\"https://cdn.plot.ly/plotly-latest.min.js\"></script>    \n",
              "            <div id=\"48089a4f-8aa2-47bd-a251-4639ff57c50c\" class=\"plotly-graph-div\" style=\"height:525px; width:100%;\"></div>\n",
              "            <script type=\"text/javascript\">\n",
              "                \n",
              "                    window.PLOTLYENV=window.PLOTLYENV || {};\n",
              "                    \n",
              "                if (document.getElementById(\"48089a4f-8aa2-47bd-a251-4639ff57c50c\")) {\n",
              "                    Plotly.newPlot(\n",
              "                        '48089a4f-8aa2-47bd-a251-4639ff57c50c',\n",
              "                        [{\"hoverlabel\": {\"namelength\": 0}, \"hovertemplate\": \"Year=%{x}<br>Num_of_accidents=%{y}\", \"legendgroup\": \"\", \"line\": {\"color\": \"#636efa\", \"dash\": \"solid\"}, \"mode\": \"lines\", \"name\": \"\", \"showlegend\": false, \"type\": \"scatter\", \"x\": [1975, 1976, 1977, 1978, 1979, 1980, 1981, 1982, 1983, 1984, 1985, 1986, 1987, 1988, 1989, 1990, 1991, 1992, 1993, 1994, 1995, 1996, 1997, 1998, 1999, 2000, 2001, 2002, 2003, 2004, 2005, 2006, 2007, 2008, 2009, 2010, 2011, 2012, 2013, 2014, 2015, 2016, 2017, 2018], \"xaxis\": \"x\", \"y\": [466, 461, 567, 588, 555, 513, 480, 489, 467, 426, 453, 436, 493, 433, 469, 440, 422, 398, 386, 388, 425, 416, 400, 374, 388, 386, 415, 398, 367, 439, 420, 424, 371, 324, 319, 317, 305, 338, 275, 340, 269, 358, 340, 350], \"yaxis\": \"y\"}],\n",
              "                        {\"legend\": {\"tracegroupgap\": 0}, \"margin\": {\"t\": 60}, \"template\": {\"data\": {\"bar\": [{\"error_x\": {\"color\": \"#2a3f5f\"}, \"error_y\": {\"color\": \"#2a3f5f\"}, \"marker\": {\"line\": {\"color\": \"#E5ECF6\", \"width\": 0.5}}, \"type\": \"bar\"}], \"barpolar\": [{\"marker\": {\"line\": {\"color\": \"#E5ECF6\", \"width\": 0.5}}, \"type\": \"barpolar\"}], \"carpet\": [{\"aaxis\": {\"endlinecolor\": \"#2a3f5f\", \"gridcolor\": \"white\", \"linecolor\": \"white\", \"minorgridcolor\": \"white\", \"startlinecolor\": \"#2a3f5f\"}, \"baxis\": {\"endlinecolor\": \"#2a3f5f\", \"gridcolor\": \"white\", \"linecolor\": \"white\", \"minorgridcolor\": \"white\", \"startlinecolor\": \"#2a3f5f\"}, \"type\": \"carpet\"}], \"choropleth\": [{\"colorbar\": {\"outlinewidth\": 0, \"ticks\": \"\"}, \"type\": \"choropleth\"}], \"contour\": [{\"colorbar\": {\"outlinewidth\": 0, \"ticks\": \"\"}, \"colorscale\": [[0.0, \"#0d0887\"], [0.1111111111111111, \"#46039f\"], [0.2222222222222222, \"#7201a8\"], [0.3333333333333333, \"#9c179e\"], [0.4444444444444444, \"#bd3786\"], [0.5555555555555556, \"#d8576b\"], [0.6666666666666666, \"#ed7953\"], [0.7777777777777778, \"#fb9f3a\"], [0.8888888888888888, \"#fdca26\"], [1.0, \"#f0f921\"]], \"type\": \"contour\"}], \"contourcarpet\": [{\"colorbar\": {\"outlinewidth\": 0, \"ticks\": \"\"}, \"type\": \"contourcarpet\"}], \"heatmap\": [{\"colorbar\": {\"outlinewidth\": 0, \"ticks\": \"\"}, \"colorscale\": [[0.0, \"#0d0887\"], [0.1111111111111111, \"#46039f\"], [0.2222222222222222, \"#7201a8\"], [0.3333333333333333, \"#9c179e\"], [0.4444444444444444, \"#bd3786\"], [0.5555555555555556, \"#d8576b\"], [0.6666666666666666, \"#ed7953\"], [0.7777777777777778, \"#fb9f3a\"], [0.8888888888888888, \"#fdca26\"], [1.0, \"#f0f921\"]], \"type\": \"heatmap\"}], \"heatmapgl\": [{\"colorbar\": {\"outlinewidth\": 0, \"ticks\": \"\"}, \"colorscale\": [[0.0, \"#0d0887\"], [0.1111111111111111, \"#46039f\"], [0.2222222222222222, \"#7201a8\"], [0.3333333333333333, \"#9c179e\"], [0.4444444444444444, \"#bd3786\"], [0.5555555555555556, \"#d8576b\"], [0.6666666666666666, \"#ed7953\"], [0.7777777777777778, \"#fb9f3a\"], [0.8888888888888888, \"#fdca26\"], [1.0, \"#f0f921\"]], \"type\": \"heatmapgl\"}], \"histogram\": [{\"marker\": {\"colorbar\": {\"outlinewidth\": 0, \"ticks\": \"\"}}, \"type\": \"histogram\"}], \"histogram2d\": [{\"colorbar\": {\"outlinewidth\": 0, \"ticks\": \"\"}, \"colorscale\": [[0.0, \"#0d0887\"], [0.1111111111111111, \"#46039f\"], [0.2222222222222222, \"#7201a8\"], [0.3333333333333333, \"#9c179e\"], [0.4444444444444444, \"#bd3786\"], [0.5555555555555556, \"#d8576b\"], [0.6666666666666666, \"#ed7953\"], [0.7777777777777778, \"#fb9f3a\"], [0.8888888888888888, \"#fdca26\"], [1.0, \"#f0f921\"]], \"type\": \"histogram2d\"}], \"histogram2dcontour\": [{\"colorbar\": {\"outlinewidth\": 0, \"ticks\": \"\"}, \"colorscale\": [[0.0, \"#0d0887\"], [0.1111111111111111, \"#46039f\"], [0.2222222222222222, \"#7201a8\"], [0.3333333333333333, \"#9c179e\"], [0.4444444444444444, \"#bd3786\"], [0.5555555555555556, \"#d8576b\"], [0.6666666666666666, \"#ed7953\"], [0.7777777777777778, \"#fb9f3a\"], [0.8888888888888888, \"#fdca26\"], [1.0, \"#f0f921\"]], \"type\": \"histogram2dcontour\"}], \"mesh3d\": [{\"colorbar\": {\"outlinewidth\": 0, \"ticks\": \"\"}, \"type\": \"mesh3d\"}], \"parcoords\": [{\"line\": {\"colorbar\": {\"outlinewidth\": 0, \"ticks\": \"\"}}, \"type\": \"parcoords\"}], \"pie\": [{\"automargin\": true, \"type\": \"pie\"}], \"scatter\": [{\"marker\": {\"colorbar\": {\"outlinewidth\": 0, \"ticks\": \"\"}}, \"type\": \"scatter\"}], \"scatter3d\": [{\"line\": {\"colorbar\": {\"outlinewidth\": 0, \"ticks\": \"\"}}, \"marker\": {\"colorbar\": {\"outlinewidth\": 0, \"ticks\": \"\"}}, \"type\": \"scatter3d\"}], \"scattercarpet\": [{\"marker\": {\"colorbar\": {\"outlinewidth\": 0, \"ticks\": \"\"}}, \"type\": \"scattercarpet\"}], \"scattergeo\": [{\"marker\": {\"colorbar\": {\"outlinewidth\": 0, \"ticks\": \"\"}}, \"type\": \"scattergeo\"}], \"scattergl\": [{\"marker\": {\"colorbar\": {\"outlinewidth\": 0, \"ticks\": \"\"}}, \"type\": \"scattergl\"}], \"scattermapbox\": [{\"marker\": {\"colorbar\": {\"outlinewidth\": 0, \"ticks\": \"\"}}, \"type\": \"scattermapbox\"}], \"scatterpolar\": [{\"marker\": {\"colorbar\": {\"outlinewidth\": 0, \"ticks\": \"\"}}, \"type\": \"scatterpolar\"}], \"scatterpolargl\": [{\"marker\": {\"colorbar\": {\"outlinewidth\": 0, \"ticks\": \"\"}}, \"type\": \"scatterpolargl\"}], \"scatterternary\": [{\"marker\": {\"colorbar\": {\"outlinewidth\": 0, \"ticks\": \"\"}}, \"type\": \"scatterternary\"}], \"surface\": [{\"colorbar\": {\"outlinewidth\": 0, \"ticks\": \"\"}, \"colorscale\": [[0.0, \"#0d0887\"], [0.1111111111111111, \"#46039f\"], [0.2222222222222222, \"#7201a8\"], [0.3333333333333333, \"#9c179e\"], [0.4444444444444444, \"#bd3786\"], [0.5555555555555556, \"#d8576b\"], [0.6666666666666666, \"#ed7953\"], [0.7777777777777778, \"#fb9f3a\"], [0.8888888888888888, \"#fdca26\"], [1.0, \"#f0f921\"]], \"type\": \"surface\"}], \"table\": [{\"cells\": {\"fill\": {\"color\": \"#EBF0F8\"}, \"line\": {\"color\": \"white\"}}, \"header\": {\"fill\": {\"color\": \"#C8D4E3\"}, \"line\": {\"color\": \"white\"}}, \"type\": \"table\"}]}, \"layout\": {\"annotationdefaults\": {\"arrowcolor\": \"#2a3f5f\", \"arrowhead\": 0, \"arrowwidth\": 1}, \"coloraxis\": {\"colorbar\": {\"outlinewidth\": 0, \"ticks\": \"\"}}, \"colorscale\": {\"diverging\": [[0, \"#8e0152\"], [0.1, \"#c51b7d\"], [0.2, \"#de77ae\"], [0.3, \"#f1b6da\"], [0.4, \"#fde0ef\"], [0.5, \"#f7f7f7\"], [0.6, \"#e6f5d0\"], [0.7, \"#b8e186\"], [0.8, \"#7fbc41\"], [0.9, \"#4d9221\"], [1, \"#276419\"]], \"sequential\": [[0.0, \"#0d0887\"], [0.1111111111111111, \"#46039f\"], [0.2222222222222222, \"#7201a8\"], [0.3333333333333333, \"#9c179e\"], [0.4444444444444444, \"#bd3786\"], [0.5555555555555556, \"#d8576b\"], [0.6666666666666666, \"#ed7953\"], [0.7777777777777778, \"#fb9f3a\"], [0.8888888888888888, \"#fdca26\"], [1.0, \"#f0f921\"]], \"sequentialminus\": [[0.0, \"#0d0887\"], [0.1111111111111111, \"#46039f\"], [0.2222222222222222, \"#7201a8\"], [0.3333333333333333, \"#9c179e\"], [0.4444444444444444, \"#bd3786\"], [0.5555555555555556, \"#d8576b\"], [0.6666666666666666, \"#ed7953\"], [0.7777777777777778, \"#fb9f3a\"], [0.8888888888888888, \"#fdca26\"], [1.0, \"#f0f921\"]]}, \"colorway\": [\"#636efa\", \"#EF553B\", \"#00cc96\", \"#ab63fa\", \"#FFA15A\", \"#19d3f3\", \"#FF6692\", \"#B6E880\", \"#FF97FF\", \"#FECB52\"], \"font\": {\"color\": \"#2a3f5f\"}, \"geo\": {\"bgcolor\": \"white\", \"lakecolor\": \"white\", \"landcolor\": \"#E5ECF6\", \"showlakes\": true, \"showland\": true, \"subunitcolor\": \"white\"}, \"hoverlabel\": {\"align\": \"left\"}, \"hovermode\": \"closest\", \"mapbox\": {\"style\": \"light\"}, \"paper_bgcolor\": \"white\", \"plot_bgcolor\": \"#E5ECF6\", \"polar\": {\"angularaxis\": {\"gridcolor\": \"white\", \"linecolor\": \"white\", \"ticks\": \"\"}, \"bgcolor\": \"#E5ECF6\", \"radialaxis\": {\"gridcolor\": \"white\", \"linecolor\": \"white\", \"ticks\": \"\"}}, \"scene\": {\"xaxis\": {\"backgroundcolor\": \"#E5ECF6\", \"gridcolor\": \"white\", \"gridwidth\": 2, \"linecolor\": \"white\", \"showbackground\": true, \"ticks\": \"\", \"zerolinecolor\": \"white\"}, \"yaxis\": {\"backgroundcolor\": \"#E5ECF6\", \"gridcolor\": \"white\", \"gridwidth\": 2, \"linecolor\": \"white\", \"showbackground\": true, \"ticks\": \"\", \"zerolinecolor\": \"white\"}, \"zaxis\": {\"backgroundcolor\": \"#E5ECF6\", \"gridcolor\": \"white\", \"gridwidth\": 2, \"linecolor\": \"white\", \"showbackground\": true, \"ticks\": \"\", \"zerolinecolor\": \"white\"}}, \"shapedefaults\": {\"line\": {\"color\": \"#2a3f5f\"}}, \"ternary\": {\"aaxis\": {\"gridcolor\": \"white\", \"linecolor\": \"white\", \"ticks\": \"\"}, \"baxis\": {\"gridcolor\": \"white\", \"linecolor\": \"white\", \"ticks\": \"\"}, \"bgcolor\": \"#E5ECF6\", \"caxis\": {\"gridcolor\": \"white\", \"linecolor\": \"white\", \"ticks\": \"\"}}, \"title\": {\"x\": 0.05}, \"xaxis\": {\"automargin\": true, \"gridcolor\": \"white\", \"linecolor\": \"white\", \"ticks\": \"\", \"title\": {\"standoff\": 15}, \"zerolinecolor\": \"white\", \"zerolinewidth\": 2}, \"yaxis\": {\"automargin\": true, \"gridcolor\": \"white\", \"linecolor\": \"white\", \"ticks\": \"\", \"title\": {\"standoff\": 15}, \"zerolinecolor\": \"white\", \"zerolinewidth\": 2}}}, \"xaxis\": {\"anchor\": \"y\", \"domain\": [0.0, 1.0], \"title\": {\"text\": \"Year\"}}, \"yaxis\": {\"anchor\": \"x\", \"domain\": [0.0, 1.0], \"title\": {\"text\": \"Num_of_accidents\"}}},\n",
              "                        {\"responsive\": true}\n",
              "                    ).then(function(){\n",
              "                            \n",
              "var gd = document.getElementById('48089a4f-8aa2-47bd-a251-4639ff57c50c');\n",
              "var x = new MutationObserver(function (mutations, observer) {{\n",
              "        var display = window.getComputedStyle(gd).display;\n",
              "        if (!display || display === 'none') {{\n",
              "            console.log([gd, 'removed!']);\n",
              "            Plotly.purge(gd);\n",
              "            observer.disconnect();\n",
              "        }}\n",
              "}});\n",
              "\n",
              "// Listen for the removal of the full notebook cells\n",
              "var notebookContainer = gd.closest('#notebook-container');\n",
              "if (notebookContainer) {{\n",
              "    x.observe(notebookContainer, {childList: true});\n",
              "}}\n",
              "\n",
              "// Listen for the clearing of the current output cell\n",
              "var outputEl = gd.closest('.output');\n",
              "if (outputEl) {{\n",
              "    x.observe(outputEl, {childList: true});\n",
              "}}\n",
              "\n",
              "                        })\n",
              "                };\n",
              "                \n",
              "            </script>\n",
              "        </div>\n",
              "</body>\n",
              "</html>"
            ]
          },
          "metadata": {
            "tags": []
          }
        }
      ]
    },
    {
      "cell_type": "markdown",
      "metadata": {
        "id": "Zn6iQ-BYUvux"
      },
      "source": [
        "How has the average number of fatalities per accident for Bernalillo County changed?"
      ]
    },
    {
      "cell_type": "code",
      "metadata": {
        "id": "Pw3hI9zOVEeP"
      },
      "source": [
        "query = f\"\"\"\n",
        "        SELECT YEAR, AVG(FATALS) AS Avg_Fatals_per_Accident\n",
        "        FROM `{dataset}.accident`\n",
        "        WHERE STATE LIKE '% Mexico' AND COUNTY = 'BERNALILLO (1)'\n",
        "        GROUP BY YEAR\n",
        "        ORDER BY YEAR ASC\n",
        "        \"\"\"\n",
        "\n",
        "bern_fat_per_year = client.query(query).to_dataframe()"
      ],
      "execution_count": null,
      "outputs": []
    },
    {
      "cell_type": "code",
      "metadata": {
        "colab": {
          "base_uri": "https://localhost:8080/",
          "height": 542
        },
        "id": "i4UjF1tPhb0H",
        "outputId": "c799bd8b-8c7e-4ff5-b29f-9eb9f8679df3"
      },
      "source": [
        "fig = px.line(bern_fat_per_year, y ='Avg_Fatals_per_Accident', x='YEAR')\n",
        "fig.show()"
      ],
      "execution_count": null,
      "outputs": [
        {
          "output_type": "display_data",
          "data": {
            "text/html": [
              "<html>\n",
              "<head><meta charset=\"utf-8\" /></head>\n",
              "<body>\n",
              "    <div>\n",
              "            <script src=\"https://cdnjs.cloudflare.com/ajax/libs/mathjax/2.7.5/MathJax.js?config=TeX-AMS-MML_SVG\"></script><script type=\"text/javascript\">if (window.MathJax) {MathJax.Hub.Config({SVG: {font: \"STIX-Web\"}});}</script>\n",
              "                <script type=\"text/javascript\">window.PlotlyConfig = {MathJaxConfig: 'local'};</script>\n",
              "        <script src=\"https://cdn.plot.ly/plotly-latest.min.js\"></script>    \n",
              "            <div id=\"0ed7de16-3e2d-4549-a3e6-4eb8284a5def\" class=\"plotly-graph-div\" style=\"height:525px; width:100%;\"></div>\n",
              "            <script type=\"text/javascript\">\n",
              "                \n",
              "                    window.PLOTLYENV=window.PLOTLYENV || {};\n",
              "                    \n",
              "                if (document.getElementById(\"0ed7de16-3e2d-4549-a3e6-4eb8284a5def\")) {\n",
              "                    Plotly.newPlot(\n",
              "                        '0ed7de16-3e2d-4549-a3e6-4eb8284a5def',\n",
              "                        [{\"hoverlabel\": {\"namelength\": 0}, \"hovertemplate\": \"YEAR=%{x}<br>Avg_Fatals_per_Accident=%{y}\", \"legendgroup\": \"\", \"line\": {\"color\": \"#636efa\", \"dash\": \"solid\"}, \"mode\": \"lines\", \"name\": \"\", \"showlegend\": false, \"type\": \"scatter\", \"x\": [1975, 1976, 1977, 1978, 1979, 1980, 1981, 1982, 1983, 1984, 1985, 1986, 1987, 1988, 1989, 1990, 1991, 1992, 1993, 1994, 1995, 1996, 1997, 1998, 1999, 2000, 2001, 2002, 2003, 2004, 2005, 2006, 2007, 2008, 2009, 2010, 2011, 2012, 2013, 2014, 2015, 2016, 2017, 2018], \"xaxis\": \"x\", \"y\": [1.0869565217391304, 1.1212121212121215, 1.1176470588235299, 1.0789473684210524, 1.0879120879120876, 1.1153846153846154, 1.046153846153846, 1.196969696969697, 1.1060606060606064, 1.2027027027027026, 1.0886075949367089, 1.0869565217391304, 1.1354166666666672, 1.0555555555555554, 1.027027027027027, 1.037974683544304, 1.1, 1.1388888888888888, 1.027027027027027, 1.0714285714285712, 1.166666666666667, 1.125, 1.2112676056338025, 1.03125, 1.1500000000000001, 1.0517241379310345, 1.054054054054054, 1.058823529411765, 1.12962962962963, 1.0259740259740258, 1.1884057971014497, 1.0579710144927534, 1.0307692307692307, 1.0555555555555558, 1.0357142857142858, 1.1395348837209305, 1.0999999999999999, 1.0149253731343284, 1.061224489795919, 1.0615384615384618, 1.0847457627118642, 1.0526315789473686, 1.0963855421686748, 1.0574712643678161], \"yaxis\": \"y\"}],\n",
              "                        {\"legend\": {\"tracegroupgap\": 0}, \"margin\": {\"t\": 60}, \"template\": {\"data\": {\"bar\": [{\"error_x\": {\"color\": \"#2a3f5f\"}, \"error_y\": {\"color\": \"#2a3f5f\"}, \"marker\": {\"line\": {\"color\": \"#E5ECF6\", \"width\": 0.5}}, \"type\": \"bar\"}], \"barpolar\": [{\"marker\": {\"line\": {\"color\": \"#E5ECF6\", \"width\": 0.5}}, \"type\": \"barpolar\"}], \"carpet\": [{\"aaxis\": {\"endlinecolor\": \"#2a3f5f\", \"gridcolor\": \"white\", \"linecolor\": \"white\", \"minorgridcolor\": \"white\", \"startlinecolor\": \"#2a3f5f\"}, \"baxis\": {\"endlinecolor\": \"#2a3f5f\", \"gridcolor\": \"white\", \"linecolor\": \"white\", \"minorgridcolor\": \"white\", \"startlinecolor\": \"#2a3f5f\"}, \"type\": \"carpet\"}], \"choropleth\": [{\"colorbar\": {\"outlinewidth\": 0, \"ticks\": \"\"}, \"type\": \"choropleth\"}], \"contour\": [{\"colorbar\": {\"outlinewidth\": 0, \"ticks\": \"\"}, \"colorscale\": [[0.0, \"#0d0887\"], [0.1111111111111111, \"#46039f\"], [0.2222222222222222, \"#7201a8\"], [0.3333333333333333, \"#9c179e\"], [0.4444444444444444, \"#bd3786\"], [0.5555555555555556, \"#d8576b\"], [0.6666666666666666, \"#ed7953\"], [0.7777777777777778, \"#fb9f3a\"], [0.8888888888888888, \"#fdca26\"], [1.0, \"#f0f921\"]], \"type\": \"contour\"}], \"contourcarpet\": [{\"colorbar\": {\"outlinewidth\": 0, \"ticks\": \"\"}, \"type\": \"contourcarpet\"}], \"heatmap\": [{\"colorbar\": {\"outlinewidth\": 0, \"ticks\": \"\"}, \"colorscale\": [[0.0, \"#0d0887\"], [0.1111111111111111, \"#46039f\"], [0.2222222222222222, \"#7201a8\"], [0.3333333333333333, \"#9c179e\"], [0.4444444444444444, \"#bd3786\"], [0.5555555555555556, \"#d8576b\"], [0.6666666666666666, \"#ed7953\"], [0.7777777777777778, \"#fb9f3a\"], [0.8888888888888888, \"#fdca26\"], [1.0, \"#f0f921\"]], \"type\": \"heatmap\"}], \"heatmapgl\": [{\"colorbar\": {\"outlinewidth\": 0, \"ticks\": \"\"}, \"colorscale\": [[0.0, \"#0d0887\"], [0.1111111111111111, \"#46039f\"], [0.2222222222222222, \"#7201a8\"], [0.3333333333333333, \"#9c179e\"], [0.4444444444444444, \"#bd3786\"], [0.5555555555555556, \"#d8576b\"], [0.6666666666666666, \"#ed7953\"], [0.7777777777777778, \"#fb9f3a\"], [0.8888888888888888, \"#fdca26\"], [1.0, \"#f0f921\"]], \"type\": \"heatmapgl\"}], \"histogram\": [{\"marker\": {\"colorbar\": {\"outlinewidth\": 0, \"ticks\": \"\"}}, \"type\": \"histogram\"}], \"histogram2d\": [{\"colorbar\": {\"outlinewidth\": 0, \"ticks\": \"\"}, \"colorscale\": [[0.0, \"#0d0887\"], [0.1111111111111111, \"#46039f\"], [0.2222222222222222, \"#7201a8\"], [0.3333333333333333, \"#9c179e\"], [0.4444444444444444, \"#bd3786\"], [0.5555555555555556, \"#d8576b\"], [0.6666666666666666, \"#ed7953\"], [0.7777777777777778, \"#fb9f3a\"], [0.8888888888888888, \"#fdca26\"], [1.0, \"#f0f921\"]], \"type\": \"histogram2d\"}], \"histogram2dcontour\": [{\"colorbar\": {\"outlinewidth\": 0, \"ticks\": \"\"}, \"colorscale\": [[0.0, \"#0d0887\"], [0.1111111111111111, \"#46039f\"], [0.2222222222222222, \"#7201a8\"], [0.3333333333333333, \"#9c179e\"], [0.4444444444444444, \"#bd3786\"], [0.5555555555555556, \"#d8576b\"], [0.6666666666666666, \"#ed7953\"], [0.7777777777777778, \"#fb9f3a\"], [0.8888888888888888, \"#fdca26\"], [1.0, \"#f0f921\"]], \"type\": \"histogram2dcontour\"}], \"mesh3d\": [{\"colorbar\": {\"outlinewidth\": 0, \"ticks\": \"\"}, \"type\": \"mesh3d\"}], \"parcoords\": [{\"line\": {\"colorbar\": {\"outlinewidth\": 0, \"ticks\": \"\"}}, \"type\": \"parcoords\"}], \"pie\": [{\"automargin\": true, \"type\": \"pie\"}], \"scatter\": [{\"marker\": {\"colorbar\": {\"outlinewidth\": 0, \"ticks\": \"\"}}, \"type\": \"scatter\"}], \"scatter3d\": [{\"line\": {\"colorbar\": {\"outlinewidth\": 0, \"ticks\": \"\"}}, \"marker\": {\"colorbar\": {\"outlinewidth\": 0, \"ticks\": \"\"}}, \"type\": \"scatter3d\"}], \"scattercarpet\": [{\"marker\": {\"colorbar\": {\"outlinewidth\": 0, \"ticks\": \"\"}}, \"type\": \"scattercarpet\"}], \"scattergeo\": [{\"marker\": {\"colorbar\": {\"outlinewidth\": 0, \"ticks\": \"\"}}, \"type\": \"scattergeo\"}], \"scattergl\": [{\"marker\": {\"colorbar\": {\"outlinewidth\": 0, \"ticks\": \"\"}}, \"type\": \"scattergl\"}], \"scattermapbox\": [{\"marker\": {\"colorbar\": {\"outlinewidth\": 0, \"ticks\": \"\"}}, \"type\": \"scattermapbox\"}], \"scatterpolar\": [{\"marker\": {\"colorbar\": {\"outlinewidth\": 0, \"ticks\": \"\"}}, \"type\": \"scatterpolar\"}], \"scatterpolargl\": [{\"marker\": {\"colorbar\": {\"outlinewidth\": 0, \"ticks\": \"\"}}, \"type\": \"scatterpolargl\"}], \"scatterternary\": [{\"marker\": {\"colorbar\": {\"outlinewidth\": 0, \"ticks\": \"\"}}, \"type\": \"scatterternary\"}], \"surface\": [{\"colorbar\": {\"outlinewidth\": 0, \"ticks\": \"\"}, \"colorscale\": [[0.0, \"#0d0887\"], [0.1111111111111111, \"#46039f\"], [0.2222222222222222, \"#7201a8\"], [0.3333333333333333, \"#9c179e\"], [0.4444444444444444, \"#bd3786\"], [0.5555555555555556, \"#d8576b\"], [0.6666666666666666, \"#ed7953\"], [0.7777777777777778, \"#fb9f3a\"], [0.8888888888888888, \"#fdca26\"], [1.0, \"#f0f921\"]], \"type\": \"surface\"}], \"table\": [{\"cells\": {\"fill\": {\"color\": \"#EBF0F8\"}, \"line\": {\"color\": \"white\"}}, \"header\": {\"fill\": {\"color\": \"#C8D4E3\"}, \"line\": {\"color\": \"white\"}}, \"type\": \"table\"}]}, \"layout\": {\"annotationdefaults\": {\"arrowcolor\": \"#2a3f5f\", \"arrowhead\": 0, \"arrowwidth\": 1}, \"coloraxis\": {\"colorbar\": {\"outlinewidth\": 0, \"ticks\": \"\"}}, \"colorscale\": {\"diverging\": [[0, \"#8e0152\"], [0.1, \"#c51b7d\"], [0.2, \"#de77ae\"], [0.3, \"#f1b6da\"], [0.4, \"#fde0ef\"], [0.5, \"#f7f7f7\"], [0.6, \"#e6f5d0\"], [0.7, \"#b8e186\"], [0.8, \"#7fbc41\"], [0.9, \"#4d9221\"], [1, \"#276419\"]], \"sequential\": [[0.0, \"#0d0887\"], [0.1111111111111111, \"#46039f\"], [0.2222222222222222, \"#7201a8\"], [0.3333333333333333, \"#9c179e\"], [0.4444444444444444, \"#bd3786\"], [0.5555555555555556, \"#d8576b\"], [0.6666666666666666, \"#ed7953\"], [0.7777777777777778, \"#fb9f3a\"], [0.8888888888888888, \"#fdca26\"], [1.0, \"#f0f921\"]], \"sequentialminus\": [[0.0, \"#0d0887\"], [0.1111111111111111, \"#46039f\"], [0.2222222222222222, \"#7201a8\"], [0.3333333333333333, \"#9c179e\"], [0.4444444444444444, \"#bd3786\"], [0.5555555555555556, \"#d8576b\"], [0.6666666666666666, \"#ed7953\"], [0.7777777777777778, \"#fb9f3a\"], [0.8888888888888888, \"#fdca26\"], [1.0, \"#f0f921\"]]}, \"colorway\": [\"#636efa\", \"#EF553B\", \"#00cc96\", \"#ab63fa\", \"#FFA15A\", \"#19d3f3\", \"#FF6692\", \"#B6E880\", \"#FF97FF\", \"#FECB52\"], \"font\": {\"color\": \"#2a3f5f\"}, \"geo\": {\"bgcolor\": \"white\", \"lakecolor\": \"white\", \"landcolor\": \"#E5ECF6\", \"showlakes\": true, \"showland\": true, \"subunitcolor\": \"white\"}, \"hoverlabel\": {\"align\": \"left\"}, \"hovermode\": \"closest\", \"mapbox\": {\"style\": \"light\"}, \"paper_bgcolor\": \"white\", \"plot_bgcolor\": \"#E5ECF6\", \"polar\": {\"angularaxis\": {\"gridcolor\": \"white\", \"linecolor\": \"white\", \"ticks\": \"\"}, \"bgcolor\": \"#E5ECF6\", \"radialaxis\": {\"gridcolor\": \"white\", \"linecolor\": \"white\", \"ticks\": \"\"}}, \"scene\": {\"xaxis\": {\"backgroundcolor\": \"#E5ECF6\", \"gridcolor\": \"white\", \"gridwidth\": 2, \"linecolor\": \"white\", \"showbackground\": true, \"ticks\": \"\", \"zerolinecolor\": \"white\"}, \"yaxis\": {\"backgroundcolor\": \"#E5ECF6\", \"gridcolor\": \"white\", \"gridwidth\": 2, \"linecolor\": \"white\", \"showbackground\": true, \"ticks\": \"\", \"zerolinecolor\": \"white\"}, \"zaxis\": {\"backgroundcolor\": \"#E5ECF6\", \"gridcolor\": \"white\", \"gridwidth\": 2, \"linecolor\": \"white\", \"showbackground\": true, \"ticks\": \"\", \"zerolinecolor\": \"white\"}}, \"shapedefaults\": {\"line\": {\"color\": \"#2a3f5f\"}}, \"ternary\": {\"aaxis\": {\"gridcolor\": \"white\", \"linecolor\": \"white\", \"ticks\": \"\"}, \"baxis\": {\"gridcolor\": \"white\", \"linecolor\": \"white\", \"ticks\": \"\"}, \"bgcolor\": \"#E5ECF6\", \"caxis\": {\"gridcolor\": \"white\", \"linecolor\": \"white\", \"ticks\": \"\"}}, \"title\": {\"x\": 0.05}, \"xaxis\": {\"automargin\": true, \"gridcolor\": \"white\", \"linecolor\": \"white\", \"ticks\": \"\", \"title\": {\"standoff\": 15}, \"zerolinecolor\": \"white\", \"zerolinewidth\": 2}, \"yaxis\": {\"automargin\": true, \"gridcolor\": \"white\", \"linecolor\": \"white\", \"ticks\": \"\", \"title\": {\"standoff\": 15}, \"zerolinecolor\": \"white\", \"zerolinewidth\": 2}}}, \"xaxis\": {\"anchor\": \"y\", \"domain\": [0.0, 1.0], \"title\": {\"text\": \"YEAR\"}}, \"yaxis\": {\"anchor\": \"x\", \"domain\": [0.0, 1.0], \"title\": {\"text\": \"Avg_Fatals_per_Accident\"}}},\n",
              "                        {\"responsive\": true}\n",
              "                    ).then(function(){\n",
              "                            \n",
              "var gd = document.getElementById('0ed7de16-3e2d-4549-a3e6-4eb8284a5def');\n",
              "var x = new MutationObserver(function (mutations, observer) {{\n",
              "        var display = window.getComputedStyle(gd).display;\n",
              "        if (!display || display === 'none') {{\n",
              "            console.log([gd, 'removed!']);\n",
              "            Plotly.purge(gd);\n",
              "            observer.disconnect();\n",
              "        }}\n",
              "}});\n",
              "\n",
              "// Listen for the removal of the full notebook cells\n",
              "var notebookContainer = gd.closest('#notebook-container');\n",
              "if (notebookContainer) {{\n",
              "    x.observe(notebookContainer, {childList: true});\n",
              "}}\n",
              "\n",
              "// Listen for the clearing of the current output cell\n",
              "var outputEl = gd.closest('.output');\n",
              "if (outputEl) {{\n",
              "    x.observe(outputEl, {childList: true});\n",
              "}}\n",
              "\n",
              "                        })\n",
              "                };\n",
              "                \n",
              "            </script>\n",
              "        </div>\n",
              "</body>\n",
              "</html>"
            ]
          },
          "metadata": {
            "tags": []
          }
        }
      ]
    },
    {
      "cell_type": "markdown",
      "metadata": {
        "id": "R8rtJgiQVars"
      },
      "source": [
        "What accident involved the most vehicles?"
      ]
    },
    {
      "cell_type": "code",
      "metadata": {
        "colab": {
          "base_uri": "https://localhost:8080/",
          "height": 77
        },
        "id": "Efr6BZgmVbEG",
        "outputId": "2fb8b1ff-2469-4277-bdc5-6e1581b320c8"
      },
      "source": [
        "query = f\"\"\"\n",
        "        SELECT VE_TOTAL, STATE, YEAR, MONTH, DAY, HOUR\n",
        "        FROM `{dataset}.accident`\n",
        "        WHERE VE_TOTAL = (\n",
        "            SELECT MAX(VE_TOTAL)\n",
        "            FROM `{dataset}.accident`)\n",
        "        \"\"\"\n",
        "\n",
        "most_vehicles = client.query(query).to_dataframe()\n",
        "most_vehicles"
      ],
      "execution_count": null,
      "outputs": [
        {
          "output_type": "execute_result",
          "data": {
            "text/html": [
              "<div>\n",
              "<style scoped>\n",
              "    .dataframe tbody tr th:only-of-type {\n",
              "        vertical-align: middle;\n",
              "    }\n",
              "\n",
              "    .dataframe tbody tr th {\n",
              "        vertical-align: top;\n",
              "    }\n",
              "\n",
              "    .dataframe thead th {\n",
              "        text-align: right;\n",
              "    }\n",
              "</style>\n",
              "<table border=\"1\" class=\"dataframe\">\n",
              "  <thead>\n",
              "    <tr style=\"text-align: right;\">\n",
              "      <th></th>\n",
              "      <th>VE_TOTAL</th>\n",
              "      <th>STATE</th>\n",
              "      <th>YEAR</th>\n",
              "      <th>MONTH</th>\n",
              "      <th>DAY</th>\n",
              "      <th>HOUR</th>\n",
              "    </tr>\n",
              "  </thead>\n",
              "  <tbody>\n",
              "    <tr>\n",
              "      <th>0</th>\n",
              "      <td>92</td>\n",
              "      <td>California</td>\n",
              "      <td>2007</td>\n",
              "      <td>November</td>\n",
              "      <td>3</td>\n",
              "      <td>7</td>\n",
              "    </tr>\n",
              "  </tbody>\n",
              "</table>\n",
              "</div>"
            ],
            "text/plain": [
              "   VE_TOTAL       STATE  YEAR     MONTH  DAY  HOUR\n",
              "0        92  California  2007  November    3     7"
            ]
          },
          "metadata": {
            "tags": []
          },
          "execution_count": 21
        }
      ]
    },
    {
      "cell_type": "markdown",
      "metadata": {
        "id": "ULGChFNvWPa9"
      },
      "source": [
        "https://www.cbsnews.com/news/100-car-pileup-kills-2-in-california/"
      ]
    },
    {
      "cell_type": "markdown",
      "metadata": {
        "id": "jsrhYOO5YLgy"
      },
      "source": [
        "Which accident had the most fatalities?"
      ]
    },
    {
      "cell_type": "code",
      "metadata": {
        "colab": {
          "base_uri": "https://localhost:8080/",
          "height": 77
        },
        "id": "xjZvYMM5YL3E",
        "outputId": "a51a0bed-f36c-461d-daef-da89258e4e30"
      },
      "source": [
        "query = f\"\"\"\n",
        "        SELECT FATALS, STATE, YEAR, MONTH, DAY, HOUR\n",
        "        FROM `{dataset}.accident`\n",
        "        WHERE FATALS = (\n",
        "            SELECT MAX(FATALS)\n",
        "            FROM `{dataset}.accident`)\n",
        "        \"\"\"\n",
        "\n",
        "most_fatalities = client.query(query).to_dataframe()\n",
        "most_fatalities"
      ],
      "execution_count": null,
      "outputs": [
        {
          "output_type": "execute_result",
          "data": {
            "text/html": [
              "<div>\n",
              "<style scoped>\n",
              "    .dataframe tbody tr th:only-of-type {\n",
              "        vertical-align: middle;\n",
              "    }\n",
              "\n",
              "    .dataframe tbody tr th {\n",
              "        vertical-align: top;\n",
              "    }\n",
              "\n",
              "    .dataframe thead th {\n",
              "        text-align: right;\n",
              "    }\n",
              "</style>\n",
              "<table border=\"1\" class=\"dataframe\">\n",
              "  <thead>\n",
              "    <tr style=\"text-align: right;\">\n",
              "      <th></th>\n",
              "      <th>FATALS</th>\n",
              "      <th>STATE</th>\n",
              "      <th>YEAR</th>\n",
              "      <th>MONTH</th>\n",
              "      <th>DAY</th>\n",
              "      <th>HOUR</th>\n",
              "    </tr>\n",
              "  </thead>\n",
              "  <tbody>\n",
              "    <tr>\n",
              "      <th>0</th>\n",
              "      <td>29</td>\n",
              "      <td>California</td>\n",
              "      <td>1976</td>\n",
              "      <td>May</td>\n",
              "      <td>21</td>\n",
              "      <td>10</td>\n",
              "    </tr>\n",
              "  </tbody>\n",
              "</table>\n",
              "</div>"
            ],
            "text/plain": [
              "   FATALS       STATE  YEAR MONTH  DAY  HOUR\n",
              "0      29  California  1976   May   21    10"
            ]
          },
          "metadata": {
            "tags": []
          },
          "execution_count": 22
        }
      ]
    },
    {
      "cell_type": "markdown",
      "metadata": {
        "id": "2xj-x5U-YyaE"
      },
      "source": [
        "https://en.wikipedia.org/wiki/Yuba_City_bus_disaster"
      ]
    },
    {
      "cell_type": "markdown",
      "metadata": {
        "id": "MpcZzmTl7x73"
      },
      "source": [
        "How many bicyclists were in accidents, per state, over the years 2017 and 2018?"
      ]
    },
    {
      "cell_type": "code",
      "metadata": {
        "colab": {
          "base_uri": "https://localhost:8080/",
          "height": 1000
        },
        "id": "x8q_zGCo7-qV",
        "outputId": "c80024e9-60f5-4442-a099-fdb6552e3b7e"
      },
      "source": [
        "query = f\"\"\"\n",
        "        SELECT a.STATE, COUNT(*) AS Bicyclists\n",
        "        FROM `{dataset}.accident` AS a\n",
        "        INNER JOIN `{dataset}.person` AS p\n",
        "        ON a.STATE = p.STATE AND a.ST_CASE = p.ST_CASE AND a.L_YEAR = p.L_YEAR\n",
        "        WHERE p.PER_TYP = 'Bicyclist' AND a.L_YEAR BETWEEN 2017 AND 2018\n",
        "        GROUP BY a.STATE\n",
        "        ORDER BY Bicyclists DESC\n",
        "        \"\"\"\n",
        "\n",
        "bicy_per_state = client.query(query).to_dataframe()\n",
        "bicy_per_state"
      ],
      "execution_count": null,
      "outputs": [
        {
          "output_type": "execute_result",
          "data": {
            "text/html": [
              "<div>\n",
              "<style scoped>\n",
              "    .dataframe tbody tr th:only-of-type {\n",
              "        vertical-align: middle;\n",
              "    }\n",
              "\n",
              "    .dataframe tbody tr th {\n",
              "        vertical-align: top;\n",
              "    }\n",
              "\n",
              "    .dataframe thead th {\n",
              "        text-align: right;\n",
              "    }\n",
              "</style>\n",
              "<table border=\"1\" class=\"dataframe\">\n",
              "  <thead>\n",
              "    <tr style=\"text-align: right;\">\n",
              "      <th></th>\n",
              "      <th>STATE</th>\n",
              "      <th>Bicyclists</th>\n",
              "    </tr>\n",
              "  </thead>\n",
              "  <tbody>\n",
              "    <tr>\n",
              "      <th>0</th>\n",
              "      <td>Florida</td>\n",
              "      <td>297</td>\n",
              "    </tr>\n",
              "    <tr>\n",
              "      <th>1</th>\n",
              "      <td>California</td>\n",
              "      <td>286</td>\n",
              "    </tr>\n",
              "    <tr>\n",
              "      <th>2</th>\n",
              "      <td>Texas</td>\n",
              "      <td>133</td>\n",
              "    </tr>\n",
              "    <tr>\n",
              "      <th>3</th>\n",
              "      <td>New York</td>\n",
              "      <td>78</td>\n",
              "    </tr>\n",
              "    <tr>\n",
              "      <th>4</th>\n",
              "      <td>Arizona</td>\n",
              "      <td>54</td>\n",
              "    </tr>\n",
              "    <tr>\n",
              "      <th>5</th>\n",
              "      <td>Louisiana</td>\n",
              "      <td>51</td>\n",
              "    </tr>\n",
              "    <tr>\n",
              "      <th>6</th>\n",
              "      <td>Illinois</td>\n",
              "      <td>51</td>\n",
              "    </tr>\n",
              "    <tr>\n",
              "      <th>7</th>\n",
              "      <td>North Carolina</td>\n",
              "      <td>47</td>\n",
              "    </tr>\n",
              "    <tr>\n",
              "      <th>8</th>\n",
              "      <td>Georgia</td>\n",
              "      <td>46</td>\n",
              "    </tr>\n",
              "    <tr>\n",
              "      <th>9</th>\n",
              "      <td>Michigan</td>\n",
              "      <td>46</td>\n",
              "    </tr>\n",
              "    <tr>\n",
              "      <th>10</th>\n",
              "      <td>South Carolina</td>\n",
              "      <td>42</td>\n",
              "    </tr>\n",
              "    <tr>\n",
              "      <th>11</th>\n",
              "      <td>Ohio</td>\n",
              "      <td>41</td>\n",
              "    </tr>\n",
              "    <tr>\n",
              "      <th>12</th>\n",
              "      <td>Pennsylvania</td>\n",
              "      <td>39</td>\n",
              "    </tr>\n",
              "    <tr>\n",
              "      <th>13</th>\n",
              "      <td>Colorado</td>\n",
              "      <td>38</td>\n",
              "    </tr>\n",
              "    <tr>\n",
              "      <th>14</th>\n",
              "      <td>Indiana</td>\n",
              "      <td>36</td>\n",
              "    </tr>\n",
              "    <tr>\n",
              "      <th>15</th>\n",
              "      <td>New Jersey</td>\n",
              "      <td>36</td>\n",
              "    </tr>\n",
              "    <tr>\n",
              "      <th>16</th>\n",
              "      <td>Washington</td>\n",
              "      <td>30</td>\n",
              "    </tr>\n",
              "    <tr>\n",
              "      <th>17</th>\n",
              "      <td>Virginia</td>\n",
              "      <td>25</td>\n",
              "    </tr>\n",
              "    <tr>\n",
              "      <th>18</th>\n",
              "      <td>Oklahoma</td>\n",
              "      <td>23</td>\n",
              "    </tr>\n",
              "    <tr>\n",
              "      <th>19</th>\n",
              "      <td>Puerto Rico</td>\n",
              "      <td>21</td>\n",
              "    </tr>\n",
              "    <tr>\n",
              "      <th>20</th>\n",
              "      <td>Kentucky</td>\n",
              "      <td>20</td>\n",
              "    </tr>\n",
              "    <tr>\n",
              "      <th>21</th>\n",
              "      <td>Oregon</td>\n",
              "      <td>19</td>\n",
              "    </tr>\n",
              "    <tr>\n",
              "      <th>22</th>\n",
              "      <td>Nevada</td>\n",
              "      <td>19</td>\n",
              "    </tr>\n",
              "    <tr>\n",
              "      <th>23</th>\n",
              "      <td>Tennessee</td>\n",
              "      <td>17</td>\n",
              "    </tr>\n",
              "    <tr>\n",
              "      <th>24</th>\n",
              "      <td>Alabama</td>\n",
              "      <td>16</td>\n",
              "    </tr>\n",
              "    <tr>\n",
              "      <th>25</th>\n",
              "      <td>Maryland</td>\n",
              "      <td>16</td>\n",
              "    </tr>\n",
              "    <tr>\n",
              "      <th>26</th>\n",
              "      <td>Massachusetts</td>\n",
              "      <td>15</td>\n",
              "    </tr>\n",
              "    <tr>\n",
              "      <th>27</th>\n",
              "      <td>Mississippi</td>\n",
              "      <td>14</td>\n",
              "    </tr>\n",
              "    <tr>\n",
              "      <th>28</th>\n",
              "      <td>Iowa</td>\n",
              "      <td>13</td>\n",
              "    </tr>\n",
              "    <tr>\n",
              "      <th>29</th>\n",
              "      <td>Minnesota</td>\n",
              "      <td>13</td>\n",
              "    </tr>\n",
              "    <tr>\n",
              "      <th>30</th>\n",
              "      <td>New Mexico</td>\n",
              "      <td>13</td>\n",
              "    </tr>\n",
              "    <tr>\n",
              "      <th>31</th>\n",
              "      <td>Wisconsin</td>\n",
              "      <td>12</td>\n",
              "    </tr>\n",
              "    <tr>\n",
              "      <th>32</th>\n",
              "      <td>Delaware</td>\n",
              "      <td>11</td>\n",
              "    </tr>\n",
              "    <tr>\n",
              "      <th>33</th>\n",
              "      <td>Missouri</td>\n",
              "      <td>11</td>\n",
              "    </tr>\n",
              "    <tr>\n",
              "      <th>34</th>\n",
              "      <td>Kansas</td>\n",
              "      <td>10</td>\n",
              "    </tr>\n",
              "    <tr>\n",
              "      <th>35</th>\n",
              "      <td>Utah</td>\n",
              "      <td>9</td>\n",
              "    </tr>\n",
              "    <tr>\n",
              "      <th>36</th>\n",
              "      <td>West Virginia</td>\n",
              "      <td>8</td>\n",
              "    </tr>\n",
              "    <tr>\n",
              "      <th>37</th>\n",
              "      <td>Hawaii</td>\n",
              "      <td>8</td>\n",
              "    </tr>\n",
              "    <tr>\n",
              "      <th>38</th>\n",
              "      <td>Arkansas</td>\n",
              "      <td>7</td>\n",
              "    </tr>\n",
              "    <tr>\n",
              "      <th>39</th>\n",
              "      <td>Idaho</td>\n",
              "      <td>5</td>\n",
              "    </tr>\n",
              "    <tr>\n",
              "      <th>40</th>\n",
              "      <td>District of Columbia</td>\n",
              "      <td>5</td>\n",
              "    </tr>\n",
              "    <tr>\n",
              "      <th>41</th>\n",
              "      <td>Maine</td>\n",
              "      <td>4</td>\n",
              "    </tr>\n",
              "    <tr>\n",
              "      <th>42</th>\n",
              "      <td>North Dakota</td>\n",
              "      <td>4</td>\n",
              "    </tr>\n",
              "    <tr>\n",
              "      <th>43</th>\n",
              "      <td>New Hampshire</td>\n",
              "      <td>4</td>\n",
              "    </tr>\n",
              "    <tr>\n",
              "      <th>44</th>\n",
              "      <td>Connecticut</td>\n",
              "      <td>4</td>\n",
              "    </tr>\n",
              "    <tr>\n",
              "      <th>45</th>\n",
              "      <td>Rhode Island</td>\n",
              "      <td>3</td>\n",
              "    </tr>\n",
              "    <tr>\n",
              "      <th>46</th>\n",
              "      <td>Montana</td>\n",
              "      <td>3</td>\n",
              "    </tr>\n",
              "    <tr>\n",
              "      <th>47</th>\n",
              "      <td>Nebraska</td>\n",
              "      <td>3</td>\n",
              "    </tr>\n",
              "    <tr>\n",
              "      <th>48</th>\n",
              "      <td>Alaska</td>\n",
              "      <td>1</td>\n",
              "    </tr>\n",
              "  </tbody>\n",
              "</table>\n",
              "</div>"
            ],
            "text/plain": [
              "                   STATE  Bicyclists\n",
              "0                Florida         297\n",
              "1             California         286\n",
              "2                  Texas         133\n",
              "3               New York          78\n",
              "4                Arizona          54\n",
              "5              Louisiana          51\n",
              "6               Illinois          51\n",
              "7         North Carolina          47\n",
              "8                Georgia          46\n",
              "9               Michigan          46\n",
              "10        South Carolina          42\n",
              "11                  Ohio          41\n",
              "12          Pennsylvania          39\n",
              "13              Colorado          38\n",
              "14               Indiana          36\n",
              "15            New Jersey          36\n",
              "16            Washington          30\n",
              "17              Virginia          25\n",
              "18              Oklahoma          23\n",
              "19           Puerto Rico          21\n",
              "20              Kentucky          20\n",
              "21                Oregon          19\n",
              "22                Nevada          19\n",
              "23             Tennessee          17\n",
              "24               Alabama          16\n",
              "25              Maryland          16\n",
              "26         Massachusetts          15\n",
              "27           Mississippi          14\n",
              "28                  Iowa          13\n",
              "29             Minnesota          13\n",
              "30            New Mexico          13\n",
              "31             Wisconsin          12\n",
              "32              Delaware          11\n",
              "33              Missouri          11\n",
              "34                Kansas          10\n",
              "35                  Utah           9\n",
              "36         West Virginia           8\n",
              "37                Hawaii           8\n",
              "38              Arkansas           7\n",
              "39                 Idaho           5\n",
              "40  District of Columbia           5\n",
              "41                 Maine           4\n",
              "42          North Dakota           4\n",
              "43         New Hampshire           4\n",
              "44           Connecticut           4\n",
              "45          Rhode Island           3\n",
              "46               Montana           3\n",
              "47              Nebraska           3\n",
              "48                Alaska           1"
            ]
          },
          "metadata": {
            "tags": []
          },
          "execution_count": 23
        }
      ]
    },
    {
      "cell_type": "code",
      "metadata": {
        "colab": {
          "base_uri": "https://localhost:8080/",
          "height": 542
        },
        "id": "qhI07jaG95L0",
        "outputId": "d58ad2c8-99a2-4291-ef2e-95c4cc72dfee"
      },
      "source": [
        "fig = px.bar(bicy_per_state, x='STATE', y='Bicyclists', color='Bicyclists',\n",
        "             labels={'Bicyclists':'Bicyclist-involved Accidents'})\n",
        "fig.show()"
      ],
      "execution_count": null,
      "outputs": [
        {
          "output_type": "display_data",
          "data": {
            "text/html": [
              "<html>\n",
              "<head><meta charset=\"utf-8\" /></head>\n",
              "<body>\n",
              "    <div>\n",
              "            <script src=\"https://cdnjs.cloudflare.com/ajax/libs/mathjax/2.7.5/MathJax.js?config=TeX-AMS-MML_SVG\"></script><script type=\"text/javascript\">if (window.MathJax) {MathJax.Hub.Config({SVG: {font: \"STIX-Web\"}});}</script>\n",
              "                <script type=\"text/javascript\">window.PlotlyConfig = {MathJaxConfig: 'local'};</script>\n",
              "        <script src=\"https://cdn.plot.ly/plotly-latest.min.js\"></script>    \n",
              "            <div id=\"87c20f66-2a04-414a-b8cf-10f605c8c1ba\" class=\"plotly-graph-div\" style=\"height:525px; width:100%;\"></div>\n",
              "            <script type=\"text/javascript\">\n",
              "                \n",
              "                    window.PLOTLYENV=window.PLOTLYENV || {};\n",
              "                    \n",
              "                if (document.getElementById(\"87c20f66-2a04-414a-b8cf-10f605c8c1ba\")) {\n",
              "                    Plotly.newPlot(\n",
              "                        '87c20f66-2a04-414a-b8cf-10f605c8c1ba',\n",
              "                        [{\"alignmentgroup\": \"True\", \"hoverlabel\": {\"namelength\": 0}, \"hovertemplate\": \"STATE=%{x}<br>Bicyclist-involved Accidents=%{marker.color}\", \"legendgroup\": \"\", \"marker\": {\"color\": [297, 286, 133, 78, 54, 51, 51, 47, 46, 46, 42, 41, 39, 38, 36, 36, 30, 25, 23, 21, 20, 19, 19, 17, 16, 16, 15, 14, 13, 13, 13, 12, 11, 11, 10, 9, 8, 8, 7, 5, 5, 4, 4, 4, 4, 3, 3, 3, 1], \"coloraxis\": \"coloraxis\"}, \"name\": \"\", \"offsetgroup\": \"\", \"orientation\": \"v\", \"showlegend\": false, \"textposition\": \"auto\", \"type\": \"bar\", \"x\": [\"Florida\", \"California\", \"Texas\", \"New York\", \"Arizona\", \"Louisiana\", \"Illinois\", \"North Carolina\", \"Georgia\", \"Michigan\", \"South Carolina\", \"Ohio\", \"Pennsylvania\", \"Colorado\", \"Indiana\", \"New Jersey\", \"Washington\", \"Virginia\", \"Oklahoma\", \"Puerto Rico\", \"Kentucky\", \"Oregon\", \"Nevada\", \"Tennessee\", \"Alabama\", \"Maryland\", \"Massachusetts\", \"Mississippi\", \"Iowa\", \"Minnesota\", \"New Mexico\", \"Wisconsin\", \"Delaware\", \"Missouri\", \"Kansas\", \"Utah\", \"West Virginia\", \"Hawaii\", \"Arkansas\", \"Idaho\", \"District of Columbia\", \"Maine\", \"North Dakota\", \"New Hampshire\", \"Connecticut\", \"Rhode Island\", \"Montana\", \"Nebraska\", \"Alaska\"], \"xaxis\": \"x\", \"y\": [297, 286, 133, 78, 54, 51, 51, 47, 46, 46, 42, 41, 39, 38, 36, 36, 30, 25, 23, 21, 20, 19, 19, 17, 16, 16, 15, 14, 13, 13, 13, 12, 11, 11, 10, 9, 8, 8, 7, 5, 5, 4, 4, 4, 4, 3, 3, 3, 1], \"yaxis\": \"y\"}],\n",
              "                        {\"barmode\": \"relative\", \"coloraxis\": {\"colorbar\": {\"title\": {\"text\": \"Bicyclist-involved Accidents\"}}, \"colorscale\": [[0.0, \"#0d0887\"], [0.1111111111111111, \"#46039f\"], [0.2222222222222222, \"#7201a8\"], [0.3333333333333333, \"#9c179e\"], [0.4444444444444444, \"#bd3786\"], [0.5555555555555556, \"#d8576b\"], [0.6666666666666666, \"#ed7953\"], [0.7777777777777778, \"#fb9f3a\"], [0.8888888888888888, \"#fdca26\"], [1.0, \"#f0f921\"]]}, \"legend\": {\"tracegroupgap\": 0}, \"margin\": {\"t\": 60}, \"template\": {\"data\": {\"bar\": [{\"error_x\": {\"color\": \"#2a3f5f\"}, \"error_y\": {\"color\": \"#2a3f5f\"}, \"marker\": {\"line\": {\"color\": \"#E5ECF6\", \"width\": 0.5}}, \"type\": \"bar\"}], \"barpolar\": [{\"marker\": {\"line\": {\"color\": \"#E5ECF6\", \"width\": 0.5}}, \"type\": \"barpolar\"}], \"carpet\": [{\"aaxis\": {\"endlinecolor\": \"#2a3f5f\", \"gridcolor\": \"white\", \"linecolor\": \"white\", \"minorgridcolor\": \"white\", \"startlinecolor\": \"#2a3f5f\"}, \"baxis\": {\"endlinecolor\": \"#2a3f5f\", \"gridcolor\": \"white\", \"linecolor\": \"white\", \"minorgridcolor\": \"white\", \"startlinecolor\": \"#2a3f5f\"}, \"type\": \"carpet\"}], \"choropleth\": [{\"colorbar\": {\"outlinewidth\": 0, \"ticks\": \"\"}, \"type\": \"choropleth\"}], \"contour\": [{\"colorbar\": {\"outlinewidth\": 0, \"ticks\": \"\"}, \"colorscale\": [[0.0, \"#0d0887\"], [0.1111111111111111, \"#46039f\"], [0.2222222222222222, \"#7201a8\"], [0.3333333333333333, \"#9c179e\"], [0.4444444444444444, \"#bd3786\"], [0.5555555555555556, \"#d8576b\"], [0.6666666666666666, \"#ed7953\"], [0.7777777777777778, \"#fb9f3a\"], [0.8888888888888888, \"#fdca26\"], [1.0, \"#f0f921\"]], \"type\": \"contour\"}], \"contourcarpet\": [{\"colorbar\": {\"outlinewidth\": 0, \"ticks\": \"\"}, \"type\": \"contourcarpet\"}], \"heatmap\": [{\"colorbar\": {\"outlinewidth\": 0, \"ticks\": \"\"}, \"colorscale\": [[0.0, \"#0d0887\"], [0.1111111111111111, \"#46039f\"], [0.2222222222222222, \"#7201a8\"], [0.3333333333333333, \"#9c179e\"], [0.4444444444444444, \"#bd3786\"], [0.5555555555555556, \"#d8576b\"], [0.6666666666666666, \"#ed7953\"], [0.7777777777777778, \"#fb9f3a\"], [0.8888888888888888, \"#fdca26\"], [1.0, \"#f0f921\"]], \"type\": \"heatmap\"}], \"heatmapgl\": [{\"colorbar\": {\"outlinewidth\": 0, \"ticks\": \"\"}, \"colorscale\": [[0.0, \"#0d0887\"], [0.1111111111111111, \"#46039f\"], [0.2222222222222222, \"#7201a8\"], [0.3333333333333333, \"#9c179e\"], [0.4444444444444444, \"#bd3786\"], [0.5555555555555556, \"#d8576b\"], [0.6666666666666666, \"#ed7953\"], [0.7777777777777778, \"#fb9f3a\"], [0.8888888888888888, \"#fdca26\"], [1.0, \"#f0f921\"]], \"type\": \"heatmapgl\"}], \"histogram\": [{\"marker\": {\"colorbar\": {\"outlinewidth\": 0, \"ticks\": \"\"}}, \"type\": \"histogram\"}], \"histogram2d\": [{\"colorbar\": {\"outlinewidth\": 0, \"ticks\": \"\"}, \"colorscale\": [[0.0, \"#0d0887\"], [0.1111111111111111, \"#46039f\"], [0.2222222222222222, \"#7201a8\"], [0.3333333333333333, \"#9c179e\"], [0.4444444444444444, \"#bd3786\"], [0.5555555555555556, \"#d8576b\"], [0.6666666666666666, \"#ed7953\"], [0.7777777777777778, \"#fb9f3a\"], [0.8888888888888888, \"#fdca26\"], [1.0, \"#f0f921\"]], \"type\": \"histogram2d\"}], \"histogram2dcontour\": [{\"colorbar\": {\"outlinewidth\": 0, \"ticks\": \"\"}, \"colorscale\": [[0.0, \"#0d0887\"], [0.1111111111111111, \"#46039f\"], [0.2222222222222222, \"#7201a8\"], [0.3333333333333333, \"#9c179e\"], [0.4444444444444444, \"#bd3786\"], [0.5555555555555556, \"#d8576b\"], [0.6666666666666666, \"#ed7953\"], [0.7777777777777778, \"#fb9f3a\"], [0.8888888888888888, \"#fdca26\"], [1.0, \"#f0f921\"]], \"type\": \"histogram2dcontour\"}], \"mesh3d\": [{\"colorbar\": {\"outlinewidth\": 0, \"ticks\": \"\"}, \"type\": \"mesh3d\"}], \"parcoords\": [{\"line\": {\"colorbar\": {\"outlinewidth\": 0, \"ticks\": \"\"}}, \"type\": \"parcoords\"}], \"pie\": [{\"automargin\": true, \"type\": \"pie\"}], \"scatter\": [{\"marker\": {\"colorbar\": {\"outlinewidth\": 0, \"ticks\": \"\"}}, \"type\": \"scatter\"}], \"scatter3d\": [{\"line\": {\"colorbar\": {\"outlinewidth\": 0, \"ticks\": \"\"}}, \"marker\": {\"colorbar\": {\"outlinewidth\": 0, \"ticks\": \"\"}}, \"type\": \"scatter3d\"}], \"scattercarpet\": [{\"marker\": {\"colorbar\": {\"outlinewidth\": 0, \"ticks\": \"\"}}, \"type\": \"scattercarpet\"}], \"scattergeo\": [{\"marker\": {\"colorbar\": {\"outlinewidth\": 0, \"ticks\": \"\"}}, \"type\": \"scattergeo\"}], \"scattergl\": [{\"marker\": {\"colorbar\": {\"outlinewidth\": 0, \"ticks\": \"\"}}, \"type\": \"scattergl\"}], \"scattermapbox\": [{\"marker\": {\"colorbar\": {\"outlinewidth\": 0, \"ticks\": \"\"}}, \"type\": \"scattermapbox\"}], \"scatterpolar\": [{\"marker\": {\"colorbar\": {\"outlinewidth\": 0, \"ticks\": \"\"}}, \"type\": \"scatterpolar\"}], \"scatterpolargl\": [{\"marker\": {\"colorbar\": {\"outlinewidth\": 0, \"ticks\": \"\"}}, \"type\": \"scatterpolargl\"}], \"scatterternary\": [{\"marker\": {\"colorbar\": {\"outlinewidth\": 0, \"ticks\": \"\"}}, \"type\": \"scatterternary\"}], \"surface\": [{\"colorbar\": {\"outlinewidth\": 0, \"ticks\": \"\"}, \"colorscale\": [[0.0, \"#0d0887\"], [0.1111111111111111, \"#46039f\"], [0.2222222222222222, \"#7201a8\"], [0.3333333333333333, \"#9c179e\"], [0.4444444444444444, \"#bd3786\"], [0.5555555555555556, \"#d8576b\"], [0.6666666666666666, \"#ed7953\"], [0.7777777777777778, \"#fb9f3a\"], [0.8888888888888888, \"#fdca26\"], [1.0, \"#f0f921\"]], \"type\": \"surface\"}], \"table\": [{\"cells\": {\"fill\": {\"color\": \"#EBF0F8\"}, \"line\": {\"color\": \"white\"}}, \"header\": {\"fill\": {\"color\": \"#C8D4E3\"}, \"line\": {\"color\": \"white\"}}, \"type\": \"table\"}]}, \"layout\": {\"annotationdefaults\": {\"arrowcolor\": \"#2a3f5f\", \"arrowhead\": 0, \"arrowwidth\": 1}, \"coloraxis\": {\"colorbar\": {\"outlinewidth\": 0, \"ticks\": \"\"}}, \"colorscale\": {\"diverging\": [[0, \"#8e0152\"], [0.1, \"#c51b7d\"], [0.2, \"#de77ae\"], [0.3, \"#f1b6da\"], [0.4, \"#fde0ef\"], [0.5, \"#f7f7f7\"], [0.6, \"#e6f5d0\"], [0.7, \"#b8e186\"], [0.8, \"#7fbc41\"], [0.9, \"#4d9221\"], [1, \"#276419\"]], \"sequential\": [[0.0, \"#0d0887\"], [0.1111111111111111, \"#46039f\"], [0.2222222222222222, \"#7201a8\"], [0.3333333333333333, \"#9c179e\"], [0.4444444444444444, \"#bd3786\"], [0.5555555555555556, \"#d8576b\"], [0.6666666666666666, \"#ed7953\"], [0.7777777777777778, \"#fb9f3a\"], [0.8888888888888888, \"#fdca26\"], [1.0, \"#f0f921\"]], \"sequentialminus\": [[0.0, \"#0d0887\"], [0.1111111111111111, \"#46039f\"], [0.2222222222222222, \"#7201a8\"], [0.3333333333333333, \"#9c179e\"], [0.4444444444444444, \"#bd3786\"], [0.5555555555555556, \"#d8576b\"], [0.6666666666666666, \"#ed7953\"], [0.7777777777777778, \"#fb9f3a\"], [0.8888888888888888, \"#fdca26\"], [1.0, \"#f0f921\"]]}, \"colorway\": [\"#636efa\", \"#EF553B\", \"#00cc96\", \"#ab63fa\", \"#FFA15A\", \"#19d3f3\", \"#FF6692\", \"#B6E880\", \"#FF97FF\", \"#FECB52\"], \"font\": {\"color\": \"#2a3f5f\"}, \"geo\": {\"bgcolor\": \"white\", \"lakecolor\": \"white\", \"landcolor\": \"#E5ECF6\", \"showlakes\": true, \"showland\": true, \"subunitcolor\": \"white\"}, \"hoverlabel\": {\"align\": \"left\"}, \"hovermode\": \"closest\", \"mapbox\": {\"style\": \"light\"}, \"paper_bgcolor\": \"white\", \"plot_bgcolor\": \"#E5ECF6\", \"polar\": {\"angularaxis\": {\"gridcolor\": \"white\", \"linecolor\": \"white\", \"ticks\": \"\"}, \"bgcolor\": \"#E5ECF6\", \"radialaxis\": {\"gridcolor\": \"white\", \"linecolor\": \"white\", \"ticks\": \"\"}}, \"scene\": {\"xaxis\": {\"backgroundcolor\": \"#E5ECF6\", \"gridcolor\": \"white\", \"gridwidth\": 2, \"linecolor\": \"white\", \"showbackground\": true, \"ticks\": \"\", \"zerolinecolor\": \"white\"}, \"yaxis\": {\"backgroundcolor\": \"#E5ECF6\", \"gridcolor\": \"white\", \"gridwidth\": 2, \"linecolor\": \"white\", \"showbackground\": true, \"ticks\": \"\", \"zerolinecolor\": \"white\"}, \"zaxis\": {\"backgroundcolor\": \"#E5ECF6\", \"gridcolor\": \"white\", \"gridwidth\": 2, \"linecolor\": \"white\", \"showbackground\": true, \"ticks\": \"\", \"zerolinecolor\": \"white\"}}, \"shapedefaults\": {\"line\": {\"color\": \"#2a3f5f\"}}, \"ternary\": {\"aaxis\": {\"gridcolor\": \"white\", \"linecolor\": \"white\", \"ticks\": \"\"}, \"baxis\": {\"gridcolor\": \"white\", \"linecolor\": \"white\", \"ticks\": \"\"}, \"bgcolor\": \"#E5ECF6\", \"caxis\": {\"gridcolor\": \"white\", \"linecolor\": \"white\", \"ticks\": \"\"}}, \"title\": {\"x\": 0.05}, \"xaxis\": {\"automargin\": true, \"gridcolor\": \"white\", \"linecolor\": \"white\", \"ticks\": \"\", \"title\": {\"standoff\": 15}, \"zerolinecolor\": \"white\", \"zerolinewidth\": 2}, \"yaxis\": {\"automargin\": true, \"gridcolor\": \"white\", \"linecolor\": \"white\", \"ticks\": \"\", \"title\": {\"standoff\": 15}, \"zerolinecolor\": \"white\", \"zerolinewidth\": 2}}}, \"xaxis\": {\"anchor\": \"y\", \"domain\": [0.0, 1.0], \"title\": {\"text\": \"STATE\"}}, \"yaxis\": {\"anchor\": \"x\", \"domain\": [0.0, 1.0], \"title\": {\"text\": \"Bicyclist-involved Accidents\"}}},\n",
              "                        {\"responsive\": true}\n",
              "                    ).then(function(){\n",
              "                            \n",
              "var gd = document.getElementById('87c20f66-2a04-414a-b8cf-10f605c8c1ba');\n",
              "var x = new MutationObserver(function (mutations, observer) {{\n",
              "        var display = window.getComputedStyle(gd).display;\n",
              "        if (!display || display === 'none') {{\n",
              "            console.log([gd, 'removed!']);\n",
              "            Plotly.purge(gd);\n",
              "            observer.disconnect();\n",
              "        }}\n",
              "}});\n",
              "\n",
              "// Listen for the removal of the full notebook cells\n",
              "var notebookContainer = gd.closest('#notebook-container');\n",
              "if (notebookContainer) {{\n",
              "    x.observe(notebookContainer, {childList: true});\n",
              "}}\n",
              "\n",
              "// Listen for the clearing of the current output cell\n",
              "var outputEl = gd.closest('.output');\n",
              "if (outputEl) {{\n",
              "    x.observe(outputEl, {childList: true});\n",
              "}}\n",
              "\n",
              "                        })\n",
              "                };\n",
              "                \n",
              "            </script>\n",
              "        </div>\n",
              "</body>\n",
              "</html>"
            ]
          },
          "metadata": {
            "tags": []
          }
        }
      ]
    },
    {
      "cell_type": "markdown",
      "metadata": {
        "id": "JfYbHTae13vf"
      },
      "source": [
        "## Conclusions"
      ]
    },
    {
      "cell_type": "markdown",
      "metadata": {
        "id": "h7Q7b6mtuh-Q"
      },
      "source": [
        "- SQL is appropriate for retrieving data from an RDB\n",
        "- Ample open datasets to chose from\n",
        "- Different insights in each table\n",
        "- Accidents suck\n",
        "- Plotly Express is AWESOME!"
      ]
    }
  ]
}