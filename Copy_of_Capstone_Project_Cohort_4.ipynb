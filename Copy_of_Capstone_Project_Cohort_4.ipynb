{
  "nbformat": 4,
  "nbformat_minor": 0,
  "metadata": {
    "colab": {
      "name": "Copy of Capstone Project - Cohort 4.ipynb",
      "provenance": [],
      "collapsed_sections": [
        "Gki8-Mr1Ulk6",
        "Sxllf0rJ4iAp",
        "QRSVowZM9SlZ",
        "-j4uihYg4mtE",
        "h3l3q817uxHj",
        "aqQyPos281Cj",
        "4dIypro9BljM",
        "oHsEQyFhE5nF",
        "gjktKzH9GdIK",
        "tDSQfeT5ZBhS"
      ],
      "toc_visible": true,
      "mount_file_id": "1KsL1Lo0B9ewrx7gssQIunRBlV8NQHT7r",
      "authorship_tag": "ABX9TyN1SM41yRS8fFtXL3SmoiWR"
    },
    "kernelspec": {
      "name": "python3",
      "display_name": "Python 3"
    }
  },
  "cells": [
    {
      "cell_type": "code",
      "metadata": {
        "id": "ntMz8HSR7uLp"
      },
      "source": [
        "import pandas as pd\n",
        "import requests\n",
        "import urllib.parse\n",
        "#!pip install nrel-pysam\n",
        "import pickle\n",
        "import os, sys\n",
        "import re\n",
        "import matplotlib.pyplot as plt"
      ],
      "execution_count": null,
      "outputs": []
    },
    {
      "cell_type": "code",
      "metadata": {
        "colab": {
          "base_uri": "https://localhost:8080/"
        },
        "id": "cdxucSoQgSU1",
        "outputId": "0d6ac41f-cb50-4a0c-a6a9-ada3f30e2308"
      },
      "source": [
        "from google.colab import auth\n",
        "auth.authenticate_user()\n",
        "project_id = 'numeric-melody-308801'\n",
        "%load_ext google.cloud.bigquery\n",
        "!gcloud config set project {project_id}\n",
        "!gsutil ls"
      ],
      "execution_count": null,
      "outputs": [
        {
          "output_type": "stream",
          "text": [
            "Updated property [core/project].\n",
            "gs://numeric-melody-308801.appspot.com/\n"
          ],
          "name": "stdout"
        }
      ]
    },
    {
      "cell_type": "code",
      "metadata": {
        "id": "eAo4VIMVjZ9u"
      },
      "source": [
        "def pred_wind_power(windspeed_df, power_curve, temp_df=None, pressure_df=None):\n",
        "    \"\"\"Accepts dataframe with windspeeds (floats) at a certain location, Series with power produced at defined speeds.\n",
        "    Returns DataFrame of 'Month' (1-12), output power ('kW'), in whatever timeframe submitted\n",
        "    (eg. hourly, monthly, etc), assuming single 2MW turbine.\n",
        "    Dependent on power_curve indexes equalling defined windspeed levels, and proper curve-class passed.\"\"\"\n",
        "\n",
        "    max_curve_speed = max(power_curve.index)\n",
        "    windspeed = windspeed_df['wind speed at 100m (m/s)']\n",
        "\n",
        "    lower_ws = windspeed.apply(int).apply(lambda s: s if s < max_curve_speed else 0).values\n",
        "    upper_ws = lower_ws+1\n",
        "    power_diff = power_curve.iloc[upper_ws].reset_index(drop=True).sub(power_curve.iloc[lower_ws].reset_index(drop=True))\n",
        "    frac_power = power_diff.mul(windspeed.sub(windspeed.apply(int)))\n",
        "    final_power = frac_power.add(power_curve.iloc[lower_ws].reset_index(drop=True)).rename('kW')\n",
        "\n",
        "    return pd.concat([windspeed_df, final_power], axis=1)\n"
      ],
      "execution_count": null,
      "outputs": []
    },
    {
      "cell_type": "code",
      "metadata": {
        "id": "OXUXE5jW8bJF"
      },
      "source": [
        "def pred_wind_power2(windspeed_df, power_curve, temp_df, pressure_df):\n",
        "    \"\"\"Accepts dataframe with windspeeds (floats) at a certain location, Series with power produced at defined speeds.\n",
        "    Returns DataFrame of 'Month' (1-12), output power ('kW'), in whatever timeframe submitted\n",
        "    (eg. hourly, monthly, etc), assuming single 2MW turbine.\n",
        "    Dependent on power_curve indexes equalling defined windspeed levels, and proper curve-class passed.\n",
        "    Using equation: density = (pressure Pa)/(temp K)(dry air gas constant 'Ro' J/kg*K)\n",
        "    \"\"\"\n",
        "\n",
        "    max_curve_speed = max(power_curve.index)\n",
        "    windspeed = windspeed_df['wind speed at 100m (m/s)']\n",
        "    temp = temp_df['air temperature at 100m (C)'] + 273.15  # Convert to kelvin\n",
        "    pressure = pressure_df['air pressure at 100m (Pa)']\n",
        "\n",
        "    STP = 1.225  # kg/m^3\n",
        "    Ro = 287.05\n",
        "    density = pressure.div(temp.mul(Ro)).div(STP)\n",
        "\n",
        "    lower_ws = windspeed.apply(int).apply(lambda s: s if s < max_curve_speed else 0).values\n",
        "    upper_ws = lower_ws+1\n",
        "    power_diff = power_curve.iloc[upper_ws].reset_index(drop=True).sub(power_curve.iloc[lower_ws].reset_index(drop=True))\n",
        "    frac_power = power_diff.mul(windspeed.sub(windspeed.apply(int)))\n",
        "    final_power = frac_power.add(power_curve.iloc[lower_ws].reset_index(drop=True))\n",
        "    power_density = final_power.mul(density).rename('kW')\n",
        "\n",
        "    return pd.concat([windspeed_df, power_density], axis=1)"
      ],
      "execution_count": null,
      "outputs": []
    },
    {
      "cell_type": "code",
      "metadata": {
        "id": "0uwL6omzBIjc"
      },
      "source": [
        "def pred_solar_power(solar_df, station_rated_output):\n",
        "    \"\"\"Accepts dataframe with Global Horizontal Irradiance (floats) at a certain location assuming in W/m^2,\n",
        "    Scaler indicating output of plant in MW.\n",
        "    ?Returns DataFrame of 'Month' (1-12), output power ('MW'), in whatever timeframe submitted\n",
        "    \"\"\"\n",
        "\n",
        "    ghi = solar_df['GHI']   # GHI in W/m^2\n",
        "\n",
        "    pred_power = ghi.div(800).mul(station_rated_output).rename('MW')\n",
        "\n",
        "    return pd.concat([solar_df['Month'], pred_power], axis=1)"
      ],
      "execution_count": null,
      "outputs": []
    },
    {
      "cell_type": "code",
      "metadata": {
        "id": "xAmNPibS9Z2B"
      },
      "source": [
        "directory = '/content/drive/MyDrive/Data Science Student Material/Capstone Project/Data/test/'"
      ],
      "execution_count": null,
      "outputs": []
    },
    {
      "cell_type": "markdown",
      "metadata": {
        "id": "Gki8-Mr1Ulk6"
      },
      "source": [
        "## BigQuery"
      ]
    },
    {
      "cell_type": "code",
      "metadata": {
        "id": "8aII-rrANV-e"
      },
      "source": [
        "%%bigquery --project $project_id bqdf\n",
        "SELECT \n",
        "  COUNT(*) as total_rows\n",
        "FROM `numeric-melody-308801.nm_winds_100m.test`"
      ],
      "execution_count": null,
      "outputs": []
    },
    {
      "cell_type": "code",
      "metadata": {
        "id": "bzAjNDDQOfAP"
      },
      "source": [
        "bqdf"
      ],
      "execution_count": null,
      "outputs": []
    },
    {
      "cell_type": "markdown",
      "metadata": {
        "id": "Sxllf0rJ4iAp"
      },
      "source": [
        "## Wind Data"
      ]
    },
    {
      "cell_type": "code",
      "metadata": {
        "id": "S-9PguUb3CiM",
        "colab": {
          "base_uri": "https://localhost:8080/"
        },
        "outputId": "a32b3680-f21b-4893-9676-03532545707f"
      },
      "source": [
        "wind_url = 'https://developer.nrel.gov/api/wind-toolkit/v2/wind/wtk-download.json?api_key=0WIF3emAV5iUrIyfYwk0Fcm5wUZGfwLVOlLD7Nc1'\n",
        "#params_state  = '&wkt=POLYGON((-103.072391+36.940417%2C-109.014299+36.966740%2C-109.011065+32.066178%2C-103.128003+32.061526%2C-103.072391+36.940417))'\n",
        "params_north   = '&wkt=POLYGON((-103.072391+36.98%2C-109.014299+36.98%2C-109.007507+35.7%2C-103.131484+35.7%2C-103.072391+36.98))'\n",
        "\n",
        "#params_upper   = '&wkt=POLYGON((-103.131484+35.7%2C-109.007507+35.7%2C-109.007507+34.45%2C-103.131484+34.45%2C-103.131484+35.7))'\n",
        "params_upper_north   = '&wkt=POLYGON((-103.131484+35.705%2C-109.007507+35.705%2C-109.007507+35.07%2C-103.131484+35.07%2C-103.131484+35.705))'\n",
        "params_upper_south  = '&wkt=POLYGON((-103.131484+35.07%2C-109.007507+35.07%2C-109.007507+34.45%2C-103.131484+34.45%2C-103.131484+35.07))'\n",
        "\n",
        "#params_upper_south_east   = '&wkt=POLYGON((-103.131484+35.705%2C-109.007507+35.705%2C-109.007507+34.45%2C-103.131484+34.45%2C-103.131484+35.705))'\n",
        "#params_upper_south_west   = '&wkt=POLYGON((-106.00+35.07%2C-109.007507+35.07%2C-109.007507+34.45%2C-106.00+34.45%2C-106.00+35.07))'\n",
        "\n",
        "params_lower   = '&wkt=POLYGON((-103.131484+34.45%2C-109.007507+34.45%2C-109.007507+33.20%2C-103.131484+33.20%2C-103.131484+34.45))'\n",
        "params_south   = '&wkt=POLYGON((-103.131484+33.20%2C-109.007507+33.20%2C-109.011065+32.066178%2C-103.128003+32.061526%2C-103.131484+33.20))'\n",
        "#params_bootheel   = '&wkt=POLYGON((-106.75+32.07%2C-109.01+32.07%2C-109.01+31.35%2C-108.22+31.35%2C-108.22+31.8%2C-106.6+31.8%2C-106.75+32.07))'\n",
        "\n",
        "attributes = '&attributes=pressure_100m&names=2014&utc=false&leap_day=false&interval=60&email=kengustafson@gmail.com'\n",
        "\n",
        "wind_res = requests.get(wind_url + params_south + attributes)\n",
        "\n",
        "content = {}\n",
        "\n",
        "if wind_res.status_code == 200:\n",
        "    print(wind_res.headers['content-type'])\n",
        "\n",
        "    content = wind_res.content\n",
        "\n",
        "else:\n",
        "    print('ERROR')"
      ],
      "execution_count": null,
      "outputs": [
        {
          "output_type": "stream",
          "text": [
            "application/json; charset=utf-8\n"
          ],
          "name": "stdout"
        }
      ]
    },
    {
      "cell_type": "code",
      "metadata": {
        "id": "3qI08ZBL6C3n"
      },
      "source": [
        "pressure_south = wind_res.json()"
      ],
      "execution_count": null,
      "outputs": []
    },
    {
      "cell_type": "code",
      "metadata": {
        "id": "NHJW5y85NWZ4"
      },
      "source": [
        "# Download data to local variable, then save to file\n",
        "\n",
        "#nrel_res = requests.get('https://mapfiles.nrel.gov/data/wind/8ff95fad8f70284017c655f7e41e2de4.zip')\n",
        "content = {}\n",
        "if nrel_res.status_code == 200:\n",
        "    print(nrel_res.headers['content-type'])\n",
        "    content = nrel_res.content\n",
        "else:\n",
        "    print('ERROR')"
      ],
      "execution_count": null,
      "outputs": []
    },
    {
      "cell_type": "code",
      "metadata": {
        "id": "Ws-OXH49N79n"
      },
      "source": [
        "# Open a file\n",
        "filepath = directory+'8ff95fad8f70284017c655f7e41e2de4.zip'\n",
        "fd = os.open(filepath, os.O_CREAT|os.O_RDWR)\n",
        "\n",
        "# Write contents\n",
        "os.write(fd, content)\n",
        "\n",
        "# Close file\n",
        "os.close( fd )"
      ],
      "execution_count": null,
      "outputs": []
    },
    {
      "cell_type": "code",
      "metadata": {
        "id": "q5lozTQe5-dE",
        "colab": {
          "base_uri": "https://localhost:8080/"
        },
        "outputId": "be501225-068d-4083-ac6b-0e07c1bd52b6"
      },
      "source": [
        "# Get data at a POINT\n",
        "\n",
        "wind_url = 'https://developer.nrel.gov/api/wind-toolkit/v2/wind/wtk-download.json?api_key=0WIF3emAV5iUrIyfYwk0Fcm5wUZGfwLVOlLD7Nc1'\n",
        "params_point   = '&wkt=POINT(-103.285278+32.952778)'\n",
        "wind_attributes = '&attributes=windspeed_100m&names=2014&utc=false&leap_day=false&interval=60&email=kengustafson@gmail.com'\n",
        "temp_attributes = '&attributes=temperature_100m&names=2014&utc=false&leap_day=false&interval=60&email=kengustafson@gmail.com'\n",
        "pressure_attributes = '&attributes=pressure_100m&names=2014&utc=false&leap_day=false&interval=60&email=kengustafson@gmail.com'\n",
        "all_attributes = '&attributes=windspeed_100m,temperature_100m,pressure_100m&names=2014&utc=false&leap_day=false&interval=60&email=kengustafson@gmail.com'\n",
        "\n",
        "point_res = requests.get(wind_url + params_point + all_attributes)\n",
        "\n",
        "content = {}\n",
        "if point_res.status_code == 200:\n",
        "    print(point_res.headers['content-type'])\n",
        "    content = point_res.content\n",
        "else:\n",
        "    print('ERROR')"
      ],
      "execution_count": null,
      "outputs": [
        {
          "output_type": "stream",
          "text": [
            "application/json; charset=utf-8\n"
          ],
          "name": "stdout"
        }
      ]
    },
    {
      "cell_type": "code",
      "metadata": {
        "id": "olD1jh9290sh",
        "colab": {
          "base_uri": "https://localhost:8080/",
          "height": 35
        },
        "outputId": "4f817f81-3060-49f1-b22c-ecc2218c12af"
      },
      "source": [
        "point_res.json()['outputs']['downloadUrl']"
      ],
      "execution_count": null,
      "outputs": [
        {
          "output_type": "execute_result",
          "data": {
            "application/vnd.google.colaboratory.intrinsic+json": {
              "type": "string"
            },
            "text/plain": [
              "'https://mapfiles.nrel.gov/data/wind/16e7e3956c89846f80343b8b16204208.zip'"
            ]
          },
          "metadata": {
            "tags": []
          },
          "execution_count": 7
        }
      ]
    },
    {
      "cell_type": "markdown",
      "metadata": {
        "id": "QRSVowZM9SlZ"
      },
      "source": [
        "## -Modify wind files; add lat/lng columns-"
      ]
    },
    {
      "cell_type": "code",
      "metadata": {
        "id": "mOZ9HOGvC5cu"
      },
      "source": [
        "files = os.listdir(path=directory + '17d32a62f10464f6ae3841d2026ec8cd/')\n",
        "\n",
        "for file in files:\n",
        "    id, lat, lng, year = file.split('_')\n",
        "    #lat = file[7:12]\n",
        "    #lng = file[13:20]\n",
        "    df = pd.read_csv(directory + '17d32a62f10464f6ae3841d2026ec8cd/' + file, header=1)\n",
        "    df['latitude'] = lat\n",
        "    df['longitude'] = lng\n",
        "\n",
        "    df['datetime'] = pd.to_datetime(\n",
        "        df['Year'].apply(str)+'-'+\n",
        "        df['Month'].apply(str)+'-'+\n",
        "        df['Day'].apply(str)+' '+\n",
        "        df['Hour'].apply(str)+':'+\n",
        "        df['Minute'].apply(str)+':00', infer_datetime_format=True)\n",
        "    \n",
        "    df.rename(columns={'wind speed at 100m (m/s)':'windspeed'}, inplace=True)\n",
        "    df.drop(labels=['Year', 'Month', 'Day', 'Hour', 'Minute'], axis=1, inplace=True)\n",
        "\n",
        "    df.to_csv('/content/sample_data/' + '17d32a62f10464f6ae3841d2026ec8cd/' + file, index=False)"
      ],
      "execution_count": null,
      "outputs": []
    },
    {
      "cell_type": "code",
      "metadata": {
        "id": "3ztUJwgdFme2"
      },
      "source": [
        "df = pd.read_csv('/content/sample_data/' + '17d32a62f10464f6ae3841d2026ec8cd/' + files[0])\n",
        "df"
      ],
      "execution_count": null,
      "outputs": []
    },
    {
      "cell_type": "code",
      "metadata": {
        "id": "vXVnXqhzh7i7"
      },
      "source": [
        "# Copy files to Google Cloud Storage, for subsequent import into BigQuery\n",
        "\n",
        "bucket = 'gs://numeric-melody-308801.appspot.com/'\n",
        "source = '/content/sample_data/17d32a62f10464f6ae3841d2026ec8cd/*' #/8234b812172692f28e758302e6c7b2b0/9*'\n",
        "!gsutil -m cp {source} {bucket}"
      ],
      "execution_count": null,
      "outputs": []
    },
    {
      "cell_type": "code",
      "metadata": {
        "id": "s5L9SDv7lwlB"
      },
      "source": [
        "#!gsutil ls gs://numeric-melody-308801.appspot.com\n",
        "#!gsutil -m rm gs://numeric-melody-308801.appspot.com/*"
      ],
      "execution_count": null,
      "outputs": []
    },
    {
      "cell_type": "code",
      "metadata": {
        "id": "uTkVZob5kuvc"
      },
      "source": [
        "\"\"\"\n",
        "for VARIABLE in $(gsutil ls)\n",
        "do\n",
        "  echo $(gsutil du $VARIABLE | grep -v /$ | wc -l) $VARIABLE\n",
        "done\n",
        "\"\"\""
      ],
      "execution_count": null,
      "outputs": []
    },
    {
      "cell_type": "markdown",
      "metadata": {
        "id": "-j4uihYg4mtE"
      },
      "source": [
        "## Site Count"
      ]
    },
    {
      "cell_type": "code",
      "metadata": {
        "id": "qzjLt0NR77CU"
      },
      "source": [
        "sites_url = 'https://developer.nrel.gov/api/nsrdb/v2/site-count.json?api_key=0WIF3emAV5iUrIyfYwk0Fcm5wUZGfwLVOlLD7Nc1'\n",
        "params = '&wkt=POLYGON((-103.072391+36.940417%2C-109.014299+36.966740%2C-109.011065+32.066178%2C-103.128003+32.061526%2C-103.072391+36.940417))'\n",
        "\n",
        "#sites_res = requests.get(sites_url + params)\n",
        "\n",
        "content = {}\n",
        "\n",
        "if sites_res.status_code == 200:\n",
        "    print(sites_res.headers['content-type'])\n",
        "\n",
        "    content = sites_res.content\n",
        "\n",
        "else:\n",
        "    print('ERROR')"
      ],
      "execution_count": null,
      "outputs": []
    },
    {
      "cell_type": "code",
      "metadata": {
        "id": "C-TintuRGyhp"
      },
      "source": [
        "sites_res.json()"
      ],
      "execution_count": null,
      "outputs": []
    },
    {
      "cell_type": "markdown",
      "metadata": {
        "id": "h3l3q817uxHj"
      },
      "source": [
        "## Wind Wind Plants"
      ]
    },
    {
      "cell_type": "code",
      "metadata": {
        "id": "s-z2zDwq3Ski"
      },
      "source": [
        "power_plants = pd.read_csv('/content/drive/MyDrive/Data Science Student Material/Capstone Project/Data/Power_Plants.csv')\n",
        "power_plants_nm = power_plants[power_plants['State']=='New Mexico'].copy()\n",
        "power_plants_nm.drop(labels=['X', 'Y', 'OBJECTID', 'Code', 'Sector_Name', 'State', 'Zip',\n",
        "       'Street_Address', 'PrimSource', 'Coal_MW',\n",
        "       'NG_MW', 'Crude_MW', 'Hydro_MW', 'HydroPS_MW', 'Nuclear_MW', 'Solar_MW',\n",
        "       'Data_Source', 'Geoth_MW', 'Battery_MW', 'Others_MW', 'Biomass_MW'], axis=1, inplace=True)\n",
        "power_plants_nm.reset_index(inplace=True, drop=True)\n",
        "power_curves = pd.read_csv('/content/drive/MyDrive/Data Science Student Material/Capstone Project/Data/wind_power_curves.csv')\n"
      ],
      "execution_count": null,
      "outputs": []
    },
    {
      "cell_type": "code",
      "metadata": {
        "id": "bCqMkwud4rCR"
      },
      "source": [
        "power_plants_nm"
      ],
      "execution_count": null,
      "outputs": []
    },
    {
      "cell_type": "code",
      "metadata": {
        "id": "yNReaDz_TlZ9",
        "colab": {
          "base_uri": "https://localhost:8080/",
          "height": 817
        },
        "outputId": "0abc2098-39c3-444c-ca0d-879571edcf60"
      },
      "source": [
        "power_curves"
      ],
      "execution_count": null,
      "outputs": [
        {
          "output_type": "execute_result",
          "data": {
            "text/html": [
              "<div>\n",
              "<style scoped>\n",
              "    .dataframe tbody tr th:only-of-type {\n",
              "        vertical-align: middle;\n",
              "    }\n",
              "\n",
              "    .dataframe tbody tr th {\n",
              "        vertical-align: top;\n",
              "    }\n",
              "\n",
              "    .dataframe thead th {\n",
              "        text-align: right;\n",
              "    }\n",
              "</style>\n",
              "<table border=\"1\" class=\"dataframe\">\n",
              "  <thead>\n",
              "    <tr style=\"text-align: right;\">\n",
              "      <th></th>\n",
              "      <th>Speed m/s</th>\n",
              "      <th>Class_1</th>\n",
              "      <th>Class_2</th>\n",
              "      <th>Class_3</th>\n",
              "      <th>Class_S97</th>\n",
              "      <th>MWT-1000-61</th>\n",
              "    </tr>\n",
              "  </thead>\n",
              "  <tbody>\n",
              "    <tr>\n",
              "      <th>0</th>\n",
              "      <td>0</td>\n",
              "      <td>0.0</td>\n",
              "      <td>0.0</td>\n",
              "      <td>0.0</td>\n",
              "      <td>0</td>\n",
              "      <td>0</td>\n",
              "    </tr>\n",
              "    <tr>\n",
              "      <th>1</th>\n",
              "      <td>1</td>\n",
              "      <td>0.0</td>\n",
              "      <td>0.0</td>\n",
              "      <td>0.0</td>\n",
              "      <td>0</td>\n",
              "      <td>0</td>\n",
              "    </tr>\n",
              "    <tr>\n",
              "      <th>2</th>\n",
              "      <td>2</td>\n",
              "      <td>0.0</td>\n",
              "      <td>0.0</td>\n",
              "      <td>0.0</td>\n",
              "      <td>0</td>\n",
              "      <td>0</td>\n",
              "    </tr>\n",
              "    <tr>\n",
              "      <th>3</th>\n",
              "      <td>3</td>\n",
              "      <td>0.0</td>\n",
              "      <td>0.0</td>\n",
              "      <td>12.6</td>\n",
              "      <td>0</td>\n",
              "      <td>0</td>\n",
              "    </tr>\n",
              "    <tr>\n",
              "      <th>4</th>\n",
              "      <td>4</td>\n",
              "      <td>39.0</td>\n",
              "      <td>56.6</td>\n",
              "      <td>82.4</td>\n",
              "      <td>202</td>\n",
              "      <td>0</td>\n",
              "    </tr>\n",
              "    <tr>\n",
              "      <th>5</th>\n",
              "      <td>5</td>\n",
              "      <td>136.2</td>\n",
              "      <td>176.8</td>\n",
              "      <td>204.0</td>\n",
              "      <td>339</td>\n",
              "      <td>44</td>\n",
              "    </tr>\n",
              "    <tr>\n",
              "      <th>6</th>\n",
              "      <td>6</td>\n",
              "      <td>280.2</td>\n",
              "      <td>347.8</td>\n",
              "      <td>378.0</td>\n",
              "      <td>559</td>\n",
              "      <td>210</td>\n",
              "    </tr>\n",
              "    <tr>\n",
              "      <th>7</th>\n",
              "      <td>7</td>\n",
              "      <td>474.2</td>\n",
              "      <td>574.6</td>\n",
              "      <td>621.4</td>\n",
              "      <td>885</td>\n",
              "      <td>330</td>\n",
              "    </tr>\n",
              "    <tr>\n",
              "      <th>8</th>\n",
              "      <td>8</td>\n",
              "      <td>732.6</td>\n",
              "      <td>867.8</td>\n",
              "      <td>943.0</td>\n",
              "      <td>1345</td>\n",
              "      <td>485</td>\n",
              "    </tr>\n",
              "    <tr>\n",
              "      <th>9</th>\n",
              "      <td>9</td>\n",
              "      <td>1046.6</td>\n",
              "      <td>1213.2</td>\n",
              "      <td>1325.8</td>\n",
              "      <td>1880</td>\n",
              "      <td>670</td>\n",
              "    </tr>\n",
              "    <tr>\n",
              "      <th>10</th>\n",
              "      <td>10</td>\n",
              "      <td>1404.2</td>\n",
              "      <td>1553.6</td>\n",
              "      <td>1676.6</td>\n",
              "      <td>2074</td>\n",
              "      <td>880</td>\n",
              "    </tr>\n",
              "    <tr>\n",
              "      <th>11</th>\n",
              "      <td>11</td>\n",
              "      <td>1712.8</td>\n",
              "      <td>1810.0</td>\n",
              "      <td>1892.8</td>\n",
              "      <td>2100</td>\n",
              "      <td>996</td>\n",
              "    </tr>\n",
              "    <tr>\n",
              "      <th>12</th>\n",
              "      <td>12</td>\n",
              "      <td>1911.2</td>\n",
              "      <td>1943.4</td>\n",
              "      <td>1974.2</td>\n",
              "      <td>2100</td>\n",
              "      <td>1000</td>\n",
              "    </tr>\n",
              "    <tr>\n",
              "      <th>13</th>\n",
              "      <td>13</td>\n",
              "      <td>1974.8</td>\n",
              "      <td>1985.2</td>\n",
              "      <td>1995.2</td>\n",
              "      <td>2100</td>\n",
              "      <td>1000</td>\n",
              "    </tr>\n",
              "    <tr>\n",
              "      <th>14</th>\n",
              "      <td>14</td>\n",
              "      <td>1989.0</td>\n",
              "      <td>1995.8</td>\n",
              "      <td>1999.0</td>\n",
              "      <td>2100</td>\n",
              "      <td>1000</td>\n",
              "    </tr>\n",
              "    <tr>\n",
              "      <th>15</th>\n",
              "      <td>15</td>\n",
              "      <td>1996.4</td>\n",
              "      <td>1999.6</td>\n",
              "      <td>1999.8</td>\n",
              "      <td>2100</td>\n",
              "      <td>1000</td>\n",
              "    </tr>\n",
              "    <tr>\n",
              "      <th>16</th>\n",
              "      <td>16</td>\n",
              "      <td>1998.0</td>\n",
              "      <td>2000.0</td>\n",
              "      <td>2000.0</td>\n",
              "      <td>2100</td>\n",
              "      <td>1000</td>\n",
              "    </tr>\n",
              "    <tr>\n",
              "      <th>17</th>\n",
              "      <td>17</td>\n",
              "      <td>2000.0</td>\n",
              "      <td>2000.0</td>\n",
              "      <td>2000.0</td>\n",
              "      <td>2100</td>\n",
              "      <td>1000</td>\n",
              "    </tr>\n",
              "    <tr>\n",
              "      <th>18</th>\n",
              "      <td>18</td>\n",
              "      <td>2000.0</td>\n",
              "      <td>2000.0</td>\n",
              "      <td>2000.0</td>\n",
              "      <td>2100</td>\n",
              "      <td>1000</td>\n",
              "    </tr>\n",
              "    <tr>\n",
              "      <th>19</th>\n",
              "      <td>19</td>\n",
              "      <td>2000.0</td>\n",
              "      <td>2000.0</td>\n",
              "      <td>2000.0</td>\n",
              "      <td>2100</td>\n",
              "      <td>1000</td>\n",
              "    </tr>\n",
              "    <tr>\n",
              "      <th>20</th>\n",
              "      <td>20</td>\n",
              "      <td>2000.0</td>\n",
              "      <td>2000.0</td>\n",
              "      <td>2000.0</td>\n",
              "      <td>2100</td>\n",
              "      <td>1000</td>\n",
              "    </tr>\n",
              "    <tr>\n",
              "      <th>21</th>\n",
              "      <td>21</td>\n",
              "      <td>2000.0</td>\n",
              "      <td>2000.0</td>\n",
              "      <td>2000.0</td>\n",
              "      <td>0</td>\n",
              "      <td>1000</td>\n",
              "    </tr>\n",
              "    <tr>\n",
              "      <th>22</th>\n",
              "      <td>22</td>\n",
              "      <td>2000.0</td>\n",
              "      <td>2000.0</td>\n",
              "      <td>0.0</td>\n",
              "      <td>0</td>\n",
              "      <td>1000</td>\n",
              "    </tr>\n",
              "    <tr>\n",
              "      <th>23</th>\n",
              "      <td>23</td>\n",
              "      <td>2000.0</td>\n",
              "      <td>2000.0</td>\n",
              "      <td>0.0</td>\n",
              "      <td>0</td>\n",
              "      <td>1000</td>\n",
              "    </tr>\n",
              "    <tr>\n",
              "      <th>24</th>\n",
              "      <td>24</td>\n",
              "      <td>2000.0</td>\n",
              "      <td>2000.0</td>\n",
              "      <td>0.0</td>\n",
              "      <td>0</td>\n",
              "      <td>1000</td>\n",
              "    </tr>\n",
              "    <tr>\n",
              "      <th>25</th>\n",
              "      <td>25</td>\n",
              "      <td>2000.0</td>\n",
              "      <td>2000.0</td>\n",
              "      <td>0.0</td>\n",
              "      <td>0</td>\n",
              "      <td>1000</td>\n",
              "    </tr>\n",
              "  </tbody>\n",
              "</table>\n",
              "</div>"
            ],
            "text/plain": [
              "    Speed m/s  Class_1  Class_2  Class_3  Class_S97  MWT-1000-61\n",
              "0           0      0.0      0.0      0.0          0            0\n",
              "1           1      0.0      0.0      0.0          0            0\n",
              "2           2      0.0      0.0      0.0          0            0\n",
              "3           3      0.0      0.0     12.6          0            0\n",
              "4           4     39.0     56.6     82.4        202            0\n",
              "5           5    136.2    176.8    204.0        339           44\n",
              "6           6    280.2    347.8    378.0        559          210\n",
              "7           7    474.2    574.6    621.4        885          330\n",
              "8           8    732.6    867.8    943.0       1345          485\n",
              "9           9   1046.6   1213.2   1325.8       1880          670\n",
              "10         10   1404.2   1553.6   1676.6       2074          880\n",
              "11         11   1712.8   1810.0   1892.8       2100          996\n",
              "12         12   1911.2   1943.4   1974.2       2100         1000\n",
              "13         13   1974.8   1985.2   1995.2       2100         1000\n",
              "14         14   1989.0   1995.8   1999.0       2100         1000\n",
              "15         15   1996.4   1999.6   1999.8       2100         1000\n",
              "16         16   1998.0   2000.0   2000.0       2100         1000\n",
              "17         17   2000.0   2000.0   2000.0       2100         1000\n",
              "18         18   2000.0   2000.0   2000.0       2100         1000\n",
              "19         19   2000.0   2000.0   2000.0       2100         1000\n",
              "20         20   2000.0   2000.0   2000.0       2100         1000\n",
              "21         21   2000.0   2000.0   2000.0          0         1000\n",
              "22         22   2000.0   2000.0      0.0          0         1000\n",
              "23         23   2000.0   2000.0      0.0          0         1000\n",
              "24         24   2000.0   2000.0      0.0          0         1000\n",
              "25         25   2000.0   2000.0      0.0          0         1000"
            ]
          },
          "metadata": {
            "tags": []
          },
          "execution_count": 33
        }
      ]
    },
    {
      "cell_type": "markdown",
      "metadata": {
        "id": "au3jIm2l_vo3"
      },
      "source": [
        "## Estimate Wind Plant Outputs"
      ]
    },
    {
      "cell_type": "code",
      "metadata": {
        "id": "9D6pa8TrTmuY"
      },
      "source": [
        "#'C1 > 8.5; 7.5 < C2 < 8.5; C3 < 7.5'"
      ],
      "execution_count": null,
      "outputs": []
    },
    {
      "cell_type": "code",
      "metadata": {
        "id": "2vIncLacG7YH"
      },
      "source": [
        "pickle_data = pickle.load(open('/content/drive/MyDrive/Data Science Student Material/Capstone Project/Data Sets/dict_wind_data_m.p','rb'))\n",
        "\n",
        "monthly_wind_actual = pd.DataFrame.from_dict(pickle_data)"
      ],
      "execution_count": null,
      "outputs": []
    },
    {
      "cell_type": "code",
      "metadata": {
        "id": "Zwhsv_nVMHCr",
        "colab": {
          "base_uri": "https://localhost:8080/"
        },
        "outputId": "ea02b390-b268-4261-c17e-4bdbf25a2978"
      },
      "source": [
        "monthly_wind_actual[monthly_wind_actual['Year']=='2014']['Aragonne MWH'].sum()"
      ],
      "execution_count": null,
      "outputs": [
        {
          "output_type": "execute_result",
          "data": {
            "text/plain": [
              "263987.0"
            ]
          },
          "metadata": {
            "tags": []
          },
          "execution_count": 29
        }
      ]
    },
    {
      "cell_type": "markdown",
      "metadata": {
        "id": "aqQyPos281Cj"
      },
      "source": [
        "####**NM Wind Energy Center**"
      ]
    },
    {
      "cell_type": "code",
      "metadata": {
        "id": "Xexr1NmF_1EJ",
        "colab": {
          "base_uri": "https://localhost:8080/"
        },
        "outputId": "b87b6768-2160-441d-946f-70690acd4014"
      },
      "source": [
        "nm_wec_all = pd.read_csv('/content/drive/MyDrive/Data Science Student Material/Capstone Project/Data/nm-wec-all.csv', header=1)\n",
        "nm_wec_all['wind speed at 100m (m/s)'].mean()   # Indicates Class_2 turbines"
      ],
      "execution_count": null,
      "outputs": [
        {
          "output_type": "execute_result",
          "data": {
            "text/plain": [
              "7.9022168949771805"
            ]
          },
          "metadata": {
            "tags": []
          },
          "execution_count": 6
        }
      ]
    },
    {
      "cell_type": "code",
      "metadata": {
        "colab": {
          "base_uri": "https://localhost:8080/",
          "height": 282
        },
        "id": "AHjTl46MHBgr",
        "outputId": "7e19c3a6-17ab-4a7d-eb4d-792b53f00731"
      },
      "source": [
        "pred_wind_nm_wec = pred_wind_power2(nm_wec_all, power_curves['Class_2'], nm_wec_all, nm_wec_all).groupby('Month').sum().reset_index(drop=True)['kW'] * 102/1000\n",
        "act_wind_nm_wec = monthly_wind_actual[monthly_wind_actual['Year']=='2014']['NM Wind MWH'].sort_index(ascending=False).reset_index(drop=True)\n",
        "\n",
        "plt.scatter(act_wind_nm_wec, pred_wind_nm_wec)\n",
        "plt.plot([min(pred_wind_nm_wec), max(pred_wind_nm_wec)], [min(pred_wind_nm_wec), max(pred_wind_nm_wec)], c='red')"
      ],
      "execution_count": null,
      "outputs": [
        {
          "output_type": "execute_result",
          "data": {
            "text/plain": [
              "[<matplotlib.lines.Line2D at 0x7f5400c89c90>]"
            ]
          },
          "metadata": {
            "tags": []
          },
          "execution_count": 24
        },
        {
          "output_type": "display_data",
          "data": {
            "image/png": "[encoded data removed]",
            "text/plain": [
              "<Figure size 432x288 with 1 Axes>"
            ]
          },
          "metadata": {
            "tags": [],
            "needs_background": "light"
          }
        }
      ]
    },
    {
      "cell_type": "markdown",
      "metadata": {
        "id": "AcPRnh3Z85iR"
      },
      "source": [
        "####**Caprock**"
      ]
    },
    {
      "cell_type": "code",
      "metadata": {
        "id": "ANzknzx3oDiW",
        "colab": {
          "base_uri": "https://localhost:8080/"
        },
        "outputId": "0b3cbeee-0795-4640-ba31-e8719ca6e45e"
      },
      "source": [
        "caprock_all = pd.read_csv('/content/drive/MyDrive/Data Science Student Material/Capstone Project/Data/caprock-all.csv', header=1)\n",
        "caprock_all['wind speed at 100m (m/s)'].mean()   # Indicates Class_1 turbines - Really Class_2 hardware"
      ],
      "execution_count": null,
      "outputs": [
        {
          "output_type": "execute_result",
          "data": {
            "text/plain": [
              "9.340486301369893"
            ]
          },
          "metadata": {
            "tags": []
          },
          "execution_count": 86
        }
      ]
    },
    {
      "cell_type": "code",
      "metadata": {
        "colab": {
          "base_uri": "https://localhost:8080/"
        },
        "id": "N-BPYkeGL5Gj",
        "outputId": "730d4e9d-1eb1-44e3-8b0a-d6714227a1f1"
      },
      "source": [
        "pred_wind_caprock = pred_wind_power2(caprock_all, power_curves['MWT-1000-61'], caprock_all, caprock_all).groupby('Month').sum().reset_index(drop=True)['kW'] * 80/1000\n",
        "\n",
        "act_wind_caprock = monthly_wind_actual[monthly_wind_actual['Year']=='2014']['Caprock MWH'].sort_index(ascending=False).reset_index(drop=True)\n",
        "\n",
        "act_wind_caprock / pred_wind_caprock"
      ],
      "execution_count": null,
      "outputs": [
        {
          "output_type": "execute_result",
          "data": {
            "text/plain": [
              "0     0.909770\n",
              "1     0.712252\n",
              "2     0.972404\n",
              "3     0.958575\n",
              "4     0.984522\n",
              "5     1.038930\n",
              "6     0.763226\n",
              "7     0.948749\n",
              "8     0.955786\n",
              "9     0.927828\n",
              "10    0.938860\n",
              "11    0.823735\n",
              "dtype: float64"
            ]
          },
          "metadata": {
            "tags": []
          },
          "execution_count": 87
        }
      ]
    },
    {
      "cell_type": "code",
      "metadata": {
        "colab": {
          "base_uri": "https://localhost:8080/",
          "height": 282
        },
        "id": "YwuBl58KvFdy",
        "outputId": "3ecf9b89-4f3c-4466-abfb-725d5f1263fb"
      },
      "source": [
        "plt.scatter(act_wind_caprock, pred_wind_caprock)\n",
        "plt.plot([min(pred_wind_caprock), max(pred_wind_caprock)], [min(pred_wind_caprock), max(pred_wind_caprock)], c='red')"
      ],
      "execution_count": null,
      "outputs": [
        {
          "output_type": "execute_result",
          "data": {
            "text/plain": [
              "[<matplotlib.lines.Line2D at 0x7f53fba6ce10>]"
            ]
          },
          "metadata": {
            "tags": []
          },
          "execution_count": 88
        },
        {
          "output_type": "display_data",
          "data": {
            "image/png": "[encoded data removed]",
            "text/plain": [
              "<Figure size 432x288 with 1 Axes>"
            ]
          },
          "metadata": {
            "tags": [],
            "needs_background": "light"
          }
        }
      ]
    },
    {
      "cell_type": "markdown",
      "metadata": {
        "id": "kXl4nBbq9Bip"
      },
      "source": [
        "####**San Juan**"
      ]
    },
    {
      "cell_type": "code",
      "metadata": {
        "id": "LWoTwk4aMnjZ",
        "colab": {
          "base_uri": "https://localhost:8080/"
        },
        "outputId": "d4738dda-6432-4ad5-ee8b-289301181d18"
      },
      "source": [
        "san_juan_all = pd.read_csv('/content/drive/MyDrive/Data Science Student Material/Capstone Project/Data/san-juan-all.csv', header=1)\n",
        "san_juan_all['wind speed at 100m (m/s)'].mean()   # Indicates Class_2 turbines"
      ],
      "execution_count": null,
      "outputs": [
        {
          "output_type": "execute_result",
          "data": {
            "text/plain": [
              "8.169867579908722"
            ]
          },
          "metadata": {
            "tags": []
          },
          "execution_count": 89
        }
      ]
    },
    {
      "cell_type": "code",
      "metadata": {
        "id": "5SUx55wbe2b2"
      },
      "source": [
        "pred_wind_san_juan = pred_wind_power2(san_juan_all, power_curves['MWT-1000-61'], san_juan_all, san_juan_all).groupby('Month').sum().reset_index(drop=True)['kW'] * 120/1000\n",
        "act_wind_san_juan = monthly_wind_actual[monthly_wind_actual['Year']=='2014']['San Juan Mesa MWH'].sort_index(ascending=False).reset_index(drop=True)\n"
      ],
      "execution_count": null,
      "outputs": []
    },
    {
      "cell_type": "code",
      "metadata": {
        "id": "z0EXdVnifg79",
        "colab": {
          "base_uri": "https://localhost:8080/",
          "height": 282
        },
        "outputId": "a0d8c285-710e-4f0d-f1e4-cf81d3e8fa98"
      },
      "source": [
        "plt.scatter(act_wind_san_juan, pred_wind_san_juan)\n",
        "plt.plot([min(pred_wind_san_juan), max(pred_wind_san_juan)], [min(pred_wind_san_juan), max(pred_wind_san_juan)], color='red')"
      ],
      "execution_count": null,
      "outputs": [
        {
          "output_type": "execute_result",
          "data": {
            "text/plain": [
              "[<matplotlib.lines.Line2D at 0x7f53fb8df850>]"
            ]
          },
          "metadata": {
            "tags": []
          },
          "execution_count": 95
        },
        {
          "output_type": "display_data",
          "data": {
            "image/png": "[encoded data removed]",
            "text/plain": [
              "<Figure size 432x288 with 1 Axes>"
            ]
          },
          "metadata": {
            "tags": [],
            "needs_background": "light"
          }
        }
      ]
    },
    {
      "cell_type": "markdown",
      "metadata": {
        "id": "4dIypro9BljM"
      },
      "source": [
        "####**Red Mesa**"
      ]
    },
    {
      "cell_type": "code",
      "metadata": {
        "id": "wpIWrLjXBy7n",
        "colab": {
          "base_uri": "https://localhost:8080/"
        },
        "outputId": "2176f996-f41a-4eb6-b32e-80e96c20a975"
      },
      "source": [
        "red_mesa_all = pd.read_csv('/content/drive/MyDrive/Data Science Student Material/Capstone Project/Data/red-mesa-all.csv', header=1)\n",
        "red_mesa_all['wind speed at 100m (m/s)'].mean()   # Indicates Class_2 turbines"
      ],
      "execution_count": null,
      "outputs": [
        {
          "output_type": "execute_result",
          "data": {
            "text/plain": [
              "8.028538812785353"
            ]
          },
          "metadata": {
            "tags": []
          },
          "execution_count": 33
        }
      ]
    },
    {
      "cell_type": "code",
      "metadata": {
        "id": "zOEdyj30B36G"
      },
      "source": [
        "pred_wind_red_mesa = pred_wind_power2(red_mesa_all, power_curves['Class_2'], red_mesa_all, red_mesa_all).groupby('Month').sum()['kW'].reset_index(drop=True) * 51.2/1000\n",
        "act_wind_red_mesa = monthly_wind_actual[monthly_wind_actual['Year']=='2014']['Red Mesa MWH'].sort_index(ascending=False).reset_index(drop=True)"
      ],
      "execution_count": null,
      "outputs": []
    },
    {
      "cell_type": "code",
      "metadata": {
        "colab": {
          "base_uri": "https://localhost:8080/",
          "height": 282
        },
        "id": "5Ltyw5ZG6SLU",
        "outputId": "0e166ea9-c959-43c9-d7f7-76f33610c6b0"
      },
      "source": [
        "plt.scatter(act_wind_red_mesa, pred_wind_red_mesa)\n",
        "plt.plot([min(pred_wind_red_mesa), max(pred_wind_red_mesa)], [min(pred_wind_red_mesa), max(pred_wind_red_mesa)], color='red')"
      ],
      "execution_count": null,
      "outputs": [
        {
          "output_type": "execute_result",
          "data": {
            "text/plain": [
              "[<matplotlib.lines.Line2D at 0x7f53fbd6a2d0>]"
            ]
          },
          "metadata": {
            "tags": []
          },
          "execution_count": 51
        },
        {
          "output_type": "display_data",
          "data": {
            "image/png": "[encoded data removed]",
            "text/plain": [
              "<Figure size 432x288 with 1 Axes>"
            ]
          },
          "metadata": {
            "tags": [],
            "needs_background": "light"
          }
        }
      ]
    },
    {
      "cell_type": "markdown",
      "metadata": {
        "id": "oHsEQyFhE5nF"
      },
      "source": [
        "####**High Lonesome**"
      ]
    },
    {
      "cell_type": "code",
      "metadata": {
        "id": "NrkCHwtOE7HP",
        "colab": {
          "base_uri": "https://localhost:8080/"
        },
        "outputId": "0b2a588d-8e21-4126-c726-b12a05c9fa24"
      },
      "source": [
        "high_lonesome_all = pd.read_csv('/content/drive/MyDrive/Data Science Student Material/Capstone Project/Data/high-lonesome-all.csv', header=1)\n",
        "high_lonesome_all['wind speed at 100m (m/s)'].mean()   # Indicates Class_2 turbines"
      ],
      "execution_count": null,
      "outputs": [
        {
          "output_type": "execute_result",
          "data": {
            "text/plain": [
              "8.03893949771691"
            ]
          },
          "metadata": {
            "tags": []
          },
          "execution_count": 42
        }
      ]
    },
    {
      "cell_type": "code",
      "metadata": {
        "id": "5-atxnDaE-3r"
      },
      "source": [
        "pred_wind_high_lonesome = pred_wind_power2(high_lonesome_all, power_curves['Class_2'], high_lonesome_all, high_lonesome_all).groupby('Month').sum()['kW'].reset_index(drop=True) * 50/1000\n",
        "act_wind_high_lonesome = monthly_wind_actual[monthly_wind_actual['Year']=='2014']['High Lonesome MWH'].sort_index(ascending=False).reset_index(drop=True)"
      ],
      "execution_count": null,
      "outputs": []
    },
    {
      "cell_type": "code",
      "metadata": {
        "colab": {
          "base_uri": "https://localhost:8080/",
          "height": 282
        },
        "id": "NsTqpNU59ZwN",
        "outputId": "2f26144c-67ee-4ab8-c667-3a6d3aca9a0f"
      },
      "source": [
        "plt.scatter(act_wind_high_lonesome, pred_wind_high_lonesome)\n",
        "plt.plot([min(pred_wind_high_lonesome), max(pred_wind_high_lonesome)], [min(pred_wind_high_lonesome), max(pred_wind_high_lonesome)], color='red')"
      ],
      "execution_count": null,
      "outputs": [
        {
          "output_type": "execute_result",
          "data": {
            "text/plain": [
              "[<matplotlib.lines.Line2D at 0x7f53fbcd88d0>]"
            ]
          },
          "metadata": {
            "tags": []
          },
          "execution_count": 53
        },
        {
          "output_type": "display_data",
          "data": {
            "image/png": "[encoded data removed]",
            "text/plain": [
              "<Figure size 432x288 with 1 Axes>"
            ]
          },
          "metadata": {
            "tags": [],
            "needs_background": "light"
          }
        }
      ]
    },
    {
      "cell_type": "markdown",
      "metadata": {
        "id": "gjktKzH9GdIK"
      },
      "source": [
        "####**Aragonne**"
      ]
    },
    {
      "cell_type": "code",
      "metadata": {
        "id": "CW0Ml3rgGelh",
        "colab": {
          "base_uri": "https://localhost:8080/"
        },
        "outputId": "913df4bd-48a1-4ad0-8d3e-1fef7e72b497"
      },
      "source": [
        "aragonne_all = pd.read_csv('/content/drive/MyDrive/Data Science Student Material/Capstone Project/Data/aragonne-all.csv', header=1)\n",
        "aragonne_all['wind speed at 100m (m/s)'].mean()   # Indicates Class_1 turbines"
      ],
      "execution_count": null,
      "outputs": [
        {
          "output_type": "execute_result",
          "data": {
            "text/plain": [
              "8.660922374429187"
            ]
          },
          "metadata": {
            "tags": []
          },
          "execution_count": 32
        }
      ]
    },
    {
      "cell_type": "code",
      "metadata": {
        "id": "Ak4b_MZvGexd"
      },
      "source": [
        "pred_wind_aragonne = pred_wind_power2(aragonne_all, power_curves['Class_1'], aragonne_all, aragonne_all).groupby('Month').sum()['kW'].reset_index(drop=True) * 45/1000\n",
        "act_wind_aragonne = monthly_wind_actual[monthly_wind_actual['Year']=='2014']['Aragonne MWH'].sort_index(ascending=False).reset_index(drop=True)"
      ],
      "execution_count": null,
      "outputs": []
    },
    {
      "cell_type": "code",
      "metadata": {
        "id": "oUJ5lDOee5vh",
        "colab": {
          "base_uri": "https://localhost:8080/",
          "height": 229
        },
        "outputId": "d403f94c-e0ac-4946-c274-b450c2fb57ad"
      },
      "source": [
        "plt.scatter(act_wind_aragonne, pred_wind_aragonne)\n",
        "\n",
        "plt.title(label='2014 Actual vs. Predicted Generation, Aragonne NM', pad=30)\n",
        "plt.xlabel('Actual Output (MWh) by Month', labelpad=20)\n",
        "plt.ylabel('Predicted Output (MWh) by Month', labelpad=20)\n",
        "\n",
        "plt.plot([min(pred_wind_aragonne), max(pred_wind_aragonne)], [min(pred_wind_aragonne), max(pred_wind_aragonne)], color='red');"
      ],
      "execution_count": null,
      "outputs": [
        {
          "output_type": "error",
          "ename": "NameError",
          "evalue": "ignored",
          "traceback": [
            "\u001b[0;31m---------------------------------------------------------------------------\u001b[0m",
            "\u001b[0;31mNameError\u001b[0m                                 Traceback (most recent call last)",
            "\u001b[0;32m<ipython-input-8-b6540188f0dc>\u001b[0m in \u001b[0;36m<module>\u001b[0;34m()\u001b[0m\n\u001b[0;32m----> 1\u001b[0;31m \u001b[0mplt\u001b[0m\u001b[0;34m.\u001b[0m\u001b[0mscatter\u001b[0m\u001b[0;34m(\u001b[0m\u001b[0mact_wind_aragonne\u001b[0m\u001b[0;34m,\u001b[0m \u001b[0mpred_wind_aragonne\u001b[0m\u001b[0;34m)\u001b[0m\u001b[0;34m\u001b[0m\u001b[0;34m\u001b[0m\u001b[0m\n\u001b[0m\u001b[1;32m      2\u001b[0m \u001b[0;34m\u001b[0m\u001b[0m\n\u001b[1;32m      3\u001b[0m \u001b[0mplt\u001b[0m\u001b[0;34m.\u001b[0m\u001b[0mtitle\u001b[0m\u001b[0;34m(\u001b[0m\u001b[0mlabel\u001b[0m\u001b[0;34m=\u001b[0m\u001b[0;34m'2014 Actual vs. Predicted Generation, Aragonne NM'\u001b[0m\u001b[0;34m,\u001b[0m \u001b[0mpad\u001b[0m\u001b[0;34m=\u001b[0m\u001b[0;36m30\u001b[0m\u001b[0;34m)\u001b[0m\u001b[0;34m\u001b[0m\u001b[0;34m\u001b[0m\u001b[0m\n\u001b[1;32m      4\u001b[0m \u001b[0mplt\u001b[0m\u001b[0;34m.\u001b[0m\u001b[0mxlabel\u001b[0m\u001b[0;34m(\u001b[0m\u001b[0;34m'Actual Output (MWh) by Month'\u001b[0m\u001b[0;34m,\u001b[0m \u001b[0mlabelpad\u001b[0m\u001b[0;34m=\u001b[0m\u001b[0;36m20\u001b[0m\u001b[0;34m)\u001b[0m\u001b[0;34m\u001b[0m\u001b[0;34m\u001b[0m\u001b[0m\n\u001b[1;32m      5\u001b[0m \u001b[0mplt\u001b[0m\u001b[0;34m.\u001b[0m\u001b[0mylabel\u001b[0m\u001b[0;34m(\u001b[0m\u001b[0;34m'Predicted Output (MWh) by Month'\u001b[0m\u001b[0;34m,\u001b[0m \u001b[0mlabelpad\u001b[0m\u001b[0;34m=\u001b[0m\u001b[0;36m20\u001b[0m\u001b[0;34m)\u001b[0m\u001b[0;34m\u001b[0m\u001b[0;34m\u001b[0m\u001b[0m\n",
            "\u001b[0;31mNameError\u001b[0m: name 'act_wind_aragonne' is not defined"
          ]
        }
      ]
    },
    {
      "cell_type": "code",
      "metadata": {
        "id": "ZB7CPsbnz3i1"
      },
      "source": [
        "pred_wind_aragonne = pred_wind_power(aragonne_all, power_curves['Class_1'], aragonne_all, aragonne_all).groupby('Month').sum()['kW'].reset_index(drop=True) * 45/1000\n",
        "act_wind_aragonne = monthly_wind_actual[monthly_wind_actual['Year']=='2014']['Aragonne MWH'].sort_index(ascending=False).reset_index(drop=True)"
      ],
      "execution_count": null,
      "outputs": []
    },
    {
      "cell_type": "code",
      "metadata": {
        "colab": {
          "base_uri": "https://localhost:8080/",
          "height": 335
        },
        "id": "8BU_xlV1z7Jt",
        "outputId": "e60576e2-1b42-4bdc-ae2d-52a31ff26daf"
      },
      "source": [
        "plt.scatter(act_wind_aragonne, pred_wind_aragonne*0.82)\n",
        "\n",
        "plt.title(label='2014 Actual vs. Predicted Generation, Aragonne NM', pad=30)\n",
        "plt.xlabel('Actual Output (MWh) by Month', labelpad=20)\n",
        "plt.ylabel('Predicted Output (MWh) by Month', labelpad=20)\n",
        "\n",
        "plt.plot([min(pred_wind_aragonne), max(pred_wind_aragonne)], [min(pred_wind_aragonne), max(pred_wind_aragonne)], color='red');"
      ],
      "execution_count": null,
      "outputs": [
        {
          "output_type": "display_data",
          "data": {
            "image/png": "[encoded data removed]",
            "text/plain": [
              "<Figure size 432x288 with 1 Axes>"
            ]
          },
          "metadata": {
            "tags": [],
            "needs_background": "light"
          }
        }
      ]
    },
    {
      "cell_type": "markdown",
      "metadata": {
        "id": "Ch_naOg5SWx6"
      },
      "source": [
        "####**Macho Springs**"
      ]
    },
    {
      "cell_type": "code",
      "metadata": {
        "id": "2kiX2GEGSYzi",
        "colab": {
          "base_uri": "https://localhost:8080/"
        },
        "outputId": "198201f6-f046-424c-c015-41c51d5cad62"
      },
      "source": [
        "macho_springs_all = pd.read_csv('/content/drive/MyDrive/Data Science Student Material/Capstone Project/Data/macho-springs-all.csv', header=1)\n",
        "macho_springs_all['wind speed at 100m (m/s)'].mean()   # Indicates Class_3 turbines"
      ],
      "execution_count": null,
      "outputs": [
        {
          "output_type": "execute_result",
          "data": {
            "text/plain": [
              "6.411804794520562"
            ]
          },
          "metadata": {
            "tags": []
          },
          "execution_count": 60
        }
      ]
    },
    {
      "cell_type": "code",
      "metadata": {
        "id": "YFszXXMRSZA_"
      },
      "source": [
        "pred_wind_macho_springs = pred_wind_power2(macho_springs_all, power_curves['Class_3'], macho_springs_all, macho_springs_all).groupby('Month').sum()['kW'].reset_index(drop=True) * 25.2/1000\n",
        "act_wind_macho_springs = monthly_wind_actual[monthly_wind_actual['Year']=='2014']['Macho Springs MWH'].sort_index(ascending=False).reset_index(drop=True)"
      ],
      "execution_count": null,
      "outputs": []
    },
    {
      "cell_type": "code",
      "metadata": {
        "colab": {
          "base_uri": "https://localhost:8080/",
          "height": 282
        },
        "id": "WlPGLIuhps26",
        "outputId": "d02f06a7-9560-4293-b5fa-8d86deb7c5b1"
      },
      "source": [
        "plt.scatter(act_wind_macho_springs, pred_wind_macho_springs)\n",
        "plt.plot([min(pred_wind_macho_springs), max(pred_wind_macho_springs)], [min(pred_wind_macho_springs), max(pred_wind_macho_springs)], c='red')"
      ],
      "execution_count": null,
      "outputs": [
        {
          "output_type": "execute_result",
          "data": {
            "text/plain": [
              "[<matplotlib.lines.Line2D at 0x7f53fbfa60d0>]"
            ]
          },
          "metadata": {
            "tags": []
          },
          "execution_count": 62
        },
        {
          "output_type": "display_data",
          "data": {
            "image/png": "[encoded data removed]",
            "text/plain": [
              "<Figure size 432x288 with 1 Axes>"
            ]
          },
          "metadata": {
            "tags": [],
            "needs_background": "light"
          }
        }
      ]
    },
    {
      "cell_type": "markdown",
      "metadata": {
        "id": "tDSQfeT5ZBhS"
      },
      "source": [
        "####**Wildcat**"
      ]
    },
    {
      "cell_type": "code",
      "metadata": {
        "id": "Zgbt79JFabLi",
        "colab": {
          "base_uri": "https://localhost:8080/"
        },
        "outputId": "bc79077f-badc-4d4f-a6be-1910c9d872c7"
      },
      "source": [
        "wildcat_all = pd.read_csv('/content/drive/MyDrive/Data Science Student Material/Capstone Project/Data/wildcat-all.csv', header=1)\n",
        "wildcat_all['wind speed at 100m (m/s)'].mean()   # Indicates Class_3 turbines"
      ],
      "execution_count": null,
      "outputs": [
        {
          "output_type": "execute_result",
          "data": {
            "text/plain": [
              "7.499834474885824"
            ]
          },
          "metadata": {
            "tags": []
          },
          "execution_count": 65
        }
      ]
    },
    {
      "cell_type": "code",
      "metadata": {
        "id": "TptREcZyFAr2"
      },
      "source": [
        "pred_wind_wildcat = pred_wind_power2(wildcat_all, power_curves['Class_S97'], wildcat_all, wildcat_all).groupby('Month').sum()['kW'].reset_index(drop=True) * 13/1000\n",
        "act_wind_wildcat = monthly_wind_actual[monthly_wind_actual['Year']=='2014']['Wildcat MWH'].sort_index(ascending=False).reset_index(drop=True)"
      ],
      "execution_count": null,
      "outputs": []
    },
    {
      "cell_type": "code",
      "metadata": {
        "colab": {
          "base_uri": "https://localhost:8080/",
          "height": 282
        },
        "id": "kkrwLrrWEkeM",
        "outputId": "891a9cd8-8145-4e71-d8bb-3612b1b61f7e"
      },
      "source": [
        "plt.scatter(act_wind_wildcat, pred_wind_wildcat)\n",
        "plt.plot([min(pred_wind_wildcat), max(pred_wind_wildcat)], [min(pred_wind_wildcat), max(pred_wind_wildcat)], color='red')"
      ],
      "execution_count": null,
      "outputs": [
        {
          "output_type": "execute_result",
          "data": {
            "text/plain": [
              "[<matplotlib.lines.Line2D at 0x7f53fc0e4d50>]"
            ]
          },
          "metadata": {
            "tags": []
          },
          "execution_count": 73
        },
        {
          "output_type": "display_data",
          "data": {
            "image/png": "[encoded data removed]",
            "text/plain": [
              "<Figure size 432x288 with 1 Axes>"
            ]
          },
          "metadata": {
            "tags": [],
            "needs_background": "light"
          }
        }
      ]
    },
    {
      "cell_type": "markdown",
      "metadata": {
        "id": "w4lkh-r2dHY7"
      },
      "source": [
        "## Solar Data"
      ]
    },
    {
      "cell_type": "code",
      "metadata": {
        "id": "inuPzeScP2CD",
        "colab": {
          "base_uri": "https://localhost:8080/"
        },
        "outputId": "d010661e-b843-4bd7-a84e-5fd19e1259a2"
      },
      "source": [
        "# Get solar at a POINT\n",
        "\n",
        "solar_url = 'https://developer.nrel.gov/api/nsrdb/v2/solar/psm3-download.csv?api_key=0WIF3emAV5iUrIyfYwk0Fcm5wUZGfwLVOlLD7Nc1'\n",
        "params_point = '&wkt=POINT(-106.913333+32.251667)'\n",
        "attributes = '&attributes=dhi,dni,ghi&names=2019&utc=false&leap_day=false&interval=60&email=kengustafson@gmail.com'\n",
        "\n",
        "point_res = requests.get(solar_url + params_point + attributes)\n",
        "\n",
        "content = {}\n",
        "if point_res.status_code == 200:\n",
        "    print(point_res.headers['content-type'])\n",
        "    content = point_res.content\n",
        "else:\n",
        "    print('ERROR')"
      ],
      "execution_count": null,
      "outputs": [
        {
          "output_type": "stream",
          "text": [
            "text/csv\n"
          ],
          "name": "stdout"
        }
      ]
    },
    {
      "cell_type": "code",
      "metadata": {
        "id": "YjrPrBSXfWgv"
      },
      "source": [
        "# Open file\n",
        "filepath = directory + '../solar-' + params_point[5:] + '.csv'\n",
        "fd = os.open(filepath, os.O_CREAT|os.O_RDWR)\n",
        "# Write contents\n",
        "os.write(fd, content)\n",
        "# Close file\n",
        "os.close( fd )"
      ],
      "execution_count": null,
      "outputs": []
    },
    {
      "cell_type": "markdown",
      "metadata": {
        "id": "LQONNnF8_SZW"
      },
      "source": [
        "## Estimate Solar Plant Outputs - 2019"
      ]
    },
    {
      "cell_type": "code",
      "metadata": {
        "id": "06l1owhrPLDZ"
      },
      "source": [
        "pickle_data = pickle.load(open('/content/drive/MyDrive/Data Science Student Material/Capstone Project/Data Sets/dict_solar_data_m.p','rb'))\n",
        "\n",
        "monthly_solar_actual = pd.DataFrame.from_dict(pickle_data)\n",
        "monthly_solar_actual[['Month', 'Year']] = monthly_solar_actual['Month'].str.split(expand=True)"
      ],
      "execution_count": null,
      "outputs": []
    },
    {
      "cell_type": "code",
      "metadata": {
        "id": "wsbJfDviszAI"
      },
      "source": [
        "monthly_solar_actual"
      ],
      "execution_count": null,
      "outputs": []
    },
    {
      "cell_type": "markdown",
      "metadata": {
        "id": "TepsoQX3Dlm8"
      },
      "source": [
        "###SunE SPS5 Hopi"
      ]
    },
    {
      "cell_type": "code",
      "metadata": {
        "id": "v0GseIs6Fhve"
      },
      "source": [
        "solar_sun_hopi = pd.read_csv('/content/drive/MyDrive/Data Science Student Material/Capstone Project/Data/solar-POINT(Sun_Hopi_2019).csv', header=2)"
      ],
      "execution_count": null,
      "outputs": []
    },
    {
      "cell_type": "code",
      "metadata": {
        "id": "K11VlM-rFyMj"
      },
      "source": [
        "pred_solar_sun_hopi = pred_solar_power(solar_sun_hopi, 10.1).groupby('Month').sum().reset_index()"
      ],
      "execution_count": null,
      "outputs": []
    },
    {
      "cell_type": "code",
      "metadata": {
        "id": "kfjxc9QFGjXl"
      },
      "source": [
        "act_solar_sun_hopi = monthly_solar_actual[monthly_solar_actual['Year']=='2019']['SPS5_Hopi PV MWH'].sort_index(ascending=False).reset_index(drop=True)"
      ],
      "execution_count": null,
      "outputs": []
    },
    {
      "cell_type": "code",
      "metadata": {
        "colab": {
          "base_uri": "https://localhost:8080/",
          "height": 282
        },
        "id": "J0NgbWd6qys1",
        "outputId": "4dc508c6-2ee4-43fc-b9a2-902be0553fca"
      },
      "source": [
        "plt.scatter(act_solar_sun_hopi, pred_solar_sun_hopi['MW'])\n",
        "plt.plot([min(pred_solar_sun_hopi['MW']), max(pred_solar_sun_hopi['MW'])], [min(pred_solar_sun_hopi['MW']), max(pred_solar_sun_hopi['MW'])], color='red')"
      ],
      "execution_count": null,
      "outputs": [
        {
          "output_type": "execute_result",
          "data": {
            "text/plain": [
              "[<matplotlib.lines.Line2D at 0x7fca68e617d0>]"
            ]
          },
          "metadata": {
            "tags": []
          },
          "execution_count": 13
        },
        {
          "output_type": "display_data",
          "data": {
            "image/png": "[encoded data removed]",
            "text/plain": [
              "<Figure size 432x288 with 1 Axes>"
            ]
          },
          "metadata": {
            "tags": [],
            "needs_background": "light"
          }
        }
      ]
    },
    {
      "cell_type": "markdown",
      "metadata": {
        "id": "J7hQSHabsPFD"
      },
      "source": [
        "###Cimarron - 30 MW"
      ]
    },
    {
      "cell_type": "code",
      "metadata": {
        "id": "AhIjebVHf7wT"
      },
      "source": [
        "solar_cimarron = pd.read_csv('/content/drive/MyDrive/Data Science Student Material/Capstone Project/Data/solar-POINT(Cimarron_2019).csv', header=2)\n",
        "\n",
        "pred_solar_cimarron = pred_solar_power(solar_cimarron, 30).groupby('Month').sum().reset_index()"
      ],
      "execution_count": null,
      "outputs": []
    },
    {
      "cell_type": "code",
      "metadata": {
        "id": "fW81xdy4gMqj"
      },
      "source": [
        "pickle_data = pickle.load(open('/content/drive/MyDrive/Data Science Student Material/Capstone Project/Data Sets/dict_solar_data_m.p','rb'))\n",
        "monthly_solar_actual = pd.DataFrame.from_dict(pickle_data)\n",
        "monthly_solar_actual[['Month', 'Year']] = monthly_solar_actual['Month'].str.split(expand=True)\n",
        "\n",
        "act_solar_cimarron = monthly_solar_actual[monthly_solar_actual['Year']=='2019']['Cimmaron PV MWH'].sort_index(ascending=False).reset_index(drop=True)"
      ],
      "execution_count": null,
      "outputs": []
    },
    {
      "cell_type": "code",
      "metadata": {
        "colab": {
          "base_uri": "https://localhost:8080/",
          "height": 335
        },
        "id": "8wBUwxYNlD1D",
        "outputId": "6dacbd28-d90e-41da-8465-82821281cbd2"
      },
      "source": [
        "plt.scatter(act_solar_cimarron, pred_solar_cimarron['MW'])\n",
        "plt.title(label='2019 Actual vs. Predicted Generation, Cimarron, NM', pad=30)\n",
        "plt.xlabel('Actual Output (MWh) by Month', labelpad=20)\n",
        "plt.ylabel('Predicted Output (MWh) by Month', labelpad=20)\n",
        "plt.plot([min(pred_solar_cimarron['MW']), max(pred_solar_cimarron['MW'])], [min(pred_solar_cimarron['MW']), max(pred_solar_cimarron['MW'])], color='red');"
      ],
      "execution_count": null,
      "outputs": [
        {
          "output_type": "display_data",
          "data": {
            "image/png": "[encoded data removed]",
            "text/plain": [
              "<Figure size 432x288 with 1 Axes>"
            ]
          },
          "metadata": {
            "tags": [],
            "needs_background": "light"
          }
        }
      ]
    },
    {
      "cell_type": "code",
      "metadata": {
        "id": "QNP3HHhijPz0"
      },
      "source": [
        ""
      ],
      "execution_count": null,
      "outputs": []
    },
    {
      "cell_type": "markdown",
      "metadata": {
        "id": "DOdnv3MenHhs"
      },
      "source": [
        "###Macho Springs"
      ]
    },
    {
      "cell_type": "code",
      "metadata": {
        "id": "eeBDzhW5nJ__"
      },
      "source": [
        "solar_macho_springs = pd.read_csv('/content/drive/MyDrive/Data Science Student Material/Capstone Project/Data/solar-POINT(Macho_Springs_2019).csv', header=2)\n",
        "\n",
        "pred_solar_macho_springs = pred_solar_power(macho_springs_2019, 55).groupby('Month').sum().reset_index()"
      ],
      "execution_count": null,
      "outputs": []
    },
    {
      "cell_type": "code",
      "metadata": {
        "id": "PZyKWVJknR7w"
      },
      "source": [
        "act_solar_macho_springs = monthly_solar_actual[monthly_solar_actual['Year']=='2019']['Macho Springs PV MWH'].sort_index(ascending=False).reset_index(drop=True)"
      ],
      "execution_count": null,
      "outputs": []
    },
    {
      "cell_type": "code",
      "metadata": {
        "colab": {
          "base_uri": "https://localhost:8080/",
          "height": 282
        },
        "id": "lMS9J16EnS15",
        "outputId": "cd846568-14ca-4be2-ccc7-bf2a03b2a089"
      },
      "source": [
        "plt.scatter(act_solar_macho_springs, pred_solar_macho_springs['MW'])\n",
        "plt.plot([min(pred_solar_macho_springs['MW']), max(pred_solar_macho_springs['MW'])], [min(pred_solar_macho_springs['MW']), max(pred_solar_macho_springs['MW'])], color='red')"
      ],
      "execution_count": null,
      "outputs": [
        {
          "output_type": "execute_result",
          "data": {
            "text/plain": [
              "[<matplotlib.lines.Line2D at 0x7f53fb52ec50>]"
            ]
          },
          "metadata": {
            "tags": []
          },
          "execution_count": 145
        },
        {
          "output_type": "display_data",
          "data": {
            "image/png": "[encoded data removed]",
            "text/plain": [
              "<Figure size 432x288 with 1 Axes>"
            ]
          },
          "metadata": {
            "tags": [],
            "needs_background": "light"
          }
        }
      ]
    },
    {
      "cell_type": "markdown",
      "metadata": {
        "id": "qHoLmKiosL25"
      },
      "source": [
        "###Roadrunner\n"
      ]
    },
    {
      "cell_type": "code",
      "metadata": {
        "id": "Zx2CPx3KsMVt"
      },
      "source": [
        "solar_roadrunner = pd.read_csv('/content/drive/MyDrive/Data Science Student Material/Capstone Project/Data/solar-POINT(Roadrunner_2019).csv', header=2)\n",
        "\n",
        "pred_solar_roadrunner = pred_solar_power(solar_roadrunner, 20).groupby('Month').sum().reset_index()"
      ],
      "execution_count": null,
      "outputs": []
    },
    {
      "cell_type": "code",
      "metadata": {
        "id": "bF6aTXz4sMoe"
      },
      "source": [
        "act_solar_roadrunner = monthly_solar_actual[monthly_solar_actual['Year']=='2019']['Roadrunner PV MWH'].sort_index(ascending=False).reset_index(drop=True)"
      ],
      "execution_count": null,
      "outputs": []
    },
    {
      "cell_type": "code",
      "metadata": {
        "colab": {
          "base_uri": "https://localhost:8080/",
          "height": 283
        },
        "id": "hUf_i6wUsMaB",
        "outputId": "a0ccee13-9408-4096-f984-ea3a1929e234"
      },
      "source": [
        "plt.scatter(act_solar_roadrunner, pred_solar_roadrunner['MW'])\n",
        "plt.plot([min(pred_solar_roadrunner['MW']), max(pred_solar_roadrunner['MW'])], [min(pred_solar_roadrunner['MW']), max(pred_solar_roadrunner['MW'])], color='red')"
      ],
      "execution_count": null,
      "outputs": [
        {
          "output_type": "execute_result",
          "data": {
            "text/plain": [
              "[<matplotlib.lines.Line2D at 0x7f53fb4b4dd0>]"
            ]
          },
          "metadata": {
            "tags": []
          },
          "execution_count": 157
        },
        {
          "output_type": "display_data",
          "data": {
            "image/png": "[encoded data removed]",
            "text/plain": [
              "<Figure size 432x288 with 1 Axes>"
            ]
          },
          "metadata": {
            "tags": [],
            "needs_background": "light"
          }
        }
      ]
    },
    {
      "cell_type": "markdown",
      "metadata": {
        "id": "zJLpq6gesdAC"
      },
      "source": [
        "###SPS4_Monument PV MWH"
      ]
    },
    {
      "cell_type": "code",
      "metadata": {
        "id": "2RkURgzHsKdk"
      },
      "source": [
        "solar_monument = pd.read_csv('/content/drive/MyDrive/Data Science Student Material/Capstone Project/Data/solar-POINT(Monument_2019).csv', header=2)\n",
        "\n",
        "pred_solar_monument = pred_solar_power(solar_monument, 10.1).groupby('Month').sum().reset_index()\n",
        "act_solar_monument = monthly_solar_actual[monthly_solar_actual['Year']=='2019']['SPS4_Monument PV MWH'].sort_index(ascending=False).reset_index(drop=True)"
      ],
      "execution_count": null,
      "outputs": []
    },
    {
      "cell_type": "code",
      "metadata": {
        "colab": {
          "base_uri": "https://localhost:8080/",
          "height": 282
        },
        "id": "OjShdz6btx7Y",
        "outputId": "0dc056bc-6bd1-4738-81c0-39cffd7be72d"
      },
      "source": [
        "plt.scatter(act_solar_monument, pred_solar_roadrunner['MW'])\n",
        "plt.plot([min(pred_solar_monument['MW']), max(pred_solar_monument['MW'])], [min(pred_solar_monument['MW']), max(pred_solar_monument['MW'])], color='red')"
      ],
      "execution_count": null,
      "outputs": [
        {
          "output_type": "execute_result",
          "data": {
            "text/plain": [
              "[<matplotlib.lines.Line2D at 0x7f53faf8f090>]"
            ]
          },
          "metadata": {
            "tags": []
          },
          "execution_count": 186
        },
        {
          "output_type": "display_data",
          "data": {
            "image/png": "[encoded data removed]",
            "text/plain": [
              "<Figure size 432x288 with 1 Axes>"
            ]
          },
          "metadata": {
            "tags": [],
            "needs_background": "light"
          }
        }
      ]
    },
    {
      "cell_type": "markdown",
      "metadata": {
        "id": "TlL-PP8kt5zK"
      },
      "source": [
        "###SunE_EPE2 PV MWH\t/ Las Cruces"
      ]
    },
    {
      "cell_type": "code",
      "metadata": {
        "id": "LwBPpbhctx1p"
      },
      "source": [
        "solar_las_cruces = pd.read_csv('/content/drive/MyDrive/Data Science Student Material/Capstone Project/Data/solar-POINT(LasCruces_2019).csv', header=2)\n",
        "\n",
        "pred_solar_las_cruces = pred_solar_power(solar_las_cruces, 12).groupby('Month').sum().reset_index()\n",
        "act_solar_las_cruces = monthly_solar_actual[monthly_solar_actual['Year']=='2019'][' SunE_EPE2 PV MWH'].sort_index(ascending=False).reset_index(drop=True)"
      ],
      "execution_count": null,
      "outputs": []
    },
    {
      "cell_type": "code",
      "metadata": {
        "colab": {
          "base_uri": "https://localhost:8080/",
          "height": 282
        },
        "id": "V7MC9Aeft6Y8",
        "outputId": "178bc66d-1da7-439b-96f4-b18705bb7163"
      },
      "source": [
        "plt.scatter(act_solar_las_cruces, pred_solar_las_cruces['MW'])\n",
        "plt.plot([min(pred_solar_las_cruces['MW']), max(pred_solar_las_cruces['MW'])], [min(pred_solar_las_cruces['MW']), max(pred_solar_las_cruces['MW'])], color='red')"
      ],
      "execution_count": null,
      "outputs": [
        {
          "output_type": "execute_result",
          "data": {
            "text/plain": [
              "[<matplotlib.lines.Line2D at 0x7f53faf75090>]"
            ]
          },
          "metadata": {
            "tags": []
          },
          "execution_count": 188
        },
        {
          "output_type": "display_data",
          "data": {
            "image/png": "[encoded data removed]",
            "text/plain": [
              "<Figure size 432x288 with 1 Axes>"
            ]
          },
          "metadata": {
            "tags": [],
            "needs_background": "light"
          }
        }
      ]
    }
  ]
}