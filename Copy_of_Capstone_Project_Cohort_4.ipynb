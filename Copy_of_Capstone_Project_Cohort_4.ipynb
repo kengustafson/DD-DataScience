{
  "nbformat": 4,
  "nbformat_minor": 0,
  "metadata": {
    "colab": {
      "name": "Copy of Capstone Project - Cohort 4.ipynb",
      "provenance": [],
      "collapsed_sections": [
        "Gki8-Mr1Ulk6",
        "Sxllf0rJ4iAp",
        "QRSVowZM9SlZ",
        "-j4uihYg4mtE",
        "h3l3q817uxHj",
        "aqQyPos281Cj",
        "4dIypro9BljM",
        "oHsEQyFhE5nF",
        "gjktKzH9GdIK",
        "tDSQfeT5ZBhS"
      ],
      "toc_visible": true,
      "mount_file_id": "1KsL1Lo0B9ewrx7gssQIunRBlV8NQHT7r",
      "authorship_tag": "ABX9TyOEaakyIXH9PK7c3obwR8v2"
    },
    "kernelspec": {
      "name": "python3",
      "display_name": "Python 3"
    }
  },
  "cells": [
    {
      "cell_type": "code",
      "metadata": {
        "id": "ntMz8HSR7uLp"
      },
      "source": [
        "import pandas as pd\n",
        "import requests\n",
        "import urllib.parse\n",
        "#!pip install nrel-pysam\n",
        "import pickle\n",
        "import os, sys\n",
        "import re\n",
        "import matplotlib.pyplot as plt"
      ],
      "execution_count": null,
      "outputs": []
    },
    {
      "cell_type": "code",
      "metadata": {
        "colab": {
          "base_uri": "https://localhost:8080/"
        },
        "id": "cdxucSoQgSU1",
        "outputId": "7a1ccdff-4480-4798-cd31-6785349e8b36"
      },
      "source": [
        "from google.colab import auth\n",
        "auth.authenticate_user()\n",
        "project_id = 'numeric-melody-308801'\n",
        "%load_ext google.cloud.bigquery\n",
        "!gcloud config set project {project_id}\n",
        "!gsutil ls"
      ],
      "execution_count": null,
      "outputs": [
        {
          "output_type": "stream",
          "text": [
            "Updated property [core/project].\n",
            "gs://numeric-melody-308801.appspot.com/\n"
          ],
          "name": "stdout"
        }
      ]
    },
    {
      "cell_type": "code",
      "metadata": {
        "id": "eAo4VIMVjZ9u"
      },
      "source": [
        "def pred_wind_power(windspeed_df, power_curve, temp_df=None, pressure_df=None):\n",
        "    \"\"\"Accepts dataframe with windspeeds (floats) at a certain location, Series with power produced at defined speeds.\n",
        "    Returns DataFrame of 'Month' (1-12), output power ('kW'), in whatever timeframe submitted\n",
        "    (eg. hourly, monthly, etc), assuming single 2MW turbine.\n",
        "    Dependent on power_curve indexes equalling defined windspeed levels, and proper curve-class passed.\"\"\"\n",
        "\n",
        "    max_curve_speed = max(power_curve.index)\n",
        "    windspeed = windspeed_df['wind speed at 100m (m/s)']\n",
        "\n",
        "    lower_ws = windspeed.apply(int).apply(lambda s: s if s < max_curve_speed else 0).values\n",
        "    upper_ws = lower_ws+1\n",
        "    power_diff = power_curve.iloc[upper_ws].reset_index(drop=True).sub(power_curve.iloc[lower_ws].reset_index(drop=True))\n",
        "    frac_power = power_diff.mul(windspeed.sub(windspeed.apply(int)))\n",
        "    final_power = frac_power.add(power_curve.iloc[lower_ws].reset_index(drop=True)).rename('kW')\n",
        "\n",
        "    return pd.concat([windspeed_df, final_power], axis=1)\n"
      ],
      "execution_count": null,
      "outputs": []
    },
    {
      "cell_type": "code",
      "metadata": {
        "id": "OXUXE5jW8bJF"
      },
      "source": [
        "def pred_wind_power2(windspeed_df, power_curve, temp_df, pressure_df):\n",
        "    \"\"\"Accepts dataframe with windspeeds (floats) at a certain location, Series with power produced at defined speeds.\n",
        "    Returns DataFrame of 'Month' (1-12), output power ('kW'), in whatever timeframe submitted\n",
        "    (eg. hourly, monthly, etc), assuming single 2MW turbine.\n",
        "    Dependent on power_curve indexes equalling defined windspeed levels, and proper curve-class passed.\n",
        "    Using equation: density = (pressure Pa)/(temp K)(dry air gas constant J/kg*K)\n",
        "    \"\"\"\n",
        "\n",
        "    max_curve_speed = max(power_curve.index)\n",
        "    windspeed = windspeed_df['wind speed at 100m (m/s)']\n",
        "    temp = temp_df['air temperature at 100m (C)'] + 273.15  # Convert to kelvin\n",
        "    pressure = pressure_df['air pressure at 100m (Pa)']\n",
        "\n",
        "    STP = 1.225  # kg/m^3\n",
        "    Ro = 287.05\n",
        "    density = pressure.div(temp.mul(Ro)).div(STP)\n",
        "\n",
        "    lower_ws = windspeed.apply(int).apply(lambda s: s if s < max_curve_speed else 0).values\n",
        "    upper_ws = lower_ws+1\n",
        "    power_diff = power_curve.iloc[upper_ws].reset_index(drop=True).sub(power_curve.iloc[lower_ws].reset_index(drop=True))\n",
        "    frac_power = power_diff.mul(windspeed.sub(windspeed.apply(int)))\n",
        "    final_power = frac_power.add(power_curve.iloc[lower_ws].reset_index(drop=True))\n",
        "    power_density = final_power.mul(density).rename('kW')\n",
        "\n",
        "    return pd.concat([windspeed_df, power_density], axis=1)"
      ],
      "execution_count": null,
      "outputs": []
    },
    {
      "cell_type": "code",
      "metadata": {
        "id": "0uwL6omzBIjc"
      },
      "source": [
        "def pred_solar_power(solar_df, station_rated_output):\n",
        "    \"\"\"Accepts dataframe with Global Horizontal Irradiance (floats) at a certain location assuming in W/m^2,\n",
        "    Scaler indicating output of plant in MW.\n",
        "    ?Returns DataFrame of 'Month' (1-12), output power ('MW'), in whatever timeframe submitted\n",
        "    \"\"\"\n",
        "\n",
        "    ghi = solar_df['GHI']   # GHI in W/m^2\n",
        "\n",
        "    pred_power = ghi.div(800).mul(station_rated_output).rename('MW')\n",
        "\n",
        "    return pd.concat([solar_df['Month'], pred_power], axis=1)"
      ],
      "execution_count": null,
      "outputs": []
    },
    {
      "cell_type": "code",
      "metadata": {
        "id": "xAmNPibS9Z2B"
      },
      "source": [
        "directory = '/content/drive/MyDrive/Data Science Student Material/Capstone Project/Data/test/'"
      ],
      "execution_count": null,
      "outputs": []
    },
    {
      "cell_type": "markdown",
      "metadata": {
        "id": "Gki8-Mr1Ulk6"
      },
      "source": [
        "## BigQuery"
      ]
    },
    {
      "cell_type": "code",
      "metadata": {
        "id": "8aII-rrANV-e"
      },
      "source": [
        "%%bigquery --project $project_id bqdf\n",
        "SELECT \n",
        "  COUNT(*) as total_rows\n",
        "FROM `numeric-melody-308801.nm_winds_100m.test`"
      ],
      "execution_count": null,
      "outputs": []
    },
    {
      "cell_type": "code",
      "metadata": {
        "id": "bzAjNDDQOfAP"
      },
      "source": [
        "bqdf"
      ],
      "execution_count": null,
      "outputs": []
    },
    {
      "cell_type": "markdown",
      "metadata": {
        "id": "Sxllf0rJ4iAp"
      },
      "source": [
        "## Wind Data"
      ]
    },
    {
      "cell_type": "code",
      "metadata": {
        "id": "S-9PguUb3CiM"
      },
      "source": [
        "wind_url = 'https://developer.nrel.gov/api/wind-toolkit/v2/wind/wtk-download.json?api_key=0WIF3emAV5iUrIyfYwk0Fcm5wUZGfwLVOlLD7Nc1'\n",
        "#params_state  = '&wkt=POLYGON((-103.072391+36.940417%2C-109.014299+36.966740%2C-109.011065+32.066178%2C-103.128003+32.061526%2C-103.072391+36.940417))'\n",
        "params_north   = '&wkt=POLYGON((-103.072391+36.98%2C-109.014299+36.98%2C-109.007507+35.7%2C-103.131484+35.7%2C-103.072391+36.98))'\n",
        "\n",
        "#params_upper   = '&wkt=POLYGON((-103.131484+35.7%2C-109.007507+35.7%2C-109.007507+34.45%2C-103.131484+34.45%2C-103.131484+35.7))'\n",
        "params_upper_north   = '&wkt=POLYGON((-103.131484+35.705%2C-109.007507+35.705%2C-109.007507+35.07%2C-103.131484+35.07%2C-103.131484+35.705))'\n",
        "params_upper_south   = '&wkt=POLYGON((-103.131484+35.705%2C-109.007507+35.705%2C-109.007507+34.45%2C-103.131484+34.45%2C-103.131484+35.705))'\n",
        "\n",
        "params_lower   = '&wkt=POLYGON((-103.131484+34.45%2C-109.007507+34.45%2C-109.007507+33.20%2C-103.131484+33.20%2C-103.131484+34.45))'\n",
        "params_south   = '&wkt=POLYGON((-103.131484+33.20%2C-109.007507+33.20%2C-109.011065+32.066178%2C-103.128003+32.061526%2C-103.131484+33.20))'\n",
        "\n",
        "attributes = '&attributes=windspeed_100m&names=2014&utc=false&leap_day=false&interval=60&email=kengustafson@gmail.com'\n",
        "\n",
        "#wind_res = requests.get(wind_url + params_upper_south + attributes)\n",
        "\n",
        "content = {}\n",
        "\n",
        "if wind_res.status_code == 200:\n",
        "    print(wind_res.headers['content-type'])\n",
        "\n",
        "    content = wind_res.content\n",
        "\n",
        "else:\n",
        "    print('ERROR')"
      ],
      "execution_count": null,
      "outputs": []
    },
    {
      "cell_type": "code",
      "metadata": {
        "id": "3qI08ZBL6C3n"
      },
      "source": [
        "wind_res.json()"
      ],
      "execution_count": null,
      "outputs": []
    },
    {
      "cell_type": "code",
      "metadata": {
        "id": "NHJW5y85NWZ4"
      },
      "source": [
        "# Download data to local variable, then save to file\n",
        "\n",
        "#nrel_res = requests.get('https://mapfiles.nrel.gov/data/wind/8ff95fad8f70284017c655f7e41e2de4.zip')\n",
        "content = {}\n",
        "if nrel_res.status_code == 200:\n",
        "    print(nrel_res.headers['content-type'])\n",
        "    content = nrel_res.content\n",
        "else:\n",
        "    print('ERROR')"
      ],
      "execution_count": null,
      "outputs": []
    },
    {
      "cell_type": "code",
      "metadata": {
        "id": "Ws-OXH49N79n"
      },
      "source": [
        "# Open a file\n",
        "filepath = directory+'8ff95fad8f70284017c655f7e41e2de4.zip'\n",
        "fd = os.open(filepath, os.O_CREAT|os.O_RDWR)\n",
        "\n",
        "# Write contents\n",
        "os.write(fd, content)\n",
        "\n",
        "# Close file\n",
        "os.close( fd )"
      ],
      "execution_count": null,
      "outputs": []
    },
    {
      "cell_type": "code",
      "metadata": {
        "id": "q5lozTQe5-dE",
        "colab": {
          "base_uri": "https://localhost:8080/"
        },
        "outputId": "be501225-068d-4083-ac6b-0e07c1bd52b6"
      },
      "source": [
        "# Get data at a POINT\n",
        "\n",
        "wind_url = 'https://developer.nrel.gov/api/wind-toolkit/v2/wind/wtk-download.json?api_key=0WIF3emAV5iUrIyfYwk0Fcm5wUZGfwLVOlLD7Nc1'\n",
        "params_point   = '&wkt=POINT(-103.285278+32.952778)'\n",
        "wind_attributes = '&attributes=windspeed_100m&names=2014&utc=false&leap_day=false&interval=60&email=kengustafson@gmail.com'\n",
        "temp_attributes = '&attributes=temperature_100m&names=2014&utc=false&leap_day=false&interval=60&email=kengustafson@gmail.com'\n",
        "pressure_attributes = '&attributes=pressure_100m&names=2014&utc=false&leap_day=false&interval=60&email=kengustafson@gmail.com'\n",
        "all_attributes = '&attributes=windspeed_100m,temperature_100m,pressure_100m&names=2014&utc=false&leap_day=false&interval=60&email=kengustafson@gmail.com'\n",
        "\n",
        "point_res = requests.get(wind_url + params_point + all_attributes)\n",
        "\n",
        "content = {}\n",
        "if point_res.status_code == 200:\n",
        "    print(point_res.headers['content-type'])\n",
        "    content = point_res.content\n",
        "else:\n",
        "    print('ERROR')"
      ],
      "execution_count": null,
      "outputs": [
        {
          "output_type": "stream",
          "text": [
            "application/json; charset=utf-8\n"
          ],
          "name": "stdout"
        }
      ]
    },
    {
      "cell_type": "code",
      "metadata": {
        "id": "olD1jh9290sh",
        "colab": {
          "base_uri": "https://localhost:8080/",
          "height": 35
        },
        "outputId": "4f817f81-3060-49f1-b22c-ecc2218c12af"
      },
      "source": [
        "point_res.json()['outputs']['downloadUrl']"
      ],
      "execution_count": null,
      "outputs": [
        {
          "output_type": "execute_result",
          "data": {
            "application/vnd.google.colaboratory.intrinsic+json": {
              "type": "string"
            },
            "text/plain": [
              "'https://mapfiles.nrel.gov/data/wind/16e7e3956c89846f80343b8b16204208.zip'"
            ]
          },
          "metadata": {
            "tags": []
          },
          "execution_count": 7
        }
      ]
    },
    {
      "cell_type": "markdown",
      "metadata": {
        "id": "QRSVowZM9SlZ"
      },
      "source": [
        "## -Modify wind files; add lat/lng columns-"
      ]
    },
    {
      "cell_type": "code",
      "metadata": {
        "id": "mOZ9HOGvC5cu"
      },
      "source": [
        "files = os.listdir(path=directory + '17d32a62f10464f6ae3841d2026ec8cd/')\n",
        "\n",
        "for file in files:\n",
        "    id, lat, lng, year = file.split('_')\n",
        "    #lat = file[7:12]\n",
        "    #lng = file[13:20]\n",
        "    df = pd.read_csv(directory + '17d32a62f10464f6ae3841d2026ec8cd/' + file, header=1)\n",
        "    df['latitude'] = lat\n",
        "    df['longitude'] = lng\n",
        "\n",
        "    df['datetime'] = pd.to_datetime(\n",
        "        df['Year'].apply(str)+'-'+\n",
        "        df['Month'].apply(str)+'-'+\n",
        "        df['Day'].apply(str)+' '+\n",
        "        df['Hour'].apply(str)+':'+\n",
        "        df['Minute'].apply(str)+':00', infer_datetime_format=True)\n",
        "    \n",
        "    df.rename(columns={'wind speed at 100m (m/s)':'windspeed'}, inplace=True)\n",
        "    df.drop(labels=['Year', 'Month', 'Day', 'Hour', 'Minute'], axis=1, inplace=True)\n",
        "\n",
        "    df.to_csv('/content/sample_data/' + '17d32a62f10464f6ae3841d2026ec8cd/' + file, index=False)"
      ],
      "execution_count": null,
      "outputs": []
    },
    {
      "cell_type": "code",
      "metadata": {
        "id": "3ztUJwgdFme2"
      },
      "source": [
        "df = pd.read_csv('/content/sample_data/' + '17d32a62f10464f6ae3841d2026ec8cd/' + files[0])\n",
        "df"
      ],
      "execution_count": null,
      "outputs": []
    },
    {
      "cell_type": "code",
      "metadata": {
        "id": "vXVnXqhzh7i7"
      },
      "source": [
        "# Copy files to Google Cloud Storage, for subsequent import into BigQuery\n",
        "\n",
        "bucket = 'gs://numeric-melody-308801.appspot.com/'\n",
        "source = '/content/sample_data/17d32a62f10464f6ae3841d2026ec8cd/*' #/8234b812172692f28e758302e6c7b2b0/9*'\n",
        "!gsutil -m cp {source} {bucket}"
      ],
      "execution_count": null,
      "outputs": []
    },
    {
      "cell_type": "code",
      "metadata": {
        "id": "s5L9SDv7lwlB"
      },
      "source": [
        "#!gsutil ls gs://numeric-melody-308801.appspot.com\n",
        "#!gsutil -m rm gs://numeric-melody-308801.appspot.com/*"
      ],
      "execution_count": null,
      "outputs": []
    },
    {
      "cell_type": "code",
      "metadata": {
        "id": "uTkVZob5kuvc"
      },
      "source": [
        "\"\"\"\n",
        "for VARIABLE in $(gsutil ls)\n",
        "do\n",
        "  echo $(gsutil du $VARIABLE | grep -v /$ | wc -l) $VARIABLE\n",
        "done\n",
        "\"\"\""
      ],
      "execution_count": null,
      "outputs": []
    },
    {
      "cell_type": "markdown",
      "metadata": {
        "id": "-j4uihYg4mtE"
      },
      "source": [
        "## Site Count"
      ]
    },
    {
      "cell_type": "code",
      "metadata": {
        "id": "qzjLt0NR77CU"
      },
      "source": [
        "sites_url = 'https://developer.nrel.gov/api/nsrdb/v2/site-count.json?api_key=0WIF3emAV5iUrIyfYwk0Fcm5wUZGfwLVOlLD7Nc1'\n",
        "params = '&wkt=POLYGON((-103.072391+36.940417%2C-109.014299+36.966740%2C-109.011065+32.066178%2C-103.128003+32.061526%2C-103.072391+36.940417))'\n",
        "\n",
        "#sites_res = requests.get(sites_url + params)\n",
        "\n",
        "content = {}\n",
        "\n",
        "if sites_res.status_code == 200:\n",
        "    print(sites_res.headers['content-type'])\n",
        "\n",
        "    content = sites_res.content\n",
        "\n",
        "else:\n",
        "    print('ERROR')"
      ],
      "execution_count": null,
      "outputs": []
    },
    {
      "cell_type": "code",
      "metadata": {
        "id": "C-TintuRGyhp"
      },
      "source": [
        "sites_res.json()"
      ],
      "execution_count": null,
      "outputs": []
    },
    {
      "cell_type": "markdown",
      "metadata": {
        "id": "h3l3q817uxHj"
      },
      "source": [
        "## Wind Wind Plants"
      ]
    },
    {
      "cell_type": "code",
      "metadata": {
        "id": "s-z2zDwq3Ski"
      },
      "source": [
        "power_plants = pd.read_csv('/content/drive/MyDrive/Data Science Student Material/Capstone Project/Data/Power_Plants.csv')\n",
        "power_plants_nm = power_plants[power_plants['State']=='New Mexico'].copy()\n",
        "power_plants_nm.drop(labels=['X', 'Y', 'OBJECTID', 'Code', 'Sector_Name', 'State', 'Zip',\n",
        "       'Street_Address', 'PrimSource', 'Coal_MW',\n",
        "       'NG_MW', 'Crude_MW', 'Hydro_MW', 'HydroPS_MW', 'Nuclear_MW', 'Solar_MW',\n",
        "       'Data_Source', 'Geoth_MW', 'Battery_MW', 'Others_MW', 'Biomass_MW'], axis=1, inplace=True)\n",
        "power_plants_nm.reset_index(inplace=True, drop=True)\n",
        "power_curves = pd.read_csv('/content/drive/MyDrive/Data Science Student Material/Capstone Project/Data/wind_power_curves.csv')\n"
      ],
      "execution_count": null,
      "outputs": []
    },
    {
      "cell_type": "code",
      "metadata": {
        "id": "bCqMkwud4rCR"
      },
      "source": [
        "power_plants_nm"
      ],
      "execution_count": null,
      "outputs": []
    },
    {
      "cell_type": "code",
      "metadata": {
        "id": "yNReaDz_TlZ9"
      },
      "source": [
        "power_curves"
      ],
      "execution_count": null,
      "outputs": []
    },
    {
      "cell_type": "markdown",
      "metadata": {
        "id": "au3jIm2l_vo3"
      },
      "source": [
        "## Estimate Wind Plant Outputs"
      ]
    },
    {
      "cell_type": "code",
      "metadata": {
        "id": "9D6pa8TrTmuY"
      },
      "source": [
        "#'C1 > 8.5; 7.5 < C2 < 8.5; C3 < 7.5'"
      ],
      "execution_count": null,
      "outputs": []
    },
    {
      "cell_type": "code",
      "metadata": {
        "id": "2vIncLacG7YH"
      },
      "source": [
        "pickle_data = pickle.load(open('/content/drive/MyDrive/Data Science Student Material/Capstone Project/Data Sets/dict_wind_data_m.p','rb'))\n",
        "\n",
        "monthly_wind_actual = pd.DataFrame.from_dict(pickle_data)"
      ],
      "execution_count": null,
      "outputs": []
    },
    {
      "cell_type": "code",
      "metadata": {
        "id": "Zwhsv_nVMHCr"
      },
      "source": [
        "monthly_wind_actual"
      ],
      "execution_count": null,
      "outputs": []
    },
    {
      "cell_type": "markdown",
      "metadata": {
        "id": "aqQyPos281Cj"
      },
      "source": [
        "####**NM Wind Energy Center**"
      ]
    },
    {
      "cell_type": "code",
      "metadata": {
        "id": "Xexr1NmF_1EJ",
        "colab": {
          "base_uri": "https://localhost:8080/"
        },
        "outputId": "40590f70-36fc-4c7d-fe4c-a3f28f44d81d"
      },
      "source": [
        "nm_wec_all = pd.read_csv('/content/drive/MyDrive/Data Science Student Material/Capstone Project/Data/nm-wec-all.csv', header=1)\n",
        "nm_wec_all['wind speed at 100m (m/s)'].mean()   # Indicates Class_2 turbines"
      ],
      "execution_count": null,
      "outputs": [
        {
          "output_type": "execute_result",
          "data": {
            "text/plain": [
              "7.9022168949771805"
            ]
          },
          "metadata": {
            "tags": []
          },
          "execution_count": 23
        }
      ]
    },
    {
      "cell_type": "code",
      "metadata": {
        "colab": {
          "base_uri": "https://localhost:8080/",
          "height": 282
        },
        "id": "AHjTl46MHBgr",
        "outputId": "7e19c3a6-17ab-4a7d-eb4d-792b53f00731"
      },
      "source": [
        "pred_wind_nm_wec = pred_wind_power2(nm_wec_all, power_curves['Class_2'], nm_wec_all, nm_wec_all).groupby('Month').sum().reset_index(drop=True)['kW'] * 102/1000\n",
        "act_wind_nm_wec = monthly_wind_actual[monthly_wind_actual['Year']=='2014']['NM Wind MWH'].sort_index(ascending=False).reset_index(drop=True)\n",
        "\n",
        "plt.scatter(act_wind_nm_wec, pred_wind_nm_wec)\n",
        "plt.plot([min(pred_wind_nm_wec), max(pred_wind_nm_wec)], [min(pred_wind_nm_wec), max(pred_wind_nm_wec)], c='red')"
      ],
      "execution_count": null,
      "outputs": [
        {
          "output_type": "execute_result",
          "data": {
            "text/plain": [
              "[<matplotlib.lines.Line2D at 0x7f5400c89c90>]"
            ]
          },
          "metadata": {
            "tags": []
          },
          "execution_count": 24
        },
        {
          "output_type": "display_data",
          "data": {
            "image/png": "[encoded data removed]",
            "text/plain": [
              "<Figure size 432x288 with 1 Axes>"
            ]
          },
          "metadata": {
            "tags": [],
            "needs_background": "light"
          }
        }
      ]
    },
    {
      "cell_type": "markdown",
      "metadata": {
        "id": "AcPRnh3Z85iR"
      },
      "source": [
        "####**Caprock**"
      ]
    },
    {
      "cell_type": "code",
      "metadata": {
        "id": "ANzknzx3oDiW",
        "colab": {
          "base_uri": "https://localhost:8080/"
        },
        "outputId": "0b3cbeee-0795-4640-ba31-e8719ca6e45e"
      },
      "source": [
        "caprock_all = pd.read_csv('/content/drive/MyDrive/Data Science Student Material/Capstone Project/Data/caprock-all.csv', header=1)\n",
        "caprock_all['wind speed at 100m (m/s)'].mean()   # Indicates Class_1 turbines - Really Class_2 hardware"
      ],
      "execution_count": null,
      "outputs": [
        {
          "output_type": "execute_result",
          "data": {
            "text/plain": [
              "9.340486301369893"
            ]
          },
          "metadata": {
            "tags": []
          },
          "execution_count": 86
        }
      ]
    },
    {
      "cell_type": "code",
      "metadata": {
        "colab": {
          "base_uri": "https://localhost:8080/"
        },
        "id": "N-BPYkeGL5Gj",
        "outputId": "730d4e9d-1eb1-44e3-8b0a-d6714227a1f1"
      },
      "source": [
        "pred_wind_caprock = pred_wind_power2(caprock_all, power_curves['MWT-1000-61'], caprock_all, caprock_all).groupby('Month').sum().reset_index(drop=True)['kW'] * 80/1000\n",
        "\n",
        "act_wind_caprock = monthly_wind_actual[monthly_wind_actual['Year']=='2014']['Caprock MWH'].sort_index(ascending=False).reset_index(drop=True)\n",
        "\n",
        "act_wind_caprock / pred_wind_caprock"
      ],
      "execution_count": null,
      "outputs": [
        {
          "output_type": "execute_result",
          "data": {
            "text/plain": [
              "0     0.909770\n",
              "1     0.712252\n",
              "2     0.972404\n",
              "3     0.958575\n",
              "4     0.984522\n",
              "5     1.038930\n",
              "6     0.763226\n",
              "7     0.948749\n",
              "8     0.955786\n",
              "9     0.927828\n",
              "10    0.938860\n",
              "11    0.823735\n",
              "dtype: float64"
            ]
          },
          "metadata": {
            "tags": []
          },
          "execution_count": 87
        }
      ]
    },
    {
      "cell_type": "code",
      "metadata": {
        "colab": {
          "base_uri": "https://localhost:8080/",
          "height": 282
        },
        "id": "YwuBl58KvFdy",
        "outputId": "3ecf9b89-4f3c-4466-abfb-725d5f1263fb"
      },
      "source": [
        "plt.scatter(act_wind_caprock, pred_wind_caprock)\n",
        "plt.plot([min(pred_wind_caprock), max(pred_wind_caprock)], [min(pred_wind_caprock), max(pred_wind_caprock)], c='red')"
      ],
      "execution_count": null,
      "outputs": [
        {
          "output_type": "execute_result",
          "data": {
            "text/plain": [
              "[<matplotlib.lines.Line2D at 0x7f53fba6ce10>]"
            ]
          },
          "metadata": {
            "tags": []
          },
          "execution_count": 88
        },
        {
          "output_type": "display_data",
          "data": {
            "image/png": "[encoded data removed]",
            "text/plain": [
              "<Figure size 432x288 with 1 Axes>"
            ]
          },
          "metadata": {
            "tags": [],
            "needs_background": "light"
          }
        }
      ]
    },
    {
      "cell_type": "markdown",
      "metadata": {
        "id": "kXl4nBbq9Bip"
      },
      "source": [
        "####**San Juan**"
      ]
    },
    {
      "cell_type": "code",
      "metadata": {
        "id": "LWoTwk4aMnjZ",
        "colab": {
          "base_uri": "https://localhost:8080/"
        },
        "outputId": "d4738dda-6432-4ad5-ee8b-289301181d18"
      },
      "source": [
        "san_juan_all = pd.read_csv('/content/drive/MyDrive/Data Science Student Material/Capstone Project/Data/san-juan-all.csv', header=1)\n",
        "san_juan_all['wind speed at 100m (m/s)'].mean()   # Indicates Class_2 turbines"
      ],
      "execution_count": null,
      "outputs": [
        {
          "output_type": "execute_result",
          "data": {
            "text/plain": [
              "8.169867579908722"
            ]
          },
          "metadata": {
            "tags": []
          },
          "execution_count": 89
        }
      ]
    },
    {
      "cell_type": "code",
      "metadata": {
        "id": "5SUx55wbe2b2"
      },
      "source": [
        "pred_wind_san_juan = pred_wind_power2(san_juan_all, power_curves['MWT-1000-61'], san_juan_all, san_juan_all).groupby('Month').sum().reset_index(drop=True)['kW'] * 120/1000\n",
        "act_wind_san_juan = monthly_wind_actual[monthly_wind_actual['Year']=='2014']['San Juan Mesa MWH'].sort_index(ascending=False).reset_index(drop=True)\n"
      ],
      "execution_count": null,
      "outputs": []
    },
    {
      "cell_type": "code",
      "metadata": {
        "id": "z0EXdVnifg79",
        "colab": {
          "base_uri": "https://localhost:8080/",
          "height": 282
        },
        "outputId": "a0d8c285-710e-4f0d-f1e4-cf81d3e8fa98"
      },
      "source": [
        "plt.scatter(act_wind_san_juan, pred_wind_san_juan)\n",
        "plt.plot([min(pred_wind_san_juan), max(pred_wind_san_juan)], [min(pred_wind_san_juan), max(pred_wind_san_juan)], color='red')"
      ],
      "execution_count": null,
      "outputs": [
        {
          "output_type": "execute_result",
          "data": {
            "text/plain": [
              "[<matplotlib.lines.Line2D at 0x7f53fb8df850>]"
            ]
          },
          "metadata": {
            "tags": []
          },
          "execution_count": 95
        },
        {
          "output_type": "display_data",
          "data": {
            "image/png": "[encoded data removed]",
            "text/plain": [
              "<Figure size 432x288 with 1 Axes>"
            ]
          },
          "metadata": {
            "tags": [],
            "needs_background": "light"
          }
        }
      ]
    },
    {
      "cell_type": "markdown",
      "metadata": {
        "id": "4dIypro9BljM"
      },
      "source": [
        "####**Red Mesa**"
      ]
    },
    {
      "cell_type": "code",
      "metadata": {
        "id": "wpIWrLjXBy7n",
        "colab": {
          "base_uri": "https://localhost:8080/"
        },
        "outputId": "2176f996-f41a-4eb6-b32e-80e96c20a975"
      },
      "source": [
        "red_mesa_all = pd.read_csv('/content/drive/MyDrive/Data Science Student Material/Capstone Project/Data/red-mesa-all.csv', header=1)\n",
        "red_mesa_all['wind speed at 100m (m/s)'].mean()   # Indicates Class_2 turbines"
      ],
      "execution_count": null,
      "outputs": [
        {
          "output_type": "execute_result",
          "data": {
            "text/plain": [
              "8.028538812785353"
            ]
          },
          "metadata": {
            "tags": []
          },
          "execution_count": 33
        }
      ]
    },
    {
      "cell_type": "code",
      "metadata": {
        "id": "zOEdyj30B36G"
      },
      "source": [
        "pred_wind_red_mesa = pred_wind_power2(red_mesa_all, power_curves['Class_2'], red_mesa_all, red_mesa_all).groupby('Month').sum()['kW'].reset_index(drop=True) * 51.2/1000\n",
        "act_wind_red_mesa = monthly_wind_actual[monthly_wind_actual['Year']=='2014']['Red Mesa MWH'].sort_index(ascending=False).reset_index(drop=True)"
      ],
      "execution_count": null,
      "outputs": []
    },
    {
      "cell_type": "code",
      "metadata": {
        "colab": {
          "base_uri": "https://localhost:8080/",
          "height": 282
        },
        "id": "5Ltyw5ZG6SLU",
        "outputId": "0e166ea9-c959-43c9-d7f7-76f33610c6b0"
      },
      "source": [
        "plt.scatter(act_wind_red_mesa, pred_wind_red_mesa)\n",
        "plt.plot([min(pred_wind_red_mesa), max(pred_wind_red_mesa)], [min(pred_wind_red_mesa), max(pred_wind_red_mesa)], color='red')"
      ],
      "execution_count": null,
      "outputs": [
        {
          "output_type": "execute_result",
          "data": {
            "text/plain": [
              "[<matplotlib.lines.Line2D at 0x7f53fbd6a2d0>]"
            ]
          },
          "metadata": {
            "tags": []
          },
          "execution_count": 51
        },
        {
          "output_type": "display_data",
          "data": {
            "image/png": "[encoded data removed]",
            "text/plain": [
              "<Figure size 432x288 with 1 Axes>"
            ]
          },
          "metadata": {
            "tags": [],
            "needs_background": "light"
          }
        }
      ]
    },
    {
      "cell_type": "markdown",
      "metadata": {
        "id": "oHsEQyFhE5nF"
      },
      "source": [
        "####**High Lonesome**"
      ]
    },
    {
      "cell_type": "code",
      "metadata": {
        "id": "NrkCHwtOE7HP",
        "colab": {
          "base_uri": "https://localhost:8080/"
        },
        "outputId": "0b2a588d-8e21-4126-c726-b12a05c9fa24"
      },
      "source": [
        "high_lonesome_all = pd.read_csv('/content/drive/MyDrive/Data Science Student Material/Capstone Project/Data/high-lonesome-all.csv', header=1)\n",
        "high_lonesome_all['wind speed at 100m (m/s)'].mean()   # Indicates Class_2 turbines"
      ],
      "execution_count": null,
      "outputs": [
        {
          "output_type": "execute_result",
          "data": {
            "text/plain": [
              "8.03893949771691"
            ]
          },
          "metadata": {
            "tags": []
          },
          "execution_count": 42
        }
      ]
    },
    {
      "cell_type": "code",
      "metadata": {
        "id": "5-atxnDaE-3r"
      },
      "source": [
        "pred_wind_high_lonesome = pred_wind_power2(high_lonesome_all, power_curves['Class_2'], high_lonesome_all, high_lonesome_all).groupby('Month').sum()['kW'].reset_index(drop=True) * 50/1000\n",
        "act_wind_high_lonesome = monthly_wind_actual[monthly_wind_actual['Year']=='2014']['High Lonesome MWH'].sort_index(ascending=False).reset_index(drop=True)"
      ],
      "execution_count": null,
      "outputs": []
    },
    {
      "cell_type": "code",
      "metadata": {
        "colab": {
          "base_uri": "https://localhost:8080/",
          "height": 282
        },
        "id": "NsTqpNU59ZwN",
        "outputId": "2f26144c-67ee-4ab8-c667-3a6d3aca9a0f"
      },
      "source": [
        "plt.scatter(act_wind_high_lonesome, pred_wind_high_lonesome)\n",
        "plt.plot([min(pred_wind_high_lonesome), max(pred_wind_high_lonesome)], [min(pred_wind_high_lonesome), max(pred_wind_high_lonesome)], color='red')"
      ],
      "execution_count": null,
      "outputs": [
        {
          "output_type": "execute_result",
          "data": {
            "text/plain": [
              "[<matplotlib.lines.Line2D at 0x7f53fbcd88d0>]"
            ]
          },
          "metadata": {
            "tags": []
          },
          "execution_count": 53
        },
        {
          "output_type": "display_data",
          "data": {
            "image/png": "[encoded data removed]",
            "text/plain": [
              "<Figure size 432x288 with 1 Axes>"
            ]
          },
          "metadata": {
            "tags": [],
            "needs_background": "light"
          }
        }
      ]
    },
    {
      "cell_type": "markdown",
      "metadata": {
        "id": "gjktKzH9GdIK"
      },
      "source": [
        "####**Aragonne**"
      ]
    },
    {
      "cell_type": "code",
      "metadata": {
        "id": "CW0Ml3rgGelh",
        "colab": {
          "base_uri": "https://localhost:8080/"
        },
        "outputId": "56cec154-83f0-4e5a-9002-5bc8c5adbd85"
      },
      "source": [
        "aragonne_all = pd.read_csv('/content/drive/MyDrive/Data Science Student Material/Capstone Project/Data/aragonne-all.csv', header=1)\n",
        "aragonne_all['wind speed at 100m (m/s)'].mean()   # Indicates Class_1 turbines"
      ],
      "execution_count": null,
      "outputs": [
        {
          "output_type": "execute_result",
          "data": {
            "text/plain": [
              "8.660922374429187"
            ]
          },
          "metadata": {
            "tags": []
          },
          "execution_count": 55
        }
      ]
    },
    {
      "cell_type": "code",
      "metadata": {
        "id": "Ak4b_MZvGexd"
      },
      "source": [
        "pred_wind_aragonne = pred_wind_power2(aragonne_all, power_curves['Class_1'], aragonne_all, aragonne_all).groupby('Month').sum()['kW'].reset_index(drop=True) * 45/1000\n",
        "act_wind_aragonne = monthly_wind_actual[monthly_wind_actual['Year']=='2014']['Aragonne MWH'].sort_index(ascending=False).reset_index(drop=True)"
      ],
      "execution_count": null,
      "outputs": []
    },
    {
      "cell_type": "code",
      "metadata": {
        "id": "oUJ5lDOee5vh",
        "colab": {
          "base_uri": "https://localhost:8080/",
          "height": 282
        },
        "outputId": "e799479c-64a2-4d24-e6e0-46641b5e599a"
      },
      "source": [
        "plt.scatter(act_wind_aragonne, pred_wind_aragonne)\n",
        "plt.plot([min(pred_wind_aragonne), max(pred_wind_aragonne)], [min(pred_wind_aragonne), max(pred_wind_aragonne)], color='red')"
      ],
      "execution_count": null,
      "outputs": [
        {
          "output_type": "execute_result",
          "data": {
            "text/plain": [
              "[<matplotlib.lines.Line2D at 0x7f53fbd20a50>]"
            ]
          },
          "metadata": {
            "tags": []
          },
          "execution_count": 58
        },
        {
          "output_type": "display_data",
          "data": {
            "image/png": "[encoded data removed]",
            "text/plain": [
              "<Figure size 432x288 with 1 Axes>"
            ]
          },
          "metadata": {
            "tags": [],
            "needs_background": "light"
          }
        }
      ]
    },
    {
      "cell_type": "markdown",
      "metadata": {
        "id": "Ch_naOg5SWx6"
      },
      "source": [
        "####**Macho Springs**"
      ]
    },
    {
      "cell_type": "code",
      "metadata": {
        "id": "2kiX2GEGSYzi",
        "colab": {
          "base_uri": "https://localhost:8080/"
        },
        "outputId": "198201f6-f046-424c-c015-41c51d5cad62"
      },
      "source": [
        "macho_springs_all = pd.read_csv('/content/drive/MyDrive/Data Science Student Material/Capstone Project/Data/macho-springs-all.csv', header=1)\n",
        "macho_springs_all['wind speed at 100m (m/s)'].mean()   # Indicates Class_3 turbines"
      ],
      "execution_count": null,
      "outputs": [
        {
          "output_type": "execute_result",
          "data": {
            "text/plain": [
              "6.411804794520562"
            ]
          },
          "metadata": {
            "tags": []
          },
          "execution_count": 60
        }
      ]
    },
    {
      "cell_type": "code",
      "metadata": {
        "id": "YFszXXMRSZA_"
      },
      "source": [
        "pred_wind_macho_springs = pred_wind_power2(macho_springs_all, power_curves['Class_3'], macho_springs_all, macho_springs_all).groupby('Month').sum()['kW'].reset_index(drop=True) * 25.2/1000\n",
        "act_wind_macho_springs = monthly_wind_actual[monthly_wind_actual['Year']=='2014']['Macho Springs MWH'].sort_index(ascending=False).reset_index(drop=True)"
      ],
      "execution_count": null,
      "outputs": []
    },
    {
      "cell_type": "code",
      "metadata": {
        "colab": {
          "base_uri": "https://localhost:8080/",
          "height": 282
        },
        "id": "WlPGLIuhps26",
        "outputId": "d02f06a7-9560-4293-b5fa-8d86deb7c5b1"
      },
      "source": [
        "plt.scatter(act_wind_macho_springs, pred_wind_macho_springs)\n",
        "plt.plot([min(pred_wind_macho_springs), max(pred_wind_macho_springs)], [min(pred_wind_macho_springs), max(pred_wind_macho_springs)], c='red')"
      ],
      "execution_count": null,
      "outputs": [
        {
          "output_type": "execute_result",
          "data": {
            "text/plain": [
              "[<matplotlib.lines.Line2D at 0x7f53fbfa60d0>]"
            ]
          },
          "metadata": {
            "tags": []
          },
          "execution_count": 62
        },
        {
          "output_type": "display_data",
          "data": {
            "image/png": "[encoded data removed]",
            "text/plain": [
              "<Figure size 432x288 with 1 Axes>"
            ]
          },
          "metadata": {
            "tags": [],
            "needs_background": "light"
          }
        }
      ]
    },
    {
      "cell_type": "markdown",
      "metadata": {
        "id": "tDSQfeT5ZBhS"
      },
      "source": [
        "####**Wildcat**"
      ]
    },
    {
      "cell_type": "code",
      "metadata": {
        "id": "Zgbt79JFabLi",
        "colab": {
          "base_uri": "https://localhost:8080/"
        },
        "outputId": "bc79077f-badc-4d4f-a6be-1910c9d872c7"
      },
      "source": [
        "wildcat_all = pd.read_csv('/content/drive/MyDrive/Data Science Student Material/Capstone Project/Data/wildcat-all.csv', header=1)\n",
        "wildcat_all['wind speed at 100m (m/s)'].mean()   # Indicates Class_3 turbines"
      ],
      "execution_count": null,
      "outputs": [
        {
          "output_type": "execute_result",
          "data": {
            "text/plain": [
              "7.499834474885824"
            ]
          },
          "metadata": {
            "tags": []
          },
          "execution_count": 65
        }
      ]
    },
    {
      "cell_type": "code",
      "metadata": {
        "id": "TptREcZyFAr2"
      },
      "source": [
        "pred_wind_wildcat = pred_wind_power2(wildcat_all, power_curves['Class_S97'], wildcat_all, wildcat_all).groupby('Month').sum()['kW'].reset_index(drop=True) * 13/1000\n",
        "act_wind_wildcat = monthly_wind_actual[monthly_wind_actual['Year']=='2014']['Wildcat MWH'].sort_index(ascending=False).reset_index(drop=True)"
      ],
      "execution_count": null,
      "outputs": []
    },
    {
      "cell_type": "code",
      "metadata": {
        "colab": {
          "base_uri": "https://localhost:8080/",
          "height": 282
        },
        "id": "kkrwLrrWEkeM",
        "outputId": "891a9cd8-8145-4e71-d8bb-3612b1b61f7e"
      },
      "source": [
        "plt.scatter(act_wind_wildcat, pred_wind_wildcat)\n",
        "plt.plot([min(pred_wind_wildcat), max(pred_wind_wildcat)], [min(pred_wind_wildcat), max(pred_wind_wildcat)], color='red')"
      ],
      "execution_count": null,
      "outputs": [
        {
          "output_type": "execute_result",
          "data": {
            "text/plain": [
              "[<matplotlib.lines.Line2D at 0x7f53fc0e4d50>]"
            ]
          },
          "metadata": {
            "tags": []
          },
          "execution_count": 73
        },
        {
          "output_type": "display_data",
          "data": {
            "image/png": "[encoded data removed]",
            "text/plain": [
              "<Figure size 432x288 with 1 Axes>"
            ]
          },
          "metadata": {
            "tags": [],
            "needs_background": "light"
          }
        }
      ]
    },
    {
      "cell_type": "markdown",
      "metadata": {
        "id": "w4lkh-r2dHY7"
      },
      "source": [
        "## Solar Data"
      ]
    },
    {
      "cell_type": "code",
      "metadata": {
        "id": "inuPzeScP2CD",
        "colab": {
          "base_uri": "https://localhost:8080/"
        },
        "outputId": "6d9a049e-64e8-4892-ddb4-b4168ba4f228"
      },
      "source": [
        "# Get solar at a POINT\n",
        "\n",
        "solar_url = 'https://developer.nrel.gov/api/nsrdb/v2/solar/psm3-download.csv?api_key=0WIF3emAV5iUrIyfYwk0Fcm5wUZGfwLVOlLD7Nc1'\n",
        "params_point = '&wkt=POINT(-106.913333+32.251667)'\n",
        "attributes = '&attributes=dhi,dni,ghi&names=2019&utc=false&leap_day=false&interval=60&email=kengustafson@gmail.com'\n",
        "\n",
        "point_res = requests.get(solar_url + params_point + attributes)\n",
        "\n",
        "content = {}\n",
        "if point_res.status_code == 200:\n",
        "    print(point_res.headers['content-type'])\n",
        "    content = point_res.content\n",
        "else:\n",
        "    print('ERROR')"
      ],
      "execution_count": null,
      "outputs": [
        {
          "output_type": "stream",
          "text": [
            "text/csv\n"
          ],
          "name": "stdout"
        }
      ]
    },
    {
      "cell_type": "code",
      "metadata": {
        "id": "YjrPrBSXfWgv"
      },
      "source": [
        "# Open file\n",
        "filepath = directory + '../solar-' + params_point[5:] + '.csv'\n",
        "fd = os.open(filepath, os.O_CREAT|os.O_RDWR)\n",
        "# Write contents\n",
        "os.write(fd, content)\n",
        "# Close file\n",
        "os.close( fd )"
      ],
      "execution_count": null,
      "outputs": []
    },
    {
      "cell_type": "markdown",
      "metadata": {
        "id": "LQONNnF8_SZW"
      },
      "source": [
        "## Estimate Solar Plant Outputs - 2019"
      ]
    },
    {
      "cell_type": "code",
      "metadata": {
        "id": "06l1owhrPLDZ"
      },
      "source": [
        "pickle_data = pickle.load(open('/content/drive/MyDrive/Data Science Student Material/Capstone Project/Data Sets/dict_solar_data_m.p','rb'))\n",
        "\n",
        "monthly_solar_actual = pd.DataFrame.from_dict(pickle_data)\n",
        "monthly_solar_actual[['Month', 'Year']] = monthly_solar_actual['Month'].str.split(expand=True)"
      ],
      "execution_count": null,
      "outputs": []
    },
    {
      "cell_type": "code",
      "metadata": {
        "id": "wsbJfDviszAI"
      },
      "source": [
        "monthly_solar_actual"
      ],
      "execution_count": null,
      "outputs": []
    },
    {
      "cell_type": "markdown",
      "metadata": {
        "id": "TepsoQX3Dlm8"
      },
      "source": [
        "###SunE SPS5 Hopi"
      ]
    },
    {
      "cell_type": "code",
      "metadata": {
        "id": "v0GseIs6Fhve"
      },
      "source": [
        "solar_sun_hopi = pd.read_csv('/content/drive/MyDrive/Data Science Student Material/Capstone Project/Data/solar-POINT(Sun_Hopi_2019).csv', header=2)"
      ],
      "execution_count": null,
      "outputs": []
    },
    {
      "cell_type": "code",
      "metadata": {
        "id": "K11VlM-rFyMj"
      },
      "source": [
        "pred_solar_sun_hopi = pred_solar_power(solar_sun_hopi, 10.1).groupby('Month').sum().reset_index()"
      ],
      "execution_count": null,
      "outputs": []
    },
    {
      "cell_type": "code",
      "metadata": {
        "id": "kfjxc9QFGjXl"
      },
      "source": [
        "act_solar_sun_hopi = monthly_solar_actual[monthly_solar_actual['Year']=='2019']['SPS5_Hopi PV MWH'].sort_index(ascending=False).reset_index(drop=True)"
      ],
      "execution_count": null,
      "outputs": []
    },
    {
      "cell_type": "code",
      "metadata": {
        "colab": {
          "base_uri": "https://localhost:8080/",
          "height": 282
        },
        "id": "J0NgbWd6qys1",
        "outputId": "c8be0529-7a97-4f8a-9422-1235dbbcffe3"
      },
      "source": [
        "plt.scatter(act_solar_sun_hopi, pred_solar_sun_hopi['MW'])\n",
        "plt.plot([min(pred_solar_sun_hopi['MW']), max(pred_solar_sun_hopi['MW'])], [min(pred_solar_sun_hopi['MW']), max(pred_solar_sun_hopi['MW'])], color='red')"
      ],
      "execution_count": null,
      "outputs": [
        {
          "output_type": "execute_result",
          "data": {
            "text/plain": [
              "[<matplotlib.lines.Line2D at 0x7f53fb11b050>]"
            ]
          },
          "metadata": {
            "tags": []
          },
          "execution_count": 180
        },
        {
          "output_type": "display_data",
          "data": {
            "image/png": "[encoded data removed]",
            "text/plain": [
              "<Figure size 432x288 with 1 Axes>"
            ]
          },
          "metadata": {
            "tags": [],
            "needs_background": "light"
          }
        }
      ]
    },
    {
      "cell_type": "markdown",
      "metadata": {
        "id": "J7hQSHabsPFD"
      },
      "source": [
        "###Cimarron - 30 MW"
      ]
    },
    {
      "cell_type": "code",
      "metadata": {
        "id": "AhIjebVHf7wT"
      },
      "source": [
        "solar_cimarron = pd.read_csv('/content/drive/MyDrive/Data Science Student Material/Capstone Project/Data/solar-POINT(Cimarron_2019).csv', header=2)\n",
        "\n",
        "pred_solar_cimarron = pred_solar_power(solar_cimarron, 30).groupby('Month').sum().reset_index()"
      ],
      "execution_count": null,
      "outputs": []
    },
    {
      "cell_type": "code",
      "metadata": {
        "id": "fW81xdy4gMqj"
      },
      "source": [
        "pickle_data = pickle.load(open('/content/drive/MyDrive/Data Science Student Material/Capstone Project/Data Sets/dict_solar_data_m.p','rb'))\n",
        "monthly_solar_actual = pd.DataFrame.from_dict(pickle_data)\n",
        "monthly_solar_actual[['Month', 'Year']] = monthly_solar_actual['Month'].str.split(expand=True)\n",
        "\n",
        "act_solar_cimarron = monthly_solar_actual[monthly_solar_actual['Year']=='2019']['Cimmaron PV MWH'].sort_index(ascending=False).reset_index(drop=True)"
      ],
      "execution_count": null,
      "outputs": []
    },
    {
      "cell_type": "code",
      "metadata": {
        "colab": {
          "base_uri": "https://localhost:8080/",
          "height": 282
        },
        "id": "8wBUwxYNlD1D",
        "outputId": "1933e40e-b4ed-4559-bb70-7b79d3893f85"
      },
      "source": [
        "plt.scatter(act_solar_cimarron, pred_solar_cimarron['MW'])\n",
        "plt.plot([min(pred_solar_cimarron['MW']), max(pred_solar_cimarron['MW'])], [min(pred_solar_cimarron['MW']), max(pred_solar_cimarron['MW'])], color='red')"
      ],
      "execution_count": null,
      "outputs": [
        {
          "output_type": "execute_result",
          "data": {
            "text/plain": [
              "[<matplotlib.lines.Line2D at 0x7f53fb68c1d0>]"
            ]
          },
          "metadata": {
            "tags": []
          },
          "execution_count": 142
        },
        {
          "output_type": "display_data",
          "data": {
            "image/png": "[encoded data removed]",
            "text/plain": [
              "<Figure size 432x288 with 1 Axes>"
            ]
          },
          "metadata": {
            "tags": [],
            "needs_background": "light"
          }
        }
      ]
    },
    {
      "cell_type": "markdown",
      "metadata": {
        "id": "DOdnv3MenHhs"
      },
      "source": [
        "###Macho Springs"
      ]
    },
    {
      "cell_type": "code",
      "metadata": {
        "id": "eeBDzhW5nJ__"
      },
      "source": [
        "solar_macho_springs = pd.read_csv('/content/drive/MyDrive/Data Science Student Material/Capstone Project/Data/solar-POINT(Macho_Springs_2019).csv', header=2)\n",
        "\n",
        "pred_solar_macho_springs = pred_solar_power(macho_springs_2019, 55).groupby('Month').sum().reset_index()"
      ],
      "execution_count": null,
      "outputs": []
    },
    {
      "cell_type": "code",
      "metadata": {
        "id": "PZyKWVJknR7w"
      },
      "source": [
        "act_solar_macho_springs = monthly_solar_actual[monthly_solar_actual['Year']=='2019']['Macho Springs PV MWH'].sort_index(ascending=False).reset_index(drop=True)"
      ],
      "execution_count": null,
      "outputs": []
    },
    {
      "cell_type": "code",
      "metadata": {
        "colab": {
          "base_uri": "https://localhost:8080/",
          "height": 282
        },
        "id": "lMS9J16EnS15",
        "outputId": "cd846568-14ca-4be2-ccc7-bf2a03b2a089"
      },
      "source": [
        "plt.scatter(act_solar_macho_springs, pred_solar_macho_springs['MW'])\n",
        "plt.plot([min(pred_solar_macho_springs['MW']), max(pred_solar_macho_springs['MW'])], [min(pred_solar_macho_springs['MW']), max(pred_solar_macho_springs['MW'])], color='red')"
      ],
      "execution_count": null,
      "outputs": [
        {
          "output_type": "execute_result",
          "data": {
            "text/plain": [
              "[<matplotlib.lines.Line2D at 0x7f53fb52ec50>]"
            ]
          },
          "metadata": {
            "tags": []
          },
          "execution_count": 145
        },
        {
          "output_type": "display_data",
          "data": {
            "image/png": "[encoded data removed]",
            "text/plain": [
              "<Figure size 432x288 with 1 Axes>"
            ]
          },
          "metadata": {
            "tags": [],
            "needs_background": "light"
          }
        }
      ]
    },
    {
      "cell_type": "markdown",
      "metadata": {
        "id": "qHoLmKiosL25"
      },
      "source": [
        "###Roadrunner\n"
      ]
    },
    {
      "cell_type": "code",
      "metadata": {
        "id": "Zx2CPx3KsMVt"
      },
      "source": [
        "solar_roadrunner = pd.read_csv('/content/drive/MyDrive/Data Science Student Material/Capstone Project/Data/solar-POINT(Roadrunner_2019).csv', header=2)\n",
        "\n",
        "pred_solar_roadrunner = pred_solar_power(solar_roadrunner, 20).groupby('Month').sum().reset_index()"
      ],
      "execution_count": null,
      "outputs": []
    },
    {
      "cell_type": "code",
      "metadata": {
        "id": "bF6aTXz4sMoe"
      },
      "source": [
        "act_solar_roadrunner = monthly_solar_actual[monthly_solar_actual['Year']=='2019']['Roadrunner PV MWH'].sort_index(ascending=False).reset_index(drop=True)"
      ],
      "execution_count": null,
      "outputs": []
    },
    {
      "cell_type": "code",
      "metadata": {
        "colab": {
          "base_uri": "https://localhost:8080/",
          "height": 283
        },
        "id": "hUf_i6wUsMaB",
        "outputId": "a0ccee13-9408-4096-f984-ea3a1929e234"
      },
      "source": [
        "plt.scatter(act_solar_roadrunner, pred_solar_roadrunner['MW'])\n",
        "plt.plot([min(pred_solar_roadrunner['MW']), max(pred_solar_roadrunner['MW'])], [min(pred_solar_roadrunner['MW']), max(pred_solar_roadrunner['MW'])], color='red')"
      ],
      "execution_count": null,
      "outputs": [
        {
          "output_type": "execute_result",
          "data": {
            "text/plain": [
              "[<matplotlib.lines.Line2D at 0x7f53fb4b4dd0>]"
            ]
          },
          "metadata": {
            "tags": []
          },
          "execution_count": 157
        },
        {
          "output_type": "display_data",
          "data": {
            "image/png": "[encoded data removed]",
            "text/plain": [
              "<Figure size 432x288 with 1 Axes>"
            ]
          },
          "metadata": {
            "tags": [],
            "needs_background": "light"
          }
        }
      ]
    },
    {
      "cell_type": "markdown",
      "metadata": {
        "id": "zJLpq6gesdAC"
      },
      "source": [
        "###SPS4_Monument PV MWH"
      ]
    },
    {
      "cell_type": "code",
      "metadata": {
        "id": "2RkURgzHsKdk"
      },
      "source": [
        "solar_monument = pd.read_csv('/content/drive/MyDrive/Data Science Student Material/Capstone Project/Data/solar-POINT(Monument_2019).csv', header=2)\n",
        "\n",
        "pred_solar_monument = pred_solar_power(solar_monument, 10.1).groupby('Month').sum().reset_index()\n",
        "act_solar_monument = monthly_solar_actual[monthly_solar_actual['Year']=='2019']['SPS4_Monument PV MWH'].sort_index(ascending=False).reset_index(drop=True)"
      ],
      "execution_count": null,
      "outputs": []
    },
    {
      "cell_type": "code",
      "metadata": {
        "colab": {
          "base_uri": "https://localhost:8080/",
          "height": 282
        },
        "id": "OjShdz6btx7Y",
        "outputId": "0dc056bc-6bd1-4738-81c0-39cffd7be72d"
      },
      "source": [
        "plt.scatter(act_solar_monument, pred_solar_roadrunner['MW'])\n",
        "plt.plot([min(pred_solar_monument['MW']), max(pred_solar_monument['MW'])], [min(pred_solar_monument['MW']), max(pred_solar_monument['MW'])], color='red')"
      ],
      "execution_count": null,
      "outputs": [
        {
          "output_type": "execute_result",
          "data": {
            "text/plain": [
              "[<matplotlib.lines.Line2D at 0x7f53faf8f090>]"
            ]
          },
          "metadata": {
            "tags": []
          },
          "execution_count": 186
        },
        {
          "output_type": "display_data",
          "data": {
            "image/png": "[encoded data removed]",
            "text/plain": [
              "<Figure size 432x288 with 1 Axes>"
            ]
          },
          "metadata": {
            "tags": [],
            "needs_background": "light"
          }
        }
      ]
    },
    {
      "cell_type": "markdown",
      "metadata": {
        "id": "TlL-PP8kt5zK"
      },
      "source": [
        "###SunE_EPE2 PV MWH\t/ Las Cruces"
      ]
    },
    {
      "cell_type": "code",
      "metadata": {
        "id": "LwBPpbhctx1p"
      },
      "source": [
        "solar_las_cruces = pd.read_csv('/content/drive/MyDrive/Data Science Student Material/Capstone Project/Data/solar-POINT(LasCruces_2019).csv', header=2)\n",
        "\n",
        "pred_solar_las_cruces = pred_solar_power(solar_las_cruces, 12).groupby('Month').sum().reset_index()\n",
        "act_solar_las_cruces = monthly_solar_actual[monthly_solar_actual['Year']=='2019'][' SunE_EPE2 PV MWH'].sort_index(ascending=False).reset_index(drop=True)"
      ],
      "execution_count": null,
      "outputs": []
    },
    {
      "cell_type": "code",
      "metadata": {
        "colab": {
          "base_uri": "https://localhost:8080/",
          "height": 282
        },
        "id": "V7MC9Aeft6Y8",
        "outputId": "178bc66d-1da7-439b-96f4-b18705bb7163"
      },
      "source": [
        "plt.scatter(act_solar_las_cruces, pred_solar_las_cruces['MW'])\n",
        "plt.plot([min(pred_solar_las_cruces['MW']), max(pred_solar_las_cruces['MW'])], [min(pred_solar_las_cruces['MW']), max(pred_solar_las_cruces['MW'])], color='red')"
      ],
      "execution_count": null,
      "outputs": [
        {
          "output_type": "execute_result",
          "data": {
            "text/plain": [
              "[<matplotlib.lines.Line2D at 0x7f53faf75090>]"
            ]
          },
          "metadata": {
            "tags": []
          },
          "execution_count": 188
        },
        {
          "output_type": "display_data",
          "data": {
            "image/png": "[encoded data removed]",
            "text/plain": [
              "<Figure size 432x288 with 1 Axes>"
            ]
          },
          "metadata": {
            "tags": [],
            "needs_background": "light"
          }
        }
      ]
    }
  ]
}