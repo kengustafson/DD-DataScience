{
  "nbformat": 4,
  "nbformat_minor": 0,
  "metadata": {
    "colab": {
      "name": "Copy of Capstone Project - Cohort 4.ipynb",
      "provenance": [],
      "collapsed_sections": [
        "Gki8-Mr1Ulk6",
        "QRSVowZM9SlZ",
        "-j4uihYg4mtE",
        "h3l3q817uxHj",
        "au3jIm2l_vo3"
      ],
      "toc_visible": true,
      "mount_file_id": "1KsL1Lo0B9ewrx7gssQIunRBlV8NQHT7r",
      "authorship_tag": "ABX9TyMS1MyWsXThZsXn0ugtordN",
      "include_colab_link": true
    },
    "kernelspec": {
      "name": "python3",
      "display_name": "Python 3"
    }
  },
  "cells": [
    {
      "cell_type": "markdown",
      "metadata": {
        "id": "view-in-github",
        "colab_type": "text"
      },
      "source": [
        "<a href=\"https://colab.research.google.com/github/kengustafson/DeepDive-DataScience/blob/main/Copy_of_Capstone_Project_Cohort_4.ipynb\" target=\"_parent\"><img src=\"https://colab.research.google.com/assets/colab-badge.svg\" alt=\"Open In Colab\"/></a>"
      ]
    },
    {
      "cell_type": "code",
      "metadata": {
        "id": "ntMz8HSR7uLp"
      },
      "source": [
        "import pandas as pd\n",
        "import requests\n",
        "import urllib.parse\n",
        "#!pip install nrel-pysam\n",
        "import pickle\n",
        "import os, sys\n",
        "import re\n",
        "import matplotlib.pyplot as plt"
      ],
      "execution_count": 72,
      "outputs": []
    },
    {
      "cell_type": "code",
      "metadata": {
        "colab": {
          "base_uri": "https://localhost:8080/"
        },
        "id": "cdxucSoQgSU1",
        "outputId": "7747c428-f777-4a67-bb7f-520a2c73f5fb"
      },
      "source": [
        "from google.colab import auth\n",
        "auth.authenticate_user()\n",
        "project_id = 'numeric-melody-308801'\n",
        "%load_ext google.cloud.bigquery\n",
        "!gcloud config set project {project_id}\n",
        "!gsutil ls"
      ],
      "execution_count": null,
      "outputs": [
        {
          "output_type": "stream",
          "text": [
            "Updated property [core/project].\n",
            "gs://numeric-melody-308801.appspot.com/\n"
          ],
          "name": "stdout"
        }
      ]
    },
    {
      "cell_type": "code",
      "metadata": {
        "id": "eAo4VIMVjZ9u"
      },
      "source": [
        "def pred_wind_power(windspeed_df, power_curve):\n",
        "    \"\"\"Accepts dataframe with windspeeds (floats) at a certain location, Series with power produced at defined speeds.\n",
        "    Returns DataFrame of 'Month' (1-12), output power ('kW'), in whatever timeframe submitted\n",
        "    (eg. hourly, monthly, etc), assuming single 2MW turbine.\n",
        "    Dependent on power_curve indexes equalling defined windspeed levels, and proper curve-class passed.\"\"\"\n",
        "\n",
        "    max_curve_speed = max(power_curve.index)\n",
        "    windspeed = windspeed_df['wind speed at 100m (m/s)']\n",
        "\n",
        "    lower_ws = windspeed.apply(int).apply(lambda s: s if s < max_curve_speed else 0).values\n",
        "    upper_ws = lower_ws+1\n",
        "    power_diff = power_curve.iloc[upper_ws].reset_index(drop=True).sub(power_curve.iloc[lower_ws].reset_index(drop=True))\n",
        "    frac_power = power_diff.mul(windspeed.sub(windspeed.apply(int)))\n",
        "    final_power = frac_power.add(power_curve.iloc[lower_ws].reset_index(drop=True)).rename('kW')\n",
        "\n",
        "    return pd.concat([windspeed_df, final_power], axis=1)\n"
      ],
      "execution_count": 3,
      "outputs": []
    },
    {
      "cell_type": "code",
      "metadata": {
        "id": "OXUXE5jW8bJF"
      },
      "source": [
        "def pred_wind_power2(windspeed_df, power_curve, temp_df, pressure_df):\n",
        "    \"\"\"Accepts dataframe with windspeeds (floats) at a certain location, Series with power produced at defined speeds.\n",
        "    Returns DataFrame of 'Month' (1-12), output power ('kW'), in whatever timeframe submitted\n",
        "    (eg. hourly, monthly, etc), assuming single 2MW turbine.\n",
        "    Dependent on power_curve indexes equalling defined windspeed levels, and proper curve-class passed.\n",
        "    Using equation: density = (pressure Pa)/(dry air gas constant J/kg*K)(temp K)\n",
        "    \"\"\"\n",
        "\n",
        "    max_curve_speed = max(power_curve.index)\n",
        "    windspeed = windspeed_df['wind speed at 100m (m/s)']\n",
        "    temp = temp_df['air temperature at 100m (C)'] + 273.15  # Convert to kelvin\n",
        "    pressure = pressure_df['air pressure at 100m (Pa)']\n",
        "\n",
        "    STP = 1.225  # kg/m^3\n",
        "    Ro = 287.05\n",
        "\n",
        "    density = pressure.div(temp.mul(Ro)).div(STP)\n",
        "    #density = d.mul(0.003*(pressure_df['Month']-6.5)**2 + 1)\n",
        "\n",
        "    lower_ws = windspeed.apply(int).apply(lambda s: s if s < max_curve_speed else 0).values\n",
        "    upper_ws = lower_ws+1\n",
        "    power_diff = power_curve.iloc[upper_ws].reset_index(drop=True).sub(power_curve.iloc[lower_ws].reset_index(drop=True))\n",
        "    frac_power = power_diff.mul(windspeed.sub(windspeed.apply(int)))\n",
        "    final_power = frac_power.add(power_curve.iloc[lower_ws].reset_index(drop=True))\n",
        "    power_density = final_power.mul(density).rename('kW')\n",
        "\n",
        "    return pd.concat([windspeed_df, power_density], axis=1)"
      ],
      "execution_count": 4,
      "outputs": []
    },
    {
      "cell_type": "code",
      "metadata": {
        "id": "0uwL6omzBIjc"
      },
      "source": [
        "def pred_solar_power(solar_df, station_rated_output):\n",
        "    \"\"\"Accepts dataframe with Global Horizontal Irradiance (floats) at a certain location assuming in W/m^2,\n",
        "    Scaler indicating output of plant in MW.\n",
        "    Internal conversion factor of 200 W/m^2 used.\n",
        "    ?Returns DataFrame of 'Month' (1-12), output power ('MW'), in whatever timeframe submitted\n",
        "    ?(eg. hourly, monthly, etc), assuming single 1 m^2 panel.\n",
        "    ?Dependent on power_curve indexes equalling defined windspeed levels, and proper curve-class passed.\"\"\"\n",
        "\n",
        "    ghi = solar_df['GHI']   # GHI in W/m^2\n",
        "\n",
        "    pred_power = ghi.div(1000).mul(station_rated_output).rename('MW')\n",
        "\n",
        "    return pd.concat([solar_df['Month'], pred_power], axis=1)\n"
      ],
      "execution_count": 73,
      "outputs": []
    },
    {
      "cell_type": "code",
      "metadata": {
        "id": "xAmNPibS9Z2B"
      },
      "source": [
        "directory = '/content/drive/MyDrive/Data Science Student Material/Capstone Project/Data/test/'"
      ],
      "execution_count": 6,
      "outputs": []
    },
    {
      "cell_type": "markdown",
      "metadata": {
        "id": "Gki8-Mr1Ulk6"
      },
      "source": [
        "## BigQuery"
      ]
    },
    {
      "cell_type": "code",
      "metadata": {
        "id": "8aII-rrANV-e"
      },
      "source": [
        "%%bigquery --project $project_id bqdf\n",
        "SELECT \n",
        "  COUNT(*) as total_rows\n",
        "FROM `numeric-melody-308801.nm_winds_100m.test`"
      ],
      "execution_count": null,
      "outputs": []
    },
    {
      "cell_type": "code",
      "metadata": {
        "id": "bzAjNDDQOfAP"
      },
      "source": [
        "bqdf"
      ],
      "execution_count": null,
      "outputs": []
    },
    {
      "cell_type": "markdown",
      "metadata": {
        "id": "Sxllf0rJ4iAp"
      },
      "source": [
        "## Wind Data"
      ]
    },
    {
      "cell_type": "code",
      "metadata": {
        "id": "S-9PguUb3CiM"
      },
      "source": [
        "wind_url = 'https://developer.nrel.gov/api/wind-toolkit/v2/wind/wtk-download.json?api_key=0WIF3emAV5iUrIyfYwk0Fcm5wUZGfwLVOlLD7Nc1'\n",
        "#params_state  = '&wkt=POLYGON((-103.072391+36.940417%2C-109.014299+36.966740%2C-109.011065+32.066178%2C-103.128003+32.061526%2C-103.072391+36.940417))'\n",
        "params_north   = '&wkt=POLYGON((-103.072391+36.98%2C-109.014299+36.98%2C-109.007507+35.7%2C-103.131484+35.7%2C-103.072391+36.98))'\n",
        "\n",
        "#params_upper   = '&wkt=POLYGON((-103.131484+35.7%2C-109.007507+35.7%2C-109.007507+34.45%2C-103.131484+34.45%2C-103.131484+35.7))'\n",
        "params_upper_north   = '&wkt=POLYGON((-103.131484+35.705%2C-109.007507+35.705%2C-109.007507+35.07%2C-103.131484+35.07%2C-103.131484+35.705))'\n",
        "params_upper_south   = '&wkt=POLYGON((-103.131484+35.705%2C-109.007507+35.705%2C-109.007507+34.45%2C-103.131484+34.45%2C-103.131484+35.705))'\n",
        "\n",
        "params_lower   = '&wkt=POLYGON((-103.131484+34.45%2C-109.007507+34.45%2C-109.007507+33.20%2C-103.131484+33.20%2C-103.131484+34.45))'\n",
        "params_south   = '&wkt=POLYGON((-103.131484+33.20%2C-109.007507+33.20%2C-109.011065+32.066178%2C-103.128003+32.061526%2C-103.131484+33.20))'\n",
        "\n",
        "attributes = '&attributes=windspeed_100m&names=2014&utc=false&leap_day=false&interval=60&email=kengustafson@gmail.com'\n",
        "# upper_south for 2013 - see if no errors\n",
        "#wind_res = requests.get(wind_url + params_upper_south + attributes)\n",
        "\n",
        "content = {}\n",
        "\n",
        "if wind_res.status_code == 200:\n",
        "    print(wind_res.headers['content-type'])\n",
        "\n",
        "    content = wind_res.content\n",
        "\n",
        "else:\n",
        "    print('ERROR')"
      ],
      "execution_count": null,
      "outputs": []
    },
    {
      "cell_type": "code",
      "metadata": {
        "id": "3qI08ZBL6C3n"
      },
      "source": [
        "wind_res.json()"
      ],
      "execution_count": null,
      "outputs": []
    },
    {
      "cell_type": "code",
      "metadata": {
        "id": "NHJW5y85NWZ4"
      },
      "source": [
        "# Download data to local variable, then save to file\n",
        "\n",
        "#nrel_res = requests.get('https://mapfiles.nrel.gov/data/wind/8ff95fad8f70284017c655f7e41e2de4.zip')\n",
        "content = {}\n",
        "if nrel_res.status_code == 200:\n",
        "    print(nrel_res.headers['content-type'])\n",
        "    content = nrel_res.content\n",
        "else:\n",
        "    print('ERROR')"
      ],
      "execution_count": null,
      "outputs": []
    },
    {
      "cell_type": "code",
      "metadata": {
        "id": "Ws-OXH49N79n"
      },
      "source": [
        "# Open a file\n",
        "filepath = directory+'8ff95fad8f70284017c655f7e41e2de4.zip'\n",
        "fd = os.open(filepath, os.O_CREAT|os.O_RDWR)\n",
        "\n",
        "# Write contents\n",
        "os.write(fd, content)\n",
        "\n",
        "# Close file\n",
        "os.close( fd )"
      ],
      "execution_count": null,
      "outputs": []
    },
    {
      "cell_type": "code",
      "metadata": {
        "id": "q5lozTQe5-dE",
        "colab": {
          "base_uri": "https://localhost:8080/"
        },
        "outputId": "e1b05cae-eae1-4bc7-ae57-f534b44d5abf"
      },
      "source": [
        "# Get data at a POINT\n",
        "\n",
        "wind_url = 'https://developer.nrel.gov/api/wind-toolkit/v2/wind/wtk-download.json?api_key=0WIF3emAV5iUrIyfYwk0Fcm5wUZGfwLVOlLD7Nc1'\n",
        "params_point   = '&wkt=POINT(-103.285278+32.952778)'\n",
        "wind_attributes = '&attributes=windspeed_100m&names=2014&utc=false&leap_day=false&interval=60&email=kengustafson@gmail.com'\n",
        "temp_attributes = '&attributes=temperature_100m&names=2014&utc=false&leap_day=false&interval=60&email=kengustafson@gmail.com'\n",
        "pressure_attributes = '&attributes=pressure_100m&names=2014&utc=false&leap_day=false&interval=60&email=kengustafson@gmail.com'\n",
        "all_attributes = '&attributes=windspeed_100m,temperature_100m,pressure_100m&names=2014&utc=false&leap_day=false&interval=60&email=kengustafson@gmail.com'\n",
        "\n",
        "point_res = requests.get(wind_url + params_point + wind_attributes)\n",
        "\n",
        "content = {}\n",
        "if point_res.status_code == 200:\n",
        "    print(point_res.headers['content-type'])\n",
        "    content = point_res.content\n",
        "else:\n",
        "    print('ERROR')"
      ],
      "execution_count": 15,
      "outputs": [
        {
          "output_type": "stream",
          "text": [
            "application/json; charset=utf-8\n"
          ],
          "name": "stdout"
        }
      ]
    },
    {
      "cell_type": "code",
      "metadata": {
        "id": "olD1jh9290sh",
        "colab": {
          "base_uri": "https://localhost:8080/",
          "height": 35
        },
        "outputId": "1f5a5ed5-1a83-448e-928b-768352a9f21c"
      },
      "source": [
        "point_res.json()['outputs']['downloadUrl']"
      ],
      "execution_count": 16,
      "outputs": [
        {
          "output_type": "execute_result",
          "data": {
            "application/vnd.google.colaboratory.intrinsic+json": {
              "type": "string"
            },
            "text/plain": [
              "'https://mapfiles.nrel.gov/data/wind/033fab00318253e60090b4ff03abb810.zip'"
            ]
          },
          "metadata": {
            "tags": []
          },
          "execution_count": 16
        }
      ]
    },
    {
      "cell_type": "markdown",
      "metadata": {
        "id": "QRSVowZM9SlZ"
      },
      "source": [
        "## -Modify wind files; add lat/lng columns-"
      ]
    },
    {
      "cell_type": "code",
      "metadata": {
        "id": "mOZ9HOGvC5cu"
      },
      "source": [
        "files = os.listdir(path=directory + '17d32a62f10464f6ae3841d2026ec8cd/')\n",
        "\n",
        "for file in files:\n",
        "    id, lat, lng, year = file.split('_')\n",
        "    #lat = file[7:12]\n",
        "    #lng = file[13:20]\n",
        "    df = pd.read_csv(directory + '17d32a62f10464f6ae3841d2026ec8cd/' + file, header=1)\n",
        "    df['latitude'] = lat\n",
        "    df['longitude'] = lng\n",
        "\n",
        "    df['datetime'] = pd.to_datetime(\n",
        "        df['Year'].apply(str)+'-'+\n",
        "        df['Month'].apply(str)+'-'+\n",
        "        df['Day'].apply(str)+' '+\n",
        "        df['Hour'].apply(str)+':'+\n",
        "        df['Minute'].apply(str)+':00', infer_datetime_format=True)\n",
        "    \n",
        "    df.rename(columns={'wind speed at 100m (m/s)':'windspeed'}, inplace=True)\n",
        "    df.drop(labels=['Year', 'Month', 'Day', 'Hour', 'Minute'], axis=1, inplace=True)\n",
        "\n",
        "    df.to_csv('/content/sample_data/' + '17d32a62f10464f6ae3841d2026ec8cd/' + file, index=False)"
      ],
      "execution_count": null,
      "outputs": []
    },
    {
      "cell_type": "code",
      "metadata": {
        "id": "3ztUJwgdFme2"
      },
      "source": [
        "df = pd.read_csv('/content/sample_data/' + '17d32a62f10464f6ae3841d2026ec8cd/' + files[0])\n",
        "df"
      ],
      "execution_count": null,
      "outputs": []
    },
    {
      "cell_type": "code",
      "metadata": {
        "id": "vXVnXqhzh7i7"
      },
      "source": [
        "# Copy files to Google Cloud Storage, for subsequent import into BigQuery\n",
        "\n",
        "bucket = 'gs://numeric-melody-308801.appspot.com/'\n",
        "source = '/content/sample_data/17d32a62f10464f6ae3841d2026ec8cd/*' #/8234b812172692f28e758302e6c7b2b0/9*'\n",
        "!gsutil -m cp {source} {bucket}"
      ],
      "execution_count": null,
      "outputs": []
    },
    {
      "cell_type": "code",
      "metadata": {
        "id": "s5L9SDv7lwlB"
      },
      "source": [
        "#!gsutil ls gs://numeric-melody-308801.appspot.com\n",
        "#!gsutil -m rm gs://numeric-melody-308801.appspot.com/*"
      ],
      "execution_count": null,
      "outputs": []
    },
    {
      "cell_type": "code",
      "metadata": {
        "id": "uTkVZob5kuvc"
      },
      "source": [
        "\"\"\"\n",
        "for VARIABLE in $(gsutil ls)\n",
        "do\n",
        "  echo $(gsutil du $VARIABLE | grep -v /$ | wc -l) $VARIABLE\n",
        "done\n",
        "\"\"\""
      ],
      "execution_count": null,
      "outputs": []
    },
    {
      "cell_type": "markdown",
      "metadata": {
        "id": "-j4uihYg4mtE"
      },
      "source": [
        "## Site Count"
      ]
    },
    {
      "cell_type": "code",
      "metadata": {
        "id": "qzjLt0NR77CU"
      },
      "source": [
        "sites_url = 'https://developer.nrel.gov/api/nsrdb/v2/site-count.json?api_key=0WIF3emAV5iUrIyfYwk0Fcm5wUZGfwLVOlLD7Nc1'\n",
        "params = '&wkt=POLYGON((-103.072391+36.940417%2C-109.014299+36.966740%2C-109.011065+32.066178%2C-103.128003+32.061526%2C-103.072391+36.940417))'\n",
        "\n",
        "#sites_res = requests.get(sites_url + params)\n",
        "\n",
        "content = {}\n",
        "\n",
        "if sites_res.status_code == 200:\n",
        "    print(sites_res.headers['content-type'])\n",
        "\n",
        "    content = sites_res.content\n",
        "\n",
        "else:\n",
        "    print('ERROR')"
      ],
      "execution_count": null,
      "outputs": []
    },
    {
      "cell_type": "code",
      "metadata": {
        "id": "C-TintuRGyhp"
      },
      "source": [
        "sites_res.json()"
      ],
      "execution_count": null,
      "outputs": []
    },
    {
      "cell_type": "markdown",
      "metadata": {
        "id": "h3l3q817uxHj"
      },
      "source": [
        "## Wind Wind Plants"
      ]
    },
    {
      "cell_type": "code",
      "metadata": {
        "id": "s-z2zDwq3Ski"
      },
      "source": [
        "power_plants = pd.read_csv('/content/drive/MyDrive/Data Science Student Material/Capstone Project/Data/Power_Plants.csv')\n",
        "power_plants_nm = power_plants[power_plants['State']=='New Mexico'].copy()\n",
        "power_plants_nm.drop(labels=['X', 'Y', 'OBJECTID', 'Code', 'Sector_Name', 'State', 'Zip',\n",
        "       'Street_Address', 'PrimSource', 'Coal_MW',\n",
        "       'NG_MW', 'Crude_MW', 'Hydro_MW', 'HydroPS_MW', 'Nuclear_MW', 'Solar_MW',\n",
        "       'Data_Source', 'Geoth_MW', 'Battery_MW', 'Others_MW', 'Biomass_MW'], axis=1, inplace=True)\n",
        "power_plants_nm.reset_index(inplace=True, drop=True)\n",
        "power_curves = pd.read_csv('/content/drive/MyDrive/Data Science Student Material/Capstone Project/Data/wind_power_curves.csv')\n"
      ],
      "execution_count": 291,
      "outputs": []
    },
    {
      "cell_type": "code",
      "metadata": {
        "id": "bCqMkwud4rCR"
      },
      "source": [
        "power_plants_nm"
      ],
      "execution_count": null,
      "outputs": []
    },
    {
      "cell_type": "code",
      "metadata": {
        "id": "yNReaDz_TlZ9"
      },
      "source": [
        "power_curves"
      ],
      "execution_count": null,
      "outputs": []
    },
    {
      "cell_type": "markdown",
      "metadata": {
        "id": "au3jIm2l_vo3"
      },
      "source": [
        "## Estimate Wind Plant Outputs"
      ]
    },
    {
      "cell_type": "code",
      "metadata": {
        "id": "9D6pa8TrTmuY"
      },
      "source": [
        "#'C1 > 8.5; 7.5 < C2 < 8.5; C3 < 7.5'"
      ],
      "execution_count": null,
      "outputs": []
    },
    {
      "cell_type": "code",
      "metadata": {
        "id": "2vIncLacG7YH"
      },
      "source": [
        "pickle_data = pickle.load(open('/content/drive/MyDrive/Data Science Student Material/Capstone Project/Data Sets/dict_wind_data_m.p','rb'))\n",
        "\n",
        "monthly_wind_actual = pd.DataFrame.from_dict(pickle_data)"
      ],
      "execution_count": 293,
      "outputs": []
    },
    {
      "cell_type": "code",
      "metadata": {
        "id": "Zwhsv_nVMHCr"
      },
      "source": [
        "monthly_wind_actual"
      ],
      "execution_count": null,
      "outputs": []
    },
    {
      "cell_type": "markdown",
      "metadata": {
        "id": "aqQyPos281Cj"
      },
      "source": [
        "####**NM Wind Energy Center**"
      ]
    },
    {
      "cell_type": "code",
      "metadata": {
        "id": "Xexr1NmF_1EJ"
      },
      "source": [
        "nm_wec = pd.read_csv('/content/drive/MyDrive/Data Science Student Material/Capstone Project/Data/nm-wec.csv', header=1)\n",
        "nm_wec_temp = pd.read_csv('/content/drive/MyDrive/Data Science Student Material/Capstone Project/Data/nm-wec-temp.csv', header=1)\n",
        "nm_wec_pressure = pd.read_csv('/content/drive/MyDrive/Data Science Student Material/Capstone Project/Data/nm-wec-pressure.csv', header=1)"
      ],
      "execution_count": 322,
      "outputs": []
    },
    {
      "cell_type": "code",
      "metadata": {
        "colab": {
          "base_uri": "https://localhost:8080/"
        },
        "id": "6P-tPb_7CCjG",
        "outputId": "e1cd1077-25ee-4f78-cc6b-522a8b049172"
      },
      "source": [
        "nm_wec['wind speed at 100m (m/s)'].mean()   # Indicates Class_2 turbines"
      ],
      "execution_count": 323,
      "outputs": [
        {
          "output_type": "execute_result",
          "data": {
            "text/plain": [
              "7.9022168949771805"
            ]
          },
          "metadata": {
            "tags": []
          },
          "execution_count": 323
        }
      ]
    },
    {
      "cell_type": "code",
      "metadata": {
        "colab": {
          "base_uri": "https://localhost:8080/"
        },
        "id": "-7KLsnBKm1hD",
        "outputId": "9f1efc07-260e-4ee4-bdaf-1464027bd718"
      },
      "source": [
        "pred_wind_power(nm_wec, power_curves['Class_2'])['kW'].sum() * 102/1000"
      ],
      "execution_count": 325,
      "outputs": [
        {
          "output_type": "execute_result",
          "data": {
            "text/plain": [
              "792599.16408"
            ]
          },
          "metadata": {
            "tags": []
          },
          "execution_count": 325
        }
      ]
    },
    {
      "cell_type": "code",
      "metadata": {
        "colab": {
          "base_uri": "https://localhost:8080/"
        },
        "id": "FcP9WB1W80Gs",
        "outputId": "2cbf8348-56bd-434d-9900-62e38576be53"
      },
      "source": [
        "pred_wind_power2(nm_wec, power_curves['Class_2'], nm_wec_temp, nm_wec_pressure)['kW'].sum() * 102/1000"
      ],
      "execution_count": 328,
      "outputs": [
        {
          "output_type": "execute_result",
          "data": {
            "text/plain": [
              "661043.9606251057"
            ]
          },
          "metadata": {
            "tags": []
          },
          "execution_count": 328
        }
      ]
    },
    {
      "cell_type": "code",
      "metadata": {
        "colab": {
          "base_uri": "https://localhost:8080/",
          "height": 0
        },
        "id": "AHjTl46MHBgr",
        "outputId": "453f7828-9a15-46d3-d9ea-52968c62b0fb"
      },
      "source": [
        "pred_pwr = pred_wind_power(nm_wec, power_curves['Class_2']).groupby('Month').sum().reset_index(drop=True)['kW'] * 102/1000\n",
        "act_pwr = monthly_wind_actual[monthly_wind_actual['Year']=='2014']['NM Wind MWH'].sort_index(ascending=False).reset_index(drop=True)\n",
        "\n",
        "plt.scatter(act_pwr, pred_pwr)\n",
        "plt.plot([min(pred_pwr), max(pred_pwr)], [min(pred_pwr), max(pred_pwr)], c='red')"
      ],
      "execution_count": 330,
      "outputs": [
        {
          "output_type": "execute_result",
          "data": {
            "text/plain": [
              "[<matplotlib.lines.Line2D at 0x7f317accb090>]"
            ]
          },
          "metadata": {
            "tags": []
          },
          "execution_count": 330
        },
        {
          "output_type": "display_data",
          "data": {
            "image/png": "[encoded data removed]",
            "text/plain": [
              "<Figure size 432x288 with 1 Axes>"
            ]
          },
          "metadata": {
            "tags": [],
            "needs_background": "light"
          }
        }
      ]
    },
    {
      "cell_type": "code",
      "metadata": {
        "id": "0cJwXxXJcviW"
      },
      "source": [
        "act_pwr / pred_pwr"
      ],
      "execution_count": null,
      "outputs": []
    },
    {
      "cell_type": "code",
      "metadata": {
        "colab": {
          "base_uri": "https://localhost:8080/"
        },
        "id": "vHaCmHGyCq8T",
        "outputId": "98bb0425-1e7c-4774-816e-48ae84b535cb"
      },
      "source": [
        "pred_pwr2 = pred_wind_power2(nm_wec, power_curves['Class_2'], nm_wec_temp, nm_wec_pressure).groupby('Month').sum().reset_index(drop=True)['kW'] * 102/1000\n",
        "\n",
        "act_pwr / pred_pwr2"
      ],
      "execution_count": 332,
      "outputs": [
        {
          "output_type": "execute_result",
          "data": {
            "text/plain": [
              "0     0.829827\n",
              "1     0.763905\n",
              "2     0.800863\n",
              "3     0.776604\n",
              "4     0.759381\n",
              "5     0.767378\n",
              "6     0.597607\n",
              "7     0.586969\n",
              "8     0.697582\n",
              "9     0.742204\n",
              "10    0.808859\n",
              "11    0.615185\n",
              "dtype: float64"
            ]
          },
          "metadata": {
            "tags": []
          },
          "execution_count": 332
        }
      ]
    },
    {
      "cell_type": "code",
      "metadata": {
        "colab": {
          "base_uri": "https://localhost:8080/",
          "height": 0
        },
        "id": "_Eoz90wBq0v2",
        "outputId": "436576c7-8216-471b-cf2d-5ca74b29b87b"
      },
      "source": [
        "plt.scatter(act_pwr, pred_pwr2)\n",
        "plt.plot([min(pred_pwr2), max(pred_pwr2)], [min(pred_pwr2), max(pred_pwr2)], c='red')"
      ],
      "execution_count": 334,
      "outputs": [
        {
          "output_type": "execute_result",
          "data": {
            "text/plain": [
              "[<matplotlib.lines.Line2D at 0x7f317abadf90>]"
            ]
          },
          "metadata": {
            "tags": []
          },
          "execution_count": 334
        },
        {
          "output_type": "display_data",
          "data": {
            "image/png": "[encoded data removed]",
            "text/plain": [
              "<Figure size 432x288 with 1 Axes>"
            ]
          },
          "metadata": {
            "tags": [],
            "needs_background": "light"
          }
        }
      ]
    },
    {
      "cell_type": "markdown",
      "metadata": {
        "id": "AcPRnh3Z85iR"
      },
      "source": [
        "####**Caprock**"
      ]
    },
    {
      "cell_type": "code",
      "metadata": {
        "id": "ANzknzx3oDiW",
        "colab": {
          "base_uri": "https://localhost:8080/"
        },
        "outputId": "b3424887-17e4-4832-84ce-de36345f5953"
      },
      "source": [
        "caprock = pd.read_csv('/content/drive/MyDrive/Data Science Student Material/Capstone Project/Data/caprock.csv', header=1)\n",
        "caprock['wind speed at 100m (m/s)'].mean()   # Indicates Class_1 turbines"
      ],
      "execution_count": 335,
      "outputs": [
        {
          "output_type": "execute_result",
          "data": {
            "text/plain": [
              "9.301796803652971"
            ]
          },
          "metadata": {
            "tags": []
          },
          "execution_count": 335
        }
      ]
    },
    {
      "cell_type": "code",
      "metadata": {
        "id": "8UtLpfPOoKoW",
        "colab": {
          "base_uri": "https://localhost:8080/"
        },
        "outputId": "404f4c83-8ceb-4c54-9010-974073a2634a"
      },
      "source": [
        "pred_wind_power(caprock, power_curves['Class_1'])['kW'].sum() * 40/1000"
      ],
      "execution_count": 336,
      "outputs": [
        {
          "output_type": "execute_result",
          "data": {
            "text/plain": [
              "369286.66848"
            ]
          },
          "metadata": {
            "tags": []
          },
          "execution_count": 336
        }
      ]
    },
    {
      "cell_type": "code",
      "metadata": {
        "colab": {
          "base_uri": "https://localhost:8080/"
        },
        "id": "N-BPYkeGL5Gj",
        "outputId": "9517d1d7-f518-42ff-f0cb-e6d3164fe2f2"
      },
      "source": [
        "pred_pwr = pred_wind_power(caprock, power_curves['Class_1']).groupby('Month').sum().reset_index(drop=True)['kW'] * 40/1000\n",
        "\n",
        "act_pwr = monthly_wind_actual[monthly_wind_actual['Year']=='2014']['Caprock MWH'].sort_index(ascending=False).reset_index(drop=True)\n",
        "\n",
        "act_pwr - pred_pwr"
      ],
      "execution_count": 337,
      "outputs": [
        {
          "output_type": "execute_result",
          "data": {
            "text/plain": [
              "0    -4225.66248\n",
              "1    -9797.01768\n",
              "2    -3294.17552\n",
              "3    -4632.89192\n",
              "4    -1968.19416\n",
              "5    -1679.19032\n",
              "6    -7598.75864\n",
              "7    -3256.13544\n",
              "8    -3069.41888\n",
              "9    -2511.55808\n",
              "10   -4432.64704\n",
              "11   -6141.01832\n",
              "dtype: float64"
            ]
          },
          "metadata": {
            "tags": []
          },
          "execution_count": 337
        }
      ]
    },
    {
      "cell_type": "markdown",
      "metadata": {
        "id": "kXl4nBbq9Bip"
      },
      "source": [
        "####**San Juan**"
      ]
    },
    {
      "cell_type": "code",
      "metadata": {
        "id": "LWoTwk4aMnjZ"
      },
      "source": [
        "san_juan = pd.read_csv('/content/drive/MyDrive/Data Science Student Material/Capstone Project/Data/san_juan.csv', header=1)\n",
        "san_juan['wind speed at 100m (m/s)'].mean()   # Indicates Class_2 turbines"
      ],
      "execution_count": null,
      "outputs": []
    },
    {
      "cell_type": "code",
      "metadata": {
        "id": "5eHh7mb79L9W"
      },
      "source": [
        "pred_wind_power(san_juan, power_curves['Class_2'])['kW'].sum() * 60/1000"
      ],
      "execution_count": null,
      "outputs": []
    },
    {
      "cell_type": "code",
      "metadata": {
        "id": "5SUx55wbe2b2"
      },
      "source": [
        "pred_pwr = pred_wind_power(san_juan, power_curves['Class_2']).groupby('Month').sum().reset_index(drop=True)['kW'] * 60/1000\n",
        "\n",
        "act_pwr = monthly_wind_actual[monthly_wind_actual['Year']=='2014']['San Juan Mesa MWH'].sort_index(ascending=False).reset_index(drop=True)\n",
        "\n",
        "act_pwr - pred_pwr"
      ],
      "execution_count": null,
      "outputs": []
    },
    {
      "cell_type": "code",
      "metadata": {
        "id": "z0EXdVnifg79"
      },
      "source": [
        "act_pwr / pred_pwr"
      ],
      "execution_count": null,
      "outputs": []
    },
    {
      "cell_type": "markdown",
      "metadata": {
        "id": "4dIypro9BljM"
      },
      "source": [
        "####**Red Mesa**"
      ]
    },
    {
      "cell_type": "code",
      "metadata": {
        "id": "wpIWrLjXBy7n"
      },
      "source": [
        "red_mesa = pd.read_csv('/content/drive/MyDrive/Data Science Student Material/Capstone Project/Data/red_mesa.csv', header=1)\n",
        "red_mesa['wind speed at 100m (m/s)'].mean()   # Indicates Class_2 turbines"
      ],
      "execution_count": null,
      "outputs": []
    },
    {
      "cell_type": "code",
      "metadata": {
        "id": "zOEdyj30B36G"
      },
      "source": [
        "pred_wind_power(red_mesa, power_curves['Class_2'])['kW'].sum() * 51.2/1000"
      ],
      "execution_count": null,
      "outputs": []
    },
    {
      "cell_type": "markdown",
      "metadata": {
        "id": "oHsEQyFhE5nF"
      },
      "source": [
        "####**High Lonesome**"
      ]
    },
    {
      "cell_type": "code",
      "metadata": {
        "id": "NrkCHwtOE7HP"
      },
      "source": [
        "high_lonesome = pd.read_csv('/content/drive/MyDrive/Data Science Student Material/Capstone Project/Data/high_lonesome.csv', header=1)\n",
        "high_lonesome['wind speed at 100m (m/s)'].mean()   # Indicates Class_2 turbines"
      ],
      "execution_count": null,
      "outputs": []
    },
    {
      "cell_type": "code",
      "metadata": {
        "id": "5-atxnDaE-3r"
      },
      "source": [
        "pred_wind_power(high_lonesome, power_curves['Class_2'])['kW'].sum() * 50/1000"
      ],
      "execution_count": null,
      "outputs": []
    },
    {
      "cell_type": "markdown",
      "metadata": {
        "id": "gjktKzH9GdIK"
      },
      "source": [
        "####**Aragonne**"
      ]
    },
    {
      "cell_type": "code",
      "metadata": {
        "id": "CW0Ml3rgGelh"
      },
      "source": [
        "aragonne = pd.read_csv('/content/drive/MyDrive/Data Science Student Material/Capstone Project/Data/aragonne.csv', header=1)\n",
        "aragonne['wind speed at 100m (m/s)'].mean()   # Indicates Class_1 turbines"
      ],
      "execution_count": null,
      "outputs": []
    },
    {
      "cell_type": "code",
      "metadata": {
        "id": "Ak4b_MZvGexd"
      },
      "source": [
        "pred_wind_power(aragonne, power_curves['Class_1'])['kW'].sum() * 45/1000"
      ],
      "execution_count": null,
      "outputs": []
    },
    {
      "cell_type": "code",
      "metadata": {
        "id": "oUJ5lDOee5vh"
      },
      "source": [
        "pred_wind_power(aragonne, power_curves['Class_1']).groupby('Month').sum() * 45/1000"
      ],
      "execution_count": null,
      "outputs": []
    },
    {
      "cell_type": "markdown",
      "metadata": {
        "id": "Ch_naOg5SWx6"
      },
      "source": [
        "####**Macho Springs**"
      ]
    },
    {
      "cell_type": "code",
      "metadata": {
        "id": "2kiX2GEGSYzi",
        "colab": {
          "base_uri": "https://localhost:8080/"
        },
        "outputId": "ab773759-e649-483c-b4c8-789f5be958bf"
      },
      "source": [
        "macho_springs = pd.read_csv('/content/drive/MyDrive/Data Science Student Material/Capstone Project/Data/macho_springs.csv', header=1)\n",
        "macho_springs_temp = pd.read_csv('/content/drive/MyDrive/Data Science Student Material/Capstone Project/Data/macho-springs-temp.csv', header=1)\n",
        "macho_springs_pressure = pd.read_csv('/content/drive/MyDrive/Data Science Student Material/Capstone Project/Data/macho-springs-pressure.csv', header=1)\n",
        "\n",
        "macho_springs['wind speed at 100m (m/s)'].mean()   # Indicates Class_3 turbines"
      ],
      "execution_count": 338,
      "outputs": [
        {
          "output_type": "execute_result",
          "data": {
            "text/plain": [
              "6.411804794520562"
            ]
          },
          "metadata": {
            "tags": []
          },
          "execution_count": 338
        }
      ]
    },
    {
      "cell_type": "code",
      "metadata": {
        "id": "YFszXXMRSZA_",
        "colab": {
          "base_uri": "https://localhost:8080/"
        },
        "outputId": "a15645f3-0dbe-482e-e8ec-03c782669c22"
      },
      "source": [
        "pred_wind_power(macho_springs, power_curves['Class_3'])['kW'].sum() * 25.2/1000"
      ],
      "execution_count": 339,
      "outputs": [
        {
          "output_type": "execute_result",
          "data": {
            "text/plain": [
              "147777.5785248"
            ]
          },
          "metadata": {
            "tags": []
          },
          "execution_count": 339
        }
      ]
    },
    {
      "cell_type": "code",
      "metadata": {
        "id": "6e9uQw4ueDhi",
        "colab": {
          "base_uri": "https://localhost:8080/"
        },
        "outputId": "6676a1dd-99c6-496f-b9ae-6d287d3a659d"
      },
      "source": [
        "pred_wind_power2(macho_springs, power_curves['Class_3'], macho_springs_temp, macho_springs_pressure)['kW'].sum() * 25.2/1000"
      ],
      "execution_count": 340,
      "outputs": [
        {
          "output_type": "execute_result",
          "data": {
            "text/plain": [
              "122072.03541784798"
            ]
          },
          "metadata": {
            "tags": []
          },
          "execution_count": 340
        }
      ]
    },
    {
      "cell_type": "code",
      "metadata": {
        "colab": {
          "base_uri": "https://localhost:8080/"
        },
        "id": "X5L6dQMTcP_n",
        "outputId": "8ce54f34-f441-41f9-a000-90d8ea01b726"
      },
      "source": [
        "pred_pwr = pred_wind_power(macho_springs, power_curves['Class_3']).groupby('Month').sum().reset_index(drop=True)['kW'] * 25.2/1000\n",
        "\n",
        "act_pwr = monthly_wind_actual[monthly_wind_actual['Year']=='2014']['Macho Springs MWH'].sort_index(ascending=False).reset_index(drop=True)\n",
        "\n",
        "act_pwr / pred_pwr"
      ],
      "execution_count": 369,
      "outputs": [
        {
          "output_type": "execute_result",
          "data": {
            "text/plain": [
              "0     0.755765\n",
              "1     0.934287\n",
              "2     0.845186\n",
              "3     0.694427\n",
              "4     0.687130\n",
              "5     0.800066\n",
              "6     0.729922\n",
              "7     0.765447\n",
              "8     0.833311\n",
              "9     0.934105\n",
              "10    0.849567\n",
              "11    0.860693\n",
              "dtype: float64"
            ]
          },
          "metadata": {
            "tags": []
          },
          "execution_count": 369
        }
      ]
    },
    {
      "cell_type": "code",
      "metadata": {
        "colab": {
          "base_uri": "https://localhost:8080/"
        },
        "id": "q77V1VWwdmgt",
        "outputId": "f116fec3-365c-4b0d-b291-991097d1ab29"
      },
      "source": [
        "pred_wind_power2_macho = pred_wind_power2(macho_springs, power_curves['Class_3'], macho_springs_temp, macho_springs_pressure).groupby('Month').sum().reset_index(drop=True)['kW'] * 25.2/1000\n",
        "\n",
        "act_pwr / pred_wind_power2_macho"
      ],
      "execution_count": 370,
      "outputs": [
        {
          "output_type": "execute_result",
          "data": {
            "text/plain": [
              "0     0.888129\n",
              "1     1.112995\n",
              "2     1.011336\n",
              "3     0.837552\n",
              "4     0.845600\n",
              "5     1.005887\n",
              "6     0.911810\n",
              "7     0.946376\n",
              "8     1.018014\n",
              "9     1.134838\n",
              "10    1.008158\n",
              "11    1.008928\n",
              "dtype: float64"
            ]
          },
          "metadata": {
            "tags": []
          },
          "execution_count": 370
        }
      ]
    },
    {
      "cell_type": "code",
      "metadata": {
        "colab": {
          "base_uri": "https://localhost:8080/",
          "height": 0
        },
        "id": "WlPGLIuhps26",
        "outputId": "a4d2ea24-e2af-406e-9805-81c33c8217b4"
      },
      "source": [
        "plt.scatter(act_pwr, pred_wind_power2_macho)\n",
        "plt.plot([min(pred_wind_power2_macho), max(pred_wind_power2_macho)], [min(pred_wind_power2_macho), max(pred_wind_power2_macho)], c='red')"
      ],
      "execution_count": 371,
      "outputs": [
        {
          "output_type": "execute_result",
          "data": {
            "text/plain": [
              "[<matplotlib.lines.Line2D at 0x7f317a8e5f90>]"
            ]
          },
          "metadata": {
            "tags": []
          },
          "execution_count": 371
        },
        {
          "output_type": "display_data",
          "data": {
            "image/png": "[encoded data removed]",
            "text/plain": [
              "<Figure size 432x288 with 1 Axes>"
            ]
          },
          "metadata": {
            "tags": [],
            "needs_background": "light"
          }
        }
      ]
    },
    {
      "cell_type": "markdown",
      "metadata": {
        "id": "tDSQfeT5ZBhS"
      },
      "source": [
        "####**Wildcat - 2014**"
      ]
    },
    {
      "cell_type": "code",
      "metadata": {
        "id": "Zgbt79JFabLi",
        "colab": {
          "base_uri": "https://localhost:8080/"
        },
        "outputId": "2a531c20-78a4-4de8-cef2-9430eafaf828"
      },
      "source": [
        "wildcat = pd.read_csv('/content/drive/MyDrive/Data Science Student Material/Capstone Project/Data/wildcat.csv', header=1)\n",
        "wildcat_temp = pd.read_csv('/content/drive/MyDrive/Data Science Student Material/Capstone Project/Data/wildcat-temp.csv', header=1)\n",
        "wildcat_pressure = pd.read_csv('/content/drive/MyDrive/Data Science Student Material/Capstone Project/Data/wildcat-pressure.csv', header=1)\n",
        "\n",
        "wildcat['wind speed at 100m (m/s)'].mean()   # Indicates Class_3 turbines"
      ],
      "execution_count": 345,
      "outputs": [
        {
          "output_type": "execute_result",
          "data": {
            "text/plain": [
              "7.499834474885824"
            ]
          },
          "metadata": {
            "tags": []
          },
          "execution_count": 345
        }
      ]
    },
    {
      "cell_type": "code",
      "metadata": {
        "id": "S49HbZZkaeA9",
        "colab": {
          "base_uri": "https://localhost:8080/"
        },
        "outputId": "9059000f-f6b6-4c19-a911-67559503eff2"
      },
      "source": [
        "pred_wind_power(wildcat, power_curves['Class_3'])['kW'].sum() * 13.65/1000"
      ],
      "execution_count": 346,
      "outputs": [
        {
          "output_type": "execute_result",
          "data": {
            "text/plain": [
              "103131.7950936"
            ]
          },
          "metadata": {
            "tags": []
          },
          "execution_count": 346
        }
      ]
    },
    {
      "cell_type": "code",
      "metadata": {
        "colab": {
          "base_uri": "https://localhost:8080/"
        },
        "id": "TptREcZyFAr2",
        "outputId": "8c63dddd-8f60-4365-a6d4-f08a18407cc4"
      },
      "source": [
        "pred_wind_power2(wildcat, power_curves['Class_S97'], wildcat_temp, wildcat_pressure)['kW'].sum() * 13/1000"
      ],
      "execution_count": 347,
      "outputs": [
        {
          "output_type": "execute_result",
          "data": {
            "text/plain": [
              "105825.32200423047"
            ]
          },
          "metadata": {
            "tags": []
          },
          "execution_count": 347
        }
      ]
    },
    {
      "cell_type": "code",
      "metadata": {
        "id": "2TFC29yXHB55",
        "colab": {
          "base_uri": "https://localhost:8080/"
        },
        "outputId": "8e92fb04-20ac-483e-91db-6073a996d056"
      },
      "source": [
        "pred_pwr = pred_wind_power(wildcat, power_curves['Class_S97']).groupby('Month').sum().reset_index(drop=True)['kW'] * 13/1000\n",
        "\n",
        "act_pwr = monthly_wind_actual[monthly_wind_actual['Year']=='2014']['Wildcat MWH'].sort_index(ascending=False).reset_index(drop=True)\n",
        "\n",
        "act_pwr.sum() / pred_pwr.sum()"
      ],
      "execution_count": 357,
      "outputs": [
        {
          "output_type": "execute_result",
          "data": {
            "text/plain": [
              "0.7655019595103526"
            ]
          },
          "metadata": {
            "tags": []
          },
          "execution_count": 357
        }
      ]
    },
    {
      "cell_type": "code",
      "metadata": {
        "id": "QbV9Zu6IHBwl",
        "colab": {
          "base_uri": "https://localhost:8080/"
        },
        "outputId": "670cdf00-bb9b-4c43-83b8-03b8977e98a2"
      },
      "source": [
        "act_pwr / pred_pwr"
      ],
      "execution_count": 358,
      "outputs": [
        {
          "output_type": "execute_result",
          "data": {
            "text/plain": [
              "0     0.902508\n",
              "1     0.850314\n",
              "2     0.859936\n",
              "3     0.783264\n",
              "4     0.781419\n",
              "5     0.699035\n",
              "6     0.567223\n",
              "7     0.625872\n",
              "8     0.605800\n",
              "9     0.881663\n",
              "10    0.867301\n",
              "11    0.676146\n",
              "dtype: float64"
            ]
          },
          "metadata": {
            "tags": []
          },
          "execution_count": 358
        }
      ]
    },
    {
      "cell_type": "code",
      "metadata": {
        "colab": {
          "base_uri": "https://localhost:8080/"
        },
        "id": "EnfBEjH8F6CI",
        "outputId": "57d57d03-bdfc-47ec-e7b8-5e90b036ad61"
      },
      "source": [
        "pred_wind_power2_wildcat = pred_wind_power2(wildcat, power_curves['Class_S97'], wildcat_temp, wildcat_pressure).groupby('Month').sum().reset_index(drop=True)['kW'] * 13/1000\n",
        "print(act_pwr.sum() / pred_wind_power2_wildcat.sum())\n",
        "act_pwr / pred_wind_power2_wildcat "
      ],
      "execution_count": 359,
      "outputs": [
        {
          "output_type": "stream",
          "text": [
            "0.8964206127925388\n"
          ],
          "name": "stdout"
        },
        {
          "output_type": "execute_result",
          "data": {
            "text/plain": [
              "0     1.023790\n",
              "1     0.973463\n",
              "2     0.998502\n",
              "3     0.920814\n",
              "4     0.933684\n",
              "5     0.842733\n",
              "6     0.681748\n",
              "7     0.753999\n",
              "8     0.715974\n",
              "9     1.038034\n",
              "10    0.993258\n",
              "11    0.771499\n",
              "dtype: float64"
            ]
          },
          "metadata": {
            "tags": []
          },
          "execution_count": 359
        }
      ]
    },
    {
      "cell_type": "code",
      "metadata": {
        "colab": {
          "base_uri": "https://localhost:8080/",
          "height": 0
        },
        "id": "DzvQ8I1hBHyo",
        "outputId": "ec25038d-a0fd-44a8-f55f-3e780586022f"
      },
      "source": [
        "plt.scatter(act_pwr, pred_wind_power2_wildcat)\n",
        "plt.plot([min(pred_wind_power2_wildcat), max(pred_wind_power2_wildcat)], [min(pred_wind_power2_wildcat), max(pred_wind_power2_wildcat)], c='red')"
      ],
      "execution_count": 360,
      "outputs": [
        {
          "output_type": "execute_result",
          "data": {
            "text/plain": [
              "[<matplotlib.lines.Line2D at 0x7f317aaeb790>]"
            ]
          },
          "metadata": {
            "tags": []
          },
          "execution_count": 360
        },
        {
          "output_type": "display_data",
          "data": {
            "image/png": "[encoded data removed]",
            "text/plain": [
              "<Figure size 432x288 with 1 Axes>"
            ]
          },
          "metadata": {
            "tags": [],
            "needs_background": "light"
          }
        }
      ]
    },
    {
      "cell_type": "markdown",
      "metadata": {
        "id": "t5I5EwR3qVbb"
      },
      "source": [
        "####**Wildcat 2013**"
      ]
    },
    {
      "cell_type": "code",
      "metadata": {
        "colab": {
          "base_uri": "https://localhost:8080/"
        },
        "id": "Scq1vcyoqVbe",
        "outputId": "e7195570-0fb0-428d-d9ce-24c3bcab06dd"
      },
      "source": [
        "wildcat_2013 = pd.read_csv('/content/drive/MyDrive/Data Science Student Material/Capstone Project/Data/wildcat-wind-2013.csv', header=1)\n",
        "wildcat_temp_2013 = pd.read_csv('/content/drive/MyDrive/Data Science Student Material/Capstone Project/Data/wildcat-temp-2013.csv', header=1)\n",
        "wildcat_pressure_2013 = pd.read_csv('/content/drive/MyDrive/Data Science Student Material/Capstone Project/Data/wildcat-pressure-2013.csv', header=1)\n",
        "\n",
        "wildcat_2013['wind speed at 100m (m/s)'].mean()   # Indicates Class_3 turbines"
      ],
      "execution_count": 361,
      "outputs": [
        {
          "output_type": "execute_result",
          "data": {
            "text/plain": [
              "7.648914383561674"
            ]
          },
          "metadata": {
            "tags": []
          },
          "execution_count": 361
        }
      ]
    },
    {
      "cell_type": "code",
      "metadata": {
        "colab": {
          "base_uri": "https://localhost:8080/"
        },
        "id": "ocjJBJI4qVbf",
        "outputId": "f9c07d46-516c-4b36-a183-e0bd8dde5626"
      },
      "source": [
        "pred_wind_power(wildcat_2013, power_curves['Class_3'])['kW'].sum() * 13.65/1000"
      ],
      "execution_count": 362,
      "outputs": [
        {
          "output_type": "execute_result",
          "data": {
            "text/plain": [
              "108339.7171311"
            ]
          },
          "metadata": {
            "tags": []
          },
          "execution_count": 362
        }
      ]
    },
    {
      "cell_type": "code",
      "metadata": {
        "colab": {
          "base_uri": "https://localhost:8080/"
        },
        "id": "ewim89RUqVbf",
        "outputId": "8eadd880-cee5-46e4-ade4-17cfac2d64ef"
      },
      "source": [
        "pred_wind_power2(wildcat_2013, power_curves['Class_S97'], wildcat_temp_2013, wildcat_pressure_2013)['kW'].sum() * 13/1000"
      ],
      "execution_count": 363,
      "outputs": [
        {
          "output_type": "execute_result",
          "data": {
            "text/plain": [
              "111324.24018028748"
            ]
          },
          "metadata": {
            "tags": []
          },
          "execution_count": 363
        }
      ]
    },
    {
      "cell_type": "code",
      "metadata": {
        "colab": {
          "base_uri": "https://localhost:8080/"
        },
        "id": "oCukNWU2qVbg",
        "outputId": "fdd334e4-0141-46ac-ae08-619e85b5bdd8"
      },
      "source": [
        "pred_pwr = pred_wind_power(wildcat_2013, power_curves['Class_S97']).groupby('Month').sum().reset_index(drop=True)['kW'] * 13/1000\n",
        "\n",
        "act_pwr = monthly_wind_actual[monthly_wind_actual['Year']=='2013']['Wildcat MWH'].sort_index(ascending=False).reset_index(drop=True)\n",
        "\n",
        "act_pwr.sum() / pred_pwr.sum()"
      ],
      "execution_count": 364,
      "outputs": [
        {
          "output_type": "execute_result",
          "data": {
            "text/plain": [
              "0.7112239934569946"
            ]
          },
          "metadata": {
            "tags": []
          },
          "execution_count": 364
        }
      ]
    },
    {
      "cell_type": "code",
      "metadata": {
        "colab": {
          "base_uri": "https://localhost:8080/"
        },
        "id": "JBWPWGDoqVbg",
        "outputId": "515bf127-7911-4030-ca03-06d032c7f3d1"
      },
      "source": [
        "act_pwr / pred_pwr"
      ],
      "execution_count": 365,
      "outputs": [
        {
          "output_type": "execute_result",
          "data": {
            "text/plain": [
              "0     0.716782\n",
              "1     0.815789\n",
              "2     0.751048\n",
              "3     0.826614\n",
              "4     0.736147\n",
              "5     0.660518\n",
              "6     0.607662\n",
              "7     0.556137\n",
              "8     0.552186\n",
              "9     0.766899\n",
              "10    0.690047\n",
              "11    0.784952\n",
              "dtype: float64"
            ]
          },
          "metadata": {
            "tags": []
          },
          "execution_count": 365
        }
      ]
    },
    {
      "cell_type": "code",
      "metadata": {
        "colab": {
          "base_uri": "https://localhost:8080/"
        },
        "id": "kI3tLUBSqVbg",
        "outputId": "53d9b67b-dc72-44c8-996b-af1a51fa7e16"
      },
      "source": [
        "pred_wind_power2_wildcat = pred_wind_power2(wildcat_2013, power_curves['Class_S97'], wildcat_temp_2013, wildcat_pressure_2013).groupby('Month').sum().reset_index(drop=True)['kW'] * 13/1000\n",
        "act_pwr.sum() / pred_wind_power2_wildcat.sum()"
      ],
      "execution_count": 366,
      "outputs": [
        {
          "output_type": "execute_result",
          "data": {
            "text/plain": [
              "0.8271424071781361"
            ]
          },
          "metadata": {
            "tags": []
          },
          "execution_count": 366
        }
      ]
    },
    {
      "cell_type": "code",
      "metadata": {
        "colab": {
          "base_uri": "https://localhost:8080/",
          "height": 0
        },
        "id": "BO3uL02HqVbh",
        "outputId": "2f9c4953-bccc-450b-eddd-1673b19c1c42"
      },
      "source": [
        "plt.scatter(act_pwr, pred_wind_power2_wildcat)\n",
        "plt.plot([min(pred_wind_power2_wildcat), max(pred_wind_power2_wildcat)], [min(pred_wind_power2_wildcat), max(pred_wind_power2_wildcat)], c='red')"
      ],
      "execution_count": 367,
      "outputs": [
        {
          "output_type": "execute_result",
          "data": {
            "text/plain": [
              "[<matplotlib.lines.Line2D at 0x7f317a98cd10>]"
            ]
          },
          "metadata": {
            "tags": []
          },
          "execution_count": 367
        },
        {
          "output_type": "display_data",
          "data": {
            "image/png": "[encoded data removed]",
            "text/plain": [
              "<Figure size 432x288 with 1 Axes>"
            ]
          },
          "metadata": {
            "tags": [],
            "needs_background": "light"
          }
        }
      ]
    },
    {
      "cell_type": "markdown",
      "metadata": {
        "id": "w4lkh-r2dHY7"
      },
      "source": [
        "## Solar Data"
      ]
    },
    {
      "cell_type": "code",
      "metadata": {
        "id": "inuPzeScP2CD",
        "colab": {
          "base_uri": "https://localhost:8080/"
        },
        "outputId": "30c22a21-4d7d-468d-fa84-55cb310e6980"
      },
      "source": [
        "# Get solar at a POINT\n",
        "\n",
        "solar_url = 'https://developer.nrel.gov/api/nsrdb/v2/solar/psm3-download.csv?api_key=0WIF3emAV5iUrIyfYwk0Fcm5wUZGfwLVOlLD7Nc1'\n",
        "params_point = '&wkt=POINT(-104.633333+36.466667)'\n",
        "attributes = '&attributes=dhi,dni,ghi&names=2019&utc=false&leap_day=false&interval=60&email=kengustafson@gmail.com'\n",
        "\n",
        "point_res = requests.get(solar_url + params_point + attributes)\n",
        "\n",
        "content = {}\n",
        "if point_res.status_code == 200:\n",
        "    print(point_res.headers['content-type'])\n",
        "    content = point_res.content\n",
        "else:\n",
        "    print('ERROR')"
      ],
      "execution_count": 109,
      "outputs": [
        {
          "output_type": "stream",
          "text": [
            "text/csv\n"
          ],
          "name": "stdout"
        }
      ]
    },
    {
      "cell_type": "code",
      "metadata": {
        "id": "YjrPrBSXfWgv"
      },
      "source": [
        "# Open file\n",
        "filepath = directory + 'solar-' + params_point[5:] + '.csv'\n",
        "fd = os.open(filepath, os.O_CREAT|os.O_RDWR)\n",
        "# Write contents\n",
        "os.write(fd, content)\n",
        "# Close file\n",
        "os.close( fd )"
      ],
      "execution_count": 110,
      "outputs": []
    },
    {
      "cell_type": "markdown",
      "metadata": {
        "id": "LQONNnF8_SZW"
      },
      "source": [
        "### Estimate Solar Plant Outputs"
      ]
    },
    {
      "cell_type": "markdown",
      "metadata": {
        "id": "TepsoQX3Dlm8"
      },
      "source": [
        "###SunE SPS5 Hopi - 2014"
      ]
    },
    {
      "cell_type": "code",
      "metadata": {
        "id": "WkAHK2Il_a3c"
      },
      "source": [
        "sun_hopi = pd.read_csv('/content/drive/MyDrive/Data Science Student Material/Capstone Project/Data/solar-POINT(Sun_Hopi).csv', header=2)"
      ],
      "execution_count": 87,
      "outputs": []
    },
    {
      "cell_type": "code",
      "metadata": {
        "id": "qf6G9f5JLurG"
      },
      "source": [
        "sun_hopi.head(22)"
      ],
      "execution_count": null,
      "outputs": []
    },
    {
      "cell_type": "code",
      "metadata": {
        "id": "CaDMH_54Lvli"
      },
      "source": [
        "pred_sun_hopi = pred_solar_power(sun_hopi, 10.1).groupby('Month').sum().reset_index()\n",
        "pred_sun_hopi.head(22)"
      ],
      "execution_count": null,
      "outputs": []
    },
    {
      "cell_type": "code",
      "metadata": {
        "id": "06l1owhrPLDZ"
      },
      "source": [
        "pickle_data = pickle.load(open('/content/drive/MyDrive/Data Science Student Material/Capstone Project/Data Sets/dict_solar_data_m.p','rb'))\n",
        "\n",
        "monthly_solar_actual = pd.DataFrame.from_dict(pickle_data)\n",
        "monthly_solar_actual[['Month', 'Year']] = monthly_solar_actual['Month'].str.split(expand=True)"
      ],
      "execution_count": 91,
      "outputs": []
    },
    {
      "cell_type": "code",
      "metadata": {
        "id": "6NM20QWnf4K_"
      },
      "source": [
        "monthly_solar_actual"
      ],
      "execution_count": null,
      "outputs": []
    },
    {
      "cell_type": "code",
      "metadata": {
        "id": "arZt3cGNcdeg"
      },
      "source": [
        "act_sun_hopi = monthly_solar_actual[monthly_solar_actual['Year']=='2014']['SPS5_Hopi PV MWH'].sort_index(ascending=False).reset_index(drop=True)"
      ],
      "execution_count": 97,
      "outputs": []
    },
    {
      "cell_type": "code",
      "metadata": {
        "colab": {
          "base_uri": "https://localhost:8080/"
        },
        "id": "QN2NdBmrooBO",
        "outputId": "e8d108f6-bf83-454c-87a5-5a6c60ad5ca2"
      },
      "source": [
        "act_sun_hopi"
      ],
      "execution_count": 108,
      "outputs": [
        {
          "output_type": "execute_result",
          "data": {
            "text/plain": [
              "0      693.659\n",
              "1      669.590\n",
              "2      838.717\n",
              "3      810.539\n",
              "4     1507.792\n",
              "5     3347.103\n",
              "6     2781.969\n",
              "7     2730.214\n",
              "8     2459.651\n",
              "9     2610.315\n",
              "10    1975.455\n",
              "11    1607.996\n",
              "Name: SPS5_Hopi PV MWH, dtype: float64"
            ]
          },
          "metadata": {
            "tags": []
          },
          "execution_count": 108
        }
      ]
    },
    {
      "cell_type": "code",
      "metadata": {
        "colab": {
          "base_uri": "https://localhost:8080/"
        },
        "id": "HM-mGzPJG5af",
        "outputId": "c9404ed2-fbea-4db1-f95b-a50617b0d39e"
      },
      "source": [
        "act_sun_hopi / pred_sun_hopi['MW']"
      ],
      "execution_count": 105,
      "outputs": [
        {
          "output_type": "execute_result",
          "data": {
            "text/plain": [
              "0     0.581524\n",
              "1     0.566783\n",
              "2     0.454284\n",
              "3     0.379628\n",
              "4     0.609014\n",
              "5     1.412824\n",
              "6     1.201997\n",
              "7     1.334911\n",
              "8     1.692637\n",
              "9     1.637357\n",
              "10    1.717340\n",
              "11    1.868151\n",
              "dtype: float64"
            ]
          },
          "metadata": {
            "tags": []
          },
          "execution_count": 105
        }
      ]
    },
    {
      "cell_type": "code",
      "metadata": {
        "id": "v0GseIs6Fhve"
      },
      "source": [
        "sun_hopi_2019 = pd.read_csv('/content/drive/MyDrive/Data Science Student Material/Capstone Project/Data/solar-POINT(Sun_Hopi_2019).csv', header=2)"
      ],
      "execution_count": 84,
      "outputs": []
    },
    {
      "cell_type": "code",
      "metadata": {
        "colab": {
          "base_uri": "https://localhost:8080/",
          "height": 402
        },
        "id": "K11VlM-rFyMj",
        "outputId": "901c5903-c4a6-4ae7-c92b-b3c46e0927f8"
      },
      "source": [
        "pred_sun_hopi_2019 = pred_solar_power(sun_hopi_2019, 10.1).groupby('Month').sum().reset_index()\n",
        "pred_sun_hopi_2019.head(12)"
      ],
      "execution_count": 100,
      "outputs": [
        {
          "output_type": "execute_result",
          "data": {
            "text/html": [
              "<div>\n",
              "<style scoped>\n",
              "    .dataframe tbody tr th:only-of-type {\n",
              "        vertical-align: middle;\n",
              "    }\n",
              "\n",
              "    .dataframe tbody tr th {\n",
              "        vertical-align: top;\n",
              "    }\n",
              "\n",
              "    .dataframe thead th {\n",
              "        text-align: right;\n",
              "    }\n",
              "</style>\n",
              "<table border=\"1\" class=\"dataframe\">\n",
              "  <thead>\n",
              "    <tr style=\"text-align: right;\">\n",
              "      <th></th>\n",
              "      <th>Month</th>\n",
              "      <th>MW</th>\n",
              "    </tr>\n",
              "  </thead>\n",
              "  <tbody>\n",
              "    <tr>\n",
              "      <th>0</th>\n",
              "      <td>1</td>\n",
              "      <td>1062.7422</td>\n",
              "    </tr>\n",
              "    <tr>\n",
              "      <th>1</th>\n",
              "      <td>2</td>\n",
              "      <td>1253.4100</td>\n",
              "    </tr>\n",
              "    <tr>\n",
              "      <th>2</th>\n",
              "      <td>3</td>\n",
              "      <td>1536.5635</td>\n",
              "    </tr>\n",
              "    <tr>\n",
              "      <th>3</th>\n",
              "      <td>4</td>\n",
              "      <td>2083.9431</td>\n",
              "    </tr>\n",
              "    <tr>\n",
              "      <th>4</th>\n",
              "      <td>5</td>\n",
              "      <td>2321.0507</td>\n",
              "    </tr>\n",
              "    <tr>\n",
              "      <th>5</th>\n",
              "      <td>6</td>\n",
              "      <td>2431.5346</td>\n",
              "    </tr>\n",
              "    <tr>\n",
              "      <th>6</th>\n",
              "      <td>7</td>\n",
              "      <td>2357.2188</td>\n",
              "    </tr>\n",
              "    <tr>\n",
              "      <th>7</th>\n",
              "      <td>8</td>\n",
              "      <td>2147.5630</td>\n",
              "    </tr>\n",
              "    <tr>\n",
              "      <th>8</th>\n",
              "      <td>9</td>\n",
              "      <td>1729.4331</td>\n",
              "    </tr>\n",
              "    <tr>\n",
              "      <th>9</th>\n",
              "      <td>10</td>\n",
              "      <td>1553.9254</td>\n",
              "    </tr>\n",
              "    <tr>\n",
              "      <th>10</th>\n",
              "      <td>11</td>\n",
              "      <td>1021.1807</td>\n",
              "    </tr>\n",
              "    <tr>\n",
              "      <th>11</th>\n",
              "      <td>12</td>\n",
              "      <td>1003.7279</td>\n",
              "    </tr>\n",
              "  </tbody>\n",
              "</table>\n",
              "</div>"
            ],
            "text/plain": [
              "    Month         MW\n",
              "0       1  1062.7422\n",
              "1       2  1253.4100\n",
              "2       3  1536.5635\n",
              "3       4  2083.9431\n",
              "4       5  2321.0507\n",
              "5       6  2431.5346\n",
              "6       7  2357.2188\n",
              "7       8  2147.5630\n",
              "8       9  1729.4331\n",
              "9      10  1553.9254\n",
              "10     11  1021.1807\n",
              "11     12  1003.7279"
            ]
          },
          "metadata": {
            "tags": []
          },
          "execution_count": 100
        }
      ]
    },
    {
      "cell_type": "code",
      "metadata": {
        "id": "kfjxc9QFGjXl"
      },
      "source": [
        "act_sun_hopi_2019 = monthly_solar_actual[monthly_solar_actual['Year']=='2019']['SPS5_Hopi PV MWH'].sort_index(ascending=False).reset_index(drop=True)"
      ],
      "execution_count": 101,
      "outputs": []
    },
    {
      "cell_type": "code",
      "metadata": {
        "colab": {
          "base_uri": "https://localhost:8080/"
        },
        "id": "tO8dbWYaGvTk",
        "outputId": "e475f6d4-85a6-4ad2-8661-e24f2b50cec9"
      },
      "source": [
        "act_sun_hopi_2019"
      ],
      "execution_count": 102,
      "outputs": [
        {
          "output_type": "execute_result",
          "data": {
            "text/plain": [
              "0      966.891\n",
              "1     1018.813\n",
              "2     1517.745\n",
              "3     1786.727\n",
              "4     1902.194\n",
              "5     2139.610\n",
              "6     2025.227\n",
              "7     2061.649\n",
              "8     1701.821\n",
              "9     1672.813\n",
              "10    1039.684\n",
              "11     757.826\n",
              "Name: SPS5_Hopi PV MWH, dtype: float64"
            ]
          },
          "metadata": {
            "tags": []
          },
          "execution_count": 102
        }
      ]
    },
    {
      "cell_type": "code",
      "metadata": {
        "colab": {
          "base_uri": "https://localhost:8080/"
        },
        "id": "4Jd52lJTHJiA",
        "outputId": "f82e14a5-6725-40db-e6d4-4861a0123906"
      },
      "source": [
        "act_sun_hopi_2019 / pred_sun_hopi_2019['MW']"
      ],
      "execution_count": 106,
      "outputs": [
        {
          "output_type": "execute_result",
          "data": {
            "text/plain": [
              "0     0.909808\n",
              "1     0.812833\n",
              "2     0.987753\n",
              "3     0.857378\n",
              "4     0.819540\n",
              "5     0.879942\n",
              "6     0.859160\n",
              "7     0.959995\n",
              "8     0.984034\n",
              "9     1.076508\n",
              "10    1.018120\n",
              "11    0.755011\n",
              "dtype: float64"
            ]
          },
          "metadata": {
            "tags": []
          },
          "execution_count": 106
        }
      ]
    },
    {
      "cell_type": "markdown",
      "metadata": {
        "id": "J7hQSHabsPFD"
      },
      "source": [
        "###Cimarron - 30 MW"
      ]
    },
    {
      "cell_type": "code",
      "metadata": {
        "colab": {
          "base_uri": "https://localhost:8080/",
          "height": 402
        },
        "id": "3VfAnYjmtPin",
        "outputId": "05201dbe-2c8b-4b8d-99fc-58572284fe00"
      },
      "source": [
        "cimarron = pd.read_csv('/content/drive/MyDrive/Data Science Student Material/Capstone Project/Data/solar-POINT(Cimarron).csv', header=2)\n",
        "\n",
        "pred_cimarron = pred_solar_power(cimarron, 30).groupby('Month').sum().reset_index()\n",
        "pred_cimarron"
      ],
      "execution_count": 111,
      "outputs": [
        {
          "output_type": "execute_result",
          "data": {
            "text/html": [
              "<div>\n",
              "<style scoped>\n",
              "    .dataframe tbody tr th:only-of-type {\n",
              "        vertical-align: middle;\n",
              "    }\n",
              "\n",
              "    .dataframe tbody tr th {\n",
              "        vertical-align: top;\n",
              "    }\n",
              "\n",
              "    .dataframe thead th {\n",
              "        text-align: right;\n",
              "    }\n",
              "</style>\n",
              "<table border=\"1\" class=\"dataframe\">\n",
              "  <thead>\n",
              "    <tr style=\"text-align: right;\">\n",
              "      <th></th>\n",
              "      <th>Month</th>\n",
              "      <th>MW</th>\n",
              "    </tr>\n",
              "  </thead>\n",
              "  <tbody>\n",
              "    <tr>\n",
              "      <th>0</th>\n",
              "      <td>1</td>\n",
              "      <td>3007.44</td>\n",
              "    </tr>\n",
              "    <tr>\n",
              "      <th>1</th>\n",
              "      <td>2</td>\n",
              "      <td>3399.90</td>\n",
              "    </tr>\n",
              "    <tr>\n",
              "      <th>2</th>\n",
              "      <td>3</td>\n",
              "      <td>5220.87</td>\n",
              "    </tr>\n",
              "    <tr>\n",
              "      <th>3</th>\n",
              "      <td>4</td>\n",
              "      <td>5774.79</td>\n",
              "    </tr>\n",
              "    <tr>\n",
              "      <th>4</th>\n",
              "      <td>5</td>\n",
              "      <td>6680.13</td>\n",
              "    </tr>\n",
              "    <tr>\n",
              "      <th>5</th>\n",
              "      <td>6</td>\n",
              "      <td>7259.67</td>\n",
              "    </tr>\n",
              "    <tr>\n",
              "      <th>6</th>\n",
              "      <td>7</td>\n",
              "      <td>6256.14</td>\n",
              "    </tr>\n",
              "    <tr>\n",
              "      <th>7</th>\n",
              "      <td>8</td>\n",
              "      <td>6374.34</td>\n",
              "    </tr>\n",
              "    <tr>\n",
              "      <th>8</th>\n",
              "      <td>9</td>\n",
              "      <td>5096.13</td>\n",
              "    </tr>\n",
              "    <tr>\n",
              "      <th>9</th>\n",
              "      <td>10</td>\n",
              "      <td>4294.53</td>\n",
              "    </tr>\n",
              "    <tr>\n",
              "      <th>10</th>\n",
              "      <td>11</td>\n",
              "      <td>2926.68</td>\n",
              "    </tr>\n",
              "    <tr>\n",
              "      <th>11</th>\n",
              "      <td>12</td>\n",
              "      <td>2272.53</td>\n",
              "    </tr>\n",
              "  </tbody>\n",
              "</table>\n",
              "</div>"
            ],
            "text/plain": [
              "    Month       MW\n",
              "0       1  3007.44\n",
              "1       2  3399.90\n",
              "2       3  5220.87\n",
              "3       4  5774.79\n",
              "4       5  6680.13\n",
              "5       6  7259.67\n",
              "6       7  6256.14\n",
              "7       8  6374.34\n",
              "8       9  5096.13\n",
              "9      10  4294.53\n",
              "10     11  2926.68\n",
              "11     12  2272.53"
            ]
          },
          "metadata": {
            "tags": []
          },
          "execution_count": 111
        }
      ]
    },
    {
      "cell_type": "code",
      "metadata": {
        "colab": {
          "base_uri": "https://localhost:8080/"
        },
        "id": "lKn6Lyrjv7JU",
        "outputId": "8ceb53eb-8ad8-4a6e-9eec-96d97233fa31"
      },
      "source": [
        "pickle_data = pickle.load(open('/content/drive/MyDrive/Data Science Student Material/Capstone Project/Data Sets/dict_solar_data_m.p','rb'))\n",
        "monthly_solar_actual = pd.DataFrame.from_dict(pickle_data)\n",
        "monthly_solar_actual[['Month', 'Year']] = monthly_solar_actual['Month'].str.split(expand=True)\n",
        "\n",
        "act_cimarron = monthly_solar_actual[monthly_solar_actual['Year']=='2014']['Cimmaron PV MWH'].sort_index(ascending=False).reset_index(drop=True)\n",
        "print(act_cimarron.sum())\n",
        "act_cimarron #"
      ],
      "execution_count": 112,
      "outputs": [
        {
          "output_type": "stream",
          "text": [
            "62443.0\n"
          ],
          "name": "stdout"
        },
        {
          "output_type": "execute_result",
          "data": {
            "text/plain": [
              "0     4785.0\n",
              "1     4611.0\n",
              "2     5790.0\n",
              "3     5630.0\n",
              "4     5674.0\n",
              "5     6294.0\n",
              "6     5265.0\n",
              "7     6034.0\n",
              "8     5503.0\n",
              "9     5468.0\n",
              "10    4037.0\n",
              "11    3352.0\n",
              "Name: Cimmaron PV MWH, dtype: float64"
            ]
          },
          "metadata": {
            "tags": []
          },
          "execution_count": 112
        }
      ]
    },
    {
      "cell_type": "code",
      "metadata": {
        "colab": {
          "base_uri": "https://localhost:8080/"
        },
        "id": "6N4WtRr-l46C",
        "outputId": "83656cbc-1447-453c-c968-5c59228cb5d2"
      },
      "source": [
        "- pred_cimarron['MW']"
      ],
      "execution_count": 113,
      "outputs": [
        {
          "output_type": "execute_result",
          "data": {
            "text/plain": [
              "0    -3007.44\n",
              "1    -3399.90\n",
              "2    -5220.87\n",
              "3    -5774.79\n",
              "4    -6680.13\n",
              "5    -7259.67\n",
              "6    -6256.14\n",
              "7    -6374.34\n",
              "8    -5096.13\n",
              "9    -4294.53\n",
              "10   -2926.68\n",
              "11   -2272.53\n",
              "Name: MW, dtype: float64"
            ]
          },
          "metadata": {
            "tags": []
          },
          "execution_count": 113
        }
      ]
    },
    {
      "cell_type": "code",
      "metadata": {
        "colab": {
          "base_uri": "https://localhost:8080/"
        },
        "id": "e2vIOiiBt_Qy",
        "outputId": "0c6ecf40-ac0a-48e6-d839-481a9eee74a1"
      },
      "source": [
        "act_cimarron / pred_cimarron['MW']"
      ],
      "execution_count": 114,
      "outputs": [
        {
          "output_type": "execute_result",
          "data": {
            "text/plain": [
              "0     1.591054\n",
              "1     1.356216\n",
              "2     1.109011\n",
              "3     0.974927\n",
              "4     0.849385\n",
              "5     0.866982\n",
              "6     0.841573\n",
              "7     0.946608\n",
              "8     1.079839\n",
              "9     1.273248\n",
              "10    1.379379\n",
              "11    1.475008\n",
              "dtype: float64"
            ]
          },
          "metadata": {
            "tags": []
          },
          "execution_count": 114
        }
      ]
    }
  ]
}