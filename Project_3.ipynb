{
  "nbformat": 4,
  "nbformat_minor": 0,
  "metadata": {
    "colab": {
      "name": "Project - 3.ipynb",
      "provenance": [],
      "collapsed_sections": [
        "O0rlB3bBIQMU"
      ],
      "toc_visible": true,
      "mount_file_id": "1QXrL0_9ibNAHATEG1FVILfWL7rjI7L3M",
      "authorship_tag": "ABX9TyOIFK1sX8RV+qCi9S/88/JU"
    },
    "kernelspec": {
      "display_name": "Python 3",
      "name": "python3"
    }
  },
  "cells": [
    {
      "cell_type": "code",
      "metadata": {
        "id": "T1_DaGOH8Lhi"
      },
      "source": [
        "import pandas as pd\r\n",
        "import numpy as np\r\n",
        "import json\r\n",
        "import matplotlib.pyplot as plt\r\n",
        "import math\r\n",
        "import pickle\r\n",
        "from sklearn.tree import DecisionTreeRegressor\r\n",
        "from sklearn.metrics import mean_squared_error\r\n",
        "from sklearn.model_selection import train_test_split\r\n",
        "from sklearn.ensemble import RandomForestRegressor\r\n",
        "import xgboost as xgb"
      ],
      "execution_count": 107,
      "outputs": []
    },
    {
      "cell_type": "code",
      "metadata": {
        "id": "O0aeSHiO8vuA"
      },
      "source": [
        "file_path = '/content/drive/MyDrive/Data Science Student Material/Project 3 - Cohort 4/Data/Project_3_Movie_Data.csv'\r\n",
        "movies = pd.read_csv(file_path)"
      ],
      "execution_count": 108,
      "outputs": []
    },
    {
      "cell_type": "code",
      "metadata": {
        "id": "O7IiVeTdz0NR"
      },
      "source": [
        "# Supporting functions\r\n",
        "def extract_json(json_str, key, num=0):\r\n",
        "    \"\"\"Pass json string, 'key', optional number_of_elements to return (0==all).  Returns |-separated string of values\"\"\"\r\n",
        "    if num == 0:\r\n",
        "        num = len(json.loads(json_str))\r\n",
        "    else:\r\n",
        "        num = min(num, len(json.loads(json_str)))\r\n",
        "    data_dict = json.loads(json_str)\r\n",
        "    return '|'.join([data_dict[i][key] for i in range(num)])\r\n",
        "\r\n",
        "def rmspe(y_true, y_pred):\r\n",
        "    rmspe_val = np.sqrt(np.mean(np.square((y_true-y_pred)/y_true)))\r\n",
        "    return rmspe_val\r\n",
        "\r\n",
        "def root_mean_squared_percentage_error(y_true, y_predicted, y_shift):\r\n",
        "    rmspe = np.sqrt(np.mean(np.square((y_true - y_predicted)/(y_true + y_shift))))*100\r\n",
        "    return rmspe\r\n",
        "\r\n",
        "def root_mean_squared_error(y_true, y_predicted):\r\n",
        "    rmse = np.sqrt(np.mean(np.square(y_true - y_predicted)))*100\r\n",
        "    return rmse"
      ],
      "execution_count": 109,
      "outputs": []
    },
    {
      "cell_type": "code",
      "metadata": {
        "colab": {
          "base_uri": "https://localhost:8080/"
        },
        "id": "EiYxzi7mHY4E",
        "outputId": "bad4371c-d2f5-47cb-a66a-0da95d3ca0ba"
      },
      "source": [
        "movies.shape"
      ],
      "execution_count": 110,
      "outputs": [
        {
          "output_type": "execute_result",
          "data": {
            "text/plain": [
              "(4322, 24)"
            ]
          },
          "metadata": {
            "tags": []
          },
          "execution_count": 110
        }
      ]
    },
    {
      "cell_type": "code",
      "metadata": {
        "colab": {
          "base_uri": "https://localhost:8080/",
          "height": 458
        },
        "id": "rFfG4LwQHk0b",
        "outputId": "efd7885b-ca72-4c61-e1bf-261d328155b7"
      },
      "source": [
        "movies.head(3)"
      ],
      "execution_count": 111,
      "outputs": [
        {
          "output_type": "execute_result",
          "data": {
            "text/html": [
              "<div>\n",
              "<style scoped>\n",
              "    .dataframe tbody tr th:only-of-type {\n",
              "        vertical-align: middle;\n",
              "    }\n",
              "\n",
              "    .dataframe tbody tr th {\n",
              "        vertical-align: top;\n",
              "    }\n",
              "\n",
              "    .dataframe thead th {\n",
              "        text-align: right;\n",
              "    }\n",
              "</style>\n",
              "<table border=\"1\" class=\"dataframe\">\n",
              "  <thead>\n",
              "    <tr style=\"text-align: right;\">\n",
              "      <th></th>\n",
              "      <th>budget</th>\n",
              "      <th>genres</th>\n",
              "      <th>homepage</th>\n",
              "      <th>id</th>\n",
              "      <th>keywords</th>\n",
              "      <th>original_language</th>\n",
              "      <th>original_title</th>\n",
              "      <th>overview</th>\n",
              "      <th>popularity</th>\n",
              "      <th>production_companies</th>\n",
              "      <th>production_countries</th>\n",
              "      <th>release_date</th>\n",
              "      <th>runtime</th>\n",
              "      <th>spoken_languages</th>\n",
              "      <th>status</th>\n",
              "      <th>tagline</th>\n",
              "      <th>title</th>\n",
              "      <th>vote_average</th>\n",
              "      <th>vote_count</th>\n",
              "      <th>movie_id</th>\n",
              "      <th>title.1</th>\n",
              "      <th>cast</th>\n",
              "      <th>crew</th>\n",
              "      <th>revenue</th>\n",
              "    </tr>\n",
              "  </thead>\n",
              "  <tbody>\n",
              "    <tr>\n",
              "      <th>0</th>\n",
              "      <td>0</td>\n",
              "      <td>[{\"id\": 18, \"name\": \"Drama\"}, {\"id\": 10749, \"n...</td>\n",
              "      <td>NaN</td>\n",
              "      <td>44770</td>\n",
              "      <td>[{\"id\": 10183, \"name\": \"independent film\"}]</td>\n",
              "      <td>en</td>\n",
              "      <td>The Exploding Girl</td>\n",
              "      <td>On a summer break from college, Ivy, a young e...</td>\n",
              "      <td>0.611081</td>\n",
              "      <td>[]</td>\n",
              "      <td>[]</td>\n",
              "      <td>2009-04-22</td>\n",
              "      <td>80.0</td>\n",
              "      <td>[{\"iso_639_1\": \"en\", \"name\": \"English\"}]</td>\n",
              "      <td>Released</td>\n",
              "      <td>NaN</td>\n",
              "      <td>The Exploding Girl</td>\n",
              "      <td>6.4</td>\n",
              "      <td>15</td>\n",
              "      <td>44770</td>\n",
              "      <td>The Exploding Girl</td>\n",
              "      <td>[{\"cast_id\": 3, \"character\": \"Ivy\", \"credit_id...</td>\n",
              "      <td>[{\"credit_id\": \"52fe469bc3a36847f8108245\", \"de...</td>\n",
              "      <td>0</td>\n",
              "    </tr>\n",
              "    <tr>\n",
              "      <th>1</th>\n",
              "      <td>1500000</td>\n",
              "      <td>[{\"id\": 35, \"name\": \"Comedy\"}, {\"id\": 27, \"nam...</td>\n",
              "      <td>http://www.dhentertainment.com/projects/1.my-n...</td>\n",
              "      <td>1961</td>\n",
              "      <td>[{\"id\": 9755, \"name\": \"parody\"}, {\"id\": 33465,...</td>\n",
              "      <td>en</td>\n",
              "      <td>My Name Is Bruce</td>\n",
              "      <td>B Movie Legend Bruce Campbell is mistaken for ...</td>\n",
              "      <td>7.559100</td>\n",
              "      <td>[{\"name\": \"Dark Horse Entertainment\", \"id\": 55...</td>\n",
              "      <td>[{\"iso_3166_1\": \"US\", \"name\": \"United States o...</td>\n",
              "      <td>2007-10-01</td>\n",
              "      <td>86.0</td>\n",
              "      <td>[{\"iso_639_1\": \"en\", \"name\": \"English\"}]</td>\n",
              "      <td>Released</td>\n",
              "      <td>Fearless! Unstoppable! Ready For His Close-Up!</td>\n",
              "      <td>My Name Is Bruce</td>\n",
              "      <td>5.9</td>\n",
              "      <td>107</td>\n",
              "      <td>1961</td>\n",
              "      <td>My Name Is Bruce</td>\n",
              "      <td>[{\"cast_id\": 2, \"character\": \"Bruce Campbell\",...</td>\n",
              "      <td>[{\"credit_id\": \"52fe4326c3a36847f803e1bf\", \"de...</td>\n",
              "      <td>173066</td>\n",
              "    </tr>\n",
              "    <tr>\n",
              "      <th>2</th>\n",
              "      <td>25000000</td>\n",
              "      <td>[{\"id\": 35, \"name\": \"Comedy\"}, {\"id\": 18, \"nam...</td>\n",
              "      <td>http://whatjusthappenedfilm.com/</td>\n",
              "      <td>8944</td>\n",
              "      <td>[{\"id\": 887, \"name\": \"film producer\"}, {\"id\": ...</td>\n",
              "      <td>en</td>\n",
              "      <td>What Just Happened</td>\n",
              "      <td>During the course of an ordinary week in Holly...</td>\n",
              "      <td>8.316530</td>\n",
              "      <td>[{\"name\": \"2929 Productions\", \"id\": 846}, {\"na...</td>\n",
              "      <td>[{\"iso_3166_1\": \"US\", \"name\": \"United States o...</td>\n",
              "      <td>2008-10-17</td>\n",
              "      <td>104.0</td>\n",
              "      <td>[{\"iso_639_1\": \"fr\", \"name\": \"Fran\\u00e7ais\"},...</td>\n",
              "      <td>Released</td>\n",
              "      <td>Admit nothing.</td>\n",
              "      <td>What Just Happened</td>\n",
              "      <td>5.2</td>\n",
              "      <td>127</td>\n",
              "      <td>8944</td>\n",
              "      <td>What Just Happened</td>\n",
              "      <td>[{\"cast_id\": 2, \"character\": \"Himself\", \"credi...</td>\n",
              "      <td>[{\"credit_id\": \"56fa7d06c3a3681937002bd9\", \"de...</td>\n",
              "      <td>6673422</td>\n",
              "    </tr>\n",
              "  </tbody>\n",
              "</table>\n",
              "</div>"
            ],
            "text/plain": [
              "     budget  ...  revenue\n",
              "0         0  ...        0\n",
              "1   1500000  ...   173066\n",
              "2  25000000  ...  6673422\n",
              "\n",
              "[3 rows x 24 columns]"
            ]
          },
          "metadata": {
            "tags": []
          },
          "execution_count": 111
        }
      ]
    },
    {
      "cell_type": "markdown",
      "metadata": {
        "id": "SW8_65mPHulx"
      },
      "source": [
        "## Data Cleaning"
      ]
    },
    {
      "cell_type": "code",
      "metadata": {
        "id": "yt3QSzWpdEEb"
      },
      "source": [
        "movies_clean = movies.copy()"
      ],
      "execution_count": 112,
      "outputs": []
    },
    {
      "cell_type": "code",
      "metadata": {
        "colab": {
          "base_uri": "https://localhost:8080/",
          "height": 181
        },
        "id": "IZdeHJSzBzhP",
        "outputId": "3423c819-465b-4445-d4ca-f69e6aad29e6"
      },
      "source": [
        "# Drop columns that don't provide useful information: tagline, title, movie_id, title.1, overview, original_title, id, homepage\r\n",
        "# ?Drop 'status' != Released before column drop?\r\n",
        "movies_clean.drop(columns=['tagline', 'title', 'movie_id', 'title.1', 'overview', 'original_title', 'id', 'homepage'], inplace=True)\r\n",
        "movies_clean.head(1)"
      ],
      "execution_count": 113,
      "outputs": [
        {
          "output_type": "execute_result",
          "data": {
            "text/html": [
              "<div>\n",
              "<style scoped>\n",
              "    .dataframe tbody tr th:only-of-type {\n",
              "        vertical-align: middle;\n",
              "    }\n",
              "\n",
              "    .dataframe tbody tr th {\n",
              "        vertical-align: top;\n",
              "    }\n",
              "\n",
              "    .dataframe thead th {\n",
              "        text-align: right;\n",
              "    }\n",
              "</style>\n",
              "<table border=\"1\" class=\"dataframe\">\n",
              "  <thead>\n",
              "    <tr style=\"text-align: right;\">\n",
              "      <th></th>\n",
              "      <th>budget</th>\n",
              "      <th>genres</th>\n",
              "      <th>keywords</th>\n",
              "      <th>original_language</th>\n",
              "      <th>popularity</th>\n",
              "      <th>production_companies</th>\n",
              "      <th>production_countries</th>\n",
              "      <th>release_date</th>\n",
              "      <th>runtime</th>\n",
              "      <th>spoken_languages</th>\n",
              "      <th>status</th>\n",
              "      <th>vote_average</th>\n",
              "      <th>vote_count</th>\n",
              "      <th>cast</th>\n",
              "      <th>crew</th>\n",
              "      <th>revenue</th>\n",
              "    </tr>\n",
              "  </thead>\n",
              "  <tbody>\n",
              "    <tr>\n",
              "      <th>0</th>\n",
              "      <td>0</td>\n",
              "      <td>[{\"id\": 18, \"name\": \"Drama\"}, {\"id\": 10749, \"n...</td>\n",
              "      <td>[{\"id\": 10183, \"name\": \"independent film\"}]</td>\n",
              "      <td>en</td>\n",
              "      <td>0.611081</td>\n",
              "      <td>[]</td>\n",
              "      <td>[]</td>\n",
              "      <td>2009-04-22</td>\n",
              "      <td>80.0</td>\n",
              "      <td>[{\"iso_639_1\": \"en\", \"name\": \"English\"}]</td>\n",
              "      <td>Released</td>\n",
              "      <td>6.4</td>\n",
              "      <td>15</td>\n",
              "      <td>[{\"cast_id\": 3, \"character\": \"Ivy\", \"credit_id...</td>\n",
              "      <td>[{\"credit_id\": \"52fe469bc3a36847f8108245\", \"de...</td>\n",
              "      <td>0</td>\n",
              "    </tr>\n",
              "  </tbody>\n",
              "</table>\n",
              "</div>"
            ],
            "text/plain": [
              "   budget  ... revenue\n",
              "0       0  ...       0\n",
              "\n",
              "[1 rows x 16 columns]"
            ]
          },
          "metadata": {
            "tags": []
          },
          "execution_count": 113
        }
      ]
    },
    {
      "cell_type": "code",
      "metadata": {
        "colab": {
          "base_uri": "https://localhost:8080/"
        },
        "id": "VgqhKat2UybK",
        "outputId": "5d114b94-c4dd-4ea5-ce81-4675c060d4f5"
      },
      "source": [
        "# Look at Zero-budget/Zero-revenue movies\r\n",
        "sum((movies_clean['budget']==0).apply(int) & (movies_clean['revenue']==0).apply(int))"
      ],
      "execution_count": 114,
      "outputs": [
        {
          "output_type": "execute_result",
          "data": {
            "text/plain": [
              "799"
            ]
          },
          "metadata": {
            "tags": []
          },
          "execution_count": 114
        }
      ]
    },
    {
      "cell_type": "code",
      "metadata": {
        "id": "DyRBAGnm3IhE"
      },
      "source": [
        "# Drop observations with zero budget, less than $1000 revenue\r\n",
        "movies_clean = movies_clean[movies_clean['budget']>0]\r\n",
        "movies_clean = movies_clean[movies_clean['revenue']>1000]\r\n",
        "movies_clean = movies_clean.reset_index(drop=True)"
      ],
      "execution_count": 115,
      "outputs": []
    },
    {
      "cell_type": "code",
      "metadata": {
        "colab": {
          "base_uri": "https://localhost:8080/"
        },
        "id": "4-kz_McrO4L6",
        "outputId": "eb855b2f-5d1f-4b8d-fe6b-c178894fb29a"
      },
      "source": [
        "# Clean up genres column/remove empty's\r\n",
        "print(movies_clean.shape)\r\n",
        "print(movies_clean['genres'][movies_clean['genres'].apply(len)<3].count())\r\n",
        "movies_clean = movies_clean[movies_clean['genres'].apply(len)>2]\r\n",
        "print(movies_clean.shape)"
      ],
      "execution_count": 116,
      "outputs": [
        {
          "output_type": "stream",
          "text": [
            "(2897, 16)\n",
            "1\n",
            "(2896, 16)\n"
          ],
          "name": "stdout"
        }
      ]
    },
    {
      "cell_type": "code",
      "metadata": {
        "colab": {
          "base_uri": "https://localhost:8080/"
        },
        "id": "PYu8Myh9tBoi",
        "outputId": "d49e5518-9c9b-4d34-deb6-e10a0ab7dc34"
      },
      "source": [
        "# Clean up 'production_companies' column.  35 empty crew observation\r\n",
        "print(movies_clean.shape)\r\n",
        "print(movies_clean['production_companies'][movies_clean['production_companies'].apply(len)<3].count())\r\n",
        "movies_clean = movies_clean[movies_clean['production_companies'].apply(len)>2]\r\n",
        "print(movies_clean.shape)"
      ],
      "execution_count": 117,
      "outputs": [
        {
          "output_type": "stream",
          "text": [
            "(2896, 16)\n",
            "35\n",
            "(2861, 16)\n"
          ],
          "name": "stdout"
        }
      ]
    },
    {
      "cell_type": "code",
      "metadata": {
        "colab": {
          "base_uri": "https://localhost:8080/"
        },
        "id": "0Y48ecQ1MI_N",
        "outputId": "c0abbab9-363c-43e3-ee60-b0533f9627cc"
      },
      "source": [
        "# Clean up 'cast' column.  1 empty cast observations\r\n",
        "print(movies_clean.shape)\r\n",
        "print(movies_clean['cast'][movies_clean['cast'].apply(len)<3].count())\r\n",
        "movies_clean = movies_clean[movies_clean['cast'].apply(len)>2]\r\n",
        "print(movies_clean.shape)"
      ],
      "execution_count": 118,
      "outputs": [
        {
          "output_type": "stream",
          "text": [
            "(2861, 16)\n",
            "1\n",
            "(2860, 16)\n"
          ],
          "name": "stdout"
        }
      ]
    },
    {
      "cell_type": "code",
      "metadata": {
        "colab": {
          "base_uri": "https://localhost:8080/"
        },
        "id": "J4iOPv0zGfEt",
        "outputId": "b15b0f1c-f6e8-4501-cbff-1cf83a3fc967"
      },
      "source": [
        "# Clean up 'crew' column.  1 empty crew observation\r\n",
        "print(movies_clean.shape)\r\n",
        "print(movies_clean['crew'][movies_clean['crew'].apply(len)<3].count())\r\n",
        "movies_clean = movies_clean[movies_clean['crew'].apply(len)>2]\r\n",
        "print(movies_clean.shape)"
      ],
      "execution_count": 119,
      "outputs": [
        {
          "output_type": "stream",
          "text": [
            "(2860, 16)\n",
            "1\n",
            "(2859, 16)\n"
          ],
          "name": "stdout"
        }
      ]
    },
    {
      "cell_type": "code",
      "metadata": {
        "colab": {
          "base_uri": "https://localhost:8080/"
        },
        "id": "nyngRlUTL51O",
        "outputId": "249ac5b6-404d-43b8-cf46-9a1eba8435e4"
      },
      "source": [
        "# Clean up 'release_date' column.\r\n",
        "print(movies_clean.shape)\r\n",
        "print(movies_clean['release_date'][movies_clean['release_date'].apply(len)<3].count())\r\n",
        "movies_clean = movies_clean[movies_clean['release_date'].apply(len)>1]\r\n",
        "print(movies_clean.shape)\r\n",
        "\r\n",
        "#movies_clean['release_date'] = movies_clean['release_date'].astype(int)"
      ],
      "execution_count": 120,
      "outputs": [
        {
          "output_type": "stream",
          "text": [
            "(2859, 16)\n",
            "0\n",
            "(2859, 16)\n"
          ],
          "name": "stdout"
        }
      ]
    },
    {
      "cell_type": "code",
      "metadata": {
        "id": "Wlypp_4GH9mC"
      },
      "source": [
        "movies_clean = movies_clean.reset_index(drop=True)"
      ],
      "execution_count": 121,
      "outputs": []
    },
    {
      "cell_type": "code",
      "metadata": {
        "colab": {
          "base_uri": "https://localhost:8080/",
          "height": 278
        },
        "id": "mRzp6fonzyfI",
        "outputId": "f9b9dbe3-6c36-4f3d-c066-55b4a7c355fc"
      },
      "source": [
        "# One-hot encode genres\r\n",
        "#movies_clean['genre_names'] = movies_clean['genres'].apply(lambda s: '|'.join([e['name'] for e in json.loads(s)]))\r\n",
        "#genre_one_hot = movies_clean['genre_names'].str.get_dummies('|')\r\n",
        "#movies_clean_one_hot = pd.concat([movies_clean, genre_one_hot], axis=1)\r\n",
        "movies_clean_one_hot = movies_clean.copy()\r\n",
        "movies_clean_one_hot.head(2)"
      ],
      "execution_count": 122,
      "outputs": [
        {
          "output_type": "execute_result",
          "data": {
            "text/html": [
              "<div>\n",
              "<style scoped>\n",
              "    .dataframe tbody tr th:only-of-type {\n",
              "        vertical-align: middle;\n",
              "    }\n",
              "\n",
              "    .dataframe tbody tr th {\n",
              "        vertical-align: top;\n",
              "    }\n",
              "\n",
              "    .dataframe thead th {\n",
              "        text-align: right;\n",
              "    }\n",
              "</style>\n",
              "<table border=\"1\" class=\"dataframe\">\n",
              "  <thead>\n",
              "    <tr style=\"text-align: right;\">\n",
              "      <th></th>\n",
              "      <th>budget</th>\n",
              "      <th>genres</th>\n",
              "      <th>keywords</th>\n",
              "      <th>original_language</th>\n",
              "      <th>popularity</th>\n",
              "      <th>production_companies</th>\n",
              "      <th>production_countries</th>\n",
              "      <th>release_date</th>\n",
              "      <th>runtime</th>\n",
              "      <th>spoken_languages</th>\n",
              "      <th>status</th>\n",
              "      <th>vote_average</th>\n",
              "      <th>vote_count</th>\n",
              "      <th>cast</th>\n",
              "      <th>crew</th>\n",
              "      <th>revenue</th>\n",
              "    </tr>\n",
              "  </thead>\n",
              "  <tbody>\n",
              "    <tr>\n",
              "      <th>0</th>\n",
              "      <td>1500000</td>\n",
              "      <td>[{\"id\": 35, \"name\": \"Comedy\"}, {\"id\": 27, \"nam...</td>\n",
              "      <td>[{\"id\": 9755, \"name\": \"parody\"}, {\"id\": 33465,...</td>\n",
              "      <td>en</td>\n",
              "      <td>7.55910</td>\n",
              "      <td>[{\"name\": \"Dark Horse Entertainment\", \"id\": 55...</td>\n",
              "      <td>[{\"iso_3166_1\": \"US\", \"name\": \"United States o...</td>\n",
              "      <td>2007-10-01</td>\n",
              "      <td>86.0</td>\n",
              "      <td>[{\"iso_639_1\": \"en\", \"name\": \"English\"}]</td>\n",
              "      <td>Released</td>\n",
              "      <td>5.9</td>\n",
              "      <td>107</td>\n",
              "      <td>[{\"cast_id\": 2, \"character\": \"Bruce Campbell\",...</td>\n",
              "      <td>[{\"credit_id\": \"52fe4326c3a36847f803e1bf\", \"de...</td>\n",
              "      <td>173066</td>\n",
              "    </tr>\n",
              "    <tr>\n",
              "      <th>1</th>\n",
              "      <td>25000000</td>\n",
              "      <td>[{\"id\": 35, \"name\": \"Comedy\"}, {\"id\": 18, \"nam...</td>\n",
              "      <td>[{\"id\": 887, \"name\": \"film producer\"}, {\"id\": ...</td>\n",
              "      <td>en</td>\n",
              "      <td>8.31653</td>\n",
              "      <td>[{\"name\": \"2929 Productions\", \"id\": 846}, {\"na...</td>\n",
              "      <td>[{\"iso_3166_1\": \"US\", \"name\": \"United States o...</td>\n",
              "      <td>2008-10-17</td>\n",
              "      <td>104.0</td>\n",
              "      <td>[{\"iso_639_1\": \"fr\", \"name\": \"Fran\\u00e7ais\"},...</td>\n",
              "      <td>Released</td>\n",
              "      <td>5.2</td>\n",
              "      <td>127</td>\n",
              "      <td>[{\"cast_id\": 2, \"character\": \"Himself\", \"credi...</td>\n",
              "      <td>[{\"credit_id\": \"56fa7d06c3a3681937002bd9\", \"de...</td>\n",
              "      <td>6673422</td>\n",
              "    </tr>\n",
              "  </tbody>\n",
              "</table>\n",
              "</div>"
            ],
            "text/plain": [
              "     budget  ...  revenue\n",
              "0   1500000  ...   173066\n",
              "1  25000000  ...  6673422\n",
              "\n",
              "[2 rows x 16 columns]"
            ]
          },
          "metadata": {
            "tags": []
          },
          "execution_count": 122
        }
      ]
    },
    {
      "cell_type": "code",
      "metadata": {
        "id": "4EwnDj82XcWu"
      },
      "source": [
        "# Pull out all production_companies\r\n",
        "production_companies_df = pd.DataFrame(columns=['production_companies'])\r\n",
        "for row in movies_clean_one_hot.iterrows():\r\n",
        "    for i in range(len(json.loads(row[1][5]))):   # row[1][5] is production_countries string\r\n",
        "        production_companies_df = pd.concat([production_companies_df, pd.DataFrame([{'production_companies':json.loads(row[1][5])[i]['name']}])], ignore_index=True)"
      ],
      "execution_count": 123,
      "outputs": []
    },
    {
      "cell_type": "code",
      "metadata": {
        "colab": {
          "base_uri": "https://localhost:8080/"
        },
        "id": "38XH0N3zX3RK",
        "outputId": "6dcbf0f8-720b-4360-87e8-4060ef89794b"
      },
      "source": [
        "print(production_companies_df.shape)\r\n",
        "production_companies_df.value_counts()"
      ],
      "execution_count": 124,
      "outputs": [
        {
          "output_type": "stream",
          "text": [
            "(9217, 1)\n"
          ],
          "name": "stdout"
        },
        {
          "output_type": "execute_result",
          "data": {
            "text/plain": [
              "production_companies                  \n",
              "Universal Pictures                        250\n",
              "Warner Bros.                              249\n",
              "Paramount Pictures                        218\n",
              "Twentieth Century Fox Film Corporation    181\n",
              "Columbia Pictures                         146\n",
              "                                         ... \n",
              "Neufeld Rehme Productions                   1\n",
              "Neo Art & Logic                             1\n",
              "Nelson Entertainment                        1\n",
              "Nederlandse Programma Stichting (NPS)       1\n",
              "\"DIA\" Productions GmbH & Co. KG             1\n",
              "Length: 3290, dtype: int64"
            ]
          },
          "metadata": {
            "tags": []
          },
          "execution_count": 124
        }
      ]
    },
    {
      "cell_type": "code",
      "metadata": {
        "id": "TIoh2mIXaH6k"
      },
      "source": [
        "# Create dataframe from production_companies_df.value_counts()\r\n",
        "production_companies_counts_df = pd.concat([production_companies_df.value_counts().index.get_level_values(0).to_frame(index=False), pd.DataFrame(production_companies_df.value_counts().values, columns=['count'])], axis=1)"
      ],
      "execution_count": 125,
      "outputs": []
    },
    {
      "cell_type": "code",
      "metadata": {
        "colab": {
          "base_uri": "https://localhost:8080/",
          "height": 278
        },
        "id": "BJi_jmHXhsd6",
        "outputId": "4627c656-53de-4967-b5b7-19c4756cd743"
      },
      "source": [
        "# Create production_companies rank summation\r\n",
        "comp_counts = movies_clean_one_hot['production_companies'].apply(lambda s: sum([int(production_companies_counts_df[production_companies_counts_df['production_companies']==comp['name']]['count']) for comp in json.loads(s)]))\r\n",
        "comp_counts.rename('production_rank', inplace=True)\r\n",
        "movies_clean_one_hot = pd.concat([movies_clean_one_hot, comp_counts], axis=1)\r\n",
        "#movies_clean_one_hot.drop(['production_companies', 'production_companies_names'], axis=1, inplace=True)\r\n",
        "movies_clean_one_hot.head(2)"
      ],
      "execution_count": 126,
      "outputs": [
        {
          "output_type": "execute_result",
          "data": {
            "text/html": [
              "<div>\n",
              "<style scoped>\n",
              "    .dataframe tbody tr th:only-of-type {\n",
              "        vertical-align: middle;\n",
              "    }\n",
              "\n",
              "    .dataframe tbody tr th {\n",
              "        vertical-align: top;\n",
              "    }\n",
              "\n",
              "    .dataframe thead th {\n",
              "        text-align: right;\n",
              "    }\n",
              "</style>\n",
              "<table border=\"1\" class=\"dataframe\">\n",
              "  <thead>\n",
              "    <tr style=\"text-align: right;\">\n",
              "      <th></th>\n",
              "      <th>budget</th>\n",
              "      <th>genres</th>\n",
              "      <th>keywords</th>\n",
              "      <th>original_language</th>\n",
              "      <th>popularity</th>\n",
              "      <th>production_companies</th>\n",
              "      <th>production_countries</th>\n",
              "      <th>release_date</th>\n",
              "      <th>runtime</th>\n",
              "      <th>spoken_languages</th>\n",
              "      <th>status</th>\n",
              "      <th>vote_average</th>\n",
              "      <th>vote_count</th>\n",
              "      <th>cast</th>\n",
              "      <th>crew</th>\n",
              "      <th>revenue</th>\n",
              "      <th>production_rank</th>\n",
              "    </tr>\n",
              "  </thead>\n",
              "  <tbody>\n",
              "    <tr>\n",
              "      <th>0</th>\n",
              "      <td>1500000</td>\n",
              "      <td>[{\"id\": 35, \"name\": \"Comedy\"}, {\"id\": 27, \"nam...</td>\n",
              "      <td>[{\"id\": 9755, \"name\": \"parody\"}, {\"id\": 33465,...</td>\n",
              "      <td>en</td>\n",
              "      <td>7.55910</td>\n",
              "      <td>[{\"name\": \"Dark Horse Entertainment\", \"id\": 55...</td>\n",
              "      <td>[{\"iso_3166_1\": \"US\", \"name\": \"United States o...</td>\n",
              "      <td>2007-10-01</td>\n",
              "      <td>86.0</td>\n",
              "      <td>[{\"iso_639_1\": \"en\", \"name\": \"English\"}]</td>\n",
              "      <td>Released</td>\n",
              "      <td>5.9</td>\n",
              "      <td>107</td>\n",
              "      <td>[{\"cast_id\": 2, \"character\": \"Bruce Campbell\",...</td>\n",
              "      <td>[{\"credit_id\": \"52fe4326c3a36847f803e1bf\", \"de...</td>\n",
              "      <td>173066</td>\n",
              "      <td>11</td>\n",
              "    </tr>\n",
              "    <tr>\n",
              "      <th>1</th>\n",
              "      <td>25000000</td>\n",
              "      <td>[{\"id\": 35, \"name\": \"Comedy\"}, {\"id\": 18, \"nam...</td>\n",
              "      <td>[{\"id\": 887, \"name\": \"film producer\"}, {\"id\": ...</td>\n",
              "      <td>en</td>\n",
              "      <td>8.31653</td>\n",
              "      <td>[{\"name\": \"2929 Productions\", \"id\": 846}, {\"na...</td>\n",
              "      <td>[{\"iso_3166_1\": \"US\", \"name\": \"United States o...</td>\n",
              "      <td>2008-10-17</td>\n",
              "      <td>104.0</td>\n",
              "      <td>[{\"iso_639_1\": \"fr\", \"name\": \"Fran\\u00e7ais\"},...</td>\n",
              "      <td>Released</td>\n",
              "      <td>5.2</td>\n",
              "      <td>127</td>\n",
              "      <td>[{\"cast_id\": 2, \"character\": \"Himself\", \"credi...</td>\n",
              "      <td>[{\"credit_id\": \"56fa7d06c3a3681937002bd9\", \"de...</td>\n",
              "      <td>6673422</td>\n",
              "      <td>24</td>\n",
              "    </tr>\n",
              "  </tbody>\n",
              "</table>\n",
              "</div>"
            ],
            "text/plain": [
              "     budget  ... production_rank\n",
              "0   1500000  ...              11\n",
              "1  25000000  ...              24\n",
              "\n",
              "[2 rows x 17 columns]"
            ]
          },
          "metadata": {
            "tags": []
          },
          "execution_count": 126
        }
      ]
    },
    {
      "cell_type": "code",
      "metadata": {
        "colab": {
          "base_uri": "https://localhost:8080/"
        },
        "id": "NGD4F72xhsKz",
        "outputId": "3a27389c-bbe0-4025-9f24-d0daf41e01d7"
      },
      "source": [
        "movies_clean_one_hot.shape"
      ],
      "execution_count": 127,
      "outputs": [
        {
          "output_type": "execute_result",
          "data": {
            "text/plain": [
              "(2859, 17)"
            ]
          },
          "metadata": {
            "tags": []
          },
          "execution_count": 127
        }
      ]
    },
    {
      "cell_type": "code",
      "metadata": {
        "id": "QEEJY6An6Ds-"
      },
      "source": [
        "# Create dataframe from .value_counts()\r\n",
        "#cast_counts_df = pd.concat([cast_df.value_counts().index.get_level_values(0).to_frame(index=False), pd.DataFrame(cast_df.value_counts().values, columns=['count'])], axis=1)"
      ],
      "execution_count": 128,
      "outputs": []
    },
    {
      "cell_type": "code",
      "metadata": {
        "id": "2yig-vc7fsCo"
      },
      "source": [
        "#cast_counts_df"
      ],
      "execution_count": 129,
      "outputs": []
    },
    {
      "cell_type": "code",
      "metadata": {
        "cellView": "code",
        "id": "mkoFkY0n7G4f"
      },
      "source": [
        "\"\"\"\n",
        "cast_revenue_df = pd.DataFrame(columns=['name', 'revenue'])\n",
        "\n",
        "for row in movies_clean_one_hot.iterrows():\n",
        "    for i in range(len(json.loads(row[1][13]))):   # row[1][21] is cast string in ORIGINAL dataset\n",
        "        cast_revenue_df = pd.concat([cast_revenue_df, pd.DataFrame([{'name':json.loads(row[1][13])[i]['name'], 'revenue':row[1][15]*math.exp(-0.4*i)}])], ignore_index=True)\n",
        "\n",
        "cast_revenue_df.to_csv('/content/drive/MyDrive/Colab Notebooks/cast_revenue_budget.csv', index=False)\n",
        "\"\"\"\n",
        "cast_revenue_df = pd.read_csv('/content/drive/MyDrive/Colab Notebooks/cast_revenue_budget.csv')"
      ],
      "execution_count": 130,
      "outputs": []
    },
    {
      "cell_type": "code",
      "metadata": {
        "id": "Nr0d-MTc2TLs"
      },
      "source": [
        "cast_revenue_df_unique = pd.unique(cast_revenue_df['name'])"
      ],
      "execution_count": 131,
      "outputs": []
    },
    {
      "cell_type": "code",
      "metadata": {
        "colab": {
          "base_uri": "https://localhost:8080/"
        },
        "id": "qsolTuabpR-S",
        "outputId": "17b0301b-cb86-4079-84a8-c8a647d1853a"
      },
      "source": [
        "cast_revenue_df_unique"
      ],
      "execution_count": 132,
      "outputs": [
        {
          "output_type": "execute_result",
          "data": {
            "text/plain": [
              "array(['Bruce Campbell', 'Grace Thorsen', 'Ted Raimi', ...,\n",
              "       'Katelynn Tilley', 'Catherine Natale', 'Blair Redford'],\n",
              "      dtype=object)"
            ]
          },
          "metadata": {
            "tags": []
          },
          "execution_count": 132
        }
      ]
    },
    {
      "cell_type": "code",
      "metadata": {
        "id": "wEBOcYlaeouj",
        "colab": {
          "base_uri": "https://localhost:8080/",
          "height": 69
        },
        "outputId": "d5c0b30e-16db-4fbf-ff23-076432650645"
      },
      "source": [
        "\"\"\"\r\n",
        "cast_cumm_revenue = pd.DataFrame(columns=['name', 'cumm_revenue'])\r\n",
        "\r\n",
        "for name in cast_revenue_df_unique:\r\n",
        "    cast_cumm_revenue = cast_cumm_revenue.append({'name': name, 'cumm_revenue': sum([row[1][1] for row in cast_revenue_df[cast_revenue_df['name'] == name].iterrows()])}, ignore_index=True)\r\n",
        "\r\n",
        "#cast_cumm_revenue = cast_cumm_revenue.sort_values(by='cumm_revenue', ascending=False)\r\n",
        "\"\"\""
      ],
      "execution_count": 133,
      "outputs": [
        {
          "output_type": "execute_result",
          "data": {
            "application/vnd.google.colaboratory.intrinsic+json": {
              "type": "string"
            },
            "text/plain": [
              "\"\\ncast_cumm_revenue = pd.DataFrame(columns=['name', 'cumm_revenue'])\\n\\nfor name in cast_revenue_df_unique:\\n    cast_cumm_revenue = cast_cumm_revenue.append({'name': name, 'cumm_revenue': sum([row[1][1] for row in cast_revenue_df[cast_revenue_df['name'] == name].iterrows()])}, ignore_index=True)\\n\\n#cast_cumm_revenue = cast_cumm_revenue.sort_values(by='cumm_revenue', ascending=False)\\n\""
            ]
          },
          "metadata": {
            "tags": []
          },
          "execution_count": 133
        }
      ]
    },
    {
      "cell_type": "code",
      "metadata": {
        "id": "Rb9fan__Rv_3"
      },
      "source": [
        "#cast_cumm_revenue.to_csv('/content/drive/MyDrive/Colab Notebooks/cast_cumm_revenue_budget.csv', index=False)\r\n",
        "cast_cumm_revenue = pd.read_csv('/content/drive/MyDrive/Colab Notebooks/cast_cumm_revenue_budget.csv')"
      ],
      "execution_count": 134,
      "outputs": []
    },
    {
      "cell_type": "code",
      "metadata": {
        "colab": {
          "base_uri": "https://localhost:8080/",
          "height": 69
        },
        "id": "5Db11ggtsOsc",
        "outputId": "230eda25-cb2e-4709-9ddc-e3f34ed71a49"
      },
      "source": [
        "# Concat a 'cast_worth' column to movies, which comprises a weighted-sum of all cast member's cummulative worth\r\n",
        "\"\"\"\r\n",
        "cast_worth = pd.DataFrame(columns=['cast_worth'])\r\n",
        "for row in movies_clean_one_hot.iterrows():\r\n",
        "    cast_worth = pd.concat([cast_worth, pd.DataFrame({'cast_worth': sum([int(cast_cumm_revenue[cast_cumm_revenue['name']==e['name']]['cumm_revenue'])*math.exp(-0.4*i) for i,e in enumerate(json.loads(row[1][13]))])}, index=[0])], ignore_index=True)\r\n",
        "\"\"\""
      ],
      "execution_count": 135,
      "outputs": [
        {
          "output_type": "execute_result",
          "data": {
            "application/vnd.google.colaboratory.intrinsic+json": {
              "type": "string"
            },
            "text/plain": [
              "\"\\ncast_worth = pd.DataFrame(columns=['cast_worth'])\\nfor row in movies_clean_one_hot.iterrows():\\n    cast_worth = pd.concat([cast_worth, pd.DataFrame({'cast_worth': sum([int(cast_cumm_revenue[cast_cumm_revenue['name']==e['name']]['cumm_revenue'])*math.exp(-0.4*i) for i,e in enumerate(json.loads(row[1][13]))])}, index=[0])], ignore_index=True)\\n\""
            ]
          },
          "metadata": {
            "tags": []
          },
          "execution_count": 135
        }
      ]
    },
    {
      "cell_type": "code",
      "metadata": {
        "id": "4uohPYKF0Bui"
      },
      "source": [
        "#cast_worth.to_csv('/content/drive/MyDrive/Colab Notebooks/cast_worth.csv', index=False)\r\n",
        "cast_worth = pd.read_csv('/content/drive/MyDrive/Colab Notebooks/cast_worth.csv')"
      ],
      "execution_count": 136,
      "outputs": []
    },
    {
      "cell_type": "code",
      "metadata": {
        "id": "pm2bviB5Sk_i"
      },
      "source": [
        "movies_clean_one_hot['cast_worth'] = cast_worth"
      ],
      "execution_count": 137,
      "outputs": []
    },
    {
      "cell_type": "code",
      "metadata": {
        "id": "cfD1o5_qHQXh",
        "colab": {
          "base_uri": "https://localhost:8080/",
          "height": 52
        },
        "outputId": "94b2b2a3-c11a-4e93-ce3c-0c9891107906"
      },
      "source": [
        "# Add director column\r\n",
        "\"\"\"\r\n",
        "director = []\r\n",
        "for row in movies_clean.iterrows():\r\n",
        "    for e in json.loads(row[1][14]):\r\n",
        "        if e['job']=='Director':\r\n",
        "            director.append(e['name'])\r\n",
        "            break\r\n",
        "\"\"\""
      ],
      "execution_count": 138,
      "outputs": [
        {
          "output_type": "execute_result",
          "data": {
            "application/vnd.google.colaboratory.intrinsic+json": {
              "type": "string"
            },
            "text/plain": [
              "\"\\ndirector = []\\nfor row in movies_clean.iterrows():\\n    for e in json.loads(row[1][14]):\\n        if e['job']=='Director':\\n            director.append(e['name'])\\n            break\\n\""
            ]
          },
          "metadata": {
            "tags": []
          },
          "execution_count": 138
        }
      ]
    },
    {
      "cell_type": "code",
      "metadata": {
        "id": "YUjGIWXmymmp"
      },
      "source": [
        "#movies_clean_one_hot = pd.concat([movies_clean_one_hot, pd.DataFrame(director, columns=['director'])], axis=1)"
      ],
      "execution_count": 139,
      "outputs": []
    },
    {
      "cell_type": "code",
      "metadata": {
        "id": "Vs10U1ZjEOvs"
      },
      "source": [
        "movies_clean_one_hot['release_date'] = movies_clean_one_hot['release_date'].str.slice(start=5, stop=7).apply(int)\r\n",
        "#movies_clean['release_date'] = movies_clean['release_date'].astype(int)"
      ],
      "execution_count": 140,
      "outputs": []
    },
    {
      "cell_type": "code",
      "metadata": {
        "colab": {
          "base_uri": "https://localhost:8080/",
          "height": 585
        },
        "id": "FgpNH6EfEOcS",
        "outputId": "a443bbd2-2af6-42e2-8814-35de8e02a666"
      },
      "source": [
        "movies_clean_one_hot.head()"
      ],
      "execution_count": 141,
      "outputs": [
        {
          "output_type": "execute_result",
          "data": {
            "text/html": [
              "<div>\n",
              "<style scoped>\n",
              "    .dataframe tbody tr th:only-of-type {\n",
              "        vertical-align: middle;\n",
              "    }\n",
              "\n",
              "    .dataframe tbody tr th {\n",
              "        vertical-align: top;\n",
              "    }\n",
              "\n",
              "    .dataframe thead th {\n",
              "        text-align: right;\n",
              "    }\n",
              "</style>\n",
              "<table border=\"1\" class=\"dataframe\">\n",
              "  <thead>\n",
              "    <tr style=\"text-align: right;\">\n",
              "      <th></th>\n",
              "      <th>budget</th>\n",
              "      <th>genres</th>\n",
              "      <th>keywords</th>\n",
              "      <th>original_language</th>\n",
              "      <th>popularity</th>\n",
              "      <th>production_companies</th>\n",
              "      <th>production_countries</th>\n",
              "      <th>release_date</th>\n",
              "      <th>runtime</th>\n",
              "      <th>spoken_languages</th>\n",
              "      <th>status</th>\n",
              "      <th>vote_average</th>\n",
              "      <th>vote_count</th>\n",
              "      <th>cast</th>\n",
              "      <th>crew</th>\n",
              "      <th>revenue</th>\n",
              "      <th>production_rank</th>\n",
              "      <th>cast_worth</th>\n",
              "    </tr>\n",
              "  </thead>\n",
              "  <tbody>\n",
              "    <tr>\n",
              "      <th>0</th>\n",
              "      <td>1500000</td>\n",
              "      <td>[{\"id\": 35, \"name\": \"Comedy\"}, {\"id\": 27, \"nam...</td>\n",
              "      <td>[{\"id\": 9755, \"name\": \"parody\"}, {\"id\": 33465,...</td>\n",
              "      <td>en</td>\n",
              "      <td>7.559100</td>\n",
              "      <td>[{\"name\": \"Dark Horse Entertainment\", \"id\": 55...</td>\n",
              "      <td>[{\"iso_3166_1\": \"US\", \"name\": \"United States o...</td>\n",
              "      <td>10</td>\n",
              "      <td>86.0</td>\n",
              "      <td>[{\"iso_639_1\": \"en\", \"name\": \"English\"}]</td>\n",
              "      <td>Released</td>\n",
              "      <td>5.9</td>\n",
              "      <td>107</td>\n",
              "      <td>[{\"cast_id\": 2, \"character\": \"Bruce Campbell\",...</td>\n",
              "      <td>[{\"credit_id\": \"52fe4326c3a36847f803e1bf\", \"de...</td>\n",
              "      <td>173066</td>\n",
              "      <td>11</td>\n",
              "      <td>1.423051e+08</td>\n",
              "    </tr>\n",
              "    <tr>\n",
              "      <th>1</th>\n",
              "      <td>25000000</td>\n",
              "      <td>[{\"id\": 35, \"name\": \"Comedy\"}, {\"id\": 18, \"nam...</td>\n",
              "      <td>[{\"id\": 887, \"name\": \"film producer\"}, {\"id\": ...</td>\n",
              "      <td>en</td>\n",
              "      <td>8.316530</td>\n",
              "      <td>[{\"name\": \"2929 Productions\", \"id\": 846}, {\"na...</td>\n",
              "      <td>[{\"iso_3166_1\": \"US\", \"name\": \"United States o...</td>\n",
              "      <td>10</td>\n",
              "      <td>104.0</td>\n",
              "      <td>[{\"iso_639_1\": \"fr\", \"name\": \"Fran\\u00e7ais\"},...</td>\n",
              "      <td>Released</td>\n",
              "      <td>5.2</td>\n",
              "      <td>127</td>\n",
              "      <td>[{\"cast_id\": 2, \"character\": \"Himself\", \"credi...</td>\n",
              "      <td>[{\"credit_id\": \"56fa7d06c3a3681937002bd9\", \"de...</td>\n",
              "      <td>6673422</td>\n",
              "      <td>24</td>\n",
              "      <td>7.610422e+09</td>\n",
              "    </tr>\n",
              "    <tr>\n",
              "      <th>2</th>\n",
              "      <td>140000000</td>\n",
              "      <td>[{\"id\": 28, \"name\": \"Action\"}, {\"id\": 53, \"nam...</td>\n",
              "      <td>[{\"id\": 83, \"name\": \"saving the world\"}, {\"id\"...</td>\n",
              "      <td>en</td>\n",
              "      <td>58.485967</td>\n",
              "      <td>[{\"name\": \"Jerry Bruckheimer Films\", \"id\": 130...</td>\n",
              "      <td>[{\"iso_3166_1\": \"US\", \"name\": \"United States o...</td>\n",
              "      <td>7</td>\n",
              "      <td>151.0</td>\n",
              "      <td>[{\"iso_639_1\": \"en\", \"name\": \"English\"}, {\"iso...</td>\n",
              "      <td>Released</td>\n",
              "      <td>6.4</td>\n",
              "      <td>2482</td>\n",
              "      <td>[{\"cast_id\": 7, \"character\": \"Harry S. Stamper...</td>\n",
              "      <td>[{\"credit_id\": \"5491a0a4c3a368466b001ce7\", \"de...</td>\n",
              "      <td>553799566</td>\n",
              "      <td>108</td>\n",
              "      <td>6.953074e+09</td>\n",
              "    </tr>\n",
              "    <tr>\n",
              "      <th>3</th>\n",
              "      <td>70000000</td>\n",
              "      <td>[{\"id\": 27, \"name\": \"Horror\"}, {\"id\": 28, \"nam...</td>\n",
              "      <td>[{\"id\": 3133, \"name\": \"vampire\"}, {\"id\": 3633,...</td>\n",
              "      <td>en</td>\n",
              "      <td>64.457947</td>\n",
              "      <td>[{\"name\": \"Universal Pictures\", \"id\": 33}, {\"n...</td>\n",
              "      <td>[{\"iso_3166_1\": \"US\", \"name\": \"United States o...</td>\n",
              "      <td>10</td>\n",
              "      <td>92.0</td>\n",
              "      <td>[{\"iso_639_1\": \"en\", \"name\": \"English\"}]</td>\n",
              "      <td>Released</td>\n",
              "      <td>6.2</td>\n",
              "      <td>2389</td>\n",
              "      <td>[{\"cast_id\": 6, \"character\": \"Dracula / Vlad T...</td>\n",
              "      <td>[{\"credit_id\": \"545e6edf0e0a261fb300708a\", \"de...</td>\n",
              "      <td>215529201</td>\n",
              "      <td>307</td>\n",
              "      <td>7.620041e+08</td>\n",
              "    </tr>\n",
              "    <tr>\n",
              "      <th>4</th>\n",
              "      <td>10500000</td>\n",
              "      <td>[{\"id\": 878, \"name\": \"Science Fiction\"}, {\"id\"...</td>\n",
              "      <td>[{\"id\": 305, \"name\": \"moon\"}, {\"id\": 306, \"nam...</td>\n",
              "      <td>en</td>\n",
              "      <td>86.201184</td>\n",
              "      <td>[{\"name\": \"Stanley Kubrick Productions\", \"id\":...</td>\n",
              "      <td>[{\"iso_3166_1\": \"US\", \"name\": \"United States o...</td>\n",
              "      <td>4</td>\n",
              "      <td>149.0</td>\n",
              "      <td>[{\"iso_639_1\": \"en\", \"name\": \"English\"}, {\"iso...</td>\n",
              "      <td>Released</td>\n",
              "      <td>7.9</td>\n",
              "      <td>2998</td>\n",
              "      <td>[{\"cast_id\": 6, \"character\": \"Dr. Dave Bowman\"...</td>\n",
              "      <td>[{\"credit_id\": \"52fe4212c3a36847f8001a05\", \"de...</td>\n",
              "      <td>68700000</td>\n",
              "      <td>80</td>\n",
              "      <td>1.255667e+08</td>\n",
              "    </tr>\n",
              "  </tbody>\n",
              "</table>\n",
              "</div>"
            ],
            "text/plain": [
              "      budget  ...    cast_worth\n",
              "0    1500000  ...  1.423051e+08\n",
              "1   25000000  ...  7.610422e+09\n",
              "2  140000000  ...  6.953074e+09\n",
              "3   70000000  ...  7.620041e+08\n",
              "4   10500000  ...  1.255667e+08\n",
              "\n",
              "[5 rows x 18 columns]"
            ]
          },
          "metadata": {
            "tags": []
          },
          "execution_count": 141
        }
      ]
    },
    {
      "cell_type": "markdown",
      "metadata": {
        "id": "O0rlB3bBIQMU"
      },
      "source": [
        "## Exploratory Data Analysis"
      ]
    },
    {
      "cell_type": "code",
      "metadata": {
        "colab": {
          "base_uri": "https://localhost:8080/",
          "height": 0
        },
        "id": "WwdwwhkpEAqz",
        "outputId": "97fb08e8-9fae-4d5d-9862-411bb1279037"
      },
      "source": [
        "# Popularity histogram\r\n",
        "plt.hist(movies_clean_one_hot['popularity'], bins=50);"
      ],
      "execution_count": 142,
      "outputs": [
        {
          "output_type": "display_data",
          "data": {
            "image/png": "[encoded data removed]",
            "text/plain": [
              "<Figure size 432x288 with 1 Axes>"
            ]
          },
          "metadata": {
            "tags": [],
            "needs_background": "light"
          }
        }
      ]
    },
    {
      "cell_type": "code",
      "metadata": {
        "colab": {
          "base_uri": "https://localhost:8080/",
          "height": 0
        },
        "id": "G27XC05yY7ax",
        "outputId": "1c78be83-6810-4515-fb65-ec6d726c6994"
      },
      "source": [
        "movies_clean_one_hot['vote_average'].hist();"
      ],
      "execution_count": 143,
      "outputs": [
        {
          "output_type": "display_data",
          "data": {
            "image/png": "[encoded data removed]",
            "text/plain": [
              "<Figure size 432x288 with 1 Axes>"
            ]
          },
          "metadata": {
            "tags": [],
            "needs_background": "light"
          }
        }
      ]
    },
    {
      "cell_type": "code",
      "metadata": {
        "colab": {
          "base_uri": "https://localhost:8080/",
          "height": 0
        },
        "id": "DaBvMukYcAGK",
        "outputId": "e6634078-b8b8-4502-b9a6-ed44f6084547"
      },
      "source": [
        "movies_clean_one_hot.plot(kind='scatter', x='budget', y='revenue', title='stuff vs. stuff');"
      ],
      "execution_count": 144,
      "outputs": [
        {
          "output_type": "display_data",
          "data": {
            "image/png": "[encoded data removed]",
            "text/plain": [
              "<Figure size 432x288 with 1 Axes>"
            ]
          },
          "metadata": {
            "tags": [],
            "needs_background": "light"
          }
        }
      ]
    },
    {
      "cell_type": "code",
      "metadata": {
        "colab": {
          "base_uri": "https://localhost:8080/",
          "height": 0
        },
        "id": "s_82eSgaY7Y0",
        "outputId": "c0e6f7cd-979b-4b47-f8b6-e6ad887acf71"
      },
      "source": [
        "# vote_count\r\n",
        "movies_clean_one_hot['vote_count'].hist();"
      ],
      "execution_count": 145,
      "outputs": [
        {
          "output_type": "display_data",
          "data": {
            "image/png": "[encoded data removed]",
            "text/plain": [
              "<Figure size 432x288 with 1 Axes>"
            ]
          },
          "metadata": {
            "tags": [],
            "needs_background": "light"
          }
        }
      ]
    },
    {
      "cell_type": "code",
      "metadata": {
        "colab": {
          "base_uri": "https://localhost:8080/",
          "height": 0
        },
        "id": "AL5DxIFjsOo2",
        "outputId": "72bffd2a-6eeb-473e-e674-b37b42dfc47b"
      },
      "source": [
        "movies_clean_one_hot['cast_worth'].hist();"
      ],
      "execution_count": 146,
      "outputs": [
        {
          "output_type": "display_data",
          "data": {
            "image/png": "[encoded data removed]",
            "text/plain": [
              "<Figure size 432x288 with 1 Axes>"
            ]
          },
          "metadata": {
            "tags": [],
            "needs_background": "light"
          }
        }
      ]
    },
    {
      "cell_type": "code",
      "metadata": {
        "colab": {
          "base_uri": "https://localhost:8080/",
          "height": 0
        },
        "id": "IJ9E-XC8Sk6g",
        "outputId": "3837f311-5661-48d3-fbab-8d14644657dc"
      },
      "source": [
        "movies_clean_one_hot.plot(kind='scatter', loglog=True, x='cast_worth', y='revenue', title='stuff vs. stuff');"
      ],
      "execution_count": 147,
      "outputs": [
        {
          "output_type": "display_data",
          "data": {
            "image/png": "[encoded data removed]",
            "text/plain": [
              "<Figure size 432x288 with 1 Axes>"
            ]
          },
          "metadata": {
            "tags": [],
            "needs_background": "light"
          }
        }
      ]
    },
    {
      "cell_type": "code",
      "metadata": {
        "colab": {
          "base_uri": "https://localhost:8080/"
        },
        "id": "7OqdCz5nCNnp",
        "outputId": "f26cf77b-6d60-4b26-fc03-c0bae473c104"
      },
      "source": [
        "movies_clean_one_hot.corr()['revenue']"
      ],
      "execution_count": 148,
      "outputs": [
        {
          "output_type": "execute_result",
          "data": {
            "text/plain": [
              "budget             0.692080\n",
              "popularity         0.591160\n",
              "release_date       0.041604\n",
              "runtime            0.228287\n",
              "vote_average       0.197997\n",
              "vote_count         0.757363\n",
              "revenue            1.000000\n",
              "production_rank    0.236240\n",
              "cast_worth         0.488982\n",
              "Name: revenue, dtype: float64"
            ]
          },
          "metadata": {
            "tags": []
          },
          "execution_count": 148
        }
      ]
    },
    {
      "cell_type": "markdown",
      "metadata": {
        "id": "HFZFiXqZAUiR"
      },
      "source": [
        "## Data Processing"
      ]
    },
    {
      "cell_type": "code",
      "metadata": {
        "id": "zZOedLEGAWfI"
      },
      "source": [
        "y = movies_clean_one_hot['revenue']\r\n",
        "X = movies_clean_one_hot.drop('revenue', axis=1).copy()\r\n",
        "#X.drop(['genres','keywords','status','original_language','production_companies','production_countries','spoken_languages','cast','crew','genre_names'], axis=1, inplace=True)\r\n",
        "X.drop(['genres','keywords','status','original_language','production_companies','production_countries','spoken_languages','cast','crew'], axis=1, inplace=True)"
      ],
      "execution_count": 149,
      "outputs": []
    },
    {
      "cell_type": "code",
      "metadata": {
        "colab": {
          "base_uri": "https://localhost:8080/",
          "height": 195
        },
        "id": "XzmqVgRtA_yk",
        "outputId": "d72501b0-8e2f-490a-8c80-ecbf08547631"
      },
      "source": [
        "X.head()"
      ],
      "execution_count": 150,
      "outputs": [
        {
          "output_type": "execute_result",
          "data": {
            "text/html": [
              "<div>\n",
              "<style scoped>\n",
              "    .dataframe tbody tr th:only-of-type {\n",
              "        vertical-align: middle;\n",
              "    }\n",
              "\n",
              "    .dataframe tbody tr th {\n",
              "        vertical-align: top;\n",
              "    }\n",
              "\n",
              "    .dataframe thead th {\n",
              "        text-align: right;\n",
              "    }\n",
              "</style>\n",
              "<table border=\"1\" class=\"dataframe\">\n",
              "  <thead>\n",
              "    <tr style=\"text-align: right;\">\n",
              "      <th></th>\n",
              "      <th>budget</th>\n",
              "      <th>popularity</th>\n",
              "      <th>release_date</th>\n",
              "      <th>runtime</th>\n",
              "      <th>vote_average</th>\n",
              "      <th>vote_count</th>\n",
              "      <th>production_rank</th>\n",
              "      <th>cast_worth</th>\n",
              "    </tr>\n",
              "  </thead>\n",
              "  <tbody>\n",
              "    <tr>\n",
              "      <th>0</th>\n",
              "      <td>1500000</td>\n",
              "      <td>7.559100</td>\n",
              "      <td>10</td>\n",
              "      <td>86.0</td>\n",
              "      <td>5.9</td>\n",
              "      <td>107</td>\n",
              "      <td>11</td>\n",
              "      <td>1.423051e+08</td>\n",
              "    </tr>\n",
              "    <tr>\n",
              "      <th>1</th>\n",
              "      <td>25000000</td>\n",
              "      <td>8.316530</td>\n",
              "      <td>10</td>\n",
              "      <td>104.0</td>\n",
              "      <td>5.2</td>\n",
              "      <td>127</td>\n",
              "      <td>24</td>\n",
              "      <td>7.610422e+09</td>\n",
              "    </tr>\n",
              "    <tr>\n",
              "      <th>2</th>\n",
              "      <td>140000000</td>\n",
              "      <td>58.485967</td>\n",
              "      <td>7</td>\n",
              "      <td>151.0</td>\n",
              "      <td>6.4</td>\n",
              "      <td>2482</td>\n",
              "      <td>108</td>\n",
              "      <td>6.953074e+09</td>\n",
              "    </tr>\n",
              "    <tr>\n",
              "      <th>3</th>\n",
              "      <td>70000000</td>\n",
              "      <td>64.457947</td>\n",
              "      <td>10</td>\n",
              "      <td>92.0</td>\n",
              "      <td>6.2</td>\n",
              "      <td>2389</td>\n",
              "      <td>307</td>\n",
              "      <td>7.620041e+08</td>\n",
              "    </tr>\n",
              "    <tr>\n",
              "      <th>4</th>\n",
              "      <td>10500000</td>\n",
              "      <td>86.201184</td>\n",
              "      <td>4</td>\n",
              "      <td>149.0</td>\n",
              "      <td>7.9</td>\n",
              "      <td>2998</td>\n",
              "      <td>80</td>\n",
              "      <td>1.255667e+08</td>\n",
              "    </tr>\n",
              "  </tbody>\n",
              "</table>\n",
              "</div>"
            ],
            "text/plain": [
              "      budget  popularity  ...  production_rank    cast_worth\n",
              "0    1500000    7.559100  ...               11  1.423051e+08\n",
              "1   25000000    8.316530  ...               24  7.610422e+09\n",
              "2  140000000   58.485967  ...              108  6.953074e+09\n",
              "3   70000000   64.457947  ...              307  7.620041e+08\n",
              "4   10500000   86.201184  ...               80  1.255667e+08\n",
              "\n",
              "[5 rows x 8 columns]"
            ]
          },
          "metadata": {
            "tags": []
          },
          "execution_count": 150
        }
      ]
    },
    {
      "cell_type": "markdown",
      "metadata": {
        "id": "-20NNYFcZl-q"
      },
      "source": [
        "## Decision Trees"
      ]
    },
    {
      "cell_type": "code",
      "metadata": {
        "colab": {
          "base_uri": "https://localhost:8080/"
        },
        "id": "gzB1_RsbBiFT",
        "outputId": "105e712a-ed0f-438b-bddb-7f09e3e85e96"
      },
      "source": [
        "numLoops = 100\r\n",
        "depth_vec = np.arange(1,11)\r\n",
        "depth_error = np.zeros(len(depth_vec))\r\n",
        "\r\n",
        "for outIdx in range(0,len(depth_error)):\r\n",
        "  mean_error = np.zeros(numLoops)\r\n",
        "  depth_val  = outIdx + 1\r\n",
        "  model = DecisionTreeRegressor(max_depth=depth_val)\r\n",
        "  for idx in range(0,numLoops):\r\n",
        "    X_train, X_test, y_train, y_test = train_test_split(X, y, test_size=0.2)\r\n",
        "    model.fit(X_train, y_train)\r\n",
        "    y_pred = model.predict(X_test)\r\n",
        "    mean_error[idx] = rmspe(y_test, y_pred)\r\n",
        "\r\n",
        "  depth_error[outIdx] = np.mean(mean_error)\r\n",
        "\r\n",
        "depth_error"
      ],
      "execution_count": 151,
      "outputs": [
        {
          "output_type": "execute_result",
          "data": {
            "text/plain": [
              "array([562.95884559, 390.38083558, 226.87392808, 142.86925562,\n",
              "       106.29407288,  88.72764387, 103.59076674,  92.14527009,\n",
              "        91.36592978,  85.41566324])"
            ]
          },
          "metadata": {
            "tags": []
          },
          "execution_count": 151
        }
      ]
    },
    {
      "cell_type": "code",
      "metadata": {
        "colab": {
          "base_uri": "https://localhost:8080/",
          "height": 265
        },
        "id": "xHV4TgBHSt-h",
        "outputId": "3cfe7241-32fc-430e-f344-abc214cc56e7"
      },
      "source": [
        "plt.plot(depth_error);"
      ],
      "execution_count": 152,
      "outputs": [
        {
          "output_type": "display_data",
          "data": {
            "image/png": "[encoded data removed]",
            "text/plain": [
              "<Figure size 432x288 with 1 Axes>"
            ]
          },
          "metadata": {
            "tags": [],
            "needs_background": "light"
          }
        }
      ]
    },
    {
      "cell_type": "markdown",
      "metadata": {
        "id": "ZWumI8OeTFrL"
      },
      "source": [
        "### Decision Tree Graph"
      ]
    },
    {
      "cell_type": "code",
      "metadata": {
        "colab": {
          "base_uri": "https://localhost:8080/"
        },
        "id": "FtguP8VAStxl",
        "outputId": "5309494f-86ec-4c47-8fb8-191ea0836af1"
      },
      "source": [
        "model = DecisionTreeRegressor(max_depth=3, criterion='mae')\r\n",
        "model.fit(X,y)"
      ],
      "execution_count": 153,
      "outputs": [
        {
          "output_type": "execute_result",
          "data": {
            "text/plain": [
              "DecisionTreeRegressor(ccp_alpha=0.0, criterion='mae', max_depth=3,\n",
              "                      max_features=None, max_leaf_nodes=None,\n",
              "                      min_impurity_decrease=0.0, min_impurity_split=None,\n",
              "                      min_samples_leaf=1, min_samples_split=2,\n",
              "                      min_weight_fraction_leaf=0.0, presort='deprecated',\n",
              "                      random_state=None, splitter='best')"
            ]
          },
          "metadata": {
            "tags": []
          },
          "execution_count": 153
        }
      ]
    },
    {
      "cell_type": "code",
      "metadata": {
        "colab": {
          "base_uri": "https://localhost:8080/",
          "height": 538
        },
        "id": "l_8ypme4TL81",
        "outputId": "2f444e97-b712-4ec2-c037-84b2a3bb6a15"
      },
      "source": [
        "import graphviz\r\n",
        "import pydotplus\r\n",
        "from IPython.display import display\r\n",
        "from sklearn import tree\r\n",
        "\r\n",
        "display(graphviz.Source(tree.export_graphviz(model, feature_names=X.columns)));"
      ],
      "execution_count": 154,
      "outputs": [
        {
          "output_type": "display_data",
          "data": {
            "text/plain": [
              "<graphviz.files.Source at 0x7f1e6649f950>"
            ],
            "image/svg+xml": "<?xml version=\"1.0\" encoding=\"UTF-8\" standalone=\"no\"?>\n<!DOCTYPE svg PUBLIC \"-//W3C//DTD SVG 1.1//EN\"\n \"http://www.w3.org/Graphics/SVG/1.1/DTD/svg11.dtd\">\n<!-- Generated by graphviz version 2.40.1 (20161225.0304)\n -->\n<!-- Title: Tree Pages: 1 -->\n<svg width=\"1285pt\" height=\"373pt\"\n viewBox=\"0.00 0.00 1285.00 373.00\" xmlns=\"http://www.w3.org/2000/svg\" xmlns:xlink=\"http://www.w3.org/1999/xlink\">\n<g id=\"graph0\" class=\"graph\" transform=\"scale(1 1) rotate(0) translate(4 369)\">\n<title>Tree</title>\n<polygon fill=\"#ffffff\" stroke=\"transparent\" points=\"-4,4 -4,-369 1281,-369 1281,4 -4,4\"/>\n<!-- 0 -->\n<g id=\"node1\" class=\"node\">\n<title>0</title>\n<polygon fill=\"none\" stroke=\"#000000\" points=\"668.5,-365 519.5,-365 519.5,-297 668.5,-297 668.5,-365\"/>\n<text text-anchor=\"middle\" x=\"594\" y=\"-349.8\" font-family=\"Times,serif\" font-size=\"14.00\" fill=\"#000000\">vote_count &lt;= 1338.0</text>\n<text text-anchor=\"middle\" x=\"594\" y=\"-334.8\" font-family=\"Times,serif\" font-size=\"14.00\" fill=\"#000000\">mae = 101065930.978</text>\n<text text-anchor=\"middle\" x=\"594\" y=\"-319.8\" font-family=\"Times,serif\" font-size=\"14.00\" fill=\"#000000\">samples = 2859</text>\n<text text-anchor=\"middle\" x=\"594\" y=\"-304.8\" font-family=\"Times,serif\" font-size=\"14.00\" fill=\"#000000\">value = 56681566.0</text>\n</g>\n<!-- 1 -->\n<g id=\"node2\" class=\"node\">\n<title>1</title>\n<polygon fill=\"none\" stroke=\"#000000\" points=\"581,-261 439,-261 439,-193 581,-193 581,-261\"/>\n<text text-anchor=\"middle\" x=\"510\" y=\"-245.8\" font-family=\"Times,serif\" font-size=\"14.00\" fill=\"#000000\">vote_count &lt;= 387.5</text>\n<text text-anchor=\"middle\" x=\"510\" y=\"-230.8\" font-family=\"Times,serif\" font-size=\"14.00\" fill=\"#000000\">mae = 49301286.188</text>\n<text text-anchor=\"middle\" x=\"510\" y=\"-215.8\" font-family=\"Times,serif\" font-size=\"14.00\" fill=\"#000000\">samples = 2240</text>\n<text text-anchor=\"middle\" x=\"510\" y=\"-200.8\" font-family=\"Times,serif\" font-size=\"14.00\" fill=\"#000000\">value = 38141005.0</text>\n</g>\n<!-- 0&#45;&gt;1 -->\n<g id=\"edge1\" class=\"edge\">\n<title>0&#45;&gt;1</title>\n<path fill=\"none\" stroke=\"#000000\" d=\"M566.4953,-296.9465C559.3159,-288.0578 551.4924,-278.3716 544.019,-269.1188\"/>\n<polygon fill=\"#000000\" stroke=\"#000000\" points=\"546.5727,-266.7102 537.5665,-261.13 541.1271,-271.1086 546.5727,-266.7102\"/>\n<text text-anchor=\"middle\" x=\"534.9219\" y=\"-282.2897\" font-family=\"Times,serif\" font-size=\"14.00\" fill=\"#000000\">True</text>\n</g>\n<!-- 8 -->\n<g id=\"node9\" class=\"node\">\n<title>8</title>\n<polygon fill=\"none\" stroke=\"#000000\" points=\"828,-261 676,-261 676,-193 828,-193 828,-261\"/>\n<text text-anchor=\"middle\" x=\"752\" y=\"-245.8\" font-family=\"Times,serif\" font-size=\"14.00\" fill=\"#000000\">budget &lt;= 71000000.0</text>\n<text text-anchor=\"middle\" x=\"752\" y=\"-230.8\" font-family=\"Times,serif\" font-size=\"14.00\" fill=\"#000000\">mae = 203887943.25</text>\n<text text-anchor=\"middle\" x=\"752\" y=\"-215.8\" font-family=\"Times,serif\" font-size=\"14.00\" fill=\"#000000\">samples = 619</text>\n<text text-anchor=\"middle\" x=\"752\" y=\"-200.8\" font-family=\"Times,serif\" font-size=\"14.00\" fill=\"#000000\">value = 245066411.0</text>\n</g>\n<!-- 0&#45;&gt;8 -->\n<g id=\"edge8\" class=\"edge\">\n<title>0&#45;&gt;8</title>\n<path fill=\"none\" stroke=\"#000000\" d=\"M645.7351,-296.9465C660.3304,-287.3395 676.3409,-276.8009 691.4058,-266.8848\"/>\n<polygon fill=\"#000000\" stroke=\"#000000\" points=\"693.7201,-269.5517 700.1487,-261.13 689.8714,-263.7046 693.7201,-269.5517\"/>\n<text text-anchor=\"middle\" x=\"695.1021\" y=\"-281.9153\" font-family=\"Times,serif\" font-size=\"14.00\" fill=\"#000000\">False</text>\n</g>\n<!-- 2 -->\n<g id=\"node3\" class=\"node\">\n<title>2</title>\n<polygon fill=\"none\" stroke=\"#000000\" points=\"302,-157 160,-157 160,-89 302,-89 302,-157\"/>\n<text text-anchor=\"middle\" x=\"231\" y=\"-141.8\" font-family=\"Times,serif\" font-size=\"14.00\" fill=\"#000000\">vote_count &lt;= 132.5</text>\n<text text-anchor=\"middle\" x=\"231\" y=\"-126.8\" font-family=\"Times,serif\" font-size=\"14.00\" fill=\"#000000\">mae = 24803673.697</text>\n<text text-anchor=\"middle\" x=\"231\" y=\"-111.8\" font-family=\"Times,serif\" font-size=\"14.00\" fill=\"#000000\">samples = 1264</text>\n<text text-anchor=\"middle\" x=\"231\" y=\"-96.8\" font-family=\"Times,serif\" font-size=\"14.00\" fill=\"#000000\">value = 19646239.5</text>\n</g>\n<!-- 1&#45;&gt;2 -->\n<g id=\"edge2\" class=\"edge\">\n<title>1&#45;&gt;2</title>\n<path fill=\"none\" stroke=\"#000000\" d=\"M438.8746,-200.4873C400.1634,-186.0573 352.1194,-168.1484 311.9741,-153.1839\"/>\n<polygon fill=\"#000000\" stroke=\"#000000\" points=\"313.0728,-149.8582 302.4801,-149.6449 310.6277,-156.4173 313.0728,-149.8582\"/>\n</g>\n<!-- 5 -->\n<g id=\"node6\" class=\"node\">\n<title>5</title>\n<polygon fill=\"none\" stroke=\"#000000\" points=\"586,-157 434,-157 434,-89 586,-89 586,-157\"/>\n<text text-anchor=\"middle\" x=\"510\" y=\"-141.8\" font-family=\"Times,serif\" font-size=\"14.00\" fill=\"#000000\">budget &lt;= 37500000.0</text>\n<text text-anchor=\"middle\" x=\"510\" y=\"-126.8\" font-family=\"Times,serif\" font-size=\"14.00\" fill=\"#000000\">mae = 63825759.704</text>\n<text text-anchor=\"middle\" x=\"510\" y=\"-111.8\" font-family=\"Times,serif\" font-size=\"14.00\" fill=\"#000000\">samples = 976</text>\n<text text-anchor=\"middle\" x=\"510\" y=\"-96.8\" font-family=\"Times,serif\" font-size=\"14.00\" fill=\"#000000\">value = 85065915.0</text>\n</g>\n<!-- 1&#45;&gt;5 -->\n<g id=\"edge5\" class=\"edge\">\n<title>1&#45;&gt;5</title>\n<path fill=\"none\" stroke=\"#000000\" d=\"M510,-192.9465C510,-184.776 510,-175.9318 510,-167.3697\"/>\n<polygon fill=\"#000000\" stroke=\"#000000\" points=\"513.5001,-167.13 510,-157.13 506.5001,-167.13 513.5001,-167.13\"/>\n</g>\n<!-- 3 -->\n<g id=\"node4\" class=\"node\">\n<title>3</title>\n<polygon fill=\"none\" stroke=\"#000000\" points=\"142,-53 0,-53 0,0 142,0 142,-53\"/>\n<text text-anchor=\"middle\" x=\"71\" y=\"-37.8\" font-family=\"Times,serif\" font-size=\"14.00\" fill=\"#000000\">mae = 12054401.308</text>\n<text text-anchor=\"middle\" x=\"71\" y=\"-22.8\" font-family=\"Times,serif\" font-size=\"14.00\" fill=\"#000000\">samples = 532</text>\n<text text-anchor=\"middle\" x=\"71\" y=\"-7.8\" font-family=\"Times,serif\" font-size=\"14.00\" fill=\"#000000\">value = 10354884.0</text>\n</g>\n<!-- 2&#45;&gt;3 -->\n<g id=\"edge3\" class=\"edge\">\n<title>2&#45;&gt;3</title>\n<path fill=\"none\" stroke=\"#000000\" d=\"M174.59,-88.9777C158.1169,-79.0424 140.1783,-68.2232 123.929,-58.4228\"/>\n<polygon fill=\"#000000\" stroke=\"#000000\" points=\"125.4661,-55.2626 115.0954,-53.095 121.8509,-61.2568 125.4661,-55.2626\"/>\n</g>\n<!-- 4 -->\n<g id=\"node5\" class=\"node\">\n<title>4</title>\n<polygon fill=\"none\" stroke=\"#000000\" points=\"302,-53 160,-53 160,0 302,0 302,-53\"/>\n<text text-anchor=\"middle\" x=\"231\" y=\"-37.8\" font-family=\"Times,serif\" font-size=\"14.00\" fill=\"#000000\">mae = 30397714.168</text>\n<text text-anchor=\"middle\" x=\"231\" y=\"-22.8\" font-family=\"Times,serif\" font-size=\"14.00\" fill=\"#000000\">samples = 732</text>\n<text text-anchor=\"middle\" x=\"231\" y=\"-7.8\" font-family=\"Times,serif\" font-size=\"14.00\" fill=\"#000000\">value = 32212205.0</text>\n</g>\n<!-- 2&#45;&gt;4 -->\n<g id=\"edge4\" class=\"edge\">\n<title>2&#45;&gt;4</title>\n<path fill=\"none\" stroke=\"#000000\" d=\"M231,-88.9777C231,-80.7364 231,-71.887 231,-63.5153\"/>\n<polygon fill=\"#000000\" stroke=\"#000000\" points=\"234.5001,-63.2484 231,-53.2485 227.5001,-63.2485 234.5001,-63.2484\"/>\n</g>\n<!-- 6 -->\n<g id=\"node7\" class=\"node\">\n<title>6</title>\n<polygon fill=\"none\" stroke=\"#000000\" points=\"462,-53 320,-53 320,0 462,0 462,-53\"/>\n<text text-anchor=\"middle\" x=\"391\" y=\"-37.8\" font-family=\"Times,serif\" font-size=\"14.00\" fill=\"#000000\">mae = 48620429.647</text>\n<text text-anchor=\"middle\" x=\"391\" y=\"-22.8\" font-family=\"Times,serif\" font-size=\"14.00\" fill=\"#000000\">samples = 555</text>\n<text text-anchor=\"middle\" x=\"391\" y=\"-7.8\" font-family=\"Times,serif\" font-size=\"14.00\" fill=\"#000000\">value = 56505065.0</text>\n</g>\n<!-- 5&#45;&gt;6 -->\n<g id=\"edge6\" class=\"edge\">\n<title>5&#45;&gt;6</title>\n<path fill=\"none\" stroke=\"#000000\" d=\"M468.0451,-88.9777C456.3014,-79.4545 443.5562,-69.1191 431.876,-59.6473\"/>\n<polygon fill=\"#000000\" stroke=\"#000000\" points=\"433.9568,-56.8286 423.9852,-53.2485 429.5478,-62.2656 433.9568,-56.8286\"/>\n</g>\n<!-- 7 -->\n<g id=\"node8\" class=\"node\">\n<title>7</title>\n<polygon fill=\"none\" stroke=\"#000000\" points=\"622,-53 480,-53 480,0 622,0 622,-53\"/>\n<text text-anchor=\"middle\" x=\"551\" y=\"-37.8\" font-family=\"Times,serif\" font-size=\"14.00\" fill=\"#000000\">mae = 68179227.601</text>\n<text text-anchor=\"middle\" x=\"551\" y=\"-22.8\" font-family=\"Times,serif\" font-size=\"14.00\" fill=\"#000000\">samples = 421</text>\n<text text-anchor=\"middle\" x=\"551\" y=\"-7.8\" font-family=\"Times,serif\" font-size=\"14.00\" fill=\"#000000\">value = 128388320.0</text>\n</g>\n<!-- 5&#45;&gt;7 -->\n<g id=\"edge7\" class=\"edge\">\n<title>5&#45;&gt;7</title>\n<path fill=\"none\" stroke=\"#000000\" d=\"M524.4551,-88.9777C528.0733,-80.4617 531.9674,-71.2963 535.6283,-62.6798\"/>\n<polygon fill=\"#000000\" stroke=\"#000000\" points=\"538.9462,-63.8209 539.6354,-53.2485 532.5036,-61.0836 538.9462,-63.8209\"/>\n</g>\n<!-- 9 -->\n<g id=\"node10\" class=\"node\">\n<title>9</title>\n<polygon fill=\"none\" stroke=\"#000000\" points=\"826.5,-157 677.5,-157 677.5,-89 826.5,-89 826.5,-157\"/>\n<text text-anchor=\"middle\" x=\"752\" y=\"-141.8\" font-family=\"Times,serif\" font-size=\"14.00\" fill=\"#000000\">vote_count &lt;= 4799.0</text>\n<text text-anchor=\"middle\" x=\"752\" y=\"-126.8\" font-family=\"Times,serif\" font-size=\"14.00\" fill=\"#000000\">mae = 112140761.971</text>\n<text text-anchor=\"middle\" x=\"752\" y=\"-111.8\" font-family=\"Times,serif\" font-size=\"14.00\" fill=\"#000000\">samples = 340</text>\n<text text-anchor=\"middle\" x=\"752\" y=\"-96.8\" font-family=\"Times,serif\" font-size=\"14.00\" fill=\"#000000\">value = 146898266.0</text>\n</g>\n<!-- 8&#45;&gt;9 -->\n<g id=\"edge9\" class=\"edge\">\n<title>8&#45;&gt;9</title>\n<path fill=\"none\" stroke=\"#000000\" d=\"M752,-192.9465C752,-184.776 752,-175.9318 752,-167.3697\"/>\n<polygon fill=\"#000000\" stroke=\"#000000\" points=\"755.5001,-167.13 752,-157.13 748.5001,-167.13 755.5001,-167.13\"/>\n</g>\n<!-- 12 -->\n<g id=\"node13\" class=\"node\">\n<title>12</title>\n<polygon fill=\"none\" stroke=\"#000000\" points=\"1116.5,-157 967.5,-157 967.5,-89 1116.5,-89 1116.5,-157\"/>\n<text text-anchor=\"middle\" x=\"1042\" y=\"-141.8\" font-family=\"Times,serif\" font-size=\"14.00\" fill=\"#000000\">vote_count &lt;= 2854.0</text>\n<text text-anchor=\"middle\" x=\"1042\" y=\"-126.8\" font-family=\"Times,serif\" font-size=\"14.00\" fill=\"#000000\">mae = 230561592.541</text>\n<text text-anchor=\"middle\" x=\"1042\" y=\"-111.8\" font-family=\"Times,serif\" font-size=\"14.00\" fill=\"#000000\">samples = 279</text>\n<text text-anchor=\"middle\" x=\"1042\" y=\"-96.8\" font-family=\"Times,serif\" font-size=\"14.00\" fill=\"#000000\">value = 413106170.0</text>\n</g>\n<!-- 8&#45;&gt;12 -->\n<g id=\"edge12\" class=\"edge\">\n<title>8&#45;&gt;12</title>\n<path fill=\"none\" stroke=\"#000000\" d=\"M828.1941,-199.6752C868.0505,-185.3819 916.9359,-167.8506 957.8979,-153.1608\"/>\n<polygon fill=\"#000000\" stroke=\"#000000\" points=\"959.0863,-156.4529 967.3178,-149.7826 956.7233,-149.8638 959.0863,-156.4529\"/>\n</g>\n<!-- 10 -->\n<g id=\"node11\" class=\"node\">\n<title>10</title>\n<polygon fill=\"none\" stroke=\"#000000\" points=\"782,-53 640,-53 640,0 782,0 782,-53\"/>\n<text text-anchor=\"middle\" x=\"711\" y=\"-37.8\" font-family=\"Times,serif\" font-size=\"14.00\" fill=\"#000000\">mae = 98231695.009</text>\n<text text-anchor=\"middle\" x=\"711\" y=\"-22.8\" font-family=\"Times,serif\" font-size=\"14.00\" fill=\"#000000\">samples = 318</text>\n<text text-anchor=\"middle\" x=\"711\" y=\"-7.8\" font-family=\"Times,serif\" font-size=\"14.00\" fill=\"#000000\">value = 134806991.0</text>\n</g>\n<!-- 9&#45;&gt;10 -->\n<g id=\"edge10\" class=\"edge\">\n<title>9&#45;&gt;10</title>\n<path fill=\"none\" stroke=\"#000000\" d=\"M737.5449,-88.9777C733.9267,-80.4617 730.0326,-71.2963 726.3717,-62.6798\"/>\n<polygon fill=\"#000000\" stroke=\"#000000\" points=\"729.4964,-61.0836 722.3646,-53.2485 723.0538,-63.8209 729.4964,-61.0836\"/>\n</g>\n<!-- 11 -->\n<g id=\"node12\" class=\"node\">\n<title>11</title>\n<polygon fill=\"none\" stroke=\"#000000\" points=\"949.5,-53 800.5,-53 800.5,0 949.5,0 949.5,-53\"/>\n<text text-anchor=\"middle\" x=\"875\" y=\"-37.8\" font-family=\"Times,serif\" font-size=\"14.00\" fill=\"#000000\">mae = 173420140.409</text>\n<text text-anchor=\"middle\" x=\"875\" y=\"-22.8\" font-family=\"Times,serif\" font-size=\"14.00\" fill=\"#000000\">samples = 22</text>\n<text text-anchor=\"middle\" x=\"875\" y=\"-7.8\" font-family=\"Times,serif\" font-size=\"14.00\" fill=\"#000000\">value = 401860090.5</text>\n</g>\n<!-- 9&#45;&gt;11 -->\n<g id=\"edge11\" class=\"edge\">\n<title>9&#45;&gt;11</title>\n<path fill=\"none\" stroke=\"#000000\" d=\"M795.3652,-88.9777C807.5036,-79.4545 820.6772,-69.1191 832.7501,-59.6473\"/>\n<polygon fill=\"#000000\" stroke=\"#000000\" points=\"835.1989,-62.1748 840.9061,-53.2485 830.878,-56.6674 835.1989,-62.1748\"/>\n</g>\n<!-- 13 -->\n<g id=\"node14\" class=\"node\">\n<title>13</title>\n<polygon fill=\"none\" stroke=\"#000000\" points=\"1116.5,-53 967.5,-53 967.5,0 1116.5,0 1116.5,-53\"/>\n<text text-anchor=\"middle\" x=\"1042\" y=\"-37.8\" font-family=\"Times,serif\" font-size=\"14.00\" fill=\"#000000\">mae = 124980688.964</text>\n<text text-anchor=\"middle\" x=\"1042\" y=\"-22.8\" font-family=\"Times,serif\" font-size=\"14.00\" fill=\"#000000\">samples = 140</text>\n<text text-anchor=\"middle\" x=\"1042\" y=\"-7.8\" font-family=\"Times,serif\" font-size=\"14.00\" fill=\"#000000\">value = 303672869.5</text>\n</g>\n<!-- 12&#45;&gt;13 -->\n<g id=\"edge13\" class=\"edge\">\n<title>12&#45;&gt;13</title>\n<path fill=\"none\" stroke=\"#000000\" d=\"M1042,-88.9777C1042,-80.7364 1042,-71.887 1042,-63.5153\"/>\n<polygon fill=\"#000000\" stroke=\"#000000\" points=\"1045.5001,-63.2484 1042,-53.2485 1038.5001,-63.2485 1045.5001,-63.2484\"/>\n</g>\n<!-- 14 -->\n<g id=\"node15\" class=\"node\">\n<title>14</title>\n<polygon fill=\"none\" stroke=\"#000000\" points=\"1277,-53 1135,-53 1135,0 1277,0 1277,-53\"/>\n<text text-anchor=\"middle\" x=\"1206\" y=\"-37.8\" font-family=\"Times,serif\" font-size=\"14.00\" fill=\"#000000\">mae = 249103453.77</text>\n<text text-anchor=\"middle\" x=\"1206\" y=\"-22.8\" font-family=\"Times,serif\" font-size=\"14.00\" fill=\"#000000\">samples = 139</text>\n<text text-anchor=\"middle\" x=\"1206\" y=\"-7.8\" font-family=\"Times,serif\" font-size=\"14.00\" fill=\"#000000\">value = 624026776.0</text>\n</g>\n<!-- 12&#45;&gt;14 -->\n<g id=\"edge14\" class=\"edge\">\n<title>12&#45;&gt;14</title>\n<path fill=\"none\" stroke=\"#000000\" d=\"M1099.8203,-88.9777C1116.7052,-79.0424 1135.0922,-68.2232 1151.7478,-58.4228\"/>\n<polygon fill=\"#000000\" stroke=\"#000000\" points=\"1153.9585,-61.183 1160.8022,-53.095 1150.4086,-55.1499 1153.9585,-61.183\"/>\n</g>\n</g>\n</svg>\n"
          },
          "metadata": {
            "tags": []
          }
        }
      ]
    },
    {
      "cell_type": "markdown",
      "metadata": {
        "id": "4XeLCbhSUREC"
      },
      "source": [
        "### Random Forest"
      ]
    },
    {
      "cell_type": "code",
      "metadata": {
        "colab": {
          "base_uri": "https://localhost:8080/",
          "height": 332
        },
        "id": "2DWK3SxqUcGv",
        "outputId": "6ff0c007-b20d-4426-9933-afabee0056b4"
      },
      "source": [
        "numTrees = 20\r\n",
        "\r\n",
        "rmse_all = np.zeros(numTrees)\r\n",
        "\r\n",
        "for outIdx in range(0,numTrees):\r\n",
        "\r\n",
        "  numLoops = 20\r\n",
        "  rmse_inside = np.zeros(numLoops)\r\n",
        "\r\n",
        "  for inIdx in range(0,numLoops):\r\n",
        "\r\n",
        "    X_train, X_test, y_train, y_test = train_test_split(X, y, test_size=0.2)\r\n",
        "    rfModel = RandomForestRegressor(n_estimators = (outIdx+1), max_depth=4)\r\n",
        "    rfModel.fit(X_train, y_train)\r\n",
        "    y_pred_rf = rfModel.predict(X_test)\r\n",
        "    rmse_inside[inIdx] = root_mean_squared_percentage_error(y_test, y_pred_rf, 1e6)\r\n",
        "\r\n",
        "  #print(outIdx,' trees finished.')\r\n",
        "  rmse_all[outIdx] = np.mean(rmse_inside)\r\n",
        "\r\n",
        "print(rmse_all)\r\n",
        "\r\n",
        "plt.plot(rmse_all);"
      ],
      "execution_count": 155,
      "outputs": [
        {
          "output_type": "stream",
          "text": [
            "[620.58320017 635.17325615 561.55904365 560.66516669 599.25409158\n",
            " 549.82133987 620.98341717 553.41249321 576.21220601 607.00702501\n",
            " 569.58732482 591.78915279 580.93628101 589.78547018 571.59883378\n",
            " 586.24518045 578.6423132  556.44891043 567.65653475 551.95085959]\n"
          ],
          "name": "stdout"
        },
        {
          "output_type": "display_data",
          "data": {
            "image/png": "[encoded data removed]",
            "text/plain": [
              "<Figure size 432x288 with 1 Axes>"
            ]
          },
          "metadata": {
            "tags": [],
            "needs_background": "light"
          }
        }
      ]
    },
    {
      "cell_type": "markdown",
      "metadata": {
        "id": "tWgRQUrW_G7T"
      },
      "source": [
        "### XGBoost"
      ]
    },
    {
      "cell_type": "code",
      "metadata": {
        "colab": {
          "base_uri": "https://localhost:8080/"
        },
        "id": "bosQrUnsK8RQ",
        "outputId": "d6c7901a-c698-4f5f-c7f2-2eff19c630d8"
      },
      "source": [
        "numLoops = 100\r\n",
        "mse_xgb = np.zeros(numLoops)\r\n",
        "\r\n",
        "for idx in range(0,numLoops):\r\n",
        "  X_train, X_test, y_train, y_test = train_test_split(X, y, test_size=0.2)\r\n",
        "  xgbr = xgb.XGBRegressor(objective = 'reg:squarederror')\r\n",
        "  xgbr.fit(X_train, np.log10(y_train))\r\n",
        "  y_pred_xgb = xgbr.predict(X_test)\r\n",
        "  mse_xgb[idx] = root_mean_squared_percentage_error(y_test, 10**y_pred_xgb, 1e6)\r\n",
        "\r\n",
        "mse_xgb.mean()"
      ],
      "execution_count": 156,
      "outputs": [
        {
          "output_type": "execute_result",
          "data": {
            "text/plain": [
              "223.2860413328187"
            ]
          },
          "metadata": {
            "tags": []
          },
          "execution_count": 156
        }
      ]
    },
    {
      "cell_type": "code",
      "metadata": {
        "colab": {
          "base_uri": "https://localhost:8080/"
        },
        "id": "CPLqdJf1Yvhx",
        "outputId": "e98b6b18-a361-4e50-ebd1-d2dd94db70cb"
      },
      "source": [
        "np.sqrt(mse_xgb.mean())"
      ],
      "execution_count": 157,
      "outputs": [
        {
          "output_type": "execute_result",
          "data": {
            "text/plain": [
              "14.942758826027365"
            ]
          },
          "metadata": {
            "tags": []
          },
          "execution_count": 157
        }
      ]
    },
    {
      "cell_type": "code",
      "metadata": {
        "colab": {
          "base_uri": "https://localhost:8080/",
          "height": 286
        },
        "id": "WD6nxF-cATdq",
        "outputId": "d67dca19-e889-4a48-ee5d-5c3a9e6741e3"
      },
      "source": [
        "plt.scatter(np.log10(y_test),((y_test - 10**y_pred_xgb)/(y_test))*100)\r\n",
        "plt.ylim([-1000, 1000])\r\n",
        "#plt.xlim([0,1e9])"
      ],
      "execution_count": 158,
      "outputs": [
        {
          "output_type": "execute_result",
          "data": {
            "text/plain": [
              "(-1000.0, 1000.0)"
            ]
          },
          "metadata": {
            "tags": []
          },
          "execution_count": 158
        },
        {
          "output_type": "display_data",
          "data": {
            "image/png": "[encoded data removed]",
            "text/plain": [
              "<Figure size 432x288 with 1 Axes>"
            ]
          },
          "metadata": {
            "tags": [],
            "needs_background": "light"
          }
        }
      ]
    },
    {
      "cell_type": "code",
      "metadata": {
        "colab": {
          "base_uri": "https://localhost:8080/",
          "height": 352
        },
        "id": "FGYG6TtzY6MK",
        "outputId": "f3592e58-5702-4587-b67a-b010545a8f6e"
      },
      "source": [
        "feat_imp = pd.Series(xgbr.feature_importances_, index=X.columns)\r\n",
        "feat_imp.plot(kind='bar', title='Feature Importance')\r\n",
        "plt.ylabel('Feature Importance Score');"
      ],
      "execution_count": 159,
      "outputs": [
        {
          "output_type": "display_data",
          "data": {
            "image/png": "[encoded data removed]",
            "text/plain": [
              "<Figure size 432x288 with 1 Axes>"
            ]
          },
          "metadata": {
            "tags": [],
            "needs_background": "light"
          }
        }
      ]
    },
    {
      "cell_type": "code",
      "metadata": {
        "colab": {
          "base_uri": "https://localhost:8080/"
        },
        "id": "xRlRrgl1Y6Bn",
        "outputId": "cc491b8b-9a4d-4447-852e-8054856e6f74"
      },
      "source": [
        "print('Done')"
      ],
      "execution_count": 160,
      "outputs": [
        {
          "output_type": "stream",
          "text": [
            "Done\n"
          ],
          "name": "stdout"
        }
      ]
    }
  ]
}