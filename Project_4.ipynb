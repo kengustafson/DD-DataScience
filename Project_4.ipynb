{
  "nbformat": 4,
  "nbformat_minor": 0,
  "metadata": {
    "colab": {
      "name": "Project -4.ipynb",
      "provenance": [],
      "collapsed_sections": [],
      "mount_file_id": "1RWZrHeV1el9jmoNFaXPm7COUu7dYCFcB",
      "authorship_tag": "ABX9TyNoYn5TTkA+dsgzmHyu47Cm"
    },
    "kernelspec": {
      "name": "python3",
      "display_name": "Python 3"
    }
  },
  "cells": [
    {
      "cell_type": "markdown",
      "metadata": {
        "id": "itndAMByVjkS"
      },
      "source": [
        "# **Classifying Famous People Using Natural Language Processing**"
      ]
    },
    {
      "cell_type": "markdown",
      "metadata": {
        "id": "Zl1HGvIybm6l"
      },
      "source": [
        "**Deep Dive Data Science Project 4**\n",
        "\n",
        "---\n",
        "Ken Gustafson 3/30/2021"
      ]
    },
    {
      "cell_type": "markdown",
      "metadata": {
        "id": "5GWSimxpbqNN"
      },
      "source": [
        "## Problem Definition"
      ]
    },
    {
      "cell_type": "markdown",
      "metadata": {
        "id": "FSVBEF0jbtdC"
      },
      "source": [
        "We desire to determine the 10 \"closest\" people, in a Natural Language Processing sense, to a chosen famous person, given a corpus of individual summaries. \n",
        "\n",
        "We also determine the nearness ranking of the 10 nearest neighbors based on their Wikipedia pages, along with examining each one's sentiment."
      ]
    },
    {
      "cell_type": "markdown",
      "metadata": {
        "id": "y_B-TGgYb1bD"
      },
      "source": [
        "## Data Collection"
      ]
    },
    {
      "cell_type": "code",
      "metadata": {
        "colab": {
          "base_uri": "https://localhost:8080/"
        },
        "id": "BJUNpdVIUMJ4",
        "outputId": "222695fe-086e-466d-8b24-1d8c1dbb9f83"
      },
      "source": [
        "# Here we import the necessary packages\n",
        "\n",
        "import pandas as pd\n",
        "import numpy as np\n",
        "import matplotlib.pyplot as plt\n",
        "!python -m textblob.download_corpora\n",
        "from textblob import TextBlob\n",
        "from sklearn.feature_extraction.text import CountVectorizer\n",
        "from sklearn.feature_extraction.text import TfidfTransformer\n",
        "from sklearn.neighbors import KNeighborsClassifier\n",
        "from sklearn.pipeline import Pipeline"
      ],
      "execution_count": 4,
      "outputs": [
        {
          "output_type": "stream",
          "text": [
            "[nltk_data] Downloading package brown to /root/nltk_data...\n",
            "[nltk_data]   Package brown is already up-to-date!\n",
            "[nltk_data] Downloading package punkt to /root/nltk_data...\n",
            "[nltk_data]   Package punkt is already up-to-date!\n",
            "[nltk_data] Downloading package wordnet to /root/nltk_data...\n",
            "[nltk_data]   Package wordnet is already up-to-date!\n",
            "[nltk_data] Downloading package averaged_perceptron_tagger to\n",
            "[nltk_data]     /root/nltk_data...\n",
            "[nltk_data]   Package averaged_perceptron_tagger is already up-to-\n",
            "[nltk_data]       date!\n",
            "[nltk_data] Downloading package conll2000 to /root/nltk_data...\n",
            "[nltk_data]   Package conll2000 is already up-to-date!\n",
            "[nltk_data] Downloading package movie_reviews to /root/nltk_data...\n",
            "[nltk_data]   Package movie_reviews is already up-to-date!\n",
            "Finished.\n"
          ],
          "name": "stdout"
        }
      ]
    },
    {
      "cell_type": "code",
      "metadata": {
        "id": "z44-wAUoUXMR"
      },
      "source": [
        "# Inital data were sourced from the instructor.  It contains summaries related to famous people.\n",
        "# File Path Settings\n",
        "\n",
        "file_path = '/content/drive/MyDrive/Data Science Student Material/Project 4 - Cohort 4/Data/project_4.csv'\n",
        "\n",
        "data = pd.read_csv(file_path)"
      ],
      "execution_count": 5,
      "outputs": []
    },
    {
      "cell_type": "code",
      "metadata": {
        "colab": {
          "base_uri": "https://localhost:8080/",
          "height": 195
        },
        "id": "TU6gxAOIU_F6",
        "outputId": "0753f639-9a57-4d2c-a80a-a13dfb7d9139"
      },
      "source": [
        "# We examine the first few lines of data to ascertain feature names and associated columns.\n",
        "\n",
        "data.head()"
      ],
      "execution_count": 6,
      "outputs": [
        {
          "output_type": "execute_result",
          "data": {
            "text/html": [
              "<div>\n",
              "<style scoped>\n",
              "    .dataframe tbody tr th:only-of-type {\n",
              "        vertical-align: middle;\n",
              "    }\n",
              "\n",
              "    .dataframe tbody tr th {\n",
              "        vertical-align: top;\n",
              "    }\n",
              "\n",
              "    .dataframe thead th {\n",
              "        text-align: right;\n",
              "    }\n",
              "</style>\n",
              "<table border=\"1\" class=\"dataframe\">\n",
              "  <thead>\n",
              "    <tr style=\"text-align: right;\">\n",
              "      <th></th>\n",
              "      <th>URI</th>\n",
              "      <th>name</th>\n",
              "      <th>text</th>\n",
              "    </tr>\n",
              "  </thead>\n",
              "  <tbody>\n",
              "    <tr>\n",
              "      <th>0</th>\n",
              "      <td>&lt;http://dbpedia.org/resource/Digby_Morrell&gt;</td>\n",
              "      <td>Digby Morrell</td>\n",
              "      <td>digby morrell born 10 october 1979 is a former...</td>\n",
              "    </tr>\n",
              "    <tr>\n",
              "      <th>1</th>\n",
              "      <td>&lt;http://dbpedia.org/resource/Alfred_J._Lewy&gt;</td>\n",
              "      <td>Alfred J. Lewy</td>\n",
              "      <td>alfred j lewy aka sandy lewy graduated from un...</td>\n",
              "    </tr>\n",
              "    <tr>\n",
              "      <th>2</th>\n",
              "      <td>&lt;http://dbpedia.org/resource/Harpdog_Brown&gt;</td>\n",
              "      <td>Harpdog Brown</td>\n",
              "      <td>harpdog brown is a singer and harmonica player...</td>\n",
              "    </tr>\n",
              "    <tr>\n",
              "      <th>3</th>\n",
              "      <td>&lt;http://dbpedia.org/resource/Franz_Rottensteiner&gt;</td>\n",
              "      <td>Franz Rottensteiner</td>\n",
              "      <td>franz rottensteiner born in waidmannsfeld lowe...</td>\n",
              "    </tr>\n",
              "    <tr>\n",
              "      <th>4</th>\n",
              "      <td>&lt;http://dbpedia.org/resource/G-Enka&gt;</td>\n",
              "      <td>G-Enka</td>\n",
              "      <td>henry krvits born 30 december 1974 in tallinn ...</td>\n",
              "    </tr>\n",
              "  </tbody>\n",
              "</table>\n",
              "</div>"
            ],
            "text/plain": [
              "                                                 URI  ...                                               text\n",
              "0        <http://dbpedia.org/resource/Digby_Morrell>  ...  digby morrell born 10 october 1979 is a former...\n",
              "1       <http://dbpedia.org/resource/Alfred_J._Lewy>  ...  alfred j lewy aka sandy lewy graduated from un...\n",
              "2        <http://dbpedia.org/resource/Harpdog_Brown>  ...  harpdog brown is a singer and harmonica player...\n",
              "3  <http://dbpedia.org/resource/Franz_Rottensteiner>  ...  franz rottensteiner born in waidmannsfeld lowe...\n",
              "4               <http://dbpedia.org/resource/G-Enka>  ...  henry krvits born 30 december 1974 in tallinn ...\n",
              "\n",
              "[5 rows x 3 columns]"
            ]
          },
          "metadata": {
            "tags": []
          },
          "execution_count": 6
        }
      ]
    },
    {
      "cell_type": "code",
      "metadata": {
        "colab": {
          "base_uri": "https://localhost:8080/"
        },
        "id": "gi1rWAaWW2PK",
        "outputId": "3b6a83d1-d3c8-40c9-e9e9-5b46c645532e"
      },
      "source": [
        "# Examine the data's shape to know how large the set is, and a particular observation\n",
        "\n",
        "data.shape"
      ],
      "execution_count": 7,
      "outputs": [
        {
          "output_type": "execute_result",
          "data": {
            "text/plain": [
              "(42786, 3)"
            ]
          },
          "metadata": {
            "tags": []
          },
          "execution_count": 7
        }
      ]
    },
    {
      "cell_type": "code",
      "metadata": {
        "colab": {
          "base_uri": "https://localhost:8080/",
          "height": 170
        },
        "id": "yQ5qd-ucW4hw",
        "outputId": "4a498895-815c-4ca9-c915-ec7ef13d9226"
      },
      "source": [
        "data.iloc[1234]['text']"
      ],
      "execution_count": 8,
      "outputs": [
        {
          "output_type": "execute_result",
          "data": {
            "application/vnd.google.colaboratory.intrinsic+json": {
              "type": "string"
            },
            "text/plain": [
              "'david brian cone born january 2 1963 nicknamed coney is an american former major league baseball mlb pitcher and current color commentator for the new york yankees on the yes network a third round draft pick of the kansas city royals in 1981 mlb he made his mlb debut in 1986 during a 17year baseball career he pitched until 2003 for five different teams standing 6 1 73 inches 1900 mm tall and weighing 180 pounds 82 kg cone threw righthanded and batted lefthandedcone pitched the sixteenth perfect game in baseball history in 1999 on the final game of the 1991 regular season he struck out 19 batters tied for secondmost ever in a game the 1994 cy young award winner he was a fivetime allstar and led the major leagues in strikeouts each season from 199092 a twotime 20 gamewinner he set the mlb record for most years between 20win seasons with 10 he was a member of five world series championship teams 1992 with the toronto blue jays and 1996 1998 1999 and 2000 with the new york yankees his 83 career postseason record came over 21 games and 111 innings pitched with an earned run average era of 380 in world series play his era was 212he is the subject of the book a pitchers story innings with david cone by roger angell his fans are known as coneheads he resides in stamford connecticut'"
            ]
          },
          "metadata": {
            "tags": []
          },
          "execution_count": 8
        }
      ]
    },
    {
      "cell_type": "markdown",
      "metadata": {
        "id": "m-iIeLZXfiTW"
      },
      "source": [
        "## Data Cleaning"
      ]
    },
    {
      "cell_type": "code",
      "metadata": {
        "colab": {
          "base_uri": "https://localhost:8080/"
        },
        "id": "Ut2DRSFqXCT7",
        "outputId": "3553a789-ca36-4040-f22a-8ae4bb282de1"
      },
      "source": [
        "testimonial = TextBlob('expensive. free.')\n",
        "\n",
        "testimonial.sentiment"
      ],
      "execution_count": 9,
      "outputs": [
        {
          "output_type": "execute_result",
          "data": {
            "text/plain": [
              "Sentiment(polarity=-0.04999999999999999, subjectivity=0.75)"
            ]
          },
          "metadata": {
            "tags": []
          },
          "execution_count": 9
        }
      ]
    },
    {
      "cell_type": "code",
      "metadata": {
        "id": "3kYp-xE6aCsu"
      },
      "source": [
        "zen = TextBlob('Explicit is highly different than implicit. Beautiful is different than ugly. Simple is different than complex.')"
      ],
      "execution_count": 10,
      "outputs": []
    },
    {
      "cell_type": "code",
      "metadata": {
        "colab": {
          "base_uri": "https://localhost:8080/"
        },
        "id": "Bnvtpf6XaVeH",
        "outputId": "36560bf0-327a-436a-ea4d-36223cf42568"
      },
      "source": [
        "for sentence in zen.sentences:\n",
        "    print(sentence.sentiment)"
      ],
      "execution_count": 11,
      "outputs": [
        {
          "output_type": "stream",
          "text": [
            "Sentiment(polarity=0.0, subjectivity=0.6)\n",
            "Sentiment(polarity=0.05000000000000001, subjectivity=0.8666666666666667)\n",
            "Sentiment(polarity=-0.09999999999999999, subjectivity=0.4523809523809524)\n"
          ],
          "name": "stdout"
        }
      ]
    },
    {
      "cell_type": "code",
      "metadata": {
        "id": "T2B52VHCY62m"
      },
      "source": [
        "dc = TextBlob(data.iloc[1234]['text'])"
      ],
      "execution_count": 12,
      "outputs": []
    },
    {
      "cell_type": "code",
      "metadata": {
        "colab": {
          "base_uri": "https://localhost:8080/"
        },
        "id": "qGtseE8eR4d0",
        "outputId": "5e069359-cdf5-4f1f-dc36-b31ce80a6791"
      },
      "source": [
        "dc.sentiment"
      ],
      "execution_count": 13,
      "outputs": [
        {
          "output_type": "execute_result",
          "data": {
            "text/plain": [
              "Sentiment(polarity=0.013383838383838376, subjectivity=0.39615939615939616)"
            ]
          },
          "metadata": {
            "tags": []
          },
          "execution_count": 13
        }
      ]
    },
    {
      "cell_type": "code",
      "metadata": {
        "colab": {
          "base_uri": "https://localhost:8080/"
        },
        "id": "EnJnSTkFSDqP",
        "outputId": "0c7b6b4e-c52b-479d-cd33-51a5f8be5659"
      },
      "source": [
        "len(dc.sentences)"
      ],
      "execution_count": 14,
      "outputs": [
        {
          "output_type": "execute_result",
          "data": {
            "text/plain": [
              "1"
            ]
          },
          "metadata": {
            "tags": []
          },
          "execution_count": 14
        }
      ]
    },
    {
      "cell_type": "markdown",
      "metadata": {
        "id": "jZny02C9ftTt"
      },
      "source": [
        "## Exploratory Data Analysis"
      ]
    },
    {
      "cell_type": "code",
      "metadata": {
        "id": "nigABoPKfuTT"
      },
      "source": [
        ""
      ],
      "execution_count": null,
      "outputs": []
    },
    {
      "cell_type": "markdown",
      "metadata": {
        "id": "D-HGEawkfzgB"
      },
      "source": [
        "### Plots"
      ]
    },
    {
      "cell_type": "code",
      "metadata": {
        "id": "0ZNCl2rgf1Tf"
      },
      "source": [
        ""
      ],
      "execution_count": null,
      "outputs": []
    },
    {
      "cell_type": "markdown",
      "metadata": {
        "id": "ctpvrq3if16C"
      },
      "source": [
        "## Data Processing"
      ]
    },
    {
      "cell_type": "code",
      "metadata": {
        "colab": {
          "base_uri": "https://localhost:8080/",
          "height": 195
        },
        "id": "yvpBhJg9f6SC",
        "outputId": "64498787-1036-4e96-cf3d-74da331d0c86"
      },
      "source": [
        "count_vect = CountVectorizer()\n",
        "X_train_counts = count_vect.fit_transform(data['text'])\n",
        "np.shape(train_data.data)"
      ],
      "execution_count": 15,
      "outputs": [
        {
          "output_type": "error",
          "ename": "NameError",
          "evalue": "ignored",
          "traceback": [
            "\u001b[0;31m---------------------------------------------------------------------------\u001b[0m",
            "\u001b[0;31mNameError\u001b[0m                                 Traceback (most recent call last)",
            "\u001b[0;32m<ipython-input-15-bc92b2ed28c6>\u001b[0m in \u001b[0;36m<module>\u001b[0;34m()\u001b[0m\n\u001b[1;32m      1\u001b[0m \u001b[0mcount_vect\u001b[0m \u001b[0;34m=\u001b[0m \u001b[0mCountVectorizer\u001b[0m\u001b[0;34m(\u001b[0m\u001b[0;34m)\u001b[0m\u001b[0;34m\u001b[0m\u001b[0;34m\u001b[0m\u001b[0m\n\u001b[0;32m----> 2\u001b[0;31m \u001b[0mX_train_counts\u001b[0m \u001b[0;34m=\u001b[0m \u001b[0mcount_vect\u001b[0m\u001b[0;34m.\u001b[0m\u001b[0mfit_transform\u001b[0m\u001b[0;34m(\u001b[0m\u001b[0mtrain_data\u001b[0m\u001b[0;34m.\u001b[0m\u001b[0mdata\u001b[0m\u001b[0;34m)\u001b[0m\u001b[0;34m\u001b[0m\u001b[0;34m\u001b[0m\u001b[0m\n\u001b[0m\u001b[1;32m      3\u001b[0m \u001b[0mnp\u001b[0m\u001b[0;34m.\u001b[0m\u001b[0mshape\u001b[0m\u001b[0;34m(\u001b[0m\u001b[0mtrain_data\u001b[0m\u001b[0;34m.\u001b[0m\u001b[0mdata\u001b[0m\u001b[0;34m)\u001b[0m\u001b[0;34m\u001b[0m\u001b[0;34m\u001b[0m\u001b[0m\n",
            "\u001b[0;31mNameError\u001b[0m: name 'train_data' is not defined"
          ]
        }
      ]
    },
    {
      "cell_type": "code",
      "metadata": {
        "id": "jIRDl4Ag571s"
      },
      "source": [
        "tfidf_transformer = TfidfTransformer()\n",
        "X_train_tfidf = tfidf_transformer.fit_transform(X_train_counts)"
      ],
      "execution_count": null,
      "outputs": []
    },
    {
      "cell_type": "markdown",
      "metadata": {
        "id": "rFEBKjcsf6vV"
      },
      "source": [
        "## Data Visualizations"
      ]
    },
    {
      "cell_type": "code",
      "metadata": {
        "id": "eIati2fmgAZg"
      },
      "source": [
        ""
      ],
      "execution_count": null,
      "outputs": []
    },
    {
      "cell_type": "markdown",
      "metadata": {
        "id": "Pi_FMnA4gBI_"
      },
      "source": [
        "## Conclusions"
      ]
    },
    {
      "cell_type": "markdown",
      "metadata": {
        "id": "3CvT_ycUgGgx"
      },
      "source": [
        "- Naive Bayes is an appropriate methodology for this dataset\n",
        "- Ample data to train model\n",
        "- Different results for biased (all) data vs. unbiased (equalized) data\n",
        "- Equalized accuracy: 80.3%\n",
        "- Model is stable (low accuracy variance)\n",
        "- Symmetric confusion matrix indicates robustness"
      ]
    }
  ]
}